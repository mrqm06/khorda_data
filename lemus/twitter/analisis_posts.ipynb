{
 "cells": [
  {
   "cell_type": "markdown",
   "metadata": {},
   "source": [
    "# Análisis Posts twitter"
   ]
  },
  {
   "cell_type": "code",
   "execution_count": 1,
   "metadata": {},
   "outputs": [
    {
     "name": "stderr",
     "output_type": "stream",
     "text": [
      "[nltk_data] Downloading package punkt to /home/milton/nltk_data...\n",
      "[nltk_data]   Package punkt is already up-to-date!\n",
      "[nltk_data] Downloading package stopwords to /home/milton/nltk_data...\n",
      "[nltk_data]   Package stopwords is already up-to-date!\n"
     ]
    }
   ],
   "source": [
    "# Importamos las librerías\n",
    "\n",
    "import re\n",
    "import nltk\n",
    "import pandas as pd\n",
    "from datetime import datetime\n",
    "from nltk.sentiment.vader import SentimentIntensityAnalyzer\n",
    "from nltk.corpus import stopwords\n",
    "from wordcloud import WordCloud\n",
    "import matplotlib.pyplot as plt\n",
    "import plotly.graph_objects as go\n",
    "import plotly.express as px\n",
    "from nltk.tokenize import RegexpTokenizer\n",
    "\n",
    "import gensim\n",
    "from gensim import corpora\n",
    "from gensim.models import LdaModel\n",
    "from nltk.tokenize import word_tokenize\n",
    "from nltk.corpus import stopwords\n",
    "import string\n",
    "\n",
    "###Diccionarios en español para el análisis de polaridad\n",
    "nltk.download('punkt')\n",
    "# Tokenización\n",
    "# Descargar el conjunto de stopwords en español si no lo tienes\n",
    "nltk.download('stopwords')\n",
    "# Análisis de polaridad\n",
    "# Obtención de listado de stopwords del inglés\n",
    "stop_words = list(stopwords.words('spanish'))"
   ]
  },
  {
   "cell_type": "code",
   "execution_count": 2,
   "metadata": {},
   "outputs": [
    {
     "data": {
      "text/html": [
       "<div>\n",
       "<style scoped>\n",
       "    .dataframe tbody tr th:only-of-type {\n",
       "        vertical-align: middle;\n",
       "    }\n",
       "\n",
       "    .dataframe tbody tr th {\n",
       "        vertical-align: top;\n",
       "    }\n",
       "\n",
       "    .dataframe thead th {\n",
       "        text-align: right;\n",
       "    }\n",
       "</style>\n",
       "<table border=\"1\" class=\"dataframe\">\n",
       "  <thead>\n",
       "    <tr style=\"text-align: right;\">\n",
       "      <th></th>\n",
       "      <th>fecha</th>\n",
       "      <th>texto</th>\n",
       "      <th>texto1</th>\n",
       "      <th>comentarios</th>\n",
       "      <th>rts</th>\n",
       "      <th>likes</th>\n",
       "      <th>views</th>\n",
       "      <th>texto3</th>\n",
       "      <th>texto4</th>\n",
       "      <th>texto5</th>\n",
       "    </tr>\n",
       "  </thead>\n",
       "  <tbody>\n",
       "    <tr>\n",
       "      <th>0</th>\n",
       "      <td>2h</td>\n",
       "      <td>Visitamos el oriente de la ciudad para una ent...</td>\n",
       "      <td>. En esta ocasión estuvimos en la Escuela Prim...</td>\n",
       "      <td>3</td>\n",
       "      <td>1</td>\n",
       "      <td>9</td>\n",
       "      <td>685</td>\n",
       "      <td>NaN</td>\n",
       "      <td>NaN</td>\n",
       "      <td>NaN</td>\n",
       "    </tr>\n",
       "    <tr>\n",
       "      <th>1</th>\n",
       "      <td>2h</td>\n",
       "      <td>Este Nido captará el agua de lluvia</td>\n",
       "      <td>para que pueda ser aprovechada para el uso que...</td>\n",
       "      <td>1</td>\n",
       "      <td>2</td>\n",
       "      <td>5</td>\n",
       "      <td>349</td>\n",
       "      <td>.</td>\n",
       "      <td>NaN</td>\n",
       "      <td>NaN</td>\n",
       "    </tr>\n",
       "    <tr>\n",
       "      <th>2</th>\n",
       "      <td>2h</td>\n",
       "      <td>Agradezco a</td>\n",
       "      <td>e</td>\n",
       "      <td>, por hacer equipo para llevar a cabo este gra...</td>\n",
       "      <td>2</td>\n",
       "      <td>6</td>\n",
       "      <td>350</td>\n",
       "      <td>NaN</td>\n",
       "      <td>NaN</td>\n",
       "      <td>NaN</td>\n",
       "    </tr>\n",
       "    <tr>\n",
       "      <th>3</th>\n",
       "      <td>14 oct.</td>\n",
       "      <td>Ahora más calles de nuestra ciudad tienen un n...</td>\n",
       "      <td>Bacheo de caja, profundo y superficial.</td>\n",
       "      <td>18</td>\n",
       "      <td>10</td>\n",
       "      <td>50</td>\n",
       "      <td>3.336</td>\n",
       "      <td>Iluminación.</td>\n",
       "      <td>Carpeta asfáltica.</td>\n",
       "      <td>Banquetas con accesibilidad universal.</td>\n",
       "    </tr>\n",
       "    <tr>\n",
       "      <th>4</th>\n",
       "      <td>14 oct.</td>\n",
       "      <td>Adoquín podo táctil.</td>\n",
       "      <td>Bolardos.</td>\n",
       "      <td>Balizamiento vial.\\nY otras más renovaciones.\\...</td>\n",
       "      <td>4</td>\n",
       "      <td>3</td>\n",
       "      <td>776</td>\n",
       "      <td>, para que los peatones caminen por banquetas ...</td>\n",
       "      <td>, muy seguras y con infraestructura duradera. ...</td>\n",
       "      <td>!</td>\n",
       "    </tr>\n",
       "    <tr>\n",
       "      <th>...</th>\n",
       "      <td>...</td>\n",
       "      <td>...</td>\n",
       "      <td>...</td>\n",
       "      <td>...</td>\n",
       "      <td>...</td>\n",
       "      <td>...</td>\n",
       "      <td>...</td>\n",
       "      <td>...</td>\n",
       "      <td>...</td>\n",
       "      <td>...</td>\n",
       "    </tr>\n",
       "    <tr>\n",
       "      <th>108</th>\n",
       "      <td>12 sept.</td>\n",
       "      <td>Gracias estimado</td>\n",
       "      <td>. ¡Ánimo!</td>\n",
       "      <td>#AnimoGuadalajara</td>\n",
       "      <td>19</td>\n",
       "      <td>Mostrar más</td>\n",
       "      <td>1.507</td>\n",
       "      <td>@ZapopanGob</td>\n",
       "      <td>@GuadalajaraGob</td>\n",
       "      <td>Cita</td>\n",
       "    </tr>\n",
       "    <tr>\n",
       "      <th>109</th>\n",
       "      <td>12 sept.</td>\n",
       "      <td>Gracias por asistir</td>\n",
       "      <td>. ¡Ánimo!</td>\n",
       "      <td>@samuel_garcias</td>\n",
       "      <td>1</td>\n",
       "      <td>1</td>\n",
       "      <td>1.733</td>\n",
       "      <td>@CortinaGallardo</td>\n",
       "      <td>@Chertorivski</td>\n",
       "      <td>Cita</td>\n",
       "    </tr>\n",
       "    <tr>\n",
       "      <th>110</th>\n",
       "      <td>12 sept.</td>\n",
       "      <td>Muchas gracias estimada</td>\n",
       "      <td>por acompañarme. ¡Ánimo!</td>\n",
       "      <td>@DavidZamoraB</td>\n",
       "      <td>2</td>\n",
       "      <td>2</td>\n",
       "      <td>2.110</td>\n",
       "      <td>@MonrazDiego</td>\n",
       "      <td>@GobiernoJalisco</td>\n",
       "      <td>Cita</td>\n",
       "    </tr>\n",
       "    <tr>\n",
       "      <th>111</th>\n",
       "      <td>12 sept.</td>\n",
       "      <td>Un honor tenerte de nuevo en Guadalajara</td>\n",
       "      <td>, gracias por acompañarme en mi segundo inform...</td>\n",
       "      <td>.</td>\n",
       "      <td>1</td>\n",
       "      <td>1</td>\n",
       "      <td>1.321</td>\n",
       "      <td>NaN</td>\n",
       "      <td>NaN</td>\n",
       "      <td>NaN</td>\n",
       "    </tr>\n",
       "    <tr>\n",
       "      <th>112</th>\n",
       "      <td>12 sept.</td>\n",
       "      <td>Muchas gracias amigo y Gobernador de Yucatán</td>\n",
       "      <td>por los buenos deseos. ¡Ánimo!</td>\n",
       "      <td>#Jalisco</td>\n",
       "      <td>1</td>\n",
       "      <td>18</td>\n",
       "      <td>1.398</td>\n",
       "      <td>#Guadalajara</td>\n",
       "      <td>@PabloLemusN</td>\n",
       "      <td>Cita</td>\n",
       "    </tr>\n",
       "  </tbody>\n",
       "</table>\n",
       "<p>113 rows × 10 columns</p>\n",
       "</div>"
      ],
      "text/plain": [
       "        fecha                                              texto  \\\n",
       "0          2h  Visitamos el oriente de la ciudad para una ent...   \n",
       "1          2h                Este Nido captará el agua de lluvia   \n",
       "2          2h                                        Agradezco a   \n",
       "3     14 oct.  Ahora más calles de nuestra ciudad tienen un n...   \n",
       "4     14 oct.                               Adoquín podo táctil.   \n",
       "..        ...                                                ...   \n",
       "108  12 sept.                                   Gracias estimado   \n",
       "109  12 sept.                                Gracias por asistir   \n",
       "110  12 sept.                            Muchas gracias estimada   \n",
       "111  12 sept.           Un honor tenerte de nuevo en Guadalajara   \n",
       "112  12 sept.       Muchas gracias amigo y Gobernador de Yucatán   \n",
       "\n",
       "                                                texto1  \\\n",
       "0    . En esta ocasión estuvimos en la Escuela Prim...   \n",
       "1    para que pueda ser aprovechada para el uso que...   \n",
       "2                                                    e   \n",
       "3              Bacheo de caja, profundo y superficial.   \n",
       "4                                            Bolardos.   \n",
       "..                                                 ...   \n",
       "108                                          . ¡Ánimo!   \n",
       "109                                          . ¡Ánimo!   \n",
       "110                           por acompañarme. ¡Ánimo!   \n",
       "111  , gracias por acompañarme en mi segundo inform...   \n",
       "112                     por los buenos deseos. ¡Ánimo!   \n",
       "\n",
       "                                           comentarios rts        likes  \\\n",
       "0                                                    3   1            9   \n",
       "1                                                    1   2            5   \n",
       "2    , por hacer equipo para llevar a cabo este gra...   2            6   \n",
       "3                                                   18  10           50   \n",
       "4    Balizamiento vial.\\nY otras más renovaciones.\\...   4            3   \n",
       "..                                                 ...  ..          ...   \n",
       "108                                  #AnimoGuadalajara  19  Mostrar más   \n",
       "109                                    @samuel_garcias   1            1   \n",
       "110                                      @DavidZamoraB   2            2   \n",
       "111                                                  .   1            1   \n",
       "112                                           #Jalisco   1           18   \n",
       "\n",
       "     views                                             texto3  \\\n",
       "0      685                                                NaN   \n",
       "1      349                                                  .   \n",
       "2      350                                                NaN   \n",
       "3    3.336                                       Iluminación.   \n",
       "4      776  , para que los peatones caminen por banquetas ...   \n",
       "..     ...                                                ...   \n",
       "108  1.507                                        @ZapopanGob   \n",
       "109  1.733                                   @CortinaGallardo   \n",
       "110  2.110                                       @MonrazDiego   \n",
       "111  1.321                                                NaN   \n",
       "112  1.398                                       #Guadalajara   \n",
       "\n",
       "                                                texto4  \\\n",
       "0                                                  NaN   \n",
       "1                                                  NaN   \n",
       "2                                                  NaN   \n",
       "3                                   Carpeta asfáltica.   \n",
       "4    , muy seguras y con infraestructura duradera. ...   \n",
       "..                                                 ...   \n",
       "108                                    @GuadalajaraGob   \n",
       "109                                      @Chertorivski   \n",
       "110                                   @GobiernoJalisco   \n",
       "111                                                NaN   \n",
       "112                                       @PabloLemusN   \n",
       "\n",
       "                                     texto5  \n",
       "0                                       NaN  \n",
       "1                                       NaN  \n",
       "2                                       NaN  \n",
       "3    Banquetas con accesibilidad universal.  \n",
       "4                                         !  \n",
       "..                                      ...  \n",
       "108                                    Cita  \n",
       "109                                    Cita  \n",
       "110                                    Cita  \n",
       "111                                     NaN  \n",
       "112                                    Cita  \n",
       "\n",
       "[113 rows x 10 columns]"
      ]
     },
     "execution_count": 2,
     "metadata": {},
     "output_type": "execute_result"
    }
   ],
   "source": [
    "df_posts = pd.read_csv(\"twitter_lemus.csv\", usecols=[\"css-4rbku5\", \"css-901oao 4\", \"css-901oao 5\", \"css-901oao 6\", \"css-901oao 7\", \"css-901oao 8\", \"css-901oao 9\", \"css-901oao 10\", \"css-901oao 11\", \"css-901oao 12\"])\n",
    "df_posts = df_posts.rename(columns= {\n",
    "    \"css-4rbku5\": \"fecha\", \"css-901oao 4\": \"texto\", \"css-901oao 5\": \"texto1\", \"css-901oao 6\": \"texto2\",\"css-901oao 10\": \"texto3\",\n",
    "    \"css-901oao 11\": \"texto4\",\"css-901oao 12\": \"texto5\", \"css-901oao 6\": \"comentarios\", \"css-901oao 7\":\"rts\", \"css-901oao 8\":\"likes\", \"css-901oao 9\":\"views\"})\n",
    "df_posts"
   ]
  },
  {
   "cell_type": "code",
   "execution_count": 3,
   "metadata": {},
   "outputs": [],
   "source": [
    "# Linea temporal\n",
    "ts = df_posts[[\"fecha\"]]\n",
    "ts = ts.dropna()\n",
    "\n",
    "# Utilizamos una expresión regular para identificar las fechas que son diferentes a números y que comienzan con \"#\" o alguna letra\n",
    "ts_cleaned = ts[~ts['fecha'].str.match(r'^[^0-9]|\\#')]\n",
    "\n",
    "def obtener_fecha(string_fecha):\n",
    "    # Diccionario para mapear los nombres abreviados de los meses a sus números correspondientes\n",
    "    meses_dict = {\n",
    "        'ene.': '01', 'feb.': '02', 'mar.': '03', 'abr.': '04', 'may.': '05', 'jun.': '06',\n",
    "        'jul.': '07', 'ago.': '08', 'sept.': '09', 'oct.': '10', 'nov.': '11', 'dic.': '12'\n",
    "    }\n",
    "\n",
    "    try:\n",
    "        # Verificar si el string está en formato 'Xh' y obtener la hora si es el caso\n",
    "        if string_fecha.endswith('h'):\n",
    "            hora = int(string_fecha.replace('h', ''))\n",
    "            fecha_actual = datetime.now().replace(hour=hora, minute=0, second=0, microsecond=0)\n",
    "        else:\n",
    "            # Verificar si el string contiene el año\n",
    "            if len(string_fecha.split()) == 3:\n",
    "                dia, mes_abreviado, anio = string_fecha.strip().split(' ')\n",
    "            else:\n",
    "                dia, mes_abreviado = string_fecha.strip().split(' ')\n",
    "                anio = datetime.now().year\n",
    "\n",
    "            # Obtener el número de mes del diccionario\n",
    "            mes_numero = meses_dict[mes_abreviado]\n",
    "\n",
    "            # Crear el objeto de fecha con el formato 'YYYY-MM-DD'\n",
    "            fecha_actual = datetime.strptime(f\"{anio}-{mes_numero}-{dia.zfill(2)}\", \"%Y-%m-%d\")\n",
    "\n",
    "        return fecha_actual.date()\n",
    "    except (KeyError, ValueError):\n",
    "        # Si ocurre un error en el formato o el mes no está en el diccionario, retornar None\n",
    "        return None\n",
    "\n",
    "ts_cleaned = ts_cleaned['fecha'].apply(obtener_fecha)\n",
    "# Convertimos la serie 'fecha' al tipo de dato datetime\n",
    "ts_cleaned = pd.DataFrame(ts_cleaned)\n",
    "ts_cleaned['fecha'] = pd.to_datetime(ts_cleaned['fecha'])\n",
    "\n",
    "# Agrupar por mes y contar el número de días por mes\n",
    "ts_cleaned = ts_cleaned.groupby(ts_cleaned['fecha'].dt.to_period('M')).size().reset_index(name='tweets')\n",
    "ts_cleaned = pd.DataFrame(ts_cleaned)\n",
    "ts_cleaned.to_csv(\"ts.csv\")"
   ]
  },
  {
   "cell_type": "code",
   "execution_count": 4,
   "metadata": {},
   "outputs": [
    {
     "data": {
      "application/vnd.plotly.v1+json": {
       "config": {
        "plotlyServerURL": "https://plotly.com"
       },
       "data": [
        {
         "hovertemplate": "fecha=%{x}<br>tweets=%{y}<extra></extra>",
         "legendgroup": "",
         "line": {
          "color": "#636efa",
          "dash": "solid"
         },
         "marker": {
          "symbol": "circle"
         },
         "mode": "lines",
         "name": "",
         "orientation": "v",
         "showlegend": false,
         "type": "scatter",
         "x": [
          "2023-09",
          "2023-10"
         ],
         "xaxis": "x",
         "y": [
          96,
          9
         ],
         "yaxis": "y"
        }
       ],
       "layout": {
        "legend": {
         "tracegroupgap": 0
        },
        "margin": {
         "t": 60
        },
        "template": {
         "data": {
          "bar": [
           {
            "error_x": {
             "color": "#2a3f5f"
            },
            "error_y": {
             "color": "#2a3f5f"
            },
            "marker": {
             "line": {
              "color": "#E5ECF6",
              "width": 0.5
             },
             "pattern": {
              "fillmode": "overlay",
              "size": 10,
              "solidity": 0.2
             }
            },
            "type": "bar"
           }
          ],
          "barpolar": [
           {
            "marker": {
             "line": {
              "color": "#E5ECF6",
              "width": 0.5
             },
             "pattern": {
              "fillmode": "overlay",
              "size": 10,
              "solidity": 0.2
             }
            },
            "type": "barpolar"
           }
          ],
          "carpet": [
           {
            "aaxis": {
             "endlinecolor": "#2a3f5f",
             "gridcolor": "white",
             "linecolor": "white",
             "minorgridcolor": "white",
             "startlinecolor": "#2a3f5f"
            },
            "baxis": {
             "endlinecolor": "#2a3f5f",
             "gridcolor": "white",
             "linecolor": "white",
             "minorgridcolor": "white",
             "startlinecolor": "#2a3f5f"
            },
            "type": "carpet"
           }
          ],
          "choropleth": [
           {
            "colorbar": {
             "outlinewidth": 0,
             "ticks": ""
            },
            "type": "choropleth"
           }
          ],
          "contour": [
           {
            "colorbar": {
             "outlinewidth": 0,
             "ticks": ""
            },
            "colorscale": [
             [
              0,
              "#0d0887"
             ],
             [
              0.1111111111111111,
              "#46039f"
             ],
             [
              0.2222222222222222,
              "#7201a8"
             ],
             [
              0.3333333333333333,
              "#9c179e"
             ],
             [
              0.4444444444444444,
              "#bd3786"
             ],
             [
              0.5555555555555556,
              "#d8576b"
             ],
             [
              0.6666666666666666,
              "#ed7953"
             ],
             [
              0.7777777777777778,
              "#fb9f3a"
             ],
             [
              0.8888888888888888,
              "#fdca26"
             ],
             [
              1,
              "#f0f921"
             ]
            ],
            "type": "contour"
           }
          ],
          "contourcarpet": [
           {
            "colorbar": {
             "outlinewidth": 0,
             "ticks": ""
            },
            "type": "contourcarpet"
           }
          ],
          "heatmap": [
           {
            "colorbar": {
             "outlinewidth": 0,
             "ticks": ""
            },
            "colorscale": [
             [
              0,
              "#0d0887"
             ],
             [
              0.1111111111111111,
              "#46039f"
             ],
             [
              0.2222222222222222,
              "#7201a8"
             ],
             [
              0.3333333333333333,
              "#9c179e"
             ],
             [
              0.4444444444444444,
              "#bd3786"
             ],
             [
              0.5555555555555556,
              "#d8576b"
             ],
             [
              0.6666666666666666,
              "#ed7953"
             ],
             [
              0.7777777777777778,
              "#fb9f3a"
             ],
             [
              0.8888888888888888,
              "#fdca26"
             ],
             [
              1,
              "#f0f921"
             ]
            ],
            "type": "heatmap"
           }
          ],
          "heatmapgl": [
           {
            "colorbar": {
             "outlinewidth": 0,
             "ticks": ""
            },
            "colorscale": [
             [
              0,
              "#0d0887"
             ],
             [
              0.1111111111111111,
              "#46039f"
             ],
             [
              0.2222222222222222,
              "#7201a8"
             ],
             [
              0.3333333333333333,
              "#9c179e"
             ],
             [
              0.4444444444444444,
              "#bd3786"
             ],
             [
              0.5555555555555556,
              "#d8576b"
             ],
             [
              0.6666666666666666,
              "#ed7953"
             ],
             [
              0.7777777777777778,
              "#fb9f3a"
             ],
             [
              0.8888888888888888,
              "#fdca26"
             ],
             [
              1,
              "#f0f921"
             ]
            ],
            "type": "heatmapgl"
           }
          ],
          "histogram": [
           {
            "marker": {
             "pattern": {
              "fillmode": "overlay",
              "size": 10,
              "solidity": 0.2
             }
            },
            "type": "histogram"
           }
          ],
          "histogram2d": [
           {
            "colorbar": {
             "outlinewidth": 0,
             "ticks": ""
            },
            "colorscale": [
             [
              0,
              "#0d0887"
             ],
             [
              0.1111111111111111,
              "#46039f"
             ],
             [
              0.2222222222222222,
              "#7201a8"
             ],
             [
              0.3333333333333333,
              "#9c179e"
             ],
             [
              0.4444444444444444,
              "#bd3786"
             ],
             [
              0.5555555555555556,
              "#d8576b"
             ],
             [
              0.6666666666666666,
              "#ed7953"
             ],
             [
              0.7777777777777778,
              "#fb9f3a"
             ],
             [
              0.8888888888888888,
              "#fdca26"
             ],
             [
              1,
              "#f0f921"
             ]
            ],
            "type": "histogram2d"
           }
          ],
          "histogram2dcontour": [
           {
            "colorbar": {
             "outlinewidth": 0,
             "ticks": ""
            },
            "colorscale": [
             [
              0,
              "#0d0887"
             ],
             [
              0.1111111111111111,
              "#46039f"
             ],
             [
              0.2222222222222222,
              "#7201a8"
             ],
             [
              0.3333333333333333,
              "#9c179e"
             ],
             [
              0.4444444444444444,
              "#bd3786"
             ],
             [
              0.5555555555555556,
              "#d8576b"
             ],
             [
              0.6666666666666666,
              "#ed7953"
             ],
             [
              0.7777777777777778,
              "#fb9f3a"
             ],
             [
              0.8888888888888888,
              "#fdca26"
             ],
             [
              1,
              "#f0f921"
             ]
            ],
            "type": "histogram2dcontour"
           }
          ],
          "mesh3d": [
           {
            "colorbar": {
             "outlinewidth": 0,
             "ticks": ""
            },
            "type": "mesh3d"
           }
          ],
          "parcoords": [
           {
            "line": {
             "colorbar": {
              "outlinewidth": 0,
              "ticks": ""
             }
            },
            "type": "parcoords"
           }
          ],
          "pie": [
           {
            "automargin": true,
            "type": "pie"
           }
          ],
          "scatter": [
           {
            "fillpattern": {
             "fillmode": "overlay",
             "size": 10,
             "solidity": 0.2
            },
            "type": "scatter"
           }
          ],
          "scatter3d": [
           {
            "line": {
             "colorbar": {
              "outlinewidth": 0,
              "ticks": ""
             }
            },
            "marker": {
             "colorbar": {
              "outlinewidth": 0,
              "ticks": ""
             }
            },
            "type": "scatter3d"
           }
          ],
          "scattercarpet": [
           {
            "marker": {
             "colorbar": {
              "outlinewidth": 0,
              "ticks": ""
             }
            },
            "type": "scattercarpet"
           }
          ],
          "scattergeo": [
           {
            "marker": {
             "colorbar": {
              "outlinewidth": 0,
              "ticks": ""
             }
            },
            "type": "scattergeo"
           }
          ],
          "scattergl": [
           {
            "marker": {
             "colorbar": {
              "outlinewidth": 0,
              "ticks": ""
             }
            },
            "type": "scattergl"
           }
          ],
          "scattermapbox": [
           {
            "marker": {
             "colorbar": {
              "outlinewidth": 0,
              "ticks": ""
             }
            },
            "type": "scattermapbox"
           }
          ],
          "scatterpolar": [
           {
            "marker": {
             "colorbar": {
              "outlinewidth": 0,
              "ticks": ""
             }
            },
            "type": "scatterpolar"
           }
          ],
          "scatterpolargl": [
           {
            "marker": {
             "colorbar": {
              "outlinewidth": 0,
              "ticks": ""
             }
            },
            "type": "scatterpolargl"
           }
          ],
          "scatterternary": [
           {
            "marker": {
             "colorbar": {
              "outlinewidth": 0,
              "ticks": ""
             }
            },
            "type": "scatterternary"
           }
          ],
          "surface": [
           {
            "colorbar": {
             "outlinewidth": 0,
             "ticks": ""
            },
            "colorscale": [
             [
              0,
              "#0d0887"
             ],
             [
              0.1111111111111111,
              "#46039f"
             ],
             [
              0.2222222222222222,
              "#7201a8"
             ],
             [
              0.3333333333333333,
              "#9c179e"
             ],
             [
              0.4444444444444444,
              "#bd3786"
             ],
             [
              0.5555555555555556,
              "#d8576b"
             ],
             [
              0.6666666666666666,
              "#ed7953"
             ],
             [
              0.7777777777777778,
              "#fb9f3a"
             ],
             [
              0.8888888888888888,
              "#fdca26"
             ],
             [
              1,
              "#f0f921"
             ]
            ],
            "type": "surface"
           }
          ],
          "table": [
           {
            "cells": {
             "fill": {
              "color": "#EBF0F8"
             },
             "line": {
              "color": "white"
             }
            },
            "header": {
             "fill": {
              "color": "#C8D4E3"
             },
             "line": {
              "color": "white"
             }
            },
            "type": "table"
           }
          ]
         },
         "layout": {
          "annotationdefaults": {
           "arrowcolor": "#2a3f5f",
           "arrowhead": 0,
           "arrowwidth": 1
          },
          "autotypenumbers": "strict",
          "coloraxis": {
           "colorbar": {
            "outlinewidth": 0,
            "ticks": ""
           }
          },
          "colorscale": {
           "diverging": [
            [
             0,
             "#8e0152"
            ],
            [
             0.1,
             "#c51b7d"
            ],
            [
             0.2,
             "#de77ae"
            ],
            [
             0.3,
             "#f1b6da"
            ],
            [
             0.4,
             "#fde0ef"
            ],
            [
             0.5,
             "#f7f7f7"
            ],
            [
             0.6,
             "#e6f5d0"
            ],
            [
             0.7,
             "#b8e186"
            ],
            [
             0.8,
             "#7fbc41"
            ],
            [
             0.9,
             "#4d9221"
            ],
            [
             1,
             "#276419"
            ]
           ],
           "sequential": [
            [
             0,
             "#0d0887"
            ],
            [
             0.1111111111111111,
             "#46039f"
            ],
            [
             0.2222222222222222,
             "#7201a8"
            ],
            [
             0.3333333333333333,
             "#9c179e"
            ],
            [
             0.4444444444444444,
             "#bd3786"
            ],
            [
             0.5555555555555556,
             "#d8576b"
            ],
            [
             0.6666666666666666,
             "#ed7953"
            ],
            [
             0.7777777777777778,
             "#fb9f3a"
            ],
            [
             0.8888888888888888,
             "#fdca26"
            ],
            [
             1,
             "#f0f921"
            ]
           ],
           "sequentialminus": [
            [
             0,
             "#0d0887"
            ],
            [
             0.1111111111111111,
             "#46039f"
            ],
            [
             0.2222222222222222,
             "#7201a8"
            ],
            [
             0.3333333333333333,
             "#9c179e"
            ],
            [
             0.4444444444444444,
             "#bd3786"
            ],
            [
             0.5555555555555556,
             "#d8576b"
            ],
            [
             0.6666666666666666,
             "#ed7953"
            ],
            [
             0.7777777777777778,
             "#fb9f3a"
            ],
            [
             0.8888888888888888,
             "#fdca26"
            ],
            [
             1,
             "#f0f921"
            ]
           ]
          },
          "colorway": [
           "#636efa",
           "#EF553B",
           "#00cc96",
           "#ab63fa",
           "#FFA15A",
           "#19d3f3",
           "#FF6692",
           "#B6E880",
           "#FF97FF",
           "#FECB52"
          ],
          "font": {
           "color": "#2a3f5f"
          },
          "geo": {
           "bgcolor": "white",
           "lakecolor": "white",
           "landcolor": "#E5ECF6",
           "showlakes": true,
           "showland": true,
           "subunitcolor": "white"
          },
          "hoverlabel": {
           "align": "left"
          },
          "hovermode": "closest",
          "mapbox": {
           "style": "light"
          },
          "paper_bgcolor": "white",
          "plot_bgcolor": "#E5ECF6",
          "polar": {
           "angularaxis": {
            "gridcolor": "white",
            "linecolor": "white",
            "ticks": ""
           },
           "bgcolor": "#E5ECF6",
           "radialaxis": {
            "gridcolor": "white",
            "linecolor": "white",
            "ticks": ""
           }
          },
          "scene": {
           "xaxis": {
            "backgroundcolor": "#E5ECF6",
            "gridcolor": "white",
            "gridwidth": 2,
            "linecolor": "white",
            "showbackground": true,
            "ticks": "",
            "zerolinecolor": "white"
           },
           "yaxis": {
            "backgroundcolor": "#E5ECF6",
            "gridcolor": "white",
            "gridwidth": 2,
            "linecolor": "white",
            "showbackground": true,
            "ticks": "",
            "zerolinecolor": "white"
           },
           "zaxis": {
            "backgroundcolor": "#E5ECF6",
            "gridcolor": "white",
            "gridwidth": 2,
            "linecolor": "white",
            "showbackground": true,
            "ticks": "",
            "zerolinecolor": "white"
           }
          },
          "shapedefaults": {
           "line": {
            "color": "#2a3f5f"
           }
          },
          "ternary": {
           "aaxis": {
            "gridcolor": "white",
            "linecolor": "white",
            "ticks": ""
           },
           "baxis": {
            "gridcolor": "white",
            "linecolor": "white",
            "ticks": ""
           },
           "bgcolor": "#E5ECF6",
           "caxis": {
            "gridcolor": "white",
            "linecolor": "white",
            "ticks": ""
           }
          },
          "title": {
           "x": 0.05
          },
          "xaxis": {
           "automargin": true,
           "gridcolor": "white",
           "linecolor": "white",
           "ticks": "",
           "title": {
            "standoff": 15
           },
           "zerolinecolor": "white",
           "zerolinewidth": 2
          },
          "yaxis": {
           "automargin": true,
           "gridcolor": "white",
           "linecolor": "white",
           "ticks": "",
           "title": {
            "standoff": 15
           },
           "zerolinecolor": "white",
           "zerolinewidth": 2
          }
         }
        },
        "xaxis": {
         "anchor": "y",
         "domain": [
          0,
          1
         ],
         "title": {
          "text": "fecha"
         }
        },
        "yaxis": {
         "anchor": "x",
         "domain": [
          0,
          1
         ],
         "title": {
          "text": "tweets"
         }
        }
       }
      }
     },
     "metadata": {},
     "output_type": "display_data"
    },
    {
     "data": {
      "text/html": [
       "<div>\n",
       "<style scoped>\n",
       "    .dataframe tbody tr th:only-of-type {\n",
       "        vertical-align: middle;\n",
       "    }\n",
       "\n",
       "    .dataframe tbody tr th {\n",
       "        vertical-align: top;\n",
       "    }\n",
       "\n",
       "    .dataframe thead th {\n",
       "        text-align: right;\n",
       "    }\n",
       "</style>\n",
       "<table border=\"1\" class=\"dataframe\">\n",
       "  <thead>\n",
       "    <tr style=\"text-align: right;\">\n",
       "      <th></th>\n",
       "      <th>tweets</th>\n",
       "    </tr>\n",
       "  </thead>\n",
       "  <tbody>\n",
       "    <tr>\n",
       "      <th>count</th>\n",
       "      <td>2.00000</td>\n",
       "    </tr>\n",
       "    <tr>\n",
       "      <th>mean</th>\n",
       "      <td>52.50000</td>\n",
       "    </tr>\n",
       "    <tr>\n",
       "      <th>std</th>\n",
       "      <td>61.51829</td>\n",
       "    </tr>\n",
       "    <tr>\n",
       "      <th>min</th>\n",
       "      <td>9.00000</td>\n",
       "    </tr>\n",
       "    <tr>\n",
       "      <th>25%</th>\n",
       "      <td>30.75000</td>\n",
       "    </tr>\n",
       "    <tr>\n",
       "      <th>50%</th>\n",
       "      <td>52.50000</td>\n",
       "    </tr>\n",
       "    <tr>\n",
       "      <th>75%</th>\n",
       "      <td>74.25000</td>\n",
       "    </tr>\n",
       "    <tr>\n",
       "      <th>max</th>\n",
       "      <td>96.00000</td>\n",
       "    </tr>\n",
       "  </tbody>\n",
       "</table>\n",
       "</div>"
      ],
      "text/plain": [
       "         tweets\n",
       "count   2.00000\n",
       "mean   52.50000\n",
       "std    61.51829\n",
       "min     9.00000\n",
       "25%    30.75000\n",
       "50%    52.50000\n",
       "75%    74.25000\n",
       "max    96.00000"
      ]
     },
     "execution_count": 4,
     "metadata": {},
     "output_type": "execute_result"
    }
   ],
   "source": [
    "# Convertir la columna 'fecha' a tipo string\n",
    "ts_cleaned['fecha'] = ts_cleaned['fecha'].astype(str)\n",
    "\n",
    "fig = px.line(ts_cleaned, x='fecha', y='tweets')\n",
    "fig.write_html(\"history.html\")\n",
    "fig.show()\n",
    "\n",
    "ts_cleaned.describe()"
   ]
  },
  {
   "cell_type": "code",
   "execution_count": 5,
   "metadata": {},
   "outputs": [
    {
     "name": "stderr",
     "output_type": "stream",
     "text": [
      "/tmp/ipykernel_132225/3419846447.py:2: SettingWithCopyWarning:\n",
      "\n",
      "\n",
      "A value is trying to be set on a copy of a slice from a DataFrame.\n",
      "Try using .loc[row_indexer,col_indexer] = value instead\n",
      "\n",
      "See the caveats in the documentation: https://pandas.pydata.org/pandas-docs/stable/user_guide/indexing.html#returning-a-view-versus-a-copy\n",
      "\n"
     ]
    },
    {
     "data": {
      "text/html": [
       "<div>\n",
       "<style scoped>\n",
       "    .dataframe tbody tr th:only-of-type {\n",
       "        vertical-align: middle;\n",
       "    }\n",
       "\n",
       "    .dataframe tbody tr th {\n",
       "        vertical-align: top;\n",
       "    }\n",
       "\n",
       "    .dataframe thead th {\n",
       "        text-align: right;\n",
       "    }\n",
       "</style>\n",
       "<table border=\"1\" class=\"dataframe\">\n",
       "  <thead>\n",
       "    <tr style=\"text-align: right;\">\n",
       "      <th></th>\n",
       "      <th>texto</th>\n",
       "      <th>texto1</th>\n",
       "      <th>texto3</th>\n",
       "      <th>texto4</th>\n",
       "      <th>texto5</th>\n",
       "      <th>Texto</th>\n",
       "    </tr>\n",
       "  </thead>\n",
       "  <tbody>\n",
       "    <tr>\n",
       "      <th>0</th>\n",
       "      <td>Visitamos el oriente de la ciudad para una ent...</td>\n",
       "      <td>. En esta ocasión estuvimos en la Escuela Prim...</td>\n",
       "      <td></td>\n",
       "      <td></td>\n",
       "      <td></td>\n",
       "      <td></td>\n",
       "    </tr>\n",
       "    <tr>\n",
       "      <th>1</th>\n",
       "      <td>Este Nido captará el agua de lluvia</td>\n",
       "      <td>para que pueda ser aprovechada para el uso que...</td>\n",
       "      <td>.</td>\n",
       "      <td></td>\n",
       "      <td></td>\n",
       "      <td></td>\n",
       "    </tr>\n",
       "    <tr>\n",
       "      <th>2</th>\n",
       "      <td>Agradezco a</td>\n",
       "      <td>e</td>\n",
       "      <td></td>\n",
       "      <td></td>\n",
       "      <td></td>\n",
       "      <td></td>\n",
       "    </tr>\n",
       "    <tr>\n",
       "      <th>3</th>\n",
       "      <td>Ahora más calles de nuestra ciudad tienen un n...</td>\n",
       "      <td>Bacheo de caja, profundo y superficial.</td>\n",
       "      <td>Iluminación.</td>\n",
       "      <td>Carpeta asfáltica.</td>\n",
       "      <td>Banquetas con accesibilidad universal.</td>\n",
       "      <td>Ahora más calles de nuestra ciudad tienen un n...</td>\n",
       "    </tr>\n",
       "    <tr>\n",
       "      <th>4</th>\n",
       "      <td>Adoquín podo táctil.</td>\n",
       "      <td>Bolardos.</td>\n",
       "      <td>, para que los peatones caminen por banquetas ...</td>\n",
       "      <td>, muy seguras y con infraestructura duradera. ...</td>\n",
       "      <td>!</td>\n",
       "      <td>Adoquín podo táctil. Bolardos. , para que los ...</td>\n",
       "    </tr>\n",
       "    <tr>\n",
       "      <th>...</th>\n",
       "      <td>...</td>\n",
       "      <td>...</td>\n",
       "      <td>...</td>\n",
       "      <td>...</td>\n",
       "      <td>...</td>\n",
       "      <td>...</td>\n",
       "    </tr>\n",
       "    <tr>\n",
       "      <th>108</th>\n",
       "      <td>Gracias estimado</td>\n",
       "      <td>. ¡Ánimo!</td>\n",
       "      <td>@ZapopanGob</td>\n",
       "      <td>@GuadalajaraGob</td>\n",
       "      <td>Cita</td>\n",
       "      <td>Gracias estimado . ¡Ánimo! @ZapopanGob @Guadal...</td>\n",
       "    </tr>\n",
       "    <tr>\n",
       "      <th>109</th>\n",
       "      <td>Gracias por asistir</td>\n",
       "      <td>. ¡Ánimo!</td>\n",
       "      <td>@CortinaGallardo</td>\n",
       "      <td>@Chertorivski</td>\n",
       "      <td>Cita</td>\n",
       "      <td>Gracias por asistir . ¡Ánimo! @CortinaGallardo...</td>\n",
       "    </tr>\n",
       "    <tr>\n",
       "      <th>110</th>\n",
       "      <td>Muchas gracias estimada</td>\n",
       "      <td>por acompañarme. ¡Ánimo!</td>\n",
       "      <td>@MonrazDiego</td>\n",
       "      <td>@GobiernoJalisco</td>\n",
       "      <td>Cita</td>\n",
       "      <td>Muchas gracias estimada por acompañarme. ¡Ánim...</td>\n",
       "    </tr>\n",
       "    <tr>\n",
       "      <th>111</th>\n",
       "      <td>Un honor tenerte de nuevo en Guadalajara</td>\n",
       "      <td>, gracias por acompañarme en mi segundo inform...</td>\n",
       "      <td></td>\n",
       "      <td></td>\n",
       "      <td></td>\n",
       "      <td></td>\n",
       "    </tr>\n",
       "    <tr>\n",
       "      <th>112</th>\n",
       "      <td>Muchas gracias amigo y Gobernador de Yucatán</td>\n",
       "      <td>por los buenos deseos. ¡Ánimo!</td>\n",
       "      <td>#Guadalajara</td>\n",
       "      <td>@PabloLemusN</td>\n",
       "      <td>Cita</td>\n",
       "      <td>Muchas gracias amigo y Gobernador de Yucatán p...</td>\n",
       "    </tr>\n",
       "  </tbody>\n",
       "</table>\n",
       "<p>113 rows × 6 columns</p>\n",
       "</div>"
      ],
      "text/plain": [
       "                                                 texto  \\\n",
       "0    Visitamos el oriente de la ciudad para una ent...   \n",
       "1                  Este Nido captará el agua de lluvia   \n",
       "2                                          Agradezco a   \n",
       "3    Ahora más calles de nuestra ciudad tienen un n...   \n",
       "4                                 Adoquín podo táctil.   \n",
       "..                                                 ...   \n",
       "108                                   Gracias estimado   \n",
       "109                                Gracias por asistir   \n",
       "110                            Muchas gracias estimada   \n",
       "111           Un honor tenerte de nuevo en Guadalajara   \n",
       "112       Muchas gracias amigo y Gobernador de Yucatán   \n",
       "\n",
       "                                                texto1  \\\n",
       "0    . En esta ocasión estuvimos en la Escuela Prim...   \n",
       "1    para que pueda ser aprovechada para el uso que...   \n",
       "2                                                    e   \n",
       "3              Bacheo de caja, profundo y superficial.   \n",
       "4                                            Bolardos.   \n",
       "..                                                 ...   \n",
       "108                                          . ¡Ánimo!   \n",
       "109                                          . ¡Ánimo!   \n",
       "110                           por acompañarme. ¡Ánimo!   \n",
       "111  , gracias por acompañarme en mi segundo inform...   \n",
       "112                     por los buenos deseos. ¡Ánimo!   \n",
       "\n",
       "                                                texto3  \\\n",
       "0                                                        \n",
       "1                                                    .   \n",
       "2                                                        \n",
       "3                                         Iluminación.   \n",
       "4    , para que los peatones caminen por banquetas ...   \n",
       "..                                                 ...   \n",
       "108                                        @ZapopanGob   \n",
       "109                                   @CortinaGallardo   \n",
       "110                                       @MonrazDiego   \n",
       "111                                                      \n",
       "112                                       #Guadalajara   \n",
       "\n",
       "                                                texto4  \\\n",
       "0                                                        \n",
       "1                                                        \n",
       "2                                                        \n",
       "3                                   Carpeta asfáltica.   \n",
       "4    , muy seguras y con infraestructura duradera. ...   \n",
       "..                                                 ...   \n",
       "108                                    @GuadalajaraGob   \n",
       "109                                      @Chertorivski   \n",
       "110                                   @GobiernoJalisco   \n",
       "111                                                      \n",
       "112                                       @PabloLemusN   \n",
       "\n",
       "                                     texto5  \\\n",
       "0                                             \n",
       "1                                             \n",
       "2                                             \n",
       "3    Banquetas con accesibilidad universal.   \n",
       "4                                         !   \n",
       "..                                      ...   \n",
       "108                                    Cita   \n",
       "109                                    Cita   \n",
       "110                                    Cita   \n",
       "111                                           \n",
       "112                                    Cita   \n",
       "\n",
       "                                                 Texto  \n",
       "0                                                       \n",
       "1                                                       \n",
       "2                                                       \n",
       "3    Ahora más calles de nuestra ciudad tienen un n...  \n",
       "4    Adoquín podo táctil. Bolardos. , para que los ...  \n",
       "..                                                 ...  \n",
       "108  Gracias estimado . ¡Ánimo! @ZapopanGob @Guadal...  \n",
       "109  Gracias por asistir . ¡Ánimo! @CortinaGallardo...  \n",
       "110  Muchas gracias estimada por acompañarme. ¡Ánim...  \n",
       "111                                                     \n",
       "112  Muchas gracias amigo y Gobernador de Yucatán p...  \n",
       "\n",
       "[113 rows x 6 columns]"
      ]
     },
     "execution_count": 5,
     "metadata": {},
     "output_type": "execute_result"
    }
   ],
   "source": [
    "df_posts = df_posts[[\"texto\", \"texto1\", \"texto3\", \"texto4\", \"texto5\"]]\n",
    "df_posts[\"Texto\"] = df_posts.texto + ' ' + df_posts.texto1 + ' ' + df_posts.texto3 + ' ' + df_posts.texto4 + ' ' + df_posts.texto5\n",
    "df_posts = df_posts.fillna('')\n",
    "df_posts"
   ]
  },
  {
   "cell_type": "code",
   "execution_count": 6,
   "metadata": {},
   "outputs": [
    {
     "data": {
      "text/html": [
       "<div>\n",
       "<style scoped>\n",
       "    .dataframe tbody tr th:only-of-type {\n",
       "        vertical-align: middle;\n",
       "    }\n",
       "\n",
       "    .dataframe tbody tr th {\n",
       "        vertical-align: top;\n",
       "    }\n",
       "\n",
       "    .dataframe thead th {\n",
       "        text-align: right;\n",
       "    }\n",
       "</style>\n",
       "<table border=\"1\" class=\"dataframe\">\n",
       "  <thead>\n",
       "    <tr style=\"text-align: right;\">\n",
       "      <th></th>\n",
       "      <th>texto</th>\n",
       "    </tr>\n",
       "  </thead>\n",
       "  <tbody>\n",
       "    <tr>\n",
       "      <th>0</th>\n",
       "      <td>Visitamos el oriente de la ciudad para una ent...</td>\n",
       "    </tr>\n",
       "    <tr>\n",
       "      <th>1</th>\n",
       "      <td>Este Nido captará el agua de lluvia</td>\n",
       "    </tr>\n",
       "    <tr>\n",
       "      <th>2</th>\n",
       "      <td>Agradezco a</td>\n",
       "    </tr>\n",
       "    <tr>\n",
       "      <th>3</th>\n",
       "      <td>Ahora más calles de nuestra ciudad tienen un n...</td>\n",
       "    </tr>\n",
       "    <tr>\n",
       "      <th>4</th>\n",
       "      <td>Adoquín podo táctil.</td>\n",
       "    </tr>\n",
       "    <tr>\n",
       "      <th>...</th>\n",
       "      <td>...</td>\n",
       "    </tr>\n",
       "    <tr>\n",
       "      <th>108</th>\n",
       "      <td>Gracias estimado</td>\n",
       "    </tr>\n",
       "    <tr>\n",
       "      <th>109</th>\n",
       "      <td>Gracias por asistir</td>\n",
       "    </tr>\n",
       "    <tr>\n",
       "      <th>110</th>\n",
       "      <td>Muchas gracias estimada</td>\n",
       "    </tr>\n",
       "    <tr>\n",
       "      <th>111</th>\n",
       "      <td>Un honor tenerte de nuevo en Guadalajara</td>\n",
       "    </tr>\n",
       "    <tr>\n",
       "      <th>112</th>\n",
       "      <td>Muchas gracias amigo y Gobernador de Yucatán</td>\n",
       "    </tr>\n",
       "  </tbody>\n",
       "</table>\n",
       "<p>113 rows × 1 columns</p>\n",
       "</div>"
      ],
      "text/plain": [
       "                                                 texto\n",
       "0    Visitamos el oriente de la ciudad para una ent...\n",
       "1                  Este Nido captará el agua de lluvia\n",
       "2                                          Agradezco a\n",
       "3    Ahora más calles de nuestra ciudad tienen un n...\n",
       "4                                 Adoquín podo táctil.\n",
       "..                                                 ...\n",
       "108                                   Gracias estimado\n",
       "109                                Gracias por asistir\n",
       "110                            Muchas gracias estimada\n",
       "111           Un honor tenerte de nuevo en Guadalajara\n",
       "112       Muchas gracias amigo y Gobernador de Yucatán\n",
       "\n",
       "[113 rows x 1 columns]"
      ]
     },
     "execution_count": 6,
     "metadata": {},
     "output_type": "execute_result"
    }
   ],
   "source": [
    "df_posts = pd.DataFrame(df_posts[\"texto\"].copy())\n",
    "df_posts"
   ]
  },
  {
   "cell_type": "code",
   "execution_count": 7,
   "metadata": {},
   "outputs": [
    {
     "data": {
      "text/html": [
       "<div>\n",
       "<style scoped>\n",
       "    .dataframe tbody tr th:only-of-type {\n",
       "        vertical-align: middle;\n",
       "    }\n",
       "\n",
       "    .dataframe tbody tr th {\n",
       "        vertical-align: top;\n",
       "    }\n",
       "\n",
       "    .dataframe thead th {\n",
       "        text-align: right;\n",
       "    }\n",
       "</style>\n",
       "<table border=\"1\" class=\"dataframe\">\n",
       "  <thead>\n",
       "    <tr style=\"text-align: right;\">\n",
       "      <th></th>\n",
       "      <th>texto</th>\n",
       "      <th>tokens</th>\n",
       "    </tr>\n",
       "  </thead>\n",
       "  <tbody>\n",
       "    <tr>\n",
       "      <th>0</th>\n",
       "      <td>visitamos el oriente de la ciudad para una ent...</td>\n",
       "      <td>[visitamos, el, oriente, de, la, ciudad, para,...</td>\n",
       "    </tr>\n",
       "    <tr>\n",
       "      <th>1</th>\n",
       "      <td>este nido captará el agua de lluvia</td>\n",
       "      <td>[este, nido, captará, el, agua, de, lluvia]</td>\n",
       "    </tr>\n",
       "    <tr>\n",
       "      <th>2</th>\n",
       "      <td>agradezco a</td>\n",
       "      <td>[agradezco, a]</td>\n",
       "    </tr>\n",
       "    <tr>\n",
       "      <th>3</th>\n",
       "      <td>ahora más calles de nuestra ciudad tienen un n...</td>\n",
       "      <td>[ahora, más, calles, de, nuestra, ciudad, tien...</td>\n",
       "    </tr>\n",
       "    <tr>\n",
       "      <th>4</th>\n",
       "      <td>adoquín podo táctil.</td>\n",
       "      <td>[adoquín, podo, táctil]</td>\n",
       "    </tr>\n",
       "    <tr>\n",
       "      <th>...</th>\n",
       "      <td>...</td>\n",
       "      <td>...</td>\n",
       "    </tr>\n",
       "    <tr>\n",
       "      <th>108</th>\n",
       "      <td>gracias estimado</td>\n",
       "      <td>[gracias, estimado]</td>\n",
       "    </tr>\n",
       "    <tr>\n",
       "      <th>109</th>\n",
       "      <td>gracias por asistir</td>\n",
       "      <td>[gracias, por, asistir]</td>\n",
       "    </tr>\n",
       "    <tr>\n",
       "      <th>110</th>\n",
       "      <td>muchas gracias estimada</td>\n",
       "      <td>[muchas, gracias, estimada]</td>\n",
       "    </tr>\n",
       "    <tr>\n",
       "      <th>111</th>\n",
       "      <td>un honor tenerte de nuevo en guadalajara</td>\n",
       "      <td>[un, honor, tenerte, de, nuevo, en, guadalajara]</td>\n",
       "    </tr>\n",
       "    <tr>\n",
       "      <th>112</th>\n",
       "      <td>muchas gracias amigo y gobernador de yucatán</td>\n",
       "      <td>[muchas, gracias, amigo, y, gobernador, de, yu...</td>\n",
       "    </tr>\n",
       "  </tbody>\n",
       "</table>\n",
       "<p>113 rows × 2 columns</p>\n",
       "</div>"
      ],
      "text/plain": [
       "                                                 texto  \\\n",
       "0    visitamos el oriente de la ciudad para una ent...   \n",
       "1                  este nido captará el agua de lluvia   \n",
       "2                                          agradezco a   \n",
       "3    ahora más calles de nuestra ciudad tienen un n...   \n",
       "4                                 adoquín podo táctil.   \n",
       "..                                                 ...   \n",
       "108                                   gracias estimado   \n",
       "109                                gracias por asistir   \n",
       "110                            muchas gracias estimada   \n",
       "111           un honor tenerte de nuevo en guadalajara   \n",
       "112       muchas gracias amigo y gobernador de yucatán   \n",
       "\n",
       "                                                tokens  \n",
       "0    [visitamos, el, oriente, de, la, ciudad, para,...  \n",
       "1          [este, nido, captará, el, agua, de, lluvia]  \n",
       "2                                       [agradezco, a]  \n",
       "3    [ahora, más, calles, de, nuestra, ciudad, tien...  \n",
       "4                              [adoquín, podo, táctil]  \n",
       "..                                                 ...  \n",
       "108                                [gracias, estimado]  \n",
       "109                            [gracias, por, asistir]  \n",
       "110                        [muchas, gracias, estimada]  \n",
       "111   [un, honor, tenerte, de, nuevo, en, guadalajara]  \n",
       "112  [muchas, gracias, amigo, y, gobernador, de, yu...  \n",
       "\n",
       "[113 rows x 2 columns]"
      ]
     },
     "execution_count": 7,
     "metadata": {},
     "output_type": "execute_result"
    }
   ],
   "source": [
    "df_posts['texto'] = df_posts['texto'].str.lower()\n",
    "tokenizer = RegexpTokenizer(r'\\w+')\n",
    "df_posts['tokens'] = df_posts['texto'].apply(tokenizer.tokenize)\n",
    "df_posts.to_csv(\"posts_x.csv\")\n",
    "df_posts"
   ]
  },
  {
   "cell_type": "code",
   "execution_count": 8,
   "metadata": {},
   "outputs": [],
   "source": [
    "import re\n",
    "import emoji\n",
    "\n",
    "def limpiar_texto(texto):\n",
    "    # Eliminar caracteres especiales y números\n",
    "    texto_limpio = re.sub(r'[^\\w\\sáéíóúüÁÉÍÓÚÜñ]', '', texto, flags=re.UNICODE)\n",
    "    # Eliminar espacios en blanco adicionales y convertir a minúsculas\n",
    "    texto_limpio = ' '.join(texto_limpio.split()).lower()\n",
    "    return texto_limpio\n",
    "\n",
    "df_posts[\"texto\"] = df_posts[\"texto\"].apply(limpiar_texto)\n",
    "df_posts_clean = df_posts.copy()\n",
    "\n"
   ]
  },
  {
   "cell_type": "code",
   "execution_count": 9,
   "metadata": {},
   "outputs": [],
   "source": [
    "# Se añade la stoprword: amp, ax, ex\n",
    "stop_words.extend((\"q\", \"d\", \"van\", \"si\", \"pa\", \"así\", \"ser\", \"solo\", \"tan\", \"va\", \"as\",\n",
    "                \"le\", \"con\",\"ella\", \"qué\", \"por\", \"qu\", \"ers\", \"das\", \"ve\", \"jajaja\", \"jeje\", \"La\", \"nimo\", \"ms\", \"da\"))"
   ]
  },
  {
   "cell_type": "code",
   "execution_count": 10,
   "metadata": {},
   "outputs": [
    {
     "data": {
      "text/html": [
       "<div>\n",
       "<style scoped>\n",
       "    .dataframe tbody tr th:only-of-type {\n",
       "        vertical-align: middle;\n",
       "    }\n",
       "\n",
       "    .dataframe tbody tr th {\n",
       "        vertical-align: top;\n",
       "    }\n",
       "\n",
       "    .dataframe thead th {\n",
       "        text-align: right;\n",
       "    }\n",
       "</style>\n",
       "<table border=\"1\" class=\"dataframe\">\n",
       "  <thead>\n",
       "    <tr style=\"text-align: right;\">\n",
       "      <th></th>\n",
       "      <th>texto</th>\n",
       "      <th>tokens</th>\n",
       "    </tr>\n",
       "  </thead>\n",
       "  <tbody>\n",
       "    <tr>\n",
       "      <th>0</th>\n",
       "      <td>visitamos el oriente de la ciudad para una ent...</td>\n",
       "      <td>[visitamos, el, oriente, de, la, ciudad, para,...</td>\n",
       "    </tr>\n",
       "    <tr>\n",
       "      <th>1</th>\n",
       "      <td>este nido captará el agua de lluvia</td>\n",
       "      <td>[este, nido, captará, el, agua, de, lluvia]</td>\n",
       "    </tr>\n",
       "    <tr>\n",
       "      <th>2</th>\n",
       "      <td>agradezco a</td>\n",
       "      <td>[agradezco, a]</td>\n",
       "    </tr>\n",
       "    <tr>\n",
       "      <th>3</th>\n",
       "      <td>ahora más calles de nuestra ciudad tienen un n...</td>\n",
       "      <td>[ahora, más, calles, de, nuestra, ciudad, tien...</td>\n",
       "    </tr>\n",
       "    <tr>\n",
       "      <th>4</th>\n",
       "      <td>adoquín podo táctil</td>\n",
       "      <td>[adoquín, podo, táctil]</td>\n",
       "    </tr>\n",
       "    <tr>\n",
       "      <th>...</th>\n",
       "      <td>...</td>\n",
       "      <td>...</td>\n",
       "    </tr>\n",
       "    <tr>\n",
       "      <th>108</th>\n",
       "      <td>gracias estimado</td>\n",
       "      <td>[gracias, estimado]</td>\n",
       "    </tr>\n",
       "    <tr>\n",
       "      <th>109</th>\n",
       "      <td>gracias por asistir</td>\n",
       "      <td>[gracias, por, asistir]</td>\n",
       "    </tr>\n",
       "    <tr>\n",
       "      <th>110</th>\n",
       "      <td>muchas gracias estimada</td>\n",
       "      <td>[muchas, gracias, estimada]</td>\n",
       "    </tr>\n",
       "    <tr>\n",
       "      <th>111</th>\n",
       "      <td>un honor tenerte de nuevo en guadalajara</td>\n",
       "      <td>[un, honor, tenerte, de, nuevo, en, guadalajara]</td>\n",
       "    </tr>\n",
       "    <tr>\n",
       "      <th>112</th>\n",
       "      <td>muchas gracias amigo y gobernador de yucatán</td>\n",
       "      <td>[muchas, gracias, amigo, y, gobernador, de, yu...</td>\n",
       "    </tr>\n",
       "  </tbody>\n",
       "</table>\n",
       "<p>113 rows × 2 columns</p>\n",
       "</div>"
      ],
      "text/plain": [
       "                                                 texto  \\\n",
       "0    visitamos el oriente de la ciudad para una ent...   \n",
       "1                  este nido captará el agua de lluvia   \n",
       "2                                          agradezco a   \n",
       "3    ahora más calles de nuestra ciudad tienen un n...   \n",
       "4                                  adoquín podo táctil   \n",
       "..                                                 ...   \n",
       "108                                   gracias estimado   \n",
       "109                                gracias por asistir   \n",
       "110                            muchas gracias estimada   \n",
       "111           un honor tenerte de nuevo en guadalajara   \n",
       "112       muchas gracias amigo y gobernador de yucatán   \n",
       "\n",
       "                                                tokens  \n",
       "0    [visitamos, el, oriente, de, la, ciudad, para,...  \n",
       "1          [este, nido, captará, el, agua, de, lluvia]  \n",
       "2                                       [agradezco, a]  \n",
       "3    [ahora, más, calles, de, nuestra, ciudad, tien...  \n",
       "4                              [adoquín, podo, táctil]  \n",
       "..                                                 ...  \n",
       "108                                [gracias, estimado]  \n",
       "109                            [gracias, por, asistir]  \n",
       "110                        [muchas, gracias, estimada]  \n",
       "111   [un, honor, tenerte, de, nuevo, en, guadalajara]  \n",
       "112  [muchas, gracias, amigo, y, gobernador, de, yu...  \n",
       "\n",
       "[113 rows x 2 columns]"
      ]
     },
     "execution_count": 10,
     "metadata": {},
     "output_type": "execute_result"
    }
   ],
   "source": [
    "# Filtrado para excluir stopwords\n",
    "# ==============================================================================\n",
    "tweets_tidy = df_posts[~(df_posts[\"tokens\"].isin(stop_words))]\n",
    "tweets_tidy"
   ]
  },
  {
   "cell_type": "code",
   "execution_count": 11,
   "metadata": {},
   "outputs": [
    {
     "data": {
      "text/plain": [
       "0      [visitamos, oriente, ciudad, entrega, nidos, l...\n",
       "1                          [nido, captará, agua, lluvia]\n",
       "2                                            [agradezco]\n",
       "3      [ahora, calles, ciudad, nuevo, rostro, lucen, ...\n",
       "4                                [adoquín, podo, táctil]\n",
       "                             ...                        \n",
       "108                                  [gracias, estimado]\n",
       "109                                   [gracias, asistir]\n",
       "110                          [muchas, gracias, estimada]\n",
       "111                 [honor, tenerte, nuevo, guadalajara]\n",
       "112        [muchas, gracias, amigo, gobernador, yucatán]\n",
       "Name: tokens, Length: 113, dtype: object"
      ]
     },
     "execution_count": 11,
     "metadata": {},
     "output_type": "execute_result"
    }
   ],
   "source": [
    "##########NUBE DE PALABRAS\n",
    "def preprocess_text(text):\n",
    "    words = text # Tokenizar y convertir a minúsculas\n",
    "    words = [word for word in words if word.isalpha()]  # Eliminar caracteres no alfabéticos\n",
    "    words = [word for word in words if word not in stop_words]  # Eliminar palabras vacías\n",
    "    return words\n",
    "\n",
    "\n",
    "preprocessed_text = tweets_tidy[\"tokens\"].apply(preprocess_text)\n",
    "\n",
    "preprocessed_text"
   ]
  },
  {
   "cell_type": "code",
   "execution_count": 12,
   "metadata": {},
   "outputs": [
    {
     "data": {
      "text/plain": [
       "pandas.core.series.Series"
      ]
     },
     "execution_count": 12,
     "metadata": {},
     "output_type": "execute_result"
    }
   ],
   "source": [
    "# Unimos todas las listas de palabras en una sola lista\n",
    "all_words = [word for sublist in preprocessed_text.values for word in sublist]\n",
    "\n",
    "# Creamos un DataFrame con las palabras y sus frecuencias\n",
    "word_counts = pd.Series(all_words).value_counts()\n",
    "\n",
    "# Tomamos las palabras más comunes (puedes ajustar este valor según tus necesidades)\n",
    "top_words = word_counts.head(10)\n",
    "top_words.to_csv(\"top_words_posts.csv\")\n",
    "type(top_words)"
   ]
  },
  {
   "cell_type": "code",
   "execution_count": 13,
   "metadata": {},
   "outputs": [
    {
     "data": {
      "text/plain": [
       "gracias          22\n",
       "muchas           15\n",
       "guadalajara      12\n",
       "gobernador       10\n",
       "hoy               9\n",
       "                 ..\n",
       "familias          1\n",
       "tranquilidad      1\n",
       "recuperar         1\n",
       "descansaremos     1\n",
       "tenerte           1\n",
       "Name: count, Length: 511, dtype: int64"
      ]
     },
     "execution_count": 13,
     "metadata": {},
     "output_type": "execute_result"
    }
   ],
   "source": [
    "word_counts"
   ]
  },
  {
   "cell_type": "code",
   "execution_count": 14,
   "metadata": {},
   "outputs": [
    {
     "ename": "ValueError",
     "evalue": "Only supported for TrueType fonts",
     "output_type": "error",
     "traceback": [
      "\u001b[0;31m---------------------------------------------------------------------------\u001b[0m",
      "\u001b[0;31mValueError\u001b[0m                                Traceback (most recent call last)",
      "\u001b[1;32m/home/milton/Documentos/lemus/twitter/analisis_posts.ipynb Celda 15\u001b[0m line \u001b[0;36m4\n\u001b[1;32m      <a href='vscode-notebook-cell:/home/milton/Documentos/lemus/twitter/analisis_posts.ipynb#X20sZmlsZQ%3D%3D?line=1'>2</a>\u001b[0m texto \u001b[39m=\u001b[39m \u001b[39m\"\u001b[39m\u001b[39m \u001b[39m\u001b[39m\"\u001b[39m\u001b[39m.\u001b[39mjoin(all_words)\n\u001b[1;32m      <a href='vscode-notebook-cell:/home/milton/Documentos/lemus/twitter/analisis_posts.ipynb#X20sZmlsZQ%3D%3D?line=2'>3</a>\u001b[0m \u001b[39m# Crear el objeto WordCloud\u001b[39;00m\n\u001b[0;32m----> <a href='vscode-notebook-cell:/home/milton/Documentos/lemus/twitter/analisis_posts.ipynb#X20sZmlsZQ%3D%3D?line=3'>4</a>\u001b[0m wordcloud \u001b[39m=\u001b[39m WordCloud(width\u001b[39m=\u001b[39;49m\u001b[39m800\u001b[39;49m, height\u001b[39m=\u001b[39;49m\u001b[39m400\u001b[39;49m, background_color\u001b[39m=\u001b[39;49m\u001b[39m\"\u001b[39;49m\u001b[39mwhite\u001b[39;49m\u001b[39m\"\u001b[39;49m)\u001b[39m.\u001b[39;49mgenerate(texto)\n\u001b[1;32m      <a href='vscode-notebook-cell:/home/milton/Documentos/lemus/twitter/analisis_posts.ipynb#X20sZmlsZQ%3D%3D?line=4'>5</a>\u001b[0m \u001b[39m# Mostrar la nube de palabras utilizando matplotlib\u001b[39;00m\n\u001b[1;32m      <a href='vscode-notebook-cell:/home/milton/Documentos/lemus/twitter/analisis_posts.ipynb#X20sZmlsZQ%3D%3D?line=5'>6</a>\u001b[0m plt\u001b[39m.\u001b[39mfigure(figsize\u001b[39m=\u001b[39m(\u001b[39m10\u001b[39m, \u001b[39m5\u001b[39m))\n",
      "File \u001b[0;32m~/.local/lib/python3.10/site-packages/wordcloud/wordcloud.py:639\u001b[0m, in \u001b[0;36mWordCloud.generate\u001b[0;34m(self, text)\u001b[0m\n\u001b[1;32m    624\u001b[0m \u001b[39mdef\u001b[39;00m \u001b[39mgenerate\u001b[39m(\u001b[39mself\u001b[39m, text):\n\u001b[1;32m    625\u001b[0m \u001b[39m    \u001b[39m\u001b[39m\"\"\"Generate wordcloud from text.\u001b[39;00m\n\u001b[1;32m    626\u001b[0m \n\u001b[1;32m    627\u001b[0m \u001b[39m    The input \"text\" is expected to be a natural text. If you pass a sorted\u001b[39;00m\n\u001b[0;32m   (...)\u001b[0m\n\u001b[1;32m    637\u001b[0m \u001b[39m    self\u001b[39;00m\n\u001b[1;32m    638\u001b[0m \u001b[39m    \"\"\"\u001b[39;00m\n\u001b[0;32m--> 639\u001b[0m     \u001b[39mreturn\u001b[39;00m \u001b[39mself\u001b[39;49m\u001b[39m.\u001b[39;49mgenerate_from_text(text)\n",
      "File \u001b[0;32m~/.local/lib/python3.10/site-packages/wordcloud/wordcloud.py:621\u001b[0m, in \u001b[0;36mWordCloud.generate_from_text\u001b[0;34m(self, text)\u001b[0m\n\u001b[1;32m    604\u001b[0m \u001b[39m\u001b[39m\u001b[39m\"\"\"Generate wordcloud from text.\u001b[39;00m\n\u001b[1;32m    605\u001b[0m \n\u001b[1;32m    606\u001b[0m \u001b[39mThe input \"text\" is expected to be a natural text. If you pass a sorted\u001b[39;00m\n\u001b[0;32m   (...)\u001b[0m\n\u001b[1;32m    618\u001b[0m \u001b[39mself\u001b[39;00m\n\u001b[1;32m    619\u001b[0m \u001b[39m\"\"\"\u001b[39;00m\n\u001b[1;32m    620\u001b[0m words \u001b[39m=\u001b[39m \u001b[39mself\u001b[39m\u001b[39m.\u001b[39mprocess_text(text)\n\u001b[0;32m--> 621\u001b[0m \u001b[39mself\u001b[39;49m\u001b[39m.\u001b[39;49mgenerate_from_frequencies(words)\n\u001b[1;32m    622\u001b[0m \u001b[39mreturn\u001b[39;00m \u001b[39mself\u001b[39m\n",
      "File \u001b[0;32m~/.local/lib/python3.10/site-packages/wordcloud/wordcloud.py:453\u001b[0m, in \u001b[0;36mWordCloud.generate_from_frequencies\u001b[0;34m(self, frequencies, max_font_size)\u001b[0m\n\u001b[1;32m    451\u001b[0m     font_size \u001b[39m=\u001b[39m \u001b[39mself\u001b[39m\u001b[39m.\u001b[39mheight\n\u001b[1;32m    452\u001b[0m \u001b[39melse\u001b[39;00m:\n\u001b[0;32m--> 453\u001b[0m     \u001b[39mself\u001b[39;49m\u001b[39m.\u001b[39;49mgenerate_from_frequencies(\u001b[39mdict\u001b[39;49m(frequencies[:\u001b[39m2\u001b[39;49m]),\n\u001b[1;32m    454\u001b[0m                                    max_font_size\u001b[39m=\u001b[39;49m\u001b[39mself\u001b[39;49m\u001b[39m.\u001b[39;49mheight)\n\u001b[1;32m    455\u001b[0m     \u001b[39m# find font sizes\u001b[39;00m\n\u001b[1;32m    456\u001b[0m     sizes \u001b[39m=\u001b[39m [x[\u001b[39m1\u001b[39m] \u001b[39mfor\u001b[39;00m x \u001b[39min\u001b[39;00m \u001b[39mself\u001b[39m\u001b[39m.\u001b[39mlayout_]\n",
      "File \u001b[0;32m~/.local/lib/python3.10/site-packages/wordcloud/wordcloud.py:508\u001b[0m, in \u001b[0;36mWordCloud.generate_from_frequencies\u001b[0;34m(self, frequencies, max_font_size)\u001b[0m\n\u001b[1;32m    505\u001b[0m transposed_font \u001b[39m=\u001b[39m ImageFont\u001b[39m.\u001b[39mTransposedFont(\n\u001b[1;32m    506\u001b[0m     font, orientation\u001b[39m=\u001b[39morientation)\n\u001b[1;32m    507\u001b[0m \u001b[39m# get size of resulting text\u001b[39;00m\n\u001b[0;32m--> 508\u001b[0m box_size \u001b[39m=\u001b[39m draw\u001b[39m.\u001b[39;49mtextbbox((\u001b[39m0\u001b[39;49m, \u001b[39m0\u001b[39;49m), word, font\u001b[39m=\u001b[39;49mtransposed_font, anchor\u001b[39m=\u001b[39;49m\u001b[39m\"\u001b[39;49m\u001b[39mlt\u001b[39;49m\u001b[39m\"\u001b[39;49m)\n\u001b[1;32m    509\u001b[0m \u001b[39m# find possible places using integral image:\u001b[39;00m\n\u001b[1;32m    510\u001b[0m result \u001b[39m=\u001b[39m occupancy\u001b[39m.\u001b[39msample_position(box_size[\u001b[39m3\u001b[39m] \u001b[39m+\u001b[39m \u001b[39mself\u001b[39m\u001b[39m.\u001b[39mmargin,\n\u001b[1;32m    511\u001b[0m                                    box_size[\u001b[39m2\u001b[39m] \u001b[39m+\u001b[39m \u001b[39mself\u001b[39m\u001b[39m.\u001b[39mmargin,\n\u001b[1;32m    512\u001b[0m                                    random_state)\n",
      "File \u001b[0;32m/usr/lib/python3/dist-packages/PIL/ImageDraw.py:671\u001b[0m, in \u001b[0;36mImageDraw.textbbox\u001b[0;34m(self, xy, text, font, anchor, spacing, align, direction, features, language, stroke_width, embedded_color)\u001b[0m\n\u001b[1;32m    669\u001b[0m     font \u001b[39m=\u001b[39m \u001b[39mself\u001b[39m\u001b[39m.\u001b[39mgetfont()\n\u001b[1;32m    670\u001b[0m \u001b[39mif\u001b[39;00m \u001b[39mnot\u001b[39;00m \u001b[39misinstance\u001b[39m(font, ImageFont\u001b[39m.\u001b[39mFreeTypeFont):\n\u001b[0;32m--> 671\u001b[0m     \u001b[39mraise\u001b[39;00m \u001b[39mValueError\u001b[39;00m(\u001b[39m\"\u001b[39m\u001b[39mOnly supported for TrueType fonts\u001b[39m\u001b[39m\"\u001b[39m)\n\u001b[1;32m    672\u001b[0m mode \u001b[39m=\u001b[39m \u001b[39m\"\u001b[39m\u001b[39mRGBA\u001b[39m\u001b[39m\"\u001b[39m \u001b[39mif\u001b[39;00m embedded_color \u001b[39melse\u001b[39;00m \u001b[39mself\u001b[39m\u001b[39m.\u001b[39mfontmode\n\u001b[1;32m    673\u001b[0m bbox \u001b[39m=\u001b[39m font\u001b[39m.\u001b[39mgetbbox(\n\u001b[1;32m    674\u001b[0m     text, mode, direction, features, language, stroke_width, anchor\n\u001b[1;32m    675\u001b[0m )\n",
      "\u001b[0;31mValueError\u001b[0m: Only supported for TrueType fonts"
     ]
    }
   ],
   "source": [
    "# Unir las palabras en un solo texto (separadas por espacios)\n",
    "texto = \" \".join(all_words)\n",
    "# Crear el objeto WordCloud\n",
    "wordcloud = WordCloud(width=800, height=400, background_color=\"white\").generate(texto)\n",
    "# Mostrar la nube de palabras utilizando matplotlib\n",
    "plt.figure(figsize=(10, 5))\n",
    "plt.imshow(wordcloud, interpolation='bilinear')\n",
    "plt.axis('off')  # Desactivar ejes\n",
    "plt.show()"
   ]
  },
  {
   "cell_type": "code",
   "execution_count": 15,
   "metadata": {},
   "outputs": [
    {
     "data": {
      "image/png": "[encoded data removed]",
      "text/plain": [
       "<Figure size 1000x600 with 1 Axes>"
      ]
     },
     "metadata": {},
     "output_type": "display_data"
    }
   ],
   "source": [
    "# Crear el gráfico de barras horizontal\n",
    "plt.figure(figsize=(10, 6))\n",
    "top_words.plot(kind='barh', color='skyblue')\n",
    "plt.xlabel('Frecuencia')\n",
    "plt.ylabel('Palabra')\n",
    "plt.title('Top Palabras y Frecuencias')\n",
    "plt.gca().invert_yaxis()  # Invertir el eje y para mostrar la palabra con la frecuencia más alta en la parte superior\n",
    "plt.show()"
   ]
  },
  {
   "cell_type": "code",
   "execution_count": 16,
   "metadata": {},
   "outputs": [
    {
     "data": {
      "text/plain": [
       "0      [visitamos, el, oriente, de, la, ciudad, para,...\n",
       "1            [este, nido, captará, el, agua, de, lluvia]\n",
       "2                                         [agradezco, a]\n",
       "3      [ahora, más, calles, de, nuestra, ciudad, tien...\n",
       "4                                [adoquín, podo, táctil]\n",
       "                             ...                        \n",
       "108                                  [gracias, estimado]\n",
       "109                              [gracias, por, asistir]\n",
       "110                          [muchas, gracias, estimada]\n",
       "111     [un, honor, tenerte, de, nuevo, en, guadalajara]\n",
       "112    [muchas, gracias, amigo, y, gobernador, de, yu...\n",
       "Name: tokens, Length: 113, dtype: object"
      ]
     },
     "execution_count": 16,
     "metadata": {},
     "output_type": "execute_result"
    }
   ],
   "source": [
    "tweets_tidy.tokens"
   ]
  },
  {
   "cell_type": "code",
   "execution_count": 17,
   "metadata": {},
   "outputs": [],
   "source": [
    "texts = tweets_tidy.tokens\n",
    "\n",
    "punctuation = set(string.punctuation)\n",
    "\n",
    "texts = [[word for word in doc if word not in stop_words and word not in punctuation] for doc in texts]\n",
    "\n",
    "# Crear un diccionario de términos a partir del corpus\n",
    "dictionary = corpora.Dictionary(texts)\n",
    "\n",
    "# Crear una representación vectorial del corpus\n",
    "corpus = [dictionary.doc2bow(text) for text in texts]"
   ]
  },
  {
   "cell_type": "code",
   "execution_count": 20,
   "metadata": {},
   "outputs": [
    {
     "name": "stdout",
     "output_type": "stream",
     "text": [
      "(0, '0.083*\"gracias\" + 0.042*\"muchas\" + 0.024*\"amigo\" + 0.020*\"reconocimiento\" + 0.017*\"gobernador\" + 0.017*\"acompañarme\" + 0.013*\"estimado\" + 0.009*\"guadalajara\" + 0.009*\"compromiso\" + 0.009*\"honor\"')\n",
      "(1, '0.023*\"hoy\" + 0.019*\"gobernador\" + 0.016*\"acompañamos\" + 0.012*\"mercado\" + 0.008*\"autoridades\" + 0.008*\"año\" + 0.008*\"corrupción\" + 0.008*\"lluvia\" + 0.008*\"hicimos\" + 0.008*\"cumpleaños\"')\n",
      "(2, '0.024*\"muchas\" + 0.021*\"felicidades\" + 0.011*\"guadalajara\" + 0.011*\"parte\" + 0.011*\"seguir\" + 0.011*\"vamos\" + 0.011*\"carreras\" + 0.011*\"días\" + 0.006*\"gusto\" + 0.006*\"ciudad\"')\n",
      "(3, '0.020*\"guadalajara\" + 0.014*\"avenida\" + 0.014*\"día\" + 0.011*\"escolares\" + 0.011*\"equipo\" + 0.011*\"escuela\" + 0.007*\"ánimo\" + 0.007*\"hoy\" + 0.007*\"programa\" + 0.007*\"haciendo\"')\n",
      "(4, '0.012*\"jalisco\" + 0.012*\"trabajo\" + 0.012*\"ánimo\" + 0.008*\"través\" + 0.008*\"tapatíos\" + 0.008*\"dirección\" + 0.008*\"personas\" + 0.008*\"discapacidad\" + 0.008*\"disfrutar\" + 0.008*\"mercado\"')\n"
     ]
    }
   ],
   "source": [
    "# Entrenar el modelo LDA\n",
    "lda_model = LdaModel(corpus, num_topics=5, id2word=dictionary, passes=15)\n",
    "\n",
    "# Obtener los temas y sus palabras clave\n",
    "topics = lda_model.print_topics(num_words=10)\n",
    "\n",
    "# Mostrar los temas y sus palabras clave\n",
    "for topic in topics:\n",
    "    print(topic)"
   ]
  },
  {
   "cell_type": "code",
   "execution_count": 21,
   "metadata": {},
   "outputs": [
    {
     "data": {
      "image/png": "[encoded data removed]",
      "text/plain": [
       "<Figure size 1000x800 with 1 Axes>"
      ]
     },
     "metadata": {},
     "output_type": "display_data"
    }
   ],
   "source": [
    "import networkx as nx\n",
    "\n",
    "# Crear un grafo de red\n",
    "G = nx.Graph()\n",
    "\n",
    "# Procesar los tópicos y sus palabras clave para identificar asociaciones\n",
    "for topic_id, topic_words in topics:\n",
    "    # Dividir las palabras clave en términos individuales\n",
    "    terms = [term.split('*')[1].strip('\"') for term in topic_words.split(' + ')]\n",
    "    \n",
    "    # Agregar una arista entre todos los términos del tópico\n",
    "    for i in range(len(terms)):\n",
    "        for j in range(i + 1, len(terms)):\n",
    "            term1, term2 = terms[i], terms[j]\n",
    "            G.add_edge(term1, term2, topic=topic_id)\n",
    "\n",
    "# Dibujar el gráfico de red\n",
    "pos = nx.spring_layout(G, k=0.3, iterations=50)\n",
    "plt.figure(figsize=(10, 8))\n",
    "nx.draw(G, pos, with_labels=True, font_size=10, node_size=3000, node_color='maroon', font_color='gray')\n",
    "\n",
    "# Mostrar el gráfico de red\n",
    "plt.title('Asociación de Términos entre Tópicos')\n",
    "# Guardar la figura como una imagen\n",
    "plt.savefig('topicos.png', bbox_inches='tight', dpi=300)\n",
    "plt.show()"
   ]
  },
  {
   "cell_type": "markdown",
   "metadata": {},
   "source": [
    "# Opción \" Topics"
   ]
  },
  {
   "cell_type": "code",
   "execution_count": 22,
   "metadata": {},
   "outputs": [
    {
     "data": {
      "text/html": [
       "<div>\n",
       "<style scoped>\n",
       "    .dataframe tbody tr th:only-of-type {\n",
       "        vertical-align: middle;\n",
       "    }\n",
       "\n",
       "    .dataframe tbody tr th {\n",
       "        vertical-align: top;\n",
       "    }\n",
       "\n",
       "    .dataframe thead th {\n",
       "        text-align: right;\n",
       "    }\n",
       "</style>\n",
       "<table border=\"1\" class=\"dataframe\">\n",
       "  <thead>\n",
       "    <tr style=\"text-align: right;\">\n",
       "      <th></th>\n",
       "      <th>texto</th>\n",
       "      <th>tokens</th>\n",
       "      <th>texto_preprocesado</th>\n",
       "    </tr>\n",
       "  </thead>\n",
       "  <tbody>\n",
       "    <tr>\n",
       "      <th>0</th>\n",
       "      <td>visitamos el oriente de la ciudad para una ent...</td>\n",
       "      <td>[visitamos, el, oriente, de, la, ciudad, para,...</td>\n",
       "      <td>[visitar, oriente, ciudad, entrega, nido, lluvia]</td>\n",
       "    </tr>\n",
       "    <tr>\n",
       "      <th>1</th>\n",
       "      <td>este nido captará el agua de lluvia</td>\n",
       "      <td>[este, nido, captará, el, agua, de, lluvia]</td>\n",
       "      <td>[nido, captar, agua, lluvia]</td>\n",
       "    </tr>\n",
       "    <tr>\n",
       "      <th>2</th>\n",
       "      <td>agradezco a</td>\n",
       "      <td>[agradezco, a]</td>\n",
       "      <td>[agradecer]</td>\n",
       "    </tr>\n",
       "    <tr>\n",
       "      <th>3</th>\n",
       "      <td>ahora más calles de nuestra ciudad tienen un n...</td>\n",
       "      <td>[ahora, más, calles, de, nuestra, ciudad, tien...</td>\n",
       "      <td>[calle, ciudad, rostro, lucir, bonito, digna, ...</td>\n",
       "    </tr>\n",
       "    <tr>\n",
       "      <th>4</th>\n",
       "      <td>adoquín podo táctil</td>\n",
       "      <td>[adoquín, podo, táctil]</td>\n",
       "      <td>[adoquín, podo, táctil]</td>\n",
       "    </tr>\n",
       "    <tr>\n",
       "      <th>...</th>\n",
       "      <td>...</td>\n",
       "      <td>...</td>\n",
       "      <td>...</td>\n",
       "    </tr>\n",
       "    <tr>\n",
       "      <th>108</th>\n",
       "      <td>gracias estimado</td>\n",
       "      <td>[gracias, estimado]</td>\n",
       "      <td>[gracia, estimado]</td>\n",
       "    </tr>\n",
       "    <tr>\n",
       "      <th>109</th>\n",
       "      <td>gracias por asistir</td>\n",
       "      <td>[gracias, por, asistir]</td>\n",
       "      <td>[gracia, asistir]</td>\n",
       "    </tr>\n",
       "    <tr>\n",
       "      <th>110</th>\n",
       "      <td>muchas gracias estimada</td>\n",
       "      <td>[muchas, gracias, estimada]</td>\n",
       "      <td>[gracia, estimar]</td>\n",
       "    </tr>\n",
       "    <tr>\n",
       "      <th>111</th>\n",
       "      <td>un honor tenerte de nuevo en guadalajara</td>\n",
       "      <td>[un, honor, tenerte, de, nuevo, en, guadalajara]</td>\n",
       "      <td>[honor, tenerte, guadalajara]</td>\n",
       "    </tr>\n",
       "    <tr>\n",
       "      <th>112</th>\n",
       "      <td>muchas gracias amigo y gobernador de yucatán</td>\n",
       "      <td>[muchas, gracias, amigo, y, gobernador, de, yu...</td>\n",
       "      <td>[gracia, amigo, gobernador, yucatán]</td>\n",
       "    </tr>\n",
       "  </tbody>\n",
       "</table>\n",
       "<p>113 rows × 3 columns</p>\n",
       "</div>"
      ],
      "text/plain": [
       "                                                 texto  \\\n",
       "0    visitamos el oriente de la ciudad para una ent...   \n",
       "1                  este nido captará el agua de lluvia   \n",
       "2                                          agradezco a   \n",
       "3    ahora más calles de nuestra ciudad tienen un n...   \n",
       "4                                  adoquín podo táctil   \n",
       "..                                                 ...   \n",
       "108                                   gracias estimado   \n",
       "109                                gracias por asistir   \n",
       "110                            muchas gracias estimada   \n",
       "111           un honor tenerte de nuevo en guadalajara   \n",
       "112       muchas gracias amigo y gobernador de yucatán   \n",
       "\n",
       "                                                tokens  \\\n",
       "0    [visitamos, el, oriente, de, la, ciudad, para,...   \n",
       "1          [este, nido, captará, el, agua, de, lluvia]   \n",
       "2                                       [agradezco, a]   \n",
       "3    [ahora, más, calles, de, nuestra, ciudad, tien...   \n",
       "4                              [adoquín, podo, táctil]   \n",
       "..                                                 ...   \n",
       "108                                [gracias, estimado]   \n",
       "109                            [gracias, por, asistir]   \n",
       "110                        [muchas, gracias, estimada]   \n",
       "111   [un, honor, tenerte, de, nuevo, en, guadalajara]   \n",
       "112  [muchas, gracias, amigo, y, gobernador, de, yu...   \n",
       "\n",
       "                                    texto_preprocesado  \n",
       "0    [visitar, oriente, ciudad, entrega, nido, lluvia]  \n",
       "1                         [nido, captar, agua, lluvia]  \n",
       "2                                          [agradecer]  \n",
       "3    [calle, ciudad, rostro, lucir, bonito, digna, ...  \n",
       "4                              [adoquín, podo, táctil]  \n",
       "..                                                 ...  \n",
       "108                                 [gracia, estimado]  \n",
       "109                                  [gracia, asistir]  \n",
       "110                                  [gracia, estimar]  \n",
       "111                      [honor, tenerte, guadalajara]  \n",
       "112               [gracia, amigo, gobernador, yucatán]  \n",
       "\n",
       "[113 rows x 3 columns]"
      ]
     },
     "execution_count": 22,
     "metadata": {},
     "output_type": "execute_result"
    }
   ],
   "source": [
    "import spacy\n",
    "\n",
    "nlp = spacy.load(\"es_core_news_sm\")\n",
    "\n",
    "# Función para preprocesar el texto\n",
    "def preprocess_text(text):\n",
    "    doc = nlp(text)\n",
    "    return [token.lemma_ for token in doc if not token.is_stop and token.is_alpha]\n",
    "\n",
    "# Aplicar el preprocesamiento a cada fila del DataFrame\n",
    "df_posts['texto_preprocesado'] = df_posts['texto'].apply(preprocess_text)\n",
    "df_posts"
   ]
  },
  {
   "cell_type": "code",
   "execution_count": 23,
   "metadata": {},
   "outputs": [],
   "source": [
    "from gensim import corpora\n",
    "\n",
    "# Crear un diccionario a partir de los documentos preprocesados\n",
    "dictionary = corpora.Dictionary(df_posts['texto_preprocesado'])\n",
    "\n",
    "# Crear una representación BoW de los documentos\n",
    "corpus = [dictionary.doc2bow(texto) for texto in df_posts['texto_preprocesado']]"
   ]
  },
  {
   "cell_type": "code",
   "execution_count": 24,
   "metadata": {},
   "outputs": [],
   "source": [
    "from gensim.models import LdaModel\n",
    "\n",
    "num_topics = 5  # Ajusta el número de tópicos según tus necesidades\n",
    "lda_model = LdaModel(corpus, num_topics=num_topics, id2word=dictionary, passes=15)"
   ]
  },
  {
   "cell_type": "code",
   "execution_count": 26,
   "metadata": {},
   "outputs": [
    {
     "name": "stdout",
     "output_type": "stream",
     "text": [
      "(0, '0.026*\"guadalajara\" + 0.021*\"felicidad\" + 0.016*\"año\" + 0.011*\"organizado\" + 0.011*\"colaboración\" + 0.011*\"iberoamericano\" + 0.006*\"jalisco\" + 0.006*\"honor\" + 0.006*\"querido\" + 0.006*\"felicitación\"')\n",
      "(1, '0.018*\"equipo\" + 0.018*\"escuela\" + 0.018*\"trabajar\" + 0.012*\"poder\" + 0.012*\"disfrutar\" + 0.007*\"compromiso\" + 0.007*\"ánimo\" + 0.007*\"escolar\" + 0.007*\"ciudad\" + 0.007*\"ayudar\"')\n",
      "(2, '0.022*\"mercado\" + 0.013*\"jalisco\" + 0.013*\"programa\" + 0.013*\"trabajo\" + 0.013*\"reconocimiento\" + 0.010*\"gracia\" + 0.009*\"cocina\" + 0.009*\"espacio\" + 0.009*\"público\" + 0.009*\"lluvia\"')\n",
      "(3, '0.073*\"gracia\" + 0.028*\"gobernador\" + 0.023*\"ánimo\" + 0.023*\"amigo\" + 0.019*\"acompañar yo\" + 0.014*\"acompañar\" + 0.014*\"agradecer\" + 0.014*\"estimado\" + 0.010*\"familia\" + 0.010*\"padre\"')\n",
      "(4, '0.019*\"avenida\" + 0.014*\"gobernador\" + 0.014*\"resultado\" + 0.014*\"guadalajara\" + 0.014*\"gusto\" + 0.010*\"amigo\" + 0.010*\"trabajar\" + 0.010*\"reconocimiento\" + 0.010*\"ciudadano\" + 0.010*\"seguridad\"')\n"
     ]
    }
   ],
   "source": [
    "# Obtener los temas y sus palabras clave\n",
    "topics = lda_model.print_topics(num_words=10)\n",
    "\n",
    "# Mostrar los temas y sus palabras clave\n",
    "for topic in topics:\n",
    "    print(topic)"
   ]
  },
  {
   "cell_type": "code",
   "execution_count": 27,
   "metadata": {},
   "outputs": [
    {
     "data": {
      "image/png": "[encoded data removed]",
      "text/plain": [
       "<Figure size 1000x800 with 1 Axes>"
      ]
     },
     "metadata": {},
     "output_type": "display_data"
    }
   ],
   "source": [
    "import networkx as nx\n",
    "\n",
    "# Crear un grafo de red\n",
    "G = nx.Graph()\n",
    "\n",
    "# Procesar los tópicos y sus palabras clave para identificar asociaciones\n",
    "for topic_id, topic_words in topics:\n",
    "    # Dividir las palabras clave en términos individuales\n",
    "    terms = [term.split('*')[1].strip('\"') for term in topic_words.split(' + ')]\n",
    "    \n",
    "    # Agregar una arista entre todos los términos del tópico\n",
    "    for i in range(len(terms)):\n",
    "        for j in range(i + 1, len(terms)):\n",
    "            term1, term2 = terms[i], terms[j]\n",
    "            G.add_edge(term1, term2, topic=topic_id)\n",
    "\n",
    "# Dibujar el gráfico de red\n",
    "pos = nx.spring_layout(G, k=0.3, iterations=50)\n",
    "plt.figure(figsize=(10, 8))\n",
    "nx.draw(G, pos, with_labels=True, font_size=10, node_size=3000, node_color='maroon', font_color='gray')\n",
    "\n",
    "# Mostrar el gráfico de red\n",
    "plt.title('Asociación de Términos entre Tópicos')\n",
    "# Guardar la figura como una imagen\n",
    "plt.savefig('topicos.png', bbox_inches='tight', dpi=300)\n",
    "plt.show()"
   ]
  },
  {
   "cell_type": "code",
   "execution_count": 28,
   "metadata": {},
   "outputs": [
    {
     "data": {
      "text/html": [
       "<div>\n",
       "<style scoped>\n",
       "    .dataframe tbody tr th:only-of-type {\n",
       "        vertical-align: middle;\n",
       "    }\n",
       "\n",
       "    .dataframe tbody tr th {\n",
       "        vertical-align: top;\n",
       "    }\n",
       "\n",
       "    .dataframe thead th {\n",
       "        text-align: right;\n",
       "    }\n",
       "</style>\n",
       "<table border=\"1\" class=\"dataframe\">\n",
       "  <thead>\n",
       "    <tr style=\"text-align: right;\">\n",
       "      <th></th>\n",
       "      <th>texto</th>\n",
       "      <th>tokens</th>\n",
       "      <th>bigramas_spacy</th>\n",
       "      <th>bigramas_nltk</th>\n",
       "    </tr>\n",
       "  </thead>\n",
       "  <tbody>\n",
       "    <tr>\n",
       "      <th>0</th>\n",
       "      <td>visitamos el oriente de la ciudad para una ent...</td>\n",
       "      <td>[visitamos, el, oriente, de, la, ciudad, para,...</td>\n",
       "      <td>[(visitamos, el), (el, oriente), (oriente, de)...</td>\n",
       "      <td>[(visitamos, el), (el, oriente), (oriente, de)...</td>\n",
       "    </tr>\n",
       "    <tr>\n",
       "      <th>1</th>\n",
       "      <td>este nido captará el agua de lluvia</td>\n",
       "      <td>[este, nido, captará, el, agua, de, lluvia]</td>\n",
       "      <td>[(este, nido), (nido, captará), (captará, el),...</td>\n",
       "      <td>[(este, nido), (nido, captará), (captará, el),...</td>\n",
       "    </tr>\n",
       "    <tr>\n",
       "      <th>2</th>\n",
       "      <td>agradezco a</td>\n",
       "      <td>[agradezco, a]</td>\n",
       "      <td>[(agradezco, a)]</td>\n",
       "      <td>[(agradezco, a)]</td>\n",
       "    </tr>\n",
       "    <tr>\n",
       "      <th>3</th>\n",
       "      <td>ahora más calles de nuestra ciudad tienen un n...</td>\n",
       "      <td>[ahora, más, calles, de, nuestra, ciudad, tien...</td>\n",
       "      <td>[(ahora, más), (más, calles), (calles, de), (d...</td>\n",
       "      <td>[(ahora, más), (más, calles), (calles, de), (d...</td>\n",
       "    </tr>\n",
       "    <tr>\n",
       "      <th>4</th>\n",
       "      <td>adoquín podo táctil</td>\n",
       "      <td>[adoquín, podo, táctil]</td>\n",
       "      <td>[(adoquín, podo), (podo, táctil)]</td>\n",
       "      <td>[(adoquín, podo), (podo, táctil)]</td>\n",
       "    </tr>\n",
       "    <tr>\n",
       "      <th>...</th>\n",
       "      <td>...</td>\n",
       "      <td>...</td>\n",
       "      <td>...</td>\n",
       "      <td>...</td>\n",
       "    </tr>\n",
       "    <tr>\n",
       "      <th>108</th>\n",
       "      <td>gracias estimado</td>\n",
       "      <td>[gracias, estimado]</td>\n",
       "      <td>[(gracias, estimado)]</td>\n",
       "      <td>[(gracias, estimado)]</td>\n",
       "    </tr>\n",
       "    <tr>\n",
       "      <th>109</th>\n",
       "      <td>gracias por asistir</td>\n",
       "      <td>[gracias, por, asistir]</td>\n",
       "      <td>[(gracias, por), (por, asistir)]</td>\n",
       "      <td>[(gracias, por), (por, asistir)]</td>\n",
       "    </tr>\n",
       "    <tr>\n",
       "      <th>110</th>\n",
       "      <td>muchas gracias estimada</td>\n",
       "      <td>[muchas, gracias, estimada]</td>\n",
       "      <td>[(muchas, gracias), (gracias, estimada)]</td>\n",
       "      <td>[(muchas, gracias), (gracias, estimada)]</td>\n",
       "    </tr>\n",
       "    <tr>\n",
       "      <th>111</th>\n",
       "      <td>un honor tenerte de nuevo en guadalajara</td>\n",
       "      <td>[un, honor, tenerte, de, nuevo, en, guadalajara]</td>\n",
       "      <td>[(un, honor), (honor, tenerte), (tenerte, de),...</td>\n",
       "      <td>[(un, honor), (honor, tenerte), (tenerte, de),...</td>\n",
       "    </tr>\n",
       "    <tr>\n",
       "      <th>112</th>\n",
       "      <td>muchas gracias amigo y gobernador de yucatán</td>\n",
       "      <td>[muchas, gracias, amigo, y, gobernador, de, yu...</td>\n",
       "      <td>[(muchas, gracias), (gracias, amigo), (amigo, ...</td>\n",
       "      <td>[(muchas, gracias), (gracias, amigo), (amigo, ...</td>\n",
       "    </tr>\n",
       "  </tbody>\n",
       "</table>\n",
       "<p>113 rows × 4 columns</p>\n",
       "</div>"
      ],
      "text/plain": [
       "                                                 texto  \\\n",
       "0    visitamos el oriente de la ciudad para una ent...   \n",
       "1                  este nido captará el agua de lluvia   \n",
       "2                                          agradezco a   \n",
       "3    ahora más calles de nuestra ciudad tienen un n...   \n",
       "4                                  adoquín podo táctil   \n",
       "..                                                 ...   \n",
       "108                                   gracias estimado   \n",
       "109                                gracias por asistir   \n",
       "110                            muchas gracias estimada   \n",
       "111           un honor tenerte de nuevo en guadalajara   \n",
       "112       muchas gracias amigo y gobernador de yucatán   \n",
       "\n",
       "                                                tokens  \\\n",
       "0    [visitamos, el, oriente, de, la, ciudad, para,...   \n",
       "1          [este, nido, captará, el, agua, de, lluvia]   \n",
       "2                                       [agradezco, a]   \n",
       "3    [ahora, más, calles, de, nuestra, ciudad, tien...   \n",
       "4                              [adoquín, podo, táctil]   \n",
       "..                                                 ...   \n",
       "108                                [gracias, estimado]   \n",
       "109                            [gracias, por, asistir]   \n",
       "110                        [muchas, gracias, estimada]   \n",
       "111   [un, honor, tenerte, de, nuevo, en, guadalajara]   \n",
       "112  [muchas, gracias, amigo, y, gobernador, de, yu...   \n",
       "\n",
       "                                        bigramas_spacy  \\\n",
       "0    [(visitamos, el), (el, oriente), (oriente, de)...   \n",
       "1    [(este, nido), (nido, captará), (captará, el),...   \n",
       "2                                     [(agradezco, a)]   \n",
       "3    [(ahora, más), (más, calles), (calles, de), (d...   \n",
       "4                    [(adoquín, podo), (podo, táctil)]   \n",
       "..                                                 ...   \n",
       "108                              [(gracias, estimado)]   \n",
       "109                   [(gracias, por), (por, asistir)]   \n",
       "110           [(muchas, gracias), (gracias, estimada)]   \n",
       "111  [(un, honor), (honor, tenerte), (tenerte, de),...   \n",
       "112  [(muchas, gracias), (gracias, amigo), (amigo, ...   \n",
       "\n",
       "                                         bigramas_nltk  \n",
       "0    [(visitamos, el), (el, oriente), (oriente, de)...  \n",
       "1    [(este, nido), (nido, captará), (captará, el),...  \n",
       "2                                     [(agradezco, a)]  \n",
       "3    [(ahora, más), (más, calles), (calles, de), (d...  \n",
       "4                    [(adoquín, podo), (podo, táctil)]  \n",
       "..                                                 ...  \n",
       "108                              [(gracias, estimado)]  \n",
       "109                   [(gracias, por), (por, asistir)]  \n",
       "110           [(muchas, gracias), (gracias, estimada)]  \n",
       "111  [(un, honor), (honor, tenerte), (tenerte, de),...  \n",
       "112  [(muchas, gracias), (gracias, amigo), (amigo, ...  \n",
       "\n",
       "[113 rows x 4 columns]"
      ]
     },
     "execution_count": 28,
     "metadata": {},
     "output_type": "execute_result"
    }
   ],
   "source": [
    "import pandas as pd\n",
    "import spacy\n",
    "from nltk.util import ngrams\n",
    "from nltk.tokenize import word_tokenize\n",
    "\n",
    "# Generación de bigramas con spaCy\n",
    "nlp = spacy.load(\"es_core_news_sm\")\n",
    "\n",
    "def generar_bigramas_spacy(texto):\n",
    "    doc = nlp(texto)\n",
    "    bigramas = [(doc[i].text, doc[i + 1].text) for i in range(len(doc) - 1)]\n",
    "    return bigramas\n",
    "\n",
    "df_posts_clean['bigramas_spacy'] = df_posts_clean['texto'].apply(generar_bigramas_spacy)\n",
    "\n",
    "# Generación de bigramas con NLTK\n",
    "def generar_bigramas_nltk(texto):\n",
    "    tokens = word_tokenize(texto)\n",
    "    bigramas = list(ngrams(tokens, 2))\n",
    "    return bigramas\n",
    "\n",
    "df_posts_clean['bigramas_nltk'] = df_posts_clean['texto'].apply(generar_bigramas_nltk)\n",
    "\n",
    "# Visualización del DataFrame resultante\n",
    "df_posts_clean\n"
   ]
  },
  {
   "cell_type": "code",
   "execution_count": 29,
   "metadata": {},
   "outputs": [
    {
     "data": {
      "text/html": [
       "<div>\n",
       "<style scoped>\n",
       "    .dataframe tbody tr th:only-of-type {\n",
       "        vertical-align: middle;\n",
       "    }\n",
       "\n",
       "    .dataframe tbody tr th {\n",
       "        vertical-align: top;\n",
       "    }\n",
       "\n",
       "    .dataframe thead th {\n",
       "        text-align: right;\n",
       "    }\n",
       "</style>\n",
       "<table border=\"1\" class=\"dataframe\">\n",
       "  <thead>\n",
       "    <tr style=\"text-align: right;\">\n",
       "      <th></th>\n",
       "      <th>texto</th>\n",
       "      <th>tokens</th>\n",
       "      <th>bigramas_spacy</th>\n",
       "      <th>bigramas_nltk</th>\n",
       "      <th>texto_lematizado</th>\n",
       "    </tr>\n",
       "  </thead>\n",
       "  <tbody>\n",
       "    <tr>\n",
       "      <th>0</th>\n",
       "      <td>visitamos el oriente de la ciudad para una ent...</td>\n",
       "      <td>[visitamos, el, oriente, de, la, ciudad, para,...</td>\n",
       "      <td>[(visitamos, el), (el, oriente), (oriente, de)...</td>\n",
       "      <td>[(visitamos, el), (el, oriente), (oriente, de)...</td>\n",
       "      <td>visitar el oriente de el ciudad para uno entre...</td>\n",
       "    </tr>\n",
       "    <tr>\n",
       "      <th>1</th>\n",
       "      <td>este nido captará el agua de lluvia</td>\n",
       "      <td>[este, nido, captará, el, agua, de, lluvia]</td>\n",
       "      <td>[(este, nido), (nido, captará), (captará, el),...</td>\n",
       "      <td>[(este, nido), (nido, captará), (captará, el),...</td>\n",
       "      <td>este nido captar el agua de lluvia</td>\n",
       "    </tr>\n",
       "    <tr>\n",
       "      <th>2</th>\n",
       "      <td>agradezco a</td>\n",
       "      <td>[agradezco, a]</td>\n",
       "      <td>[(agradezco, a)]</td>\n",
       "      <td>[(agradezco, a)]</td>\n",
       "      <td>agradecer a</td>\n",
       "    </tr>\n",
       "    <tr>\n",
       "      <th>3</th>\n",
       "      <td>ahora más calles de nuestra ciudad tienen un n...</td>\n",
       "      <td>[ahora, más, calles, de, nuestra, ciudad, tien...</td>\n",
       "      <td>[(ahora, más), (más, calles), (calles, de), (d...</td>\n",
       "      <td>[(ahora, más), (más, calles), (calles, de), (d...</td>\n",
       "      <td>ahora más calle de nuestro ciudad tener uno nu...</td>\n",
       "    </tr>\n",
       "    <tr>\n",
       "      <th>4</th>\n",
       "      <td>adoquín podo táctil</td>\n",
       "      <td>[adoquín, podo, táctil]</td>\n",
       "      <td>[(adoquín, podo), (podo, táctil)]</td>\n",
       "      <td>[(adoquín, podo), (podo, táctil)]</td>\n",
       "      <td>adoquín podo táctil</td>\n",
       "    </tr>\n",
       "    <tr>\n",
       "      <th>...</th>\n",
       "      <td>...</td>\n",
       "      <td>...</td>\n",
       "      <td>...</td>\n",
       "      <td>...</td>\n",
       "      <td>...</td>\n",
       "    </tr>\n",
       "    <tr>\n",
       "      <th>108</th>\n",
       "      <td>gracias estimado</td>\n",
       "      <td>[gracias, estimado]</td>\n",
       "      <td>[(gracias, estimado)]</td>\n",
       "      <td>[(gracias, estimado)]</td>\n",
       "      <td>gracia estimado</td>\n",
       "    </tr>\n",
       "    <tr>\n",
       "      <th>109</th>\n",
       "      <td>gracias por asistir</td>\n",
       "      <td>[gracias, por, asistir]</td>\n",
       "      <td>[(gracias, por), (por, asistir)]</td>\n",
       "      <td>[(gracias, por), (por, asistir)]</td>\n",
       "      <td>gracia por asistir</td>\n",
       "    </tr>\n",
       "    <tr>\n",
       "      <th>110</th>\n",
       "      <td>muchas gracias estimada</td>\n",
       "      <td>[muchas, gracias, estimada]</td>\n",
       "      <td>[(muchas, gracias), (gracias, estimada)]</td>\n",
       "      <td>[(muchas, gracias), (gracias, estimada)]</td>\n",
       "      <td>mucho gracia estimar</td>\n",
       "    </tr>\n",
       "    <tr>\n",
       "      <th>111</th>\n",
       "      <td>un honor tenerte de nuevo en guadalajara</td>\n",
       "      <td>[un, honor, tenerte, de, nuevo, en, guadalajara]</td>\n",
       "      <td>[(un, honor), (honor, tenerte), (tenerte, de),...</td>\n",
       "      <td>[(un, honor), (honor, tenerte), (tenerte, de),...</td>\n",
       "      <td>uno honor tenerte de nuevo en guadalajara</td>\n",
       "    </tr>\n",
       "    <tr>\n",
       "      <th>112</th>\n",
       "      <td>muchas gracias amigo y gobernador de yucatán</td>\n",
       "      <td>[muchas, gracias, amigo, y, gobernador, de, yu...</td>\n",
       "      <td>[(muchas, gracias), (gracias, amigo), (amigo, ...</td>\n",
       "      <td>[(muchas, gracias), (gracias, amigo), (amigo, ...</td>\n",
       "      <td>mucho gracia amigo y gobernador de yucatán</td>\n",
       "    </tr>\n",
       "  </tbody>\n",
       "</table>\n",
       "<p>113 rows × 5 columns</p>\n",
       "</div>"
      ],
      "text/plain": [
       "                                                 texto  \\\n",
       "0    visitamos el oriente de la ciudad para una ent...   \n",
       "1                  este nido captará el agua de lluvia   \n",
       "2                                          agradezco a   \n",
       "3    ahora más calles de nuestra ciudad tienen un n...   \n",
       "4                                  adoquín podo táctil   \n",
       "..                                                 ...   \n",
       "108                                   gracias estimado   \n",
       "109                                gracias por asistir   \n",
       "110                            muchas gracias estimada   \n",
       "111           un honor tenerte de nuevo en guadalajara   \n",
       "112       muchas gracias amigo y gobernador de yucatán   \n",
       "\n",
       "                                                tokens  \\\n",
       "0    [visitamos, el, oriente, de, la, ciudad, para,...   \n",
       "1          [este, nido, captará, el, agua, de, lluvia]   \n",
       "2                                       [agradezco, a]   \n",
       "3    [ahora, más, calles, de, nuestra, ciudad, tien...   \n",
       "4                              [adoquín, podo, táctil]   \n",
       "..                                                 ...   \n",
       "108                                [gracias, estimado]   \n",
       "109                            [gracias, por, asistir]   \n",
       "110                        [muchas, gracias, estimada]   \n",
       "111   [un, honor, tenerte, de, nuevo, en, guadalajara]   \n",
       "112  [muchas, gracias, amigo, y, gobernador, de, yu...   \n",
       "\n",
       "                                        bigramas_spacy  \\\n",
       "0    [(visitamos, el), (el, oriente), (oriente, de)...   \n",
       "1    [(este, nido), (nido, captará), (captará, el),...   \n",
       "2                                     [(agradezco, a)]   \n",
       "3    [(ahora, más), (más, calles), (calles, de), (d...   \n",
       "4                    [(adoquín, podo), (podo, táctil)]   \n",
       "..                                                 ...   \n",
       "108                              [(gracias, estimado)]   \n",
       "109                   [(gracias, por), (por, asistir)]   \n",
       "110           [(muchas, gracias), (gracias, estimada)]   \n",
       "111  [(un, honor), (honor, tenerte), (tenerte, de),...   \n",
       "112  [(muchas, gracias), (gracias, amigo), (amigo, ...   \n",
       "\n",
       "                                         bigramas_nltk  \\\n",
       "0    [(visitamos, el), (el, oriente), (oriente, de)...   \n",
       "1    [(este, nido), (nido, captará), (captará, el),...   \n",
       "2                                     [(agradezco, a)]   \n",
       "3    [(ahora, más), (más, calles), (calles, de), (d...   \n",
       "4                    [(adoquín, podo), (podo, táctil)]   \n",
       "..                                                 ...   \n",
       "108                              [(gracias, estimado)]   \n",
       "109                   [(gracias, por), (por, asistir)]   \n",
       "110           [(muchas, gracias), (gracias, estimada)]   \n",
       "111  [(un, honor), (honor, tenerte), (tenerte, de),...   \n",
       "112  [(muchas, gracias), (gracias, amigo), (amigo, ...   \n",
       "\n",
       "                                      texto_lematizado  \n",
       "0    visitar el oriente de el ciudad para uno entre...  \n",
       "1                   este nido captar el agua de lluvia  \n",
       "2                                          agradecer a  \n",
       "3    ahora más calle de nuestro ciudad tener uno nu...  \n",
       "4                                  adoquín podo táctil  \n",
       "..                                                 ...  \n",
       "108                                    gracia estimado  \n",
       "109                                 gracia por asistir  \n",
       "110                               mucho gracia estimar  \n",
       "111          uno honor tenerte de nuevo en guadalajara  \n",
       "112         mucho gracia amigo y gobernador de yucatán  \n",
       "\n",
       "[113 rows x 5 columns]"
      ]
     },
     "execution_count": 29,
     "metadata": {},
     "output_type": "execute_result"
    }
   ],
   "source": [
    "import pandas as pd\n",
    "import spacy\n",
    "\n",
    "# Cargar el modelo de spaCy en español\n",
    "nlp = spacy.load(\"es_core_news_sm\")\n",
    "\n",
    "# Función para lematizar el texto\n",
    "def lematizar_texto(texto):\n",
    "    doc = nlp(texto)\n",
    "    lemas = [token.lemma_ for token in doc]\n",
    "    return \" \".join(lemas)\n",
    "\n",
    "# Aplicar la función de lematización a cada fila del DataFrame\n",
    "df_posts_clean['texto_lematizado'] = df_posts_clean['texto'].apply(lematizar_texto)\n",
    "\n",
    "# Visualización del DataFrame resultante\n",
    "df_posts_clean"
   ]
  },
  {
   "cell_type": "code",
   "execution_count": 30,
   "metadata": {},
   "outputs": [
    {
     "name": "stdout",
     "output_type": "stream",
     "text": [
      "(0, '0.075*\"gracia\" + 0.023*\"mercado\" + 0.020*\"acompañar\" + 0.018*\"guadalajara\" + 0.014*\"jalisco\" + 0.014*\"ánimo\" + 0.010*\"felicitación\" + 0.010*\"seguir\" + 0.010*\"año\" + 0.010*\"apoyo\"')\n",
      "(1, '0.023*\"felicidad\" + 0.023*\"agradecer\" + 0.018*\"querer\" + 0.012*\"ánimo\" + 0.012*\"gobierno\" + 0.012*\"amigo\" + 0.012*\"cocina\" + 0.012*\"disfrutar\" + 0.007*\"reconocimiento\" + 0.007*\"honor\"')\n",
      "(2, '0.017*\"escuela\" + 0.017*\"colaboración\" + 0.017*\"gracias\" + 0.012*\"niña\" + 0.012*\"seguridad\" + 0.012*\"guadalajara\" + 0.012*\"niño\" + 0.012*\"autoridad\" + 0.012*\"escolar\" + 0.012*\"iberoamericano\"')\n",
      "(3, '0.034*\"gobernador\" + 0.019*\"equipo\" + 0.019*\"trabajar\" + 0.019*\"amigo\" + 0.014*\"acompañar\" + 0.012*\"trabajo\" + 0.012*\"estimado\" + 0.008*\"ánimo\" + 0.008*\"familia\" + 0.008*\"guadalajara\"')\n",
      "(4, '0.023*\"avenida\" + 0.012*\"dirección\" + 0.012*\"lázaro\" + 0.012*\"calzada\" + 0.012*\"rosa\" + 0.012*\"chapalitar\" + 0.012*\"plaza\" + 0.012*\"carrera\" + 0.012*\"nacional\" + 0.007*\"ciudad\"')\n"
     ]
    }
   ],
   "source": [
    "# Aplicar el preprocesamiento a cada fila del DataFrame\n",
    "df_posts_clean['texto_preprocesado'] = df_posts_clean['texto_lematizado'].apply(preprocess_text)\n",
    "\n",
    "# Crear un diccionario a partir de los documentos preprocesados\n",
    "dictionary = corpora.Dictionary(df_posts_clean['texto_preprocesado'])\n",
    "\n",
    "# Crear una representación BoW de los documentos\n",
    "corpus = [dictionary.doc2bow(texto) for texto in df_posts_clean['texto_preprocesado']]\n",
    "\n",
    "num_topics = 5  # Ajusta el número de tópicos según tus necesidades\n",
    "lda_model = LdaModel(corpus, num_topics=num_topics, id2word=dictionary, passes=15)\n",
    "\n",
    "# Obtener los temas y sus palabras clave\n",
    "topics = lda_model.print_topics(num_words=10)\n",
    "\n",
    "# Mostrar los temas y sus palabras clave\n",
    "for topic in topics:\n",
    "    print(topic)"
   ]
  },
  {
   "cell_type": "code",
   "execution_count": 31,
   "metadata": {},
   "outputs": [
    {
     "data": {
      "image/png": "[encoded data removed]",
      "text/plain": [
       "<Figure size 1000x800 with 1 Axes>"
      ]
     },
     "metadata": {},
     "output_type": "display_data"
    }
   ],
   "source": [
    "# Crear un grafo de red\n",
    "G = nx.Graph()\n",
    "\n",
    "# Procesar los tópicos y sus palabras clave para identificar asociaciones\n",
    "for topic_id, topic_words in topics:\n",
    "    # Dividir las palabras clave en términos individuales\n",
    "    terms = [term.split('*')[1].strip('\"') for term in topic_words.split(' + ')]\n",
    "    \n",
    "    # Agregar una arista entre todos los términos del tópico\n",
    "    for i in range(len(terms)):\n",
    "        for j in range(i + 1, len(terms)):\n",
    "            term1, term2 = terms[i], terms[j]\n",
    "            G.add_edge(term1, term2, topic=topic_id)\n",
    "\n",
    "# Dibujar el gráfico de red\n",
    "pos = nx.spring_layout(G, k=0.3, iterations=50)\n",
    "plt.figure(figsize=(10, 8))\n",
    "nx.draw(G, pos, with_labels=True, font_size=10, node_size=3000, node_color='maroon', font_color='gray')\n",
    "\n",
    "# Mostrar el gráfico de red\n",
    "plt.title('Asociación de Términos entre Tópicos')\n",
    "# Guardar la figura como una imagen\n",
    "plt.savefig('topicos.png', bbox_inches='tight', dpi=300)\n",
    "plt.show()"
   ]
  },
  {
   "cell_type": "code",
   "execution_count": 32,
   "metadata": {},
   "outputs": [
    {
     "data": {
      "application/vnd.plotly.v1+json": {
       "config": {
        "plotlyServerURL": "https://plotly.com"
       },
       "data": [
        {
         "hoverinfo": "none",
         "line": {
          "color": "#888",
          "width": 0.5
         },
         "mode": "lines",
         "type": "scatter",
         "x": [
          0.12130931810478254,
          0.09143304952966372,
          null,
          0.12130931810478254,
          0.045439751965485324,
          null,
          0.12130931810478254,
          0.22310416317225548,
          null,
          0.12130931810478254,
          0.14785797331251752,
          null,
          0.12130931810478254,
          -0.0837856674357709,
          null,
          0.12130931810478254,
          0.04417467644805386,
          null,
          0.12130931810478254,
          0.11199618431715652,
          null,
          0.12130931810478254,
          0.02090491543153879,
          null,
          0.12130931810478254,
          0.06150991770044826,
          null,
          0.09143304952966372,
          0.045439751965485324,
          null,
          0.09143304952966372,
          0.22310416317225548,
          null,
          0.09143304952966372,
          0.14785797331251752,
          null,
          0.09143304952966372,
          -0.0837856674357709,
          null,
          0.09143304952966372,
          0.04417467644805386,
          null,
          0.09143304952966372,
          0.11199618431715652,
          null,
          0.09143304952966372,
          0.02090491543153879,
          null,
          0.09143304952966372,
          0.06150991770044826,
          null,
          0.045439751965485324,
          0.22310416317225548,
          null,
          0.045439751965485324,
          0.14785797331251752,
          null,
          0.045439751965485324,
          -0.0837856674357709,
          null,
          0.045439751965485324,
          0.04417467644805386,
          null,
          0.045439751965485324,
          0.11199618431715652,
          null,
          0.045439751965485324,
          0.02090491543153879,
          null,
          0.045439751965485324,
          0.06150991770044826,
          null,
          0.045439751965485324,
          -0.015458428775743209,
          null,
          0.045439751965485324,
          0.07975934843675202,
          null,
          0.045439751965485324,
          0.06218118549404956,
          null,
          0.045439751965485324,
          -0.12938727977117356,
          null,
          0.045439751965485324,
          0.01629068227699333,
          null,
          0.045439751965485324,
          -0.001595134593495195,
          null,
          0.045439751965485324,
          0.047478933503642004,
          null,
          0.22310416317225548,
          0.14785797331251752,
          null,
          0.22310416317225548,
          -0.0837856674357709,
          null,
          0.22310416317225548,
          0.04417467644805386,
          null,
          0.22310416317225548,
          0.11199618431715652,
          null,
          0.22310416317225548,
          0.02090491543153879,
          null,
          0.22310416317225548,
          0.06150991770044826,
          null,
          0.22310416317225548,
          0.5015631923352929,
          null,
          0.22310416317225548,
          0.43368840747730775,
          null,
          0.22310416317225548,
          0.5353329425477574,
          null,
          0.22310416317225548,
          0.43805092704082915,
          null,
          0.22310416317225548,
          0.5486476867341734,
          null,
          0.22310416317225548,
          0.45201784733500516,
          null,
          0.22310416317225548,
          0.4882849893930554,
          null,
          0.22310416317225548,
          0.5253545245637199,
          null,
          0.22310416317225548,
          0.47580199146930363,
          null,
          0.22310416317225548,
          -0.015458428775743209,
          null,
          0.22310416317225548,
          0.07975934843675202,
          null,
          0.22310416317225548,
          0.06218118549404956,
          null,
          0.22310416317225548,
          -0.12938727977117356,
          null,
          0.22310416317225548,
          0.01629068227699333,
          null,
          0.22310416317225548,
          -0.001595134593495195,
          null,
          0.22310416317225548,
          0.047478933503642004,
          null,
          0.14785797331251752,
          -0.0837856674357709,
          null,
          0.14785797331251752,
          0.04417467644805386,
          null,
          0.14785797331251752,
          0.11199618431715652,
          null,
          0.14785797331251752,
          0.02090491543153879,
          null,
          0.14785797331251752,
          0.06150991770044826,
          null,
          -0.0837856674357709,
          0.04417467644805386,
          null,
          -0.0837856674357709,
          0.11199618431715652,
          null,
          -0.0837856674357709,
          0.02090491543153879,
          null,
          -0.0837856674357709,
          0.06150991770044826,
          null,
          -0.0837856674357709,
          -0.30259458918574084,
          null,
          -0.0837856674357709,
          -0.2618493055494377,
          null,
          -0.0837856674357709,
          -0.30769337012828946,
          null,
          -0.0837856674357709,
          -0.34845921085317216,
          null,
          -0.0837856674357709,
          -0.12938727977117356,
          null,
          -0.0837856674357709,
          -0.2875533663095318,
          null,
          -0.0837856674357709,
          -0.35865731132578227,
          null,
          -0.0837856674357709,
          -0.33377860552652666,
          null,
          -0.0837856674357709,
          -0.2633307701411539,
          null,
          -0.0837856674357709,
          -0.015458428775743209,
          null,
          -0.0837856674357709,
          0.07975934843675202,
          null,
          -0.0837856674357709,
          0.06218118549404956,
          null,
          -0.0837856674357709,
          0.01629068227699333,
          null,
          -0.0837856674357709,
          -0.001595134593495195,
          null,
          -0.0837856674357709,
          0.047478933503642004,
          null,
          0.04417467644805386,
          0.11199618431715652,
          null,
          0.04417467644805386,
          0.02090491543153879,
          null,
          0.04417467644805386,
          0.06150991770044826,
          null,
          0.11199618431715652,
          0.02090491543153879,
          null,
          0.11199618431715652,
          0.06150991770044826,
          null,
          0.02090491543153879,
          0.06150991770044826,
          null,
          -0.30259458918574084,
          -0.2618493055494377,
          null,
          -0.30259458918574084,
          -0.30769337012828946,
          null,
          -0.30259458918574084,
          -0.34845921085317216,
          null,
          -0.30259458918574084,
          -0.12938727977117356,
          null,
          -0.30259458918574084,
          -0.2875533663095318,
          null,
          -0.30259458918574084,
          -0.35865731132578227,
          null,
          -0.30259458918574084,
          -0.33377860552652666,
          null,
          -0.30259458918574084,
          -0.2633307701411539,
          null,
          -0.2618493055494377,
          -0.30769337012828946,
          null,
          -0.2618493055494377,
          -0.34845921085317216,
          null,
          -0.2618493055494377,
          -0.12938727977117356,
          null,
          -0.2618493055494377,
          -0.2875533663095318,
          null,
          -0.2618493055494377,
          -0.35865731132578227,
          null,
          -0.2618493055494377,
          -0.33377860552652666,
          null,
          -0.2618493055494377,
          -0.2633307701411539,
          null,
          -0.30769337012828946,
          -0.34845921085317216,
          null,
          -0.30769337012828946,
          -0.12938727977117356,
          null,
          -0.30769337012828946,
          -0.2875533663095318,
          null,
          -0.30769337012828946,
          -0.35865731132578227,
          null,
          -0.30769337012828946,
          -0.33377860552652666,
          null,
          -0.30769337012828946,
          -0.2633307701411539,
          null,
          -0.34845921085317216,
          -0.12938727977117356,
          null,
          -0.34845921085317216,
          -0.2875533663095318,
          null,
          -0.34845921085317216,
          -0.35865731132578227,
          null,
          -0.34845921085317216,
          -0.33377860552652666,
          null,
          -0.34845921085317216,
          -0.2633307701411539,
          null,
          -0.12938727977117356,
          -0.2875533663095318,
          null,
          -0.12938727977117356,
          -0.35865731132578227,
          null,
          -0.12938727977117356,
          -0.33377860552652666,
          null,
          -0.12938727977117356,
          -0.2633307701411539,
          null,
          -0.12938727977117356,
          -0.015458428775743209,
          null,
          -0.12938727977117356,
          0.07975934843675202,
          null,
          -0.12938727977117356,
          0.06218118549404956,
          null,
          -0.12938727977117356,
          0.01629068227699333,
          null,
          -0.12938727977117356,
          -0.001595134593495195,
          null,
          -0.12938727977117356,
          0.047478933503642004,
          null,
          -0.2875533663095318,
          -0.35865731132578227,
          null,
          -0.2875533663095318,
          -0.33377860552652666,
          null,
          -0.2875533663095318,
          -0.2633307701411539,
          null,
          -0.35865731132578227,
          -0.33377860552652666,
          null,
          -0.35865731132578227,
          -0.2633307701411539,
          null,
          -0.33377860552652666,
          -0.2633307701411539,
          null,
          0.5015631923352929,
          0.43368840747730775,
          null,
          0.5015631923352929,
          0.5353329425477574,
          null,
          0.5015631923352929,
          0.43805092704082915,
          null,
          0.5015631923352929,
          0.5486476867341734,
          null,
          0.5015631923352929,
          0.45201784733500516,
          null,
          0.5015631923352929,
          0.4882849893930554,
          null,
          0.5015631923352929,
          0.5253545245637199,
          null,
          0.5015631923352929,
          0.47580199146930363,
          null,
          0.43368840747730775,
          0.5353329425477574,
          null,
          0.43368840747730775,
          0.43805092704082915,
          null,
          0.43368840747730775,
          0.5486476867341734,
          null,
          0.43368840747730775,
          0.45201784733500516,
          null,
          0.43368840747730775,
          0.4882849893930554,
          null,
          0.43368840747730775,
          0.5253545245637199,
          null,
          0.43368840747730775,
          0.47580199146930363,
          null,
          0.5353329425477574,
          0.43805092704082915,
          null,
          0.5353329425477574,
          0.5486476867341734,
          null,
          0.5353329425477574,
          0.45201784733500516,
          null,
          0.5353329425477574,
          0.4882849893930554,
          null,
          0.5353329425477574,
          0.5253545245637199,
          null,
          0.5353329425477574,
          0.47580199146930363,
          null,
          0.43805092704082915,
          0.5486476867341734,
          null,
          0.43805092704082915,
          0.45201784733500516,
          null,
          0.43805092704082915,
          0.4882849893930554,
          null,
          0.43805092704082915,
          0.5253545245637199,
          null,
          0.43805092704082915,
          0.47580199146930363,
          null,
          0.5486476867341734,
          0.45201784733500516,
          null,
          0.5486476867341734,
          0.4882849893930554,
          null,
          0.5486476867341734,
          0.5253545245637199,
          null,
          0.5486476867341734,
          0.47580199146930363,
          null,
          0.45201784733500516,
          0.4882849893930554,
          null,
          0.45201784733500516,
          0.5253545245637199,
          null,
          0.45201784733500516,
          0.47580199146930363,
          null,
          0.4882849893930554,
          0.5253545245637199,
          null,
          0.4882849893930554,
          0.47580199146930363,
          null,
          0.5253545245637199,
          0.47580199146930363,
          null,
          -0.015458428775743209,
          0.07975934843675202,
          null,
          -0.015458428775743209,
          0.06218118549404956,
          null,
          -0.015458428775743209,
          0.01629068227699333,
          null,
          -0.015458428775743209,
          -0.001595134593495195,
          null,
          -0.015458428775743209,
          0.047478933503642004,
          null,
          0.07975934843675202,
          0.06218118549404956,
          null,
          0.07975934843675202,
          0.01629068227699333,
          null,
          0.07975934843675202,
          -0.001595134593495195,
          null,
          0.07975934843675202,
          0.047478933503642004,
          null,
          0.06218118549404956,
          0.01629068227699333,
          null,
          0.06218118549404956,
          -0.001595134593495195,
          null,
          0.06218118549404956,
          0.047478933503642004,
          null,
          0.01629068227699333,
          -0.001595134593495195,
          null,
          0.01629068227699333,
          0.047478933503642004,
          null,
          -0.001595134593495195,
          0.047478933503642004,
          null,
          -0.2280693386505597,
          -0.28184000023751615,
          null,
          -0.2280693386505597,
          -0.22578883746251394,
          null,
          -0.2280693386505597,
          -0.2923354121824569,
          null,
          -0.2280693386505597,
          -0.3611902021858364,
          null,
          -0.2280693386505597,
          -0.20807062482663763,
          null,
          -0.2280693386505597,
          -0.34630515759435043,
          null,
          -0.2280693386505597,
          -0.2368934135089411,
          null,
          -0.2280693386505597,
          -0.28841212452354403,
          null,
          -0.2280693386505597,
          -0.3091344578216104,
          null,
          -0.28184000023751615,
          -0.22578883746251394,
          null,
          -0.28184000023751615,
          -0.2923354121824569,
          null,
          -0.28184000023751615,
          -0.3611902021858364,
          null,
          -0.28184000023751615,
          -0.20807062482663763,
          null,
          -0.28184000023751615,
          -0.34630515759435043,
          null,
          -0.28184000023751615,
          -0.2368934135089411,
          null,
          -0.28184000023751615,
          -0.28841212452354403,
          null,
          -0.28184000023751615,
          -0.3091344578216104,
          null,
          -0.22578883746251394,
          -0.2923354121824569,
          null,
          -0.22578883746251394,
          -0.3611902021858364,
          null,
          -0.22578883746251394,
          -0.20807062482663763,
          null,
          -0.22578883746251394,
          -0.34630515759435043,
          null,
          -0.22578883746251394,
          -0.2368934135089411,
          null,
          -0.22578883746251394,
          -0.28841212452354403,
          null,
          -0.22578883746251394,
          -0.3091344578216104,
          null,
          -0.2923354121824569,
          -0.3611902021858364,
          null,
          -0.2923354121824569,
          -0.20807062482663763,
          null,
          -0.2923354121824569,
          -0.34630515759435043,
          null,
          -0.2923354121824569,
          -0.2368934135089411,
          null,
          -0.2923354121824569,
          -0.28841212452354403,
          null,
          -0.2923354121824569,
          -0.3091344578216104,
          null,
          -0.3611902021858364,
          -0.20807062482663763,
          null,
          -0.3611902021858364,
          -0.34630515759435043,
          null,
          -0.3611902021858364,
          -0.2368934135089411,
          null,
          -0.3611902021858364,
          -0.28841212452354403,
          null,
          -0.3611902021858364,
          -0.3091344578216104,
          null,
          -0.20807062482663763,
          -0.34630515759435043,
          null,
          -0.20807062482663763,
          -0.2368934135089411,
          null,
          -0.20807062482663763,
          -0.28841212452354403,
          null,
          -0.20807062482663763,
          -0.3091344578216104,
          null,
          -0.34630515759435043,
          -0.2368934135089411,
          null,
          -0.34630515759435043,
          -0.28841212452354403,
          null,
          -0.34630515759435043,
          -0.3091344578216104,
          null,
          -0.2368934135089411,
          -0.28841212452354403,
          null,
          -0.2368934135089411,
          -0.3091344578216104,
          null,
          -0.28841212452354403,
          -0.3091344578216104,
          null
         ],
         "y": [
          -0.07630477887153848,
          -0.11941884383857893,
          null,
          -0.07630477887153848,
          -0.2404516778466729,
          null,
          -0.07630477887153848,
          -0.26242227841988675,
          null,
          -0.07630477887153848,
          -0.13594472161618487,
          null,
          -0.07630477887153848,
          -0.24533798222555073,
          null,
          -0.07630477887153848,
          -0.15162241583075298,
          null,
          -0.07630477887153848,
          -0.18001405646237725,
          null,
          -0.07630477887153848,
          -0.10560638508181729,
          null,
          -0.07630477887153848,
          -0.06755266498229151,
          null,
          -0.11941884383857893,
          -0.2404516778466729,
          null,
          -0.11941884383857893,
          -0.26242227841988675,
          null,
          -0.11941884383857893,
          -0.13594472161618487,
          null,
          -0.11941884383857893,
          -0.24533798222555073,
          null,
          -0.11941884383857893,
          -0.15162241583075298,
          null,
          -0.11941884383857893,
          -0.18001405646237725,
          null,
          -0.11941884383857893,
          -0.10560638508181729,
          null,
          -0.11941884383857893,
          -0.06755266498229151,
          null,
          -0.2404516778466729,
          -0.26242227841988675,
          null,
          -0.2404516778466729,
          -0.13594472161618487,
          null,
          -0.2404516778466729,
          -0.24533798222555073,
          null,
          -0.2404516778466729,
          -0.15162241583075298,
          null,
          -0.2404516778466729,
          -0.18001405646237725,
          null,
          -0.2404516778466729,
          -0.10560638508181729,
          null,
          -0.2404516778466729,
          -0.06755266498229151,
          null,
          -0.2404516778466729,
          -0.3866929968670201,
          null,
          -0.2404516778466729,
          -0.3650241768779644,
          null,
          -0.2404516778466729,
          -0.409607499763825,
          null,
          -0.2404516778466729,
          -0.32062596904931967,
          null,
          -0.2404516778466729,
          -0.4206599690035901,
          null,
          -0.2404516778466729,
          -0.33824132758469955,
          null,
          -0.2404516778466729,
          -0.3239187134775063,
          null,
          -0.26242227841988675,
          -0.13594472161618487,
          null,
          -0.26242227841988675,
          -0.24533798222555073,
          null,
          -0.26242227841988675,
          -0.15162241583075298,
          null,
          -0.26242227841988675,
          -0.18001405646237725,
          null,
          -0.26242227841988675,
          -0.10560638508181729,
          null,
          -0.26242227841988675,
          -0.06755266498229151,
          null,
          -0.26242227841988675,
          -0.36288633130764986,
          null,
          -0.26242227841988675,
          -0.30979237988012415,
          null,
          -0.26242227841988675,
          -0.3250653574080839,
          null,
          -0.26242227841988675,
          -0.24794044003479304,
          null,
          -0.26242227841988675,
          -0.27259388163450626,
          null,
          -0.26242227841988675,
          -0.3580717802736825,
          null,
          -0.26242227841988675,
          -0.2782812885370957,
          null,
          -0.26242227841988675,
          -0.22304813809979318,
          null,
          -0.26242227841988675,
          -0.20620276407244467,
          null,
          -0.26242227841988675,
          -0.3866929968670201,
          null,
          -0.26242227841988675,
          -0.3650241768779644,
          null,
          -0.26242227841988675,
          -0.409607499763825,
          null,
          -0.26242227841988675,
          -0.32062596904931967,
          null,
          -0.26242227841988675,
          -0.4206599690035901,
          null,
          -0.26242227841988675,
          -0.33824132758469955,
          null,
          -0.26242227841988675,
          -0.3239187134775063,
          null,
          -0.13594472161618487,
          -0.24533798222555073,
          null,
          -0.13594472161618487,
          -0.15162241583075298,
          null,
          -0.13594472161618487,
          -0.18001405646237725,
          null,
          -0.13594472161618487,
          -0.10560638508181729,
          null,
          -0.13594472161618487,
          -0.06755266498229151,
          null,
          -0.24533798222555073,
          -0.15162241583075298,
          null,
          -0.24533798222555073,
          -0.18001405646237725,
          null,
          -0.24533798222555073,
          -0.10560638508181729,
          null,
          -0.24533798222555073,
          -0.06755266498229151,
          null,
          -0.24533798222555073,
          -0.21821046060197685,
          null,
          -0.24533798222555073,
          -0.3319337946007127,
          null,
          -0.24533798222555073,
          -0.2890115747208663,
          null,
          -0.24533798222555073,
          -0.24912636110326086,
          null,
          -0.24533798222555073,
          -0.32062596904931967,
          null,
          -0.24533798222555073,
          -0.37532011013321026,
          null,
          -0.24533798222555073,
          -0.309578402092331,
          null,
          -0.24533798222555073,
          -0.3580388663343057,
          null,
          -0.24533798222555073,
          -0.2558327103827283,
          null,
          -0.24533798222555073,
          -0.3866929968670201,
          null,
          -0.24533798222555073,
          -0.3650241768779644,
          null,
          -0.24533798222555073,
          -0.409607499763825,
          null,
          -0.24533798222555073,
          -0.4206599690035901,
          null,
          -0.24533798222555073,
          -0.33824132758469955,
          null,
          -0.24533798222555073,
          -0.3239187134775063,
          null,
          -0.15162241583075298,
          -0.18001405646237725,
          null,
          -0.15162241583075298,
          -0.10560638508181729,
          null,
          -0.15162241583075298,
          -0.06755266498229151,
          null,
          -0.18001405646237725,
          -0.10560638508181729,
          null,
          -0.18001405646237725,
          -0.06755266498229151,
          null,
          -0.10560638508181729,
          -0.06755266498229151,
          null,
          -0.21821046060197685,
          -0.3319337946007127,
          null,
          -0.21821046060197685,
          -0.2890115747208663,
          null,
          -0.21821046060197685,
          -0.24912636110326086,
          null,
          -0.21821046060197685,
          -0.32062596904931967,
          null,
          -0.21821046060197685,
          -0.37532011013321026,
          null,
          -0.21821046060197685,
          -0.309578402092331,
          null,
          -0.21821046060197685,
          -0.3580388663343057,
          null,
          -0.21821046060197685,
          -0.2558327103827283,
          null,
          -0.3319337946007127,
          -0.2890115747208663,
          null,
          -0.3319337946007127,
          -0.24912636110326086,
          null,
          -0.3319337946007127,
          -0.32062596904931967,
          null,
          -0.3319337946007127,
          -0.37532011013321026,
          null,
          -0.3319337946007127,
          -0.309578402092331,
          null,
          -0.3319337946007127,
          -0.3580388663343057,
          null,
          -0.3319337946007127,
          -0.2558327103827283,
          null,
          -0.2890115747208663,
          -0.24912636110326086,
          null,
          -0.2890115747208663,
          -0.32062596904931967,
          null,
          -0.2890115747208663,
          -0.37532011013321026,
          null,
          -0.2890115747208663,
          -0.309578402092331,
          null,
          -0.2890115747208663,
          -0.3580388663343057,
          null,
          -0.2890115747208663,
          -0.2558327103827283,
          null,
          -0.24912636110326086,
          -0.32062596904931967,
          null,
          -0.24912636110326086,
          -0.37532011013321026,
          null,
          -0.24912636110326086,
          -0.309578402092331,
          null,
          -0.24912636110326086,
          -0.3580388663343057,
          null,
          -0.24912636110326086,
          -0.2558327103827283,
          null,
          -0.32062596904931967,
          -0.37532011013321026,
          null,
          -0.32062596904931967,
          -0.309578402092331,
          null,
          -0.32062596904931967,
          -0.3580388663343057,
          null,
          -0.32062596904931967,
          -0.2558327103827283,
          null,
          -0.32062596904931967,
          -0.3866929968670201,
          null,
          -0.32062596904931967,
          -0.3650241768779644,
          null,
          -0.32062596904931967,
          -0.409607499763825,
          null,
          -0.32062596904931967,
          -0.4206599690035901,
          null,
          -0.32062596904931967,
          -0.33824132758469955,
          null,
          -0.32062596904931967,
          -0.3239187134775063,
          null,
          -0.37532011013321026,
          -0.309578402092331,
          null,
          -0.37532011013321026,
          -0.3580388663343057,
          null,
          -0.37532011013321026,
          -0.2558327103827283,
          null,
          -0.309578402092331,
          -0.3580388663343057,
          null,
          -0.309578402092331,
          -0.2558327103827283,
          null,
          -0.3580388663343057,
          -0.2558327103827283,
          null,
          -0.36288633130764986,
          -0.30979237988012415,
          null,
          -0.36288633130764986,
          -0.3250653574080839,
          null,
          -0.36288633130764986,
          -0.24794044003479304,
          null,
          -0.36288633130764986,
          -0.27259388163450626,
          null,
          -0.36288633130764986,
          -0.3580717802736825,
          null,
          -0.36288633130764986,
          -0.2782812885370957,
          null,
          -0.36288633130764986,
          -0.22304813809979318,
          null,
          -0.36288633130764986,
          -0.20620276407244467,
          null,
          -0.30979237988012415,
          -0.3250653574080839,
          null,
          -0.30979237988012415,
          -0.24794044003479304,
          null,
          -0.30979237988012415,
          -0.27259388163450626,
          null,
          -0.30979237988012415,
          -0.3580717802736825,
          null,
          -0.30979237988012415,
          -0.2782812885370957,
          null,
          -0.30979237988012415,
          -0.22304813809979318,
          null,
          -0.30979237988012415,
          -0.20620276407244467,
          null,
          -0.3250653574080839,
          -0.24794044003479304,
          null,
          -0.3250653574080839,
          -0.27259388163450626,
          null,
          -0.3250653574080839,
          -0.3580717802736825,
          null,
          -0.3250653574080839,
          -0.2782812885370957,
          null,
          -0.3250653574080839,
          -0.22304813809979318,
          null,
          -0.3250653574080839,
          -0.20620276407244467,
          null,
          -0.24794044003479304,
          -0.27259388163450626,
          null,
          -0.24794044003479304,
          -0.3580717802736825,
          null,
          -0.24794044003479304,
          -0.2782812885370957,
          null,
          -0.24794044003479304,
          -0.22304813809979318,
          null,
          -0.24794044003479304,
          -0.20620276407244467,
          null,
          -0.27259388163450626,
          -0.3580717802736825,
          null,
          -0.27259388163450626,
          -0.2782812885370957,
          null,
          -0.27259388163450626,
          -0.22304813809979318,
          null,
          -0.27259388163450626,
          -0.20620276407244467,
          null,
          -0.3580717802736825,
          -0.2782812885370957,
          null,
          -0.3580717802736825,
          -0.22304813809979318,
          null,
          -0.3580717802736825,
          -0.20620276407244467,
          null,
          -0.2782812885370957,
          -0.22304813809979318,
          null,
          -0.2782812885370957,
          -0.20620276407244467,
          null,
          -0.22304813809979318,
          -0.20620276407244467,
          null,
          -0.3866929968670201,
          -0.3650241768779644,
          null,
          -0.3866929968670201,
          -0.409607499763825,
          null,
          -0.3866929968670201,
          -0.4206599690035901,
          null,
          -0.3866929968670201,
          -0.33824132758469955,
          null,
          -0.3866929968670201,
          -0.3239187134775063,
          null,
          -0.3650241768779644,
          -0.409607499763825,
          null,
          -0.3650241768779644,
          -0.4206599690035901,
          null,
          -0.3650241768779644,
          -0.33824132758469955,
          null,
          -0.3650241768779644,
          -0.3239187134775063,
          null,
          -0.409607499763825,
          -0.4206599690035901,
          null,
          -0.409607499763825,
          -0.33824132758469955,
          null,
          -0.409607499763825,
          -0.3239187134775063,
          null,
          -0.4206599690035901,
          -0.33824132758469955,
          null,
          -0.4206599690035901,
          -0.3239187134775063,
          null,
          -0.33824132758469955,
          -0.3239187134775063,
          null,
          0.8738355165384897,
          0.9521542337254757,
          null,
          0.8738355165384897,
          0.9770529150942464,
          null,
          0.8738355165384897,
          0.8348544636526014,
          null,
          0.8738355165384897,
          0.9045652217830187,
          null,
          0.8738355165384897,
          0.932887530417964,
          null,
          0.8738355165384897,
          0.9662449368361293,
          null,
          0.8738355165384897,
          0.7774988887826624,
          null,
          0.8738355165384897,
          0.9999999999999999,
          null,
          0.8738355165384897,
          0.9012873921865534,
          null,
          0.9521542337254757,
          0.9770529150942464,
          null,
          0.9521542337254757,
          0.8348544636526014,
          null,
          0.9521542337254757,
          0.9045652217830187,
          null,
          0.9521542337254757,
          0.932887530417964,
          null,
          0.9521542337254757,
          0.9662449368361293,
          null,
          0.9521542337254757,
          0.7774988887826624,
          null,
          0.9521542337254757,
          0.9999999999999999,
          null,
          0.9521542337254757,
          0.9012873921865534,
          null,
          0.9770529150942464,
          0.8348544636526014,
          null,
          0.9770529150942464,
          0.9045652217830187,
          null,
          0.9770529150942464,
          0.932887530417964,
          null,
          0.9770529150942464,
          0.9662449368361293,
          null,
          0.9770529150942464,
          0.7774988887826624,
          null,
          0.9770529150942464,
          0.9999999999999999,
          null,
          0.9770529150942464,
          0.9012873921865534,
          null,
          0.8348544636526014,
          0.9045652217830187,
          null,
          0.8348544636526014,
          0.932887530417964,
          null,
          0.8348544636526014,
          0.9662449368361293,
          null,
          0.8348544636526014,
          0.7774988887826624,
          null,
          0.8348544636526014,
          0.9999999999999999,
          null,
          0.8348544636526014,
          0.9012873921865534,
          null,
          0.9045652217830187,
          0.932887530417964,
          null,
          0.9045652217830187,
          0.9662449368361293,
          null,
          0.9045652217830187,
          0.7774988887826624,
          null,
          0.9045652217830187,
          0.9999999999999999,
          null,
          0.9045652217830187,
          0.9012873921865534,
          null,
          0.932887530417964,
          0.9662449368361293,
          null,
          0.932887530417964,
          0.7774988887826624,
          null,
          0.932887530417964,
          0.9999999999999999,
          null,
          0.932887530417964,
          0.9012873921865534,
          null,
          0.9662449368361293,
          0.7774988887826624,
          null,
          0.9662449368361293,
          0.9999999999999999,
          null,
          0.9662449368361293,
          0.9012873921865534,
          null,
          0.7774988887826624,
          0.9999999999999999,
          null,
          0.7774988887826624,
          0.9012873921865534,
          null,
          0.9999999999999999,
          0.9012873921865534,
          null
         ]
        },
        {
         "hoverinfo": "text",
         "marker": {
          "color": [
           9,
           9,
           16,
           25,
           9,
           24,
           9,
           9,
           9,
           9,
           9,
           9,
           9,
           9,
           17,
           9,
           9,
           9,
           9,
           9,
           9,
           9,
           9,
           9,
           9,
           9,
           9,
           9,
           9,
           9,
           9,
           9,
           9,
           9,
           9,
           9,
           9,
           9,
           9,
           9,
           9,
           9,
           9,
           9
          ],
          "colorbar": {
           "thickness": 15,
           "title": {
            "text": "Node Connections"
           }
          },
          "colorscale": [
           [
            0,
            "rgb(255,255,217)"
           ],
           [
            0.125,
            "rgb(237,248,177)"
           ],
           [
            0.25,
            "rgb(199,233,180)"
           ],
           [
            0.375,
            "rgb(127,205,187)"
           ],
           [
            0.5,
            "rgb(65,182,196)"
           ],
           [
            0.625,
            "rgb(29,145,192)"
           ],
           [
            0.75,
            "rgb(34,94,168)"
           ],
           [
            0.875,
            "rgb(37,52,148)"
           ],
           [
            1,
            "rgb(8,29,88)"
           ]
          ],
          "line": {
           "width": 2
          },
          "showscale": false,
          "size": 10
         },
         "mode": "markers",
         "text": [
          "# de conexiones: 9",
          "# de conexiones: 9",
          "# de conexiones: 16",
          "# de conexiones: 25",
          "# de conexiones: 9",
          "# de conexiones: 24",
          "# de conexiones: 9",
          "# de conexiones: 9",
          "# de conexiones: 9",
          "# de conexiones: 9",
          "# de conexiones: 9",
          "# de conexiones: 9",
          "# de conexiones: 9",
          "# de conexiones: 9",
          "# de conexiones: 17",
          "# de conexiones: 9",
          "# de conexiones: 9",
          "# de conexiones: 9",
          "# de conexiones: 9",
          "# de conexiones: 9",
          "# de conexiones: 9",
          "# de conexiones: 9",
          "# de conexiones: 9",
          "# de conexiones: 9",
          "# de conexiones: 9",
          "# de conexiones: 9",
          "# de conexiones: 9",
          "# de conexiones: 9",
          "# de conexiones: 9",
          "# de conexiones: 9",
          "# de conexiones: 9",
          "# de conexiones: 9",
          "# de conexiones: 9",
          "# de conexiones: 9",
          "# de conexiones: 9",
          "# de conexiones: 9",
          "# de conexiones: 9",
          "# de conexiones: 9",
          "# de conexiones: 9",
          "# de conexiones: 9",
          "# de conexiones: 9",
          "# de conexiones: 9",
          "# de conexiones: 9",
          "# de conexiones: 9"
         ],
         "type": "scatter",
         "x": [
          0.12130931810478254,
          0.09143304952966372,
          0.045439751965485324,
          0.22310416317225548,
          0.14785797331251752,
          -0.0837856674357709,
          0.04417467644805386,
          0.11199618431715652,
          0.02090491543153879,
          0.06150991770044826,
          -0.30259458918574084,
          -0.2618493055494377,
          -0.30769337012828946,
          -0.34845921085317216,
          -0.12938727977117356,
          -0.2875533663095318,
          -0.35865731132578227,
          -0.33377860552652666,
          -0.2633307701411539,
          0.5015631923352929,
          0.43368840747730775,
          0.5353329425477574,
          0.43805092704082915,
          0.5486476867341734,
          0.45201784733500516,
          0.4882849893930554,
          0.5253545245637199,
          0.47580199146930363,
          -0.015458428775743209,
          0.07975934843675202,
          0.06218118549404956,
          0.01629068227699333,
          -0.001595134593495195,
          0.047478933503642004,
          -0.2280693386505597,
          -0.28184000023751615,
          -0.22578883746251394,
          -0.2923354121824569,
          -0.3611902021858364,
          -0.20807062482663763,
          -0.34630515759435043,
          -0.2368934135089411,
          -0.28841212452354403,
          -0.3091344578216104
         ],
         "y": [
          -0.07630477887153848,
          -0.11941884383857893,
          -0.2404516778466729,
          -0.26242227841988675,
          -0.13594472161618487,
          -0.24533798222555073,
          -0.15162241583075298,
          -0.18001405646237725,
          -0.10560638508181729,
          -0.06755266498229151,
          -0.21821046060197685,
          -0.3319337946007127,
          -0.2890115747208663,
          -0.24912636110326086,
          -0.32062596904931967,
          -0.37532011013321026,
          -0.309578402092331,
          -0.3580388663343057,
          -0.2558327103827283,
          -0.36288633130764986,
          -0.30979237988012415,
          -0.3250653574080839,
          -0.24794044003479304,
          -0.27259388163450626,
          -0.3580717802736825,
          -0.2782812885370957,
          -0.22304813809979318,
          -0.20620276407244467,
          -0.3866929968670201,
          -0.3650241768779644,
          -0.409607499763825,
          -0.4206599690035901,
          -0.33824132758469955,
          -0.3239187134775063,
          0.8738355165384897,
          0.9521542337254757,
          0.9770529150942464,
          0.8348544636526014,
          0.9045652217830187,
          0.932887530417964,
          0.9662449368361293,
          0.7774988887826624,
          0.9999999999999999,
          0.9012873921865534
         ]
        }
       ],
       "layout": {
        "hovermode": "closest",
        "margin": {
         "b": 0,
         "l": 0,
         "r": 0,
         "t": 0
        },
        "showlegend": false,
        "template": {
         "data": {
          "bar": [
           {
            "error_x": {
             "color": "#2a3f5f"
            },
            "error_y": {
             "color": "#2a3f5f"
            },
            "marker": {
             "line": {
              "color": "#E5ECF6",
              "width": 0.5
             },
             "pattern": {
              "fillmode": "overlay",
              "size": 10,
              "solidity": 0.2
             }
            },
            "type": "bar"
           }
          ],
          "barpolar": [
           {
            "marker": {
             "line": {
              "color": "#E5ECF6",
              "width": 0.5
             },
             "pattern": {
              "fillmode": "overlay",
              "size": 10,
              "solidity": 0.2
             }
            },
            "type": "barpolar"
           }
          ],
          "carpet": [
           {
            "aaxis": {
             "endlinecolor": "#2a3f5f",
             "gridcolor": "white",
             "linecolor": "white",
             "minorgridcolor": "white",
             "startlinecolor": "#2a3f5f"
            },
            "baxis": {
             "endlinecolor": "#2a3f5f",
             "gridcolor": "white",
             "linecolor": "white",
             "minorgridcolor": "white",
             "startlinecolor": "#2a3f5f"
            },
            "type": "carpet"
           }
          ],
          "choropleth": [
           {
            "colorbar": {
             "outlinewidth": 0,
             "ticks": ""
            },
            "type": "choropleth"
           }
          ],
          "contour": [
           {
            "colorbar": {
             "outlinewidth": 0,
             "ticks": ""
            },
            "colorscale": [
             [
              0,
              "#0d0887"
             ],
             [
              0.1111111111111111,
              "#46039f"
             ],
             [
              0.2222222222222222,
              "#7201a8"
             ],
             [
              0.3333333333333333,
              "#9c179e"
             ],
             [
              0.4444444444444444,
              "#bd3786"
             ],
             [
              0.5555555555555556,
              "#d8576b"
             ],
             [
              0.6666666666666666,
              "#ed7953"
             ],
             [
              0.7777777777777778,
              "#fb9f3a"
             ],
             [
              0.8888888888888888,
              "#fdca26"
             ],
             [
              1,
              "#f0f921"
             ]
            ],
            "type": "contour"
           }
          ],
          "contourcarpet": [
           {
            "colorbar": {
             "outlinewidth": 0,
             "ticks": ""
            },
            "type": "contourcarpet"
           }
          ],
          "heatmap": [
           {
            "colorbar": {
             "outlinewidth": 0,
             "ticks": ""
            },
            "colorscale": [
             [
              0,
              "#0d0887"
             ],
             [
              0.1111111111111111,
              "#46039f"
             ],
             [
              0.2222222222222222,
              "#7201a8"
             ],
             [
              0.3333333333333333,
              "#9c179e"
             ],
             [
              0.4444444444444444,
              "#bd3786"
             ],
             [
              0.5555555555555556,
              "#d8576b"
             ],
             [
              0.6666666666666666,
              "#ed7953"
             ],
             [
              0.7777777777777778,
              "#fb9f3a"
             ],
             [
              0.8888888888888888,
              "#fdca26"
             ],
             [
              1,
              "#f0f921"
             ]
            ],
            "type": "heatmap"
           }
          ],
          "heatmapgl": [
           {
            "colorbar": {
             "outlinewidth": 0,
             "ticks": ""
            },
            "colorscale": [
             [
              0,
              "#0d0887"
             ],
             [
              0.1111111111111111,
              "#46039f"
             ],
             [
              0.2222222222222222,
              "#7201a8"
             ],
             [
              0.3333333333333333,
              "#9c179e"
             ],
             [
              0.4444444444444444,
              "#bd3786"
             ],
             [
              0.5555555555555556,
              "#d8576b"
             ],
             [
              0.6666666666666666,
              "#ed7953"
             ],
             [
              0.7777777777777778,
              "#fb9f3a"
             ],
             [
              0.8888888888888888,
              "#fdca26"
             ],
             [
              1,
              "#f0f921"
             ]
            ],
            "type": "heatmapgl"
           }
          ],
          "histogram": [
           {
            "marker": {
             "pattern": {
              "fillmode": "overlay",
              "size": 10,
              "solidity": 0.2
             }
            },
            "type": "histogram"
           }
          ],
          "histogram2d": [
           {
            "colorbar": {
             "outlinewidth": 0,
             "ticks": ""
            },
            "colorscale": [
             [
              0,
              "#0d0887"
             ],
             [
              0.1111111111111111,
              "#46039f"
             ],
             [
              0.2222222222222222,
              "#7201a8"
             ],
             [
              0.3333333333333333,
              "#9c179e"
             ],
             [
              0.4444444444444444,
              "#bd3786"
             ],
             [
              0.5555555555555556,
              "#d8576b"
             ],
             [
              0.6666666666666666,
              "#ed7953"
             ],
             [
              0.7777777777777778,
              "#fb9f3a"
             ],
             [
              0.8888888888888888,
              "#fdca26"
             ],
             [
              1,
              "#f0f921"
             ]
            ],
            "type": "histogram2d"
           }
          ],
          "histogram2dcontour": [
           {
            "colorbar": {
             "outlinewidth": 0,
             "ticks": ""
            },
            "colorscale": [
             [
              0,
              "#0d0887"
             ],
             [
              0.1111111111111111,
              "#46039f"
             ],
             [
              0.2222222222222222,
              "#7201a8"
             ],
             [
              0.3333333333333333,
              "#9c179e"
             ],
             [
              0.4444444444444444,
              "#bd3786"
             ],
             [
              0.5555555555555556,
              "#d8576b"
             ],
             [
              0.6666666666666666,
              "#ed7953"
             ],
             [
              0.7777777777777778,
              "#fb9f3a"
             ],
             [
              0.8888888888888888,
              "#fdca26"
             ],
             [
              1,
              "#f0f921"
             ]
            ],
            "type": "histogram2dcontour"
           }
          ],
          "mesh3d": [
           {
            "colorbar": {
             "outlinewidth": 0,
             "ticks": ""
            },
            "type": "mesh3d"
           }
          ],
          "parcoords": [
           {
            "line": {
             "colorbar": {
              "outlinewidth": 0,
              "ticks": ""
             }
            },
            "type": "parcoords"
           }
          ],
          "pie": [
           {
            "automargin": true,
            "type": "pie"
           }
          ],
          "scatter": [
           {
            "fillpattern": {
             "fillmode": "overlay",
             "size": 10,
             "solidity": 0.2
            },
            "type": "scatter"
           }
          ],
          "scatter3d": [
           {
            "line": {
             "colorbar": {
              "outlinewidth": 0,
              "ticks": ""
             }
            },
            "marker": {
             "colorbar": {
              "outlinewidth": 0,
              "ticks": ""
             }
            },
            "type": "scatter3d"
           }
          ],
          "scattercarpet": [
           {
            "marker": {
             "colorbar": {
              "outlinewidth": 0,
              "ticks": ""
             }
            },
            "type": "scattercarpet"
           }
          ],
          "scattergeo": [
           {
            "marker": {
             "colorbar": {
              "outlinewidth": 0,
              "ticks": ""
             }
            },
            "type": "scattergeo"
           }
          ],
          "scattergl": [
           {
            "marker": {
             "colorbar": {
              "outlinewidth": 0,
              "ticks": ""
             }
            },
            "type": "scattergl"
           }
          ],
          "scattermapbox": [
           {
            "marker": {
             "colorbar": {
              "outlinewidth": 0,
              "ticks": ""
             }
            },
            "type": "scattermapbox"
           }
          ],
          "scatterpolar": [
           {
            "marker": {
             "colorbar": {
              "outlinewidth": 0,
              "ticks": ""
             }
            },
            "type": "scatterpolar"
           }
          ],
          "scatterpolargl": [
           {
            "marker": {
             "colorbar": {
              "outlinewidth": 0,
              "ticks": ""
             }
            },
            "type": "scatterpolargl"
           }
          ],
          "scatterternary": [
           {
            "marker": {
             "colorbar": {
              "outlinewidth": 0,
              "ticks": ""
             }
            },
            "type": "scatterternary"
           }
          ],
          "surface": [
           {
            "colorbar": {
             "outlinewidth": 0,
             "ticks": ""
            },
            "colorscale": [
             [
              0,
              "#0d0887"
             ],
             [
              0.1111111111111111,
              "#46039f"
             ],
             [
              0.2222222222222222,
              "#7201a8"
             ],
             [
              0.3333333333333333,
              "#9c179e"
             ],
             [
              0.4444444444444444,
              "#bd3786"
             ],
             [
              0.5555555555555556,
              "#d8576b"
             ],
             [
              0.6666666666666666,
              "#ed7953"
             ],
             [
              0.7777777777777778,
              "#fb9f3a"
             ],
             [
              0.8888888888888888,
              "#fdca26"
             ],
             [
              1,
              "#f0f921"
             ]
            ],
            "type": "surface"
           }
          ],
          "table": [
           {
            "cells": {
             "fill": {
              "color": "#EBF0F8"
             },
             "line": {
              "color": "white"
             }
            },
            "header": {
             "fill": {
              "color": "#C8D4E3"
             },
             "line": {
              "color": "white"
             }
            },
            "type": "table"
           }
          ]
         },
         "layout": {
          "annotationdefaults": {
           "arrowcolor": "#2a3f5f",
           "arrowhead": 0,
           "arrowwidth": 1
          },
          "autotypenumbers": "strict",
          "coloraxis": {
           "colorbar": {
            "outlinewidth": 0,
            "ticks": ""
           }
          },
          "colorscale": {
           "diverging": [
            [
             0,
             "#8e0152"
            ],
            [
             0.1,
             "#c51b7d"
            ],
            [
             0.2,
             "#de77ae"
            ],
            [
             0.3,
             "#f1b6da"
            ],
            [
             0.4,
             "#fde0ef"
            ],
            [
             0.5,
             "#f7f7f7"
            ],
            [
             0.6,
             "#e6f5d0"
            ],
            [
             0.7,
             "#b8e186"
            ],
            [
             0.8,
             "#7fbc41"
            ],
            [
             0.9,
             "#4d9221"
            ],
            [
             1,
             "#276419"
            ]
           ],
           "sequential": [
            [
             0,
             "#0d0887"
            ],
            [
             0.1111111111111111,
             "#46039f"
            ],
            [
             0.2222222222222222,
             "#7201a8"
            ],
            [
             0.3333333333333333,
             "#9c179e"
            ],
            [
             0.4444444444444444,
             "#bd3786"
            ],
            [
             0.5555555555555556,
             "#d8576b"
            ],
            [
             0.6666666666666666,
             "#ed7953"
            ],
            [
             0.7777777777777778,
             "#fb9f3a"
            ],
            [
             0.8888888888888888,
             "#fdca26"
            ],
            [
             1,
             "#f0f921"
            ]
           ],
           "sequentialminus": [
            [
             0,
             "#0d0887"
            ],
            [
             0.1111111111111111,
             "#46039f"
            ],
            [
             0.2222222222222222,
             "#7201a8"
            ],
            [
             0.3333333333333333,
             "#9c179e"
            ],
            [
             0.4444444444444444,
             "#bd3786"
            ],
            [
             0.5555555555555556,
             "#d8576b"
            ],
            [
             0.6666666666666666,
             "#ed7953"
            ],
            [
             0.7777777777777778,
             "#fb9f3a"
            ],
            [
             0.8888888888888888,
             "#fdca26"
            ],
            [
             1,
             "#f0f921"
            ]
           ]
          },
          "colorway": [
           "#636efa",
           "#EF553B",
           "#00cc96",
           "#ab63fa",
           "#FFA15A",
           "#19d3f3",
           "#FF6692",
           "#B6E880",
           "#FF97FF",
           "#FECB52"
          ],
          "font": {
           "color": "#2a3f5f"
          },
          "geo": {
           "bgcolor": "white",
           "lakecolor": "white",
           "landcolor": "#E5ECF6",
           "showlakes": true,
           "showland": true,
           "subunitcolor": "white"
          },
          "hoverlabel": {
           "align": "left"
          },
          "hovermode": "closest",
          "mapbox": {
           "style": "light"
          },
          "paper_bgcolor": "white",
          "plot_bgcolor": "#E5ECF6",
          "polar": {
           "angularaxis": {
            "gridcolor": "white",
            "linecolor": "white",
            "ticks": ""
           },
           "bgcolor": "#E5ECF6",
           "radialaxis": {
            "gridcolor": "white",
            "linecolor": "white",
            "ticks": ""
           }
          },
          "scene": {
           "xaxis": {
            "backgroundcolor": "#E5ECF6",
            "gridcolor": "white",
            "gridwidth": 2,
            "linecolor": "white",
            "showbackground": true,
            "ticks": "",
            "zerolinecolor": "white"
           },
           "yaxis": {
            "backgroundcolor": "#E5ECF6",
            "gridcolor": "white",
            "gridwidth": 2,
            "linecolor": "white",
            "showbackground": true,
            "ticks": "",
            "zerolinecolor": "white"
           },
           "zaxis": {
            "backgroundcolor": "#E5ECF6",
            "gridcolor": "white",
            "gridwidth": 2,
            "linecolor": "white",
            "showbackground": true,
            "ticks": "",
            "zerolinecolor": "white"
           }
          },
          "shapedefaults": {
           "line": {
            "color": "#2a3f5f"
           }
          },
          "ternary": {
           "aaxis": {
            "gridcolor": "white",
            "linecolor": "white",
            "ticks": ""
           },
           "baxis": {
            "gridcolor": "white",
            "linecolor": "white",
            "ticks": ""
           },
           "bgcolor": "#E5ECF6",
           "caxis": {
            "gridcolor": "white",
            "linecolor": "white",
            "ticks": ""
           }
          },
          "title": {
           "x": 0.05
          },
          "xaxis": {
           "automargin": true,
           "gridcolor": "white",
           "linecolor": "white",
           "ticks": "",
           "title": {
            "standoff": 15
           },
           "zerolinecolor": "white",
           "zerolinewidth": 2
          },
          "yaxis": {
           "automargin": true,
           "gridcolor": "white",
           "linecolor": "white",
           "ticks": "",
           "title": {
            "standoff": 15
           },
           "zerolinecolor": "white",
           "zerolinewidth": 2
          }
         }
        },
        "title": {
         "text": "Asociación de Términos entre Tópicos",
         "x": 0.5
        },
        "xaxis": {
         "showgrid": false,
         "showticklabels": false,
         "zeroline": false
        },
        "yaxis": {
         "showgrid": false,
         "showticklabels": false,
         "zeroline": false
        }
       }
      }
     },
     "metadata": {},
     "output_type": "display_data"
    }
   ],
   "source": [
    "import networkx as nx\n",
    "import plotly.graph_objects as go\n",
    "\n",
    "# Crear un grafo de NetworkX\n",
    "G = nx.Graph()\n",
    "\n",
    "# Procesar los tópicos y sus palabras clave para identificar asociaciones\n",
    "for topic_id, topic_words in topics:\n",
    "    # Dividir las palabras clave en términos individuales\n",
    "    terms = [term.split('*')[1].strip('\"') for term in topic_words.split(' + ')]\n",
    "    \n",
    "    # Agregar una arista entre todos los términos del tópico\n",
    "    for i in range(len(terms)):\n",
    "        for j in range(i + 1, len(terms)):\n",
    "            term1, term2 = terms[i], terms[j]\n",
    "            G.add_edge(term1, term2, topic=topic_id)\n",
    "\n",
    "# Obtener las posiciones de los nodos en el gráfico\n",
    "pos = nx.spring_layout(G, k=0.3, iterations=50)\n",
    "\n",
    "# Extraer las posiciones X e Y de los nodos\n",
    "pos_x = {node: pos[node][0] for node in G.nodes}\n",
    "pos_y = {node: pos[node][1] for node in G.nodes}\n",
    "\n",
    "# Crear un objeto de grafo de Plotly\n",
    "edge_x = []\n",
    "edge_y = []\n",
    "for edge in G.edges():\n",
    "    x0, y0 = pos_x[edge[0]], pos_y[edge[0]]\n",
    "    x1, y1 = pos_x[edge[1]], pos_y[edge[1]]\n",
    "    edge_x.append(x0)\n",
    "    edge_x.append(x1)\n",
    "    edge_x.append(None)\n",
    "    edge_y.append(y0)\n",
    "    edge_y.append(y1)\n",
    "    edge_y.append(None)\n",
    "\n",
    "edge_trace = go.Scatter(\n",
    "    x=edge_x, y=edge_y,\n",
    "    line=dict(width=0.5, color='#888'),\n",
    "    hoverinfo='none',\n",
    "    mode='lines')\n",
    "\n",
    "node_x = list(pos_x.values())\n",
    "node_y = list(pos_y.values())\n",
    "\n",
    "node_trace = go.Scatter(\n",
    "    x=node_x, y=node_y,\n",
    "    mode='markers',\n",
    "    hoverinfo='text',\n",
    "    marker=dict(\n",
    "        showscale=False,\n",
    "        colorscale='YlGnBu',\n",
    "        size=10,\n",
    "        colorbar=dict(thickness=15, title='Node Connections'),\n",
    "        line_width=2))\n",
    "\n",
    "node_adjacencies = []\n",
    "node_text = []\n",
    "for node, adjacencies in enumerate(G.adjacency()):\n",
    "    node_adjacencies.append(len(adjacencies[1]))\n",
    "    node_text.append('# de conexiones: ' + str(len(adjacencies[1])))\n",
    "\n",
    "node_trace.marker.color = node_adjacencies\n",
    "node_trace.text = node_text\n",
    "\n",
    "# Crear la figura de Plotly\n",
    "fig = go.Figure(data=[edge_trace, node_trace],\n",
    "             layout=go.Layout(\n",
    "                showlegend=False,\n",
    "                hovermode='closest',\n",
    "                margin=dict(b=0, l=0, r=0, t=0),\n",
    "                xaxis=dict(showgrid=False, zeroline=False, showticklabels=False),\n",
    "                yaxis=dict(showgrid=False, zeroline=False, showticklabels=False)))\n",
    "\n",
    "# Mostrar la figura\n",
    "fig.update_layout(title='Asociación de Términos entre Tópicos', title_x=0.5)\n",
    "fig.show()\n"
   ]
  },
  {
   "cell_type": "code",
   "execution_count": 34,
   "metadata": {},
   "outputs": [
    {
     "data": {
      "application/vnd.plotly.v1+json": {
       "config": {
        "plotlyServerURL": "https://plotly.com"
       },
       "data": [
        {
         "link": {
          "source": [
           9,
           27,
           11,
           6,
           12,
           30,
           25,
           31,
           43,
           18,
           36,
           23,
           10,
           30,
           21,
           19,
           26,
           41,
           14,
           32,
           16,
           22,
           1,
           28,
           42,
           6,
           29,
           2,
           0,
           40,
           15,
           4,
           13,
           19,
           11,
           37,
           39,
           30,
           17,
           6,
           24,
           35,
           33,
           7,
           3,
           8,
           38,
           20,
           34,
           5
          ],
          "target": [
           44,
           44,
           44,
           44,
           44,
           44,
           44,
           44,
           44,
           44,
           45,
           45,
           45,
           45,
           45,
           45,
           45,
           45,
           45,
           45,
           46,
           46,
           46,
           46,
           46,
           46,
           46,
           46,
           46,
           46,
           47,
           47,
           47,
           47,
           47,
           47,
           47,
           47,
           47,
           47,
           48,
           48,
           48,
           48,
           48,
           48,
           48,
           48,
           48,
           48
          ],
          "value": [
           1,
           1,
           1,
           1,
           1,
           1,
           1,
           1,
           1,
           1,
           1,
           1,
           1,
           1,
           1,
           1,
           1,
           1,
           1,
           1,
           1,
           1,
           1,
           1,
           1,
           1,
           1,
           1,
           1,
           1,
           1,
           1,
           1,
           1,
           1,
           1,
           1,
           1,
           1,
           1,
           1,
           1,
           1,
           1,
           1,
           1,
           1,
           1,
           1,
           1
          ]
         },
         "node": {
          "label": [
           "escolar",
           "gracias",
           "autoridad",
           "rosa",
           "equipo",
           "ciudad",
           "guadalajara",
           "calzada",
           "chapalitar",
           "gracia",
           "querer",
           "acompañar",
           "jalisco",
           "trabajar",
           "reconocimiento",
           "gobernador",
           "escuela",
           "familia",
           "apoyo",
           "amigo",
           "carrera",
           "gobierno",
           "colaboración",
           "agradecer",
           "avenida",
           "felicitación",
           "cocina",
           "mercado",
           "niña",
           "niño",
           "ánimo",
           "seguir",
           "honor",
           "lázaro",
           "nacional",
           "dirección",
           "felicidad",
           "trabajo",
           "plaza",
           "estimado",
           "iberoamericano",
           "disfrutar",
           "seguridad",
           "año"
          ],
          "line": {
           "color": "black",
           "width": 0.5
          },
          "pad": 15,
          "thickness": 20
         },
         "type": "sankey"
        }
       ],
       "layout": {
        "template": {
         "data": {
          "bar": [
           {
            "error_x": {
             "color": "#2a3f5f"
            },
            "error_y": {
             "color": "#2a3f5f"
            },
            "marker": {
             "line": {
              "color": "#E5ECF6",
              "width": 0.5
             },
             "pattern": {
              "fillmode": "overlay",
              "size": 10,
              "solidity": 0.2
             }
            },
            "type": "bar"
           }
          ],
          "barpolar": [
           {
            "marker": {
             "line": {
              "color": "#E5ECF6",
              "width": 0.5
             },
             "pattern": {
              "fillmode": "overlay",
              "size": 10,
              "solidity": 0.2
             }
            },
            "type": "barpolar"
           }
          ],
          "carpet": [
           {
            "aaxis": {
             "endlinecolor": "#2a3f5f",
             "gridcolor": "white",
             "linecolor": "white",
             "minorgridcolor": "white",
             "startlinecolor": "#2a3f5f"
            },
            "baxis": {
             "endlinecolor": "#2a3f5f",
             "gridcolor": "white",
             "linecolor": "white",
             "minorgridcolor": "white",
             "startlinecolor": "#2a3f5f"
            },
            "type": "carpet"
           }
          ],
          "choropleth": [
           {
            "colorbar": {
             "outlinewidth": 0,
             "ticks": ""
            },
            "type": "choropleth"
           }
          ],
          "contour": [
           {
            "colorbar": {
             "outlinewidth": 0,
             "ticks": ""
            },
            "colorscale": [
             [
              0,
              "#0d0887"
             ],
             [
              0.1111111111111111,
              "#46039f"
             ],
             [
              0.2222222222222222,
              "#7201a8"
             ],
             [
              0.3333333333333333,
              "#9c179e"
             ],
             [
              0.4444444444444444,
              "#bd3786"
             ],
             [
              0.5555555555555556,
              "#d8576b"
             ],
             [
              0.6666666666666666,
              "#ed7953"
             ],
             [
              0.7777777777777778,
              "#fb9f3a"
             ],
             [
              0.8888888888888888,
              "#fdca26"
             ],
             [
              1,
              "#f0f921"
             ]
            ],
            "type": "contour"
           }
          ],
          "contourcarpet": [
           {
            "colorbar": {
             "outlinewidth": 0,
             "ticks": ""
            },
            "type": "contourcarpet"
           }
          ],
          "heatmap": [
           {
            "colorbar": {
             "outlinewidth": 0,
             "ticks": ""
            },
            "colorscale": [
             [
              0,
              "#0d0887"
             ],
             [
              0.1111111111111111,
              "#46039f"
             ],
             [
              0.2222222222222222,
              "#7201a8"
             ],
             [
              0.3333333333333333,
              "#9c179e"
             ],
             [
              0.4444444444444444,
              "#bd3786"
             ],
             [
              0.5555555555555556,
              "#d8576b"
             ],
             [
              0.6666666666666666,
              "#ed7953"
             ],
             [
              0.7777777777777778,
              "#fb9f3a"
             ],
             [
              0.8888888888888888,
              "#fdca26"
             ],
             [
              1,
              "#f0f921"
             ]
            ],
            "type": "heatmap"
           }
          ],
          "heatmapgl": [
           {
            "colorbar": {
             "outlinewidth": 0,
             "ticks": ""
            },
            "colorscale": [
             [
              0,
              "#0d0887"
             ],
             [
              0.1111111111111111,
              "#46039f"
             ],
             [
              0.2222222222222222,
              "#7201a8"
             ],
             [
              0.3333333333333333,
              "#9c179e"
             ],
             [
              0.4444444444444444,
              "#bd3786"
             ],
             [
              0.5555555555555556,
              "#d8576b"
             ],
             [
              0.6666666666666666,
              "#ed7953"
             ],
             [
              0.7777777777777778,
              "#fb9f3a"
             ],
             [
              0.8888888888888888,
              "#fdca26"
             ],
             [
              1,
              "#f0f921"
             ]
            ],
            "type": "heatmapgl"
           }
          ],
          "histogram": [
           {
            "marker": {
             "pattern": {
              "fillmode": "overlay",
              "size": 10,
              "solidity": 0.2
             }
            },
            "type": "histogram"
           }
          ],
          "histogram2d": [
           {
            "colorbar": {
             "outlinewidth": 0,
             "ticks": ""
            },
            "colorscale": [
             [
              0,
              "#0d0887"
             ],
             [
              0.1111111111111111,
              "#46039f"
             ],
             [
              0.2222222222222222,
              "#7201a8"
             ],
             [
              0.3333333333333333,
              "#9c179e"
             ],
             [
              0.4444444444444444,
              "#bd3786"
             ],
             [
              0.5555555555555556,
              "#d8576b"
             ],
             [
              0.6666666666666666,
              "#ed7953"
             ],
             [
              0.7777777777777778,
              "#fb9f3a"
             ],
             [
              0.8888888888888888,
              "#fdca26"
             ],
             [
              1,
              "#f0f921"
             ]
            ],
            "type": "histogram2d"
           }
          ],
          "histogram2dcontour": [
           {
            "colorbar": {
             "outlinewidth": 0,
             "ticks": ""
            },
            "colorscale": [
             [
              0,
              "#0d0887"
             ],
             [
              0.1111111111111111,
              "#46039f"
             ],
             [
              0.2222222222222222,
              "#7201a8"
             ],
             [
              0.3333333333333333,
              "#9c179e"
             ],
             [
              0.4444444444444444,
              "#bd3786"
             ],
             [
              0.5555555555555556,
              "#d8576b"
             ],
             [
              0.6666666666666666,
              "#ed7953"
             ],
             [
              0.7777777777777778,
              "#fb9f3a"
             ],
             [
              0.8888888888888888,
              "#fdca26"
             ],
             [
              1,
              "#f0f921"
             ]
            ],
            "type": "histogram2dcontour"
           }
          ],
          "mesh3d": [
           {
            "colorbar": {
             "outlinewidth": 0,
             "ticks": ""
            },
            "type": "mesh3d"
           }
          ],
          "parcoords": [
           {
            "line": {
             "colorbar": {
              "outlinewidth": 0,
              "ticks": ""
             }
            },
            "type": "parcoords"
           }
          ],
          "pie": [
           {
            "automargin": true,
            "type": "pie"
           }
          ],
          "scatter": [
           {
            "fillpattern": {
             "fillmode": "overlay",
             "size": 10,
             "solidity": 0.2
            },
            "type": "scatter"
           }
          ],
          "scatter3d": [
           {
            "line": {
             "colorbar": {
              "outlinewidth": 0,
              "ticks": ""
             }
            },
            "marker": {
             "colorbar": {
              "outlinewidth": 0,
              "ticks": ""
             }
            },
            "type": "scatter3d"
           }
          ],
          "scattercarpet": [
           {
            "marker": {
             "colorbar": {
              "outlinewidth": 0,
              "ticks": ""
             }
            },
            "type": "scattercarpet"
           }
          ],
          "scattergeo": [
           {
            "marker": {
             "colorbar": {
              "outlinewidth": 0,
              "ticks": ""
             }
            },
            "type": "scattergeo"
           }
          ],
          "scattergl": [
           {
            "marker": {
             "colorbar": {
              "outlinewidth": 0,
              "ticks": ""
             }
            },
            "type": "scattergl"
           }
          ],
          "scattermapbox": [
           {
            "marker": {
             "colorbar": {
              "outlinewidth": 0,
              "ticks": ""
             }
            },
            "type": "scattermapbox"
           }
          ],
          "scatterpolar": [
           {
            "marker": {
             "colorbar": {
              "outlinewidth": 0,
              "ticks": ""
             }
            },
            "type": "scatterpolar"
           }
          ],
          "scatterpolargl": [
           {
            "marker": {
             "colorbar": {
              "outlinewidth": 0,
              "ticks": ""
             }
            },
            "type": "scatterpolargl"
           }
          ],
          "scatterternary": [
           {
            "marker": {
             "colorbar": {
              "outlinewidth": 0,
              "ticks": ""
             }
            },
            "type": "scatterternary"
           }
          ],
          "surface": [
           {
            "colorbar": {
             "outlinewidth": 0,
             "ticks": ""
            },
            "colorscale": [
             [
              0,
              "#0d0887"
             ],
             [
              0.1111111111111111,
              "#46039f"
             ],
             [
              0.2222222222222222,
              "#7201a8"
             ],
             [
              0.3333333333333333,
              "#9c179e"
             ],
             [
              0.4444444444444444,
              "#bd3786"
             ],
             [
              0.5555555555555556,
              "#d8576b"
             ],
             [
              0.6666666666666666,
              "#ed7953"
             ],
             [
              0.7777777777777778,
              "#fb9f3a"
             ],
             [
              0.8888888888888888,
              "#fdca26"
             ],
             [
              1,
              "#f0f921"
             ]
            ],
            "type": "surface"
           }
          ],
          "table": [
           {
            "cells": {
             "fill": {
              "color": "#EBF0F8"
             },
             "line": {
              "color": "white"
             }
            },
            "header": {
             "fill": {
              "color": "#C8D4E3"
             },
             "line": {
              "color": "white"
             }
            },
            "type": "table"
           }
          ]
         },
         "layout": {
          "annotationdefaults": {
           "arrowcolor": "#2a3f5f",
           "arrowhead": 0,
           "arrowwidth": 1
          },
          "autotypenumbers": "strict",
          "coloraxis": {
           "colorbar": {
            "outlinewidth": 0,
            "ticks": ""
           }
          },
          "colorscale": {
           "diverging": [
            [
             0,
             "#8e0152"
            ],
            [
             0.1,
             "#c51b7d"
            ],
            [
             0.2,
             "#de77ae"
            ],
            [
             0.3,
             "#f1b6da"
            ],
            [
             0.4,
             "#fde0ef"
            ],
            [
             0.5,
             "#f7f7f7"
            ],
            [
             0.6,
             "#e6f5d0"
            ],
            [
             0.7,
             "#b8e186"
            ],
            [
             0.8,
             "#7fbc41"
            ],
            [
             0.9,
             "#4d9221"
            ],
            [
             1,
             "#276419"
            ]
           ],
           "sequential": [
            [
             0,
             "#0d0887"
            ],
            [
             0.1111111111111111,
             "#46039f"
            ],
            [
             0.2222222222222222,
             "#7201a8"
            ],
            [
             0.3333333333333333,
             "#9c179e"
            ],
            [
             0.4444444444444444,
             "#bd3786"
            ],
            [
             0.5555555555555556,
             "#d8576b"
            ],
            [
             0.6666666666666666,
             "#ed7953"
            ],
            [
             0.7777777777777778,
             "#fb9f3a"
            ],
            [
             0.8888888888888888,
             "#fdca26"
            ],
            [
             1,
             "#f0f921"
            ]
           ],
           "sequentialminus": [
            [
             0,
             "#0d0887"
            ],
            [
             0.1111111111111111,
             "#46039f"
            ],
            [
             0.2222222222222222,
             "#7201a8"
            ],
            [
             0.3333333333333333,
             "#9c179e"
            ],
            [
             0.4444444444444444,
             "#bd3786"
            ],
            [
             0.5555555555555556,
             "#d8576b"
            ],
            [
             0.6666666666666666,
             "#ed7953"
            ],
            [
             0.7777777777777778,
             "#fb9f3a"
            ],
            [
             0.8888888888888888,
             "#fdca26"
            ],
            [
             1,
             "#f0f921"
            ]
           ]
          },
          "colorway": [
           "#636efa",
           "#EF553B",
           "#00cc96",
           "#ab63fa",
           "#FFA15A",
           "#19d3f3",
           "#FF6692",
           "#B6E880",
           "#FF97FF",
           "#FECB52"
          ],
          "font": {
           "color": "#2a3f5f"
          },
          "geo": {
           "bgcolor": "white",
           "lakecolor": "white",
           "landcolor": "#E5ECF6",
           "showlakes": true,
           "showland": true,
           "subunitcolor": "white"
          },
          "hoverlabel": {
           "align": "left"
          },
          "hovermode": "closest",
          "mapbox": {
           "style": "light"
          },
          "paper_bgcolor": "white",
          "plot_bgcolor": "#E5ECF6",
          "polar": {
           "angularaxis": {
            "gridcolor": "white",
            "linecolor": "white",
            "ticks": ""
           },
           "bgcolor": "#E5ECF6",
           "radialaxis": {
            "gridcolor": "white",
            "linecolor": "white",
            "ticks": ""
           }
          },
          "scene": {
           "xaxis": {
            "backgroundcolor": "#E5ECF6",
            "gridcolor": "white",
            "gridwidth": 2,
            "linecolor": "white",
            "showbackground": true,
            "ticks": "",
            "zerolinecolor": "white"
           },
           "yaxis": {
            "backgroundcolor": "#E5ECF6",
            "gridcolor": "white",
            "gridwidth": 2,
            "linecolor": "white",
            "showbackground": true,
            "ticks": "",
            "zerolinecolor": "white"
           },
           "zaxis": {
            "backgroundcolor": "#E5ECF6",
            "gridcolor": "white",
            "gridwidth": 2,
            "linecolor": "white",
            "showbackground": true,
            "ticks": "",
            "zerolinecolor": "white"
           }
          },
          "shapedefaults": {
           "line": {
            "color": "#2a3f5f"
           }
          },
          "ternary": {
           "aaxis": {
            "gridcolor": "white",
            "linecolor": "white",
            "ticks": ""
           },
           "baxis": {
            "gridcolor": "white",
            "linecolor": "white",
            "ticks": ""
           },
           "bgcolor": "#E5ECF6",
           "caxis": {
            "gridcolor": "white",
            "linecolor": "white",
            "ticks": ""
           }
          },
          "title": {
           "x": 0.05
          },
          "xaxis": {
           "automargin": true,
           "gridcolor": "white",
           "linecolor": "white",
           "ticks": "",
           "title": {
            "standoff": 15
           },
           "zerolinecolor": "white",
           "zerolinewidth": 2
          },
          "yaxis": {
           "automargin": true,
           "gridcolor": "white",
           "linecolor": "white",
           "ticks": "",
           "title": {
            "standoff": 15
           },
           "zerolinecolor": "white",
           "zerolinewidth": 2
          }
         }
        },
        "title": {
         "text": "Diagrama de Sankey de Tópicos y Términos"
        }
       }
      }
     },
     "metadata": {},
     "output_type": "display_data"
    }
   ],
   "source": [
    "# Crear un conjunto de términos únicos\n",
    "unique_terms = set()\n",
    "for topic_id, topic_words in topics:\n",
    "    terms = [term.split('*')[1].strip('\"') for term in topic_words.split(' + ')]\n",
    "    unique_terms.update(terms)\n",
    "\n",
    "# Crear listas para nodos y enlaces\n",
    "nodes = list(unique_terms)\n",
    "source_indices = []\n",
    "target_indices = []\n",
    "values = []\n",
    "\n",
    "# Procesar los tópicos y sus palabras clave para identificar las conexiones\n",
    "for topic_id, topic_words in topics:\n",
    "    terms = [term.split('*')[1].strip('\"') for term in topic_words.split(' + ')]\n",
    "    for term in terms:\n",
    "        source_indices.append(nodes.index(term))\n",
    "        target_indices.append(len(nodes) + topic_id)  # Cada tema se representa como un nodo adicional\n",
    "        values.append(1)\n",
    "\n",
    "# Crear un diagrama de Sankey\n",
    "fig = go.Figure(go.Sankey(\n",
    "    node=dict(\n",
    "        pad=15,\n",
    "        thickness=20,\n",
    "        line=dict(color=\"black\", width=0.5),\n",
    "        label=nodes  # Etiquetas de los términos\n",
    "    ),\n",
    "    link=dict(\n",
    "        source=source_indices,\n",
    "        target=target_indices,\n",
    "        value=values\n",
    "    )\n",
    "))\n",
    "\n",
    "# Mostrar el diagrama de Sankey\n",
    "fig.update_layout(title_text=\"Diagrama de Sankey de Tópicos y Términos\")\n",
    "fig.show()"
   ]
  },
  {
   "cell_type": "code",
   "execution_count": null,
   "metadata": {},
   "outputs": [],
   "source": []
  }
 ],
 "metadata": {
  "kernelspec": {
   "display_name": "Python 3",
   "language": "python",
   "name": "python3"
  },
  "language_info": {
   "codemirror_mode": {
    "name": "ipython",
    "version": 3
   },
   "file_extension": ".py",
   "mimetype": "text/x-python",
   "name": "python",
   "nbconvert_exporter": "python",
   "pygments_lexer": "ipython3",
   "version": "3.10.12"
  }
 },
 "nbformat": 4,
 "nbformat_minor": 2
}
