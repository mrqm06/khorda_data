{
 "cells": [
  {
   "cell_type": "markdown",
   "metadata": {},
   "source": [
    "# Análisis en los comentarios"
   ]
  },
  {
   "cell_type": "code",
   "execution_count": 1,
   "metadata": {},
   "outputs": [
    {
     "name": "stderr",
     "output_type": "stream",
     "text": [
      "[nltk_data] Downloading package punkt to /home/milton/nltk_data...\n",
      "[nltk_data]   Package punkt is already up-to-date!\n",
      "[nltk_data] Downloading package stopwords to /home/milton/nltk_data...\n",
      "[nltk_data]   Package stopwords is already up-to-date!\n"
     ]
    }
   ],
   "source": [
    "# Importamos las librerías\n",
    "\n",
    "import re\n",
    "import nltk\n",
    "import pandas as pd\n",
    "from datetime import datetime\n",
    "from nltk.sentiment.vader import SentimentIntensityAnalyzer\n",
    "from nltk.corpus import stopwords\n",
    "from wordcloud import WordCloud\n",
    "import matplotlib.pyplot as plt\n",
    "import plotly.graph_objects as go\n",
    "import plotly.express as px\n",
    "from nltk.tokenize import RegexpTokenizer\n",
    "\n",
    "import gensim\n",
    "from gensim import corpora\n",
    "from gensim.models import LdaModel\n",
    "from nltk.tokenize import word_tokenize\n",
    "from nltk.corpus import stopwords\n",
    "import string\n",
    "\n",
    "###Diccionarios en español para el análisis de polaridad\n",
    "nltk.download('punkt')\n",
    "# Tokenización\n",
    "# Descargar el conjunto de stopwords en español si no lo tienes\n",
    "nltk.download('stopwords')\n",
    "# Análisis de polaridad\n",
    "# Obtención de listado de stopwords del inglés\n",
    "stop_words = list(stopwords.words('spanish'))"
   ]
  },
  {
   "cell_type": "code",
   "execution_count": 2,
   "metadata": {},
   "outputs": [
    {
     "data": {
      "text/html": [
       "<div>\n",
       "<style scoped>\n",
       "    .dataframe tbody tr th:only-of-type {\n",
       "        vertical-align: middle;\n",
       "    }\n",
       "\n",
       "    .dataframe tbody tr th {\n",
       "        vertical-align: top;\n",
       "    }\n",
       "\n",
       "    .dataframe thead th {\n",
       "        text-align: right;\n",
       "    }\n",
       "</style>\n",
       "<table border=\"1\" class=\"dataframe\">\n",
       "  <thead>\n",
       "    <tr style=\"text-align: right;\">\n",
       "      <th></th>\n",
       "      <th>texto</th>\n",
       "    </tr>\n",
       "  </thead>\n",
       "  <tbody>\n",
       "    <tr>\n",
       "      <th>0</th>\n",
       "      <td>Que gusto poder acompañarlos el día de hoy, en...</td>\n",
       "    </tr>\n",
       "    <tr>\n",
       "      <th>1</th>\n",
       "      <td>Muchas gracias, amigo. Sin tu apoyo esto no hu...</td>\n",
       "    </tr>\n",
       "    <tr>\n",
       "      <th>2</th>\n",
       "      <td>76</td>\n",
       "    </tr>\n",
       "    <tr>\n",
       "      <th>3</th>\n",
       "      <td>se han realizado no menos de cuatro reportes s...</td>\n",
       "    </tr>\n",
       "    <tr>\n",
       "      <th>4</th>\n",
       "      <td>Te felicito amigo @JuanJoseFrangie</td>\n",
       "    </tr>\n",
       "    <tr>\n",
       "      <th>...</th>\n",
       "      <td>...</td>\n",
       "    </tr>\n",
       "    <tr>\n",
       "      <th>815</th>\n",
       "      <td>No creo, mira lo que han hecho en Zapopan esos...</td>\n",
       "    </tr>\n",
       "    <tr>\n",
       "      <th>816</th>\n",
       "      <td>Animo Guadalajara!! @hagala_ @Trafico_ZMG</td>\n",
       "    </tr>\n",
       "    <tr>\n",
       "      <th>817</th>\n",
       "      <td>Oye de mi gran amigo el Doc lomeli, no vas a e...</td>\n",
       "    </tr>\n",
       "    <tr>\n",
       "      <th>818</th>\n",
       "      <td>@MilyRocha19 @felixgastelum1</td>\n",
       "    </tr>\n",
       "    <tr>\n",
       "      <th>819</th>\n",
       "      <td></td>\n",
       "    </tr>\n",
       "  </tbody>\n",
       "</table>\n",
       "<p>820 rows × 1 columns</p>\n",
       "</div>"
      ],
      "text/plain": [
       "                                                 texto\n",
       "0    Que gusto poder acompañarlos el día de hoy, en...\n",
       "1    Muchas gracias, amigo. Sin tu apoyo esto no hu...\n",
       "2                                                 76  \n",
       "3    se han realizado no menos de cuatro reportes s...\n",
       "4                  Te felicito amigo @JuanJoseFrangie \n",
       "..                                                 ...\n",
       "815  No creo, mira lo que han hecho en Zapopan esos...\n",
       "816          Animo Guadalajara!! @hagala_ @Trafico_ZMG\n",
       "817  Oye de mi gran amigo el Doc lomeli, no vas a e...\n",
       "818                       @MilyRocha19 @felixgastelum1\n",
       "819                                                   \n",
       "\n",
       "[820 rows x 1 columns]"
      ]
     },
     "execution_count": 2,
     "metadata": {},
     "output_type": "execute_result"
    }
   ],
   "source": [
    "df_coments = pd.read_csv(\"twitter_coments_lemus.csv\", usecols=[\"css-901oao 4\", \"css-901oao 11\", \"css-901oao 14\"])\n",
    "df_coments=df_coments.fillna('')\n",
    "df_coments[\"texto\"] = df_coments[\"css-901oao 4\"] + ' ' + df_coments[\"css-901oao 11\"] + ' ' + df_coments[\"css-901oao 14\"]\n",
    "df_coments = df_coments.drop(\"css-901oao 4\", axis=1)\n",
    "df_coments = df_coments.drop(\"css-901oao 11\", axis=1)\n",
    "df_coments = df_coments.drop(\"css-901oao 14\", axis=1)\n",
    "df_coments"
   ]
  },
  {
   "cell_type": "code",
   "execution_count": 3,
   "metadata": {},
   "outputs": [
    {
     "data": {
      "text/html": [
       "<div>\n",
       "<style scoped>\n",
       "    .dataframe tbody tr th:only-of-type {\n",
       "        vertical-align: middle;\n",
       "    }\n",
       "\n",
       "    .dataframe tbody tr th {\n",
       "        vertical-align: top;\n",
       "    }\n",
       "\n",
       "    .dataframe thead th {\n",
       "        text-align: right;\n",
       "    }\n",
       "</style>\n",
       "<table border=\"1\" class=\"dataframe\">\n",
       "  <thead>\n",
       "    <tr style=\"text-align: right;\">\n",
       "      <th></th>\n",
       "      <th>texto</th>\n",
       "    </tr>\n",
       "  </thead>\n",
       "  <tbody>\n",
       "    <tr>\n",
       "      <th>0</th>\n",
       "      <td>que gusto poder acompañarlos el día de hoy en ...</td>\n",
       "    </tr>\n",
       "    <tr>\n",
       "      <th>1</th>\n",
       "      <td>muchas gracias amigo sin tu apoyo esto no hubi...</td>\n",
       "    </tr>\n",
       "    <tr>\n",
       "      <th>2</th>\n",
       "      <td>76</td>\n",
       "    </tr>\n",
       "    <tr>\n",
       "      <th>3</th>\n",
       "      <td>se han realizado no menos de cuatro reportes s...</td>\n",
       "    </tr>\n",
       "    <tr>\n",
       "      <th>4</th>\n",
       "      <td>te felicito amigo juanjosefrangie</td>\n",
       "    </tr>\n",
       "    <tr>\n",
       "      <th>...</th>\n",
       "      <td>...</td>\n",
       "    </tr>\n",
       "    <tr>\n",
       "      <th>815</th>\n",
       "      <td>no creo mira lo que han hecho en zapopan esos ...</td>\n",
       "    </tr>\n",
       "    <tr>\n",
       "      <th>816</th>\n",
       "      <td>animo guadalajara hagala_ trafico_zmg</td>\n",
       "    </tr>\n",
       "    <tr>\n",
       "      <th>817</th>\n",
       "      <td>oye de mi gran amigo el doc lomeli no vas a es...</td>\n",
       "    </tr>\n",
       "    <tr>\n",
       "      <th>818</th>\n",
       "      <td>milyrocha19 felixgastelum1</td>\n",
       "    </tr>\n",
       "    <tr>\n",
       "      <th>819</th>\n",
       "      <td></td>\n",
       "    </tr>\n",
       "  </tbody>\n",
       "</table>\n",
       "<p>820 rows × 1 columns</p>\n",
       "</div>"
      ],
      "text/plain": [
       "                                                 texto\n",
       "0    que gusto poder acompañarlos el día de hoy en ...\n",
       "1    muchas gracias amigo sin tu apoyo esto no hubi...\n",
       "2                                                   76\n",
       "3    se han realizado no menos de cuatro reportes s...\n",
       "4                    te felicito amigo juanjosefrangie\n",
       "..                                                 ...\n",
       "815  no creo mira lo que han hecho en zapopan esos ...\n",
       "816              animo guadalajara hagala_ trafico_zmg\n",
       "817  oye de mi gran amigo el doc lomeli no vas a es...\n",
       "818                         milyrocha19 felixgastelum1\n",
       "819                                                   \n",
       "\n",
       "[820 rows x 1 columns]"
      ]
     },
     "execution_count": 3,
     "metadata": {},
     "output_type": "execute_result"
    }
   ],
   "source": [
    "def limpiar_texto(texto):\n",
    "    # Eliminar caracteres especiales y números\n",
    "    texto_limpio = re.sub(r'[^\\w\\sáéíóúüÁÉÍÓÚÜñ]', '', texto, flags=re.UNICODE)\n",
    "    # Eliminar espacios en blanco adicionales y convertir a minúsculas\n",
    "    texto_limpio = ' '.join(texto_limpio.split()).lower()\n",
    "    return texto_limpio\n",
    "\n",
    "df_coments[\"texto\"] = df_coments[\"texto\"].apply(limpiar_texto)\n",
    "df_coments_clean = df_coments.copy()\n",
    "df_coments"
   ]
  },
  {
   "cell_type": "code",
   "execution_count": 4,
   "metadata": {},
   "outputs": [
    {
     "data": {
      "text/html": [
       "<div>\n",
       "<style scoped>\n",
       "    .dataframe tbody tr th:only-of-type {\n",
       "        vertical-align: middle;\n",
       "    }\n",
       "\n",
       "    .dataframe tbody tr th {\n",
       "        vertical-align: top;\n",
       "    }\n",
       "\n",
       "    .dataframe thead th {\n",
       "        text-align: right;\n",
       "    }\n",
       "</style>\n",
       "<table border=\"1\" class=\"dataframe\">\n",
       "  <thead>\n",
       "    <tr style=\"text-align: right;\">\n",
       "      <th></th>\n",
       "      <th>texto</th>\n",
       "      <th>tokens</th>\n",
       "    </tr>\n",
       "  </thead>\n",
       "  <tbody>\n",
       "    <tr>\n",
       "      <th>0</th>\n",
       "      <td>que gusto poder acompañarlos el día de hoy en ...</td>\n",
       "      <td>[que, gusto, poder, acompañarlos, el, día, de,...</td>\n",
       "    </tr>\n",
       "    <tr>\n",
       "      <th>1</th>\n",
       "      <td>muchas gracias amigo sin tu apoyo esto no hubi...</td>\n",
       "      <td>[muchas, gracias, amigo, sin, tu, apoyo, esto,...</td>\n",
       "    </tr>\n",
       "    <tr>\n",
       "      <th>2</th>\n",
       "      <td>76</td>\n",
       "      <td>[76]</td>\n",
       "    </tr>\n",
       "    <tr>\n",
       "      <th>3</th>\n",
       "      <td>se han realizado no menos de cuatro reportes s...</td>\n",
       "      <td>[se, han, realizado, no, menos, de, cuatro, re...</td>\n",
       "    </tr>\n",
       "    <tr>\n",
       "      <th>4</th>\n",
       "      <td>te felicito amigo juanjosefrangie</td>\n",
       "      <td>[te, felicito, amigo, juanjosefrangie]</td>\n",
       "    </tr>\n",
       "    <tr>\n",
       "      <th>...</th>\n",
       "      <td>...</td>\n",
       "      <td>...</td>\n",
       "    </tr>\n",
       "    <tr>\n",
       "      <th>815</th>\n",
       "      <td>no creo mira lo que han hecho en zapopan esos ...</td>\n",
       "      <td>[no, creo, mira, lo, que, han, hecho, en, zapo...</td>\n",
       "    </tr>\n",
       "    <tr>\n",
       "      <th>816</th>\n",
       "      <td>animo guadalajara hagala_ trafico_zmg</td>\n",
       "      <td>[animo, guadalajara, hagala_, trafico_zmg]</td>\n",
       "    </tr>\n",
       "    <tr>\n",
       "      <th>817</th>\n",
       "      <td>oye de mi gran amigo el doc lomeli no vas a es...</td>\n",
       "      <td>[oye, de, mi, gran, amigo, el, doc, lomeli, no...</td>\n",
       "    </tr>\n",
       "    <tr>\n",
       "      <th>818</th>\n",
       "      <td>milyrocha19 felixgastelum1</td>\n",
       "      <td>[milyrocha19, felixgastelum1]</td>\n",
       "    </tr>\n",
       "    <tr>\n",
       "      <th>819</th>\n",
       "      <td></td>\n",
       "      <td>[]</td>\n",
       "    </tr>\n",
       "  </tbody>\n",
       "</table>\n",
       "<p>820 rows × 2 columns</p>\n",
       "</div>"
      ],
      "text/plain": [
       "                                                 texto  \\\n",
       "0    que gusto poder acompañarlos el día de hoy en ...   \n",
       "1    muchas gracias amigo sin tu apoyo esto no hubi...   \n",
       "2                                                   76   \n",
       "3    se han realizado no menos de cuatro reportes s...   \n",
       "4                    te felicito amigo juanjosefrangie   \n",
       "..                                                 ...   \n",
       "815  no creo mira lo que han hecho en zapopan esos ...   \n",
       "816              animo guadalajara hagala_ trafico_zmg   \n",
       "817  oye de mi gran amigo el doc lomeli no vas a es...   \n",
       "818                         milyrocha19 felixgastelum1   \n",
       "819                                                      \n",
       "\n",
       "                                                tokens  \n",
       "0    [que, gusto, poder, acompañarlos, el, día, de,...  \n",
       "1    [muchas, gracias, amigo, sin, tu, apoyo, esto,...  \n",
       "2                                                 [76]  \n",
       "3    [se, han, realizado, no, menos, de, cuatro, re...  \n",
       "4               [te, felicito, amigo, juanjosefrangie]  \n",
       "..                                                 ...  \n",
       "815  [no, creo, mira, lo, que, han, hecho, en, zapo...  \n",
       "816         [animo, guadalajara, hagala_, trafico_zmg]  \n",
       "817  [oye, de, mi, gran, amigo, el, doc, lomeli, no...  \n",
       "818                      [milyrocha19, felixgastelum1]  \n",
       "819                                                 []  \n",
       "\n",
       "[820 rows x 2 columns]"
      ]
     },
     "execution_count": 4,
     "metadata": {},
     "output_type": "execute_result"
    }
   ],
   "source": [
    "df_coments['texto'] = df_coments['texto'].str.lower()\n",
    "tokenizer = RegexpTokenizer(r'\\w+')\n",
    "df_coments['tokens'] = df_coments['texto'].apply(tokenizer.tokenize)\n",
    "df_coments.to_csv(\"coments_x.csv\")\n",
    "df_coments"
   ]
  },
  {
   "cell_type": "code",
   "execution_count": 5,
   "metadata": {},
   "outputs": [],
   "source": [
    "# Se añade la stoprword: amp, ax, ex\n",
    "stop_words.extend((\"q\", \"d\", \"van\", \"si\", \"pa\", \"así\", \"ser\", \"solo\", \"tan\", \"va\", \"as\",\n",
    "                \"le\", \"con\",\"ella\", \"qué\", \"por\", \"qu\", \"ers\", \"das\", \"ve\", \"jajaja\", \"jeje\", \"La\", \"nimo\", \"ms\", \"da\"))"
   ]
  },
  {
   "cell_type": "code",
   "execution_count": 6,
   "metadata": {},
   "outputs": [
    {
     "data": {
      "text/html": [
       "<div>\n",
       "<style scoped>\n",
       "    .dataframe tbody tr th:only-of-type {\n",
       "        vertical-align: middle;\n",
       "    }\n",
       "\n",
       "    .dataframe tbody tr th {\n",
       "        vertical-align: top;\n",
       "    }\n",
       "\n",
       "    .dataframe thead th {\n",
       "        text-align: right;\n",
       "    }\n",
       "</style>\n",
       "<table border=\"1\" class=\"dataframe\">\n",
       "  <thead>\n",
       "    <tr style=\"text-align: right;\">\n",
       "      <th></th>\n",
       "      <th>texto</th>\n",
       "      <th>tokens</th>\n",
       "    </tr>\n",
       "  </thead>\n",
       "  <tbody>\n",
       "    <tr>\n",
       "      <th>0</th>\n",
       "      <td>que gusto poder acompañarlos el día de hoy en ...</td>\n",
       "      <td>[que, gusto, poder, acompañarlos, el, día, de,...</td>\n",
       "    </tr>\n",
       "    <tr>\n",
       "      <th>1</th>\n",
       "      <td>muchas gracias amigo sin tu apoyo esto no hubi...</td>\n",
       "      <td>[muchas, gracias, amigo, sin, tu, apoyo, esto,...</td>\n",
       "    </tr>\n",
       "    <tr>\n",
       "      <th>2</th>\n",
       "      <td>76</td>\n",
       "      <td>[76]</td>\n",
       "    </tr>\n",
       "    <tr>\n",
       "      <th>3</th>\n",
       "      <td>se han realizado no menos de cuatro reportes s...</td>\n",
       "      <td>[se, han, realizado, no, menos, de, cuatro, re...</td>\n",
       "    </tr>\n",
       "    <tr>\n",
       "      <th>4</th>\n",
       "      <td>te felicito amigo juanjosefrangie</td>\n",
       "      <td>[te, felicito, amigo, juanjosefrangie]</td>\n",
       "    </tr>\n",
       "    <tr>\n",
       "      <th>...</th>\n",
       "      <td>...</td>\n",
       "      <td>...</td>\n",
       "    </tr>\n",
       "    <tr>\n",
       "      <th>815</th>\n",
       "      <td>no creo mira lo que han hecho en zapopan esos ...</td>\n",
       "      <td>[no, creo, mira, lo, que, han, hecho, en, zapo...</td>\n",
       "    </tr>\n",
       "    <tr>\n",
       "      <th>816</th>\n",
       "      <td>animo guadalajara hagala_ trafico_zmg</td>\n",
       "      <td>[animo, guadalajara, hagala_, trafico_zmg]</td>\n",
       "    </tr>\n",
       "    <tr>\n",
       "      <th>817</th>\n",
       "      <td>oye de mi gran amigo el doc lomeli no vas a es...</td>\n",
       "      <td>[oye, de, mi, gran, amigo, el, doc, lomeli, no...</td>\n",
       "    </tr>\n",
       "    <tr>\n",
       "      <th>818</th>\n",
       "      <td>milyrocha19 felixgastelum1</td>\n",
       "      <td>[milyrocha19, felixgastelum1]</td>\n",
       "    </tr>\n",
       "    <tr>\n",
       "      <th>819</th>\n",
       "      <td></td>\n",
       "      <td>[]</td>\n",
       "    </tr>\n",
       "  </tbody>\n",
       "</table>\n",
       "<p>820 rows × 2 columns</p>\n",
       "</div>"
      ],
      "text/plain": [
       "                                                 texto  \\\n",
       "0    que gusto poder acompañarlos el día de hoy en ...   \n",
       "1    muchas gracias amigo sin tu apoyo esto no hubi...   \n",
       "2                                                   76   \n",
       "3    se han realizado no menos de cuatro reportes s...   \n",
       "4                    te felicito amigo juanjosefrangie   \n",
       "..                                                 ...   \n",
       "815  no creo mira lo que han hecho en zapopan esos ...   \n",
       "816              animo guadalajara hagala_ trafico_zmg   \n",
       "817  oye de mi gran amigo el doc lomeli no vas a es...   \n",
       "818                         milyrocha19 felixgastelum1   \n",
       "819                                                      \n",
       "\n",
       "                                                tokens  \n",
       "0    [que, gusto, poder, acompañarlos, el, día, de,...  \n",
       "1    [muchas, gracias, amigo, sin, tu, apoyo, esto,...  \n",
       "2                                                 [76]  \n",
       "3    [se, han, realizado, no, menos, de, cuatro, re...  \n",
       "4               [te, felicito, amigo, juanjosefrangie]  \n",
       "..                                                 ...  \n",
       "815  [no, creo, mira, lo, que, han, hecho, en, zapo...  \n",
       "816         [animo, guadalajara, hagala_, trafico_zmg]  \n",
       "817  [oye, de, mi, gran, amigo, el, doc, lomeli, no...  \n",
       "818                      [milyrocha19, felixgastelum1]  \n",
       "819                                                 []  \n",
       "\n",
       "[820 rows x 2 columns]"
      ]
     },
     "execution_count": 6,
     "metadata": {},
     "output_type": "execute_result"
    }
   ],
   "source": [
    "# Filtrado para excluir stopwords\n",
    "# ==============================================================================\n",
    "tweets_tidy = df_coments[~(df_coments[\"tokens\"].isin(stop_words))]\n",
    "tweets_tidy"
   ]
  },
  {
   "cell_type": "code",
   "execution_count": 7,
   "metadata": {},
   "outputs": [
    {
     "data": {
      "text/plain": [
       "0      [gusto, poder, acompañarlos, día, hoy, represe...\n",
       "1      [muchas, gracias, amigo, apoyo, sido, posible,...\n",
       "2                                                     []\n",
       "3      [realizado, menos, cuatro, reportes, tener, re...\n",
       "4                     [felicito, amigo, juanjosefrangie]\n",
       "                             ...                        \n",
       "815    [creo, mira, hecho, zapopan, gobiernos, danted...\n",
       "816                                 [animo, guadalajara]\n",
       "817    [oye, gran, amigo, doc, lomeli, vas, hablando,...\n",
       "818                                                   []\n",
       "819                                                   []\n",
       "Name: tokens, Length: 820, dtype: object"
      ]
     },
     "execution_count": 7,
     "metadata": {},
     "output_type": "execute_result"
    }
   ],
   "source": [
    "##########NUBE DE PALABRAS\n",
    "def preprocess_text(text):\n",
    "    words = text # Tokenizar y convertir a minúsculas\n",
    "    words = [word for word in words if word.isalpha()]  # Eliminar caracteres no alfabéticos\n",
    "    words = [word for word in words if word not in stop_words]  # Eliminar palabras vacías\n",
    "    return words\n",
    "\n",
    "\n",
    "preprocessed_text = tweets_tidy[\"tokens\"].apply(preprocess_text)\n",
    "\n",
    "preprocessed_text"
   ]
  },
  {
   "cell_type": "code",
   "execution_count": 8,
   "metadata": {},
   "outputs": [
    {
     "data": {
      "text/plain": [
       "pandas.core.series.Series"
      ]
     },
     "execution_count": 8,
     "metadata": {},
     "output_type": "execute_result"
    }
   ],
   "source": [
    "# Unimos todas las listas de palabras en una sola lista\n",
    "all_words = [word for sublist in preprocessed_text.values for word in sublist]\n",
    "\n",
    "# Creamos un DataFrame con las palabras y sus frecuencias\n",
    "word_counts = pd.Series(all_words).value_counts()\n",
    "\n",
    "# Tomamos las palabras más comunes (puedes ajustar este valor según tus necesidades)\n",
    "top_words = word_counts.head(10)\n",
    "top_words.to_csv(\"top_words_coments.csv\")\n",
    "type(top_words)"
   ]
  },
  {
   "cell_type": "code",
   "execution_count": 9,
   "metadata": {},
   "outputs": [
    {
     "data": {
      "text/plain": [
       "pablolemusn    309\n",
       "gracias         47\n",
       "jalisco         42\n",
       "ánimo           41\n",
       "guadalajara     39\n",
       "              ... \n",
       "maria            1\n",
       "aspiroz          1\n",
       "adentro          1\n",
       "quemando         1\n",
       "hablando         1\n",
       "Name: count, Length: 2627, dtype: int64"
      ]
     },
     "execution_count": 9,
     "metadata": {},
     "output_type": "execute_result"
    }
   ],
   "source": [
    "word_counts"
   ]
  },
  {
   "cell_type": "code",
   "execution_count": 10,
   "metadata": {},
   "outputs": [
    {
     "ename": "ValueError",
     "evalue": "Only supported for TrueType fonts",
     "output_type": "error",
     "traceback": [
      "\u001b[0;31m---------------------------------------------------------------------------\u001b[0m",
      "\u001b[0;31mValueError\u001b[0m                                Traceback (most recent call last)",
      "Cell \u001b[0;32mIn[10], line 4\u001b[0m\n\u001b[1;32m      2\u001b[0m texto \u001b[38;5;241m=\u001b[39m \u001b[38;5;124m\"\u001b[39m\u001b[38;5;124m \u001b[39m\u001b[38;5;124m\"\u001b[39m\u001b[38;5;241m.\u001b[39mjoin(all_words)\n\u001b[1;32m      3\u001b[0m \u001b[38;5;66;03m# Crear el objeto WordCloud\u001b[39;00m\n\u001b[0;32m----> 4\u001b[0m wordcloud \u001b[38;5;241m=\u001b[39m \u001b[43mWordCloud\u001b[49m\u001b[43m(\u001b[49m\u001b[43mwidth\u001b[49m\u001b[38;5;241;43m=\u001b[39;49m\u001b[38;5;241;43m800\u001b[39;49m\u001b[43m,\u001b[49m\u001b[43m \u001b[49m\u001b[43mheight\u001b[49m\u001b[38;5;241;43m=\u001b[39;49m\u001b[38;5;241;43m400\u001b[39;49m\u001b[43m,\u001b[49m\u001b[43m \u001b[49m\u001b[43mbackground_color\u001b[49m\u001b[38;5;241;43m=\u001b[39;49m\u001b[38;5;124;43m\"\u001b[39;49m\u001b[38;5;124;43mwhite\u001b[39;49m\u001b[38;5;124;43m\"\u001b[39;49m\u001b[43m)\u001b[49m\u001b[38;5;241;43m.\u001b[39;49m\u001b[43mgenerate\u001b[49m\u001b[43m(\u001b[49m\u001b[43mtexto\u001b[49m\u001b[43m)\u001b[49m\n\u001b[1;32m      5\u001b[0m \u001b[38;5;66;03m# Mostrar la nube de palabras utilizando matplotlib\u001b[39;00m\n\u001b[1;32m      6\u001b[0m plt\u001b[38;5;241m.\u001b[39mfigure(figsize\u001b[38;5;241m=\u001b[39m(\u001b[38;5;241m10\u001b[39m, \u001b[38;5;241m5\u001b[39m))\n",
      "File \u001b[0;32m~/.local/lib/python3.10/site-packages/wordcloud/wordcloud.py:639\u001b[0m, in \u001b[0;36mWordCloud.generate\u001b[0;34m(self, text)\u001b[0m\n\u001b[1;32m    624\u001b[0m \u001b[38;5;28;01mdef\u001b[39;00m \u001b[38;5;21mgenerate\u001b[39m(\u001b[38;5;28mself\u001b[39m, text):\n\u001b[1;32m    625\u001b[0m \u001b[38;5;250m    \u001b[39m\u001b[38;5;124;03m\"\"\"Generate wordcloud from text.\u001b[39;00m\n\u001b[1;32m    626\u001b[0m \n\u001b[1;32m    627\u001b[0m \u001b[38;5;124;03m    The input \"text\" is expected to be a natural text. If you pass a sorted\u001b[39;00m\n\u001b[0;32m   (...)\u001b[0m\n\u001b[1;32m    637\u001b[0m \u001b[38;5;124;03m    self\u001b[39;00m\n\u001b[1;32m    638\u001b[0m \u001b[38;5;124;03m    \"\"\"\u001b[39;00m\n\u001b[0;32m--> 639\u001b[0m     \u001b[38;5;28;01mreturn\u001b[39;00m \u001b[38;5;28;43mself\u001b[39;49m\u001b[38;5;241;43m.\u001b[39;49m\u001b[43mgenerate_from_text\u001b[49m\u001b[43m(\u001b[49m\u001b[43mtext\u001b[49m\u001b[43m)\u001b[49m\n",
      "File \u001b[0;32m~/.local/lib/python3.10/site-packages/wordcloud/wordcloud.py:621\u001b[0m, in \u001b[0;36mWordCloud.generate_from_text\u001b[0;34m(self, text)\u001b[0m\n\u001b[1;32m    604\u001b[0m \u001b[38;5;250m\u001b[39m\u001b[38;5;124;03m\"\"\"Generate wordcloud from text.\u001b[39;00m\n\u001b[1;32m    605\u001b[0m \n\u001b[1;32m    606\u001b[0m \u001b[38;5;124;03mThe input \"text\" is expected to be a natural text. If you pass a sorted\u001b[39;00m\n\u001b[0;32m   (...)\u001b[0m\n\u001b[1;32m    618\u001b[0m \u001b[38;5;124;03mself\u001b[39;00m\n\u001b[1;32m    619\u001b[0m \u001b[38;5;124;03m\"\"\"\u001b[39;00m\n\u001b[1;32m    620\u001b[0m words \u001b[38;5;241m=\u001b[39m \u001b[38;5;28mself\u001b[39m\u001b[38;5;241m.\u001b[39mprocess_text(text)\n\u001b[0;32m--> 621\u001b[0m \u001b[38;5;28;43mself\u001b[39;49m\u001b[38;5;241;43m.\u001b[39;49m\u001b[43mgenerate_from_frequencies\u001b[49m\u001b[43m(\u001b[49m\u001b[43mwords\u001b[49m\u001b[43m)\u001b[49m\n\u001b[1;32m    622\u001b[0m \u001b[38;5;28;01mreturn\u001b[39;00m \u001b[38;5;28mself\u001b[39m\n",
      "File \u001b[0;32m~/.local/lib/python3.10/site-packages/wordcloud/wordcloud.py:453\u001b[0m, in \u001b[0;36mWordCloud.generate_from_frequencies\u001b[0;34m(self, frequencies, max_font_size)\u001b[0m\n\u001b[1;32m    451\u001b[0m     font_size \u001b[38;5;241m=\u001b[39m \u001b[38;5;28mself\u001b[39m\u001b[38;5;241m.\u001b[39mheight\n\u001b[1;32m    452\u001b[0m \u001b[38;5;28;01melse\u001b[39;00m:\n\u001b[0;32m--> 453\u001b[0m     \u001b[38;5;28;43mself\u001b[39;49m\u001b[38;5;241;43m.\u001b[39;49m\u001b[43mgenerate_from_frequencies\u001b[49m\u001b[43m(\u001b[49m\u001b[38;5;28;43mdict\u001b[39;49m\u001b[43m(\u001b[49m\u001b[43mfrequencies\u001b[49m\u001b[43m[\u001b[49m\u001b[43m:\u001b[49m\u001b[38;5;241;43m2\u001b[39;49m\u001b[43m]\u001b[49m\u001b[43m)\u001b[49m\u001b[43m,\u001b[49m\n\u001b[1;32m    454\u001b[0m \u001b[43m                                   \u001b[49m\u001b[43mmax_font_size\u001b[49m\u001b[38;5;241;43m=\u001b[39;49m\u001b[38;5;28;43mself\u001b[39;49m\u001b[38;5;241;43m.\u001b[39;49m\u001b[43mheight\u001b[49m\u001b[43m)\u001b[49m\n\u001b[1;32m    455\u001b[0m     \u001b[38;5;66;03m# find font sizes\u001b[39;00m\n\u001b[1;32m    456\u001b[0m     sizes \u001b[38;5;241m=\u001b[39m [x[\u001b[38;5;241m1\u001b[39m] \u001b[38;5;28;01mfor\u001b[39;00m x \u001b[38;5;129;01min\u001b[39;00m \u001b[38;5;28mself\u001b[39m\u001b[38;5;241m.\u001b[39mlayout_]\n",
      "File \u001b[0;32m~/.local/lib/python3.10/site-packages/wordcloud/wordcloud.py:508\u001b[0m, in \u001b[0;36mWordCloud.generate_from_frequencies\u001b[0;34m(self, frequencies, max_font_size)\u001b[0m\n\u001b[1;32m    505\u001b[0m transposed_font \u001b[38;5;241m=\u001b[39m ImageFont\u001b[38;5;241m.\u001b[39mTransposedFont(\n\u001b[1;32m    506\u001b[0m     font, orientation\u001b[38;5;241m=\u001b[39morientation)\n\u001b[1;32m    507\u001b[0m \u001b[38;5;66;03m# get size of resulting text\u001b[39;00m\n\u001b[0;32m--> 508\u001b[0m box_size \u001b[38;5;241m=\u001b[39m \u001b[43mdraw\u001b[49m\u001b[38;5;241;43m.\u001b[39;49m\u001b[43mtextbbox\u001b[49m\u001b[43m(\u001b[49m\u001b[43m(\u001b[49m\u001b[38;5;241;43m0\u001b[39;49m\u001b[43m,\u001b[49m\u001b[43m \u001b[49m\u001b[38;5;241;43m0\u001b[39;49m\u001b[43m)\u001b[49m\u001b[43m,\u001b[49m\u001b[43m \u001b[49m\u001b[43mword\u001b[49m\u001b[43m,\u001b[49m\u001b[43m \u001b[49m\u001b[43mfont\u001b[49m\u001b[38;5;241;43m=\u001b[39;49m\u001b[43mtransposed_font\u001b[49m\u001b[43m,\u001b[49m\u001b[43m \u001b[49m\u001b[43manchor\u001b[49m\u001b[38;5;241;43m=\u001b[39;49m\u001b[38;5;124;43m\"\u001b[39;49m\u001b[38;5;124;43mlt\u001b[39;49m\u001b[38;5;124;43m\"\u001b[39;49m\u001b[43m)\u001b[49m\n\u001b[1;32m    509\u001b[0m \u001b[38;5;66;03m# find possible places using integral image:\u001b[39;00m\n\u001b[1;32m    510\u001b[0m result \u001b[38;5;241m=\u001b[39m occupancy\u001b[38;5;241m.\u001b[39msample_position(box_size[\u001b[38;5;241m3\u001b[39m] \u001b[38;5;241m+\u001b[39m \u001b[38;5;28mself\u001b[39m\u001b[38;5;241m.\u001b[39mmargin,\n\u001b[1;32m    511\u001b[0m                                    box_size[\u001b[38;5;241m2\u001b[39m] \u001b[38;5;241m+\u001b[39m \u001b[38;5;28mself\u001b[39m\u001b[38;5;241m.\u001b[39mmargin,\n\u001b[1;32m    512\u001b[0m                                    random_state)\n",
      "File \u001b[0;32m/usr/lib/python3/dist-packages/PIL/ImageDraw.py:671\u001b[0m, in \u001b[0;36mImageDraw.textbbox\u001b[0;34m(self, xy, text, font, anchor, spacing, align, direction, features, language, stroke_width, embedded_color)\u001b[0m\n\u001b[1;32m    669\u001b[0m     font \u001b[38;5;241m=\u001b[39m \u001b[38;5;28mself\u001b[39m\u001b[38;5;241m.\u001b[39mgetfont()\n\u001b[1;32m    670\u001b[0m \u001b[38;5;28;01mif\u001b[39;00m \u001b[38;5;129;01mnot\u001b[39;00m \u001b[38;5;28misinstance\u001b[39m(font, ImageFont\u001b[38;5;241m.\u001b[39mFreeTypeFont):\n\u001b[0;32m--> 671\u001b[0m     \u001b[38;5;28;01mraise\u001b[39;00m \u001b[38;5;167;01mValueError\u001b[39;00m(\u001b[38;5;124m\"\u001b[39m\u001b[38;5;124mOnly supported for TrueType fonts\u001b[39m\u001b[38;5;124m\"\u001b[39m)\n\u001b[1;32m    672\u001b[0m mode \u001b[38;5;241m=\u001b[39m \u001b[38;5;124m\"\u001b[39m\u001b[38;5;124mRGBA\u001b[39m\u001b[38;5;124m\"\u001b[39m \u001b[38;5;28;01mif\u001b[39;00m embedded_color \u001b[38;5;28;01melse\u001b[39;00m \u001b[38;5;28mself\u001b[39m\u001b[38;5;241m.\u001b[39mfontmode\n\u001b[1;32m    673\u001b[0m bbox \u001b[38;5;241m=\u001b[39m font\u001b[38;5;241m.\u001b[39mgetbbox(\n\u001b[1;32m    674\u001b[0m     text, mode, direction, features, language, stroke_width, anchor\n\u001b[1;32m    675\u001b[0m )\n",
      "\u001b[0;31mValueError\u001b[0m: Only supported for TrueType fonts"
     ]
    }
   ],
   "source": [
    "# Unir las palabras en un solo texto (separadas por espacios)\n",
    "texto = \" \".join(all_words)\n",
    "# Crear el objeto WordCloud\n",
    "wordcloud = WordCloud(width=800, height=400, background_color=\"white\").generate(texto)\n",
    "# Mostrar la nube de palabras utilizando matplotlib\n",
    "plt.figure(figsize=(10, 5))\n",
    "plt.imshow(wordcloud, interpolation='bilinear')\n",
    "plt.axis('off')  # Desactivar ejes\n",
    "plt.show()"
   ]
  },
  {
   "cell_type": "code",
   "execution_count": 11,
   "metadata": {},
   "outputs": [
    {
     "data": {
      "image/png": "[encoded data removed]",
      "text/plain": [
       "<Figure size 1000x600 with 1 Axes>"
      ]
     },
     "metadata": {},
     "output_type": "display_data"
    }
   ],
   "source": [
    "# Crear el gráfico de barras horizontal\n",
    "plt.figure(figsize=(10, 6))\n",
    "top_words.plot(kind='barh', color='skyblue')\n",
    "plt.xlabel('Frecuencia')\n",
    "plt.ylabel('Palabra')\n",
    "plt.title('Top Palabras y Frecuencias')\n",
    "plt.gca().invert_yaxis()  # Invertir el eje y para mostrar la palabra con la frecuencia más alta en la parte superior\n",
    "plt.show()"
   ]
  },
  {
   "cell_type": "code",
   "execution_count": 12,
   "metadata": {},
   "outputs": [
    {
     "data": {
      "text/html": [
       "<div>\n",
       "<style scoped>\n",
       "    .dataframe tbody tr th:only-of-type {\n",
       "        vertical-align: middle;\n",
       "    }\n",
       "\n",
       "    .dataframe tbody tr th {\n",
       "        vertical-align: top;\n",
       "    }\n",
       "\n",
       "    .dataframe thead th {\n",
       "        text-align: right;\n",
       "    }\n",
       "</style>\n",
       "<table border=\"1\" class=\"dataframe\">\n",
       "  <thead>\n",
       "    <tr style=\"text-align: right;\">\n",
       "      <th></th>\n",
       "      <th>texto</th>\n",
       "      <th>texto_preprocesado</th>\n",
       "    </tr>\n",
       "  </thead>\n",
       "  <tbody>\n",
       "    <tr>\n",
       "      <th>0</th>\n",
       "      <td>que gusto poder acompañarlos el día de hoy en ...</td>\n",
       "      <td>[gusto , acompañar él, representación, alcalde]</td>\n",
       "    </tr>\n",
       "    <tr>\n",
       "      <th>1</th>\n",
       "      <td>muchas gracias amigo sin tu apoyo esto no hubi...</td>\n",
       "      <td>[gracia, amigo, apoyo, haber, pablolemusn]</td>\n",
       "    </tr>\n",
       "    <tr>\n",
       "      <th>2</th>\n",
       "      <td>76</td>\n",
       "      <td>[]</td>\n",
       "    </tr>\n",
       "    <tr>\n",
       "      <th>3</th>\n",
       "      <td>se han realizado no menos de cuatro reportes s...</td>\n",
       "      <td>[report, respuesta, ojalá, poder, lograr, reti...</td>\n",
       "    </tr>\n",
       "    <tr>\n",
       "      <th>4</th>\n",
       "      <td>te felicito amigo juanjosefrangie</td>\n",
       "      <td>[felicito, amigo, juanjosefrangie]</td>\n",
       "    </tr>\n",
       "    <tr>\n",
       "      <th>...</th>\n",
       "      <td>...</td>\n",
       "      <td>...</td>\n",
       "    </tr>\n",
       "    <tr>\n",
       "      <th>815</th>\n",
       "      <td>no creo mira lo que han hecho en zapopan esos ...</td>\n",
       "      <td>[mirar, zapopar, gobierno, dantedelgado]</td>\n",
       "    </tr>\n",
       "    <tr>\n",
       "      <th>816</th>\n",
       "      <td>animo guadalajara hagala_ trafico_zmg</td>\n",
       "      <td>[animo, guadalajara, hagala]</td>\n",
       "    </tr>\n",
       "    <tr>\n",
       "      <th>817</th>\n",
       "      <td>oye de mi gran amigo el doc lomeli no vas a es...</td>\n",
       "      <td>[oir, amigo, doc, lomeli, ir, hablar, bitacora...</td>\n",
       "    </tr>\n",
       "    <tr>\n",
       "      <th>818</th>\n",
       "      <td>milyrocha19 felixgastelum1</td>\n",
       "      <td>[]</td>\n",
       "    </tr>\n",
       "    <tr>\n",
       "      <th>819</th>\n",
       "      <td></td>\n",
       "      <td>[]</td>\n",
       "    </tr>\n",
       "  </tbody>\n",
       "</table>\n",
       "<p>820 rows × 2 columns</p>\n",
       "</div>"
      ],
      "text/plain": [
       "                                                 texto  \\\n",
       "0    que gusto poder acompañarlos el día de hoy en ...   \n",
       "1    muchas gracias amigo sin tu apoyo esto no hubi...   \n",
       "2                                                   76   \n",
       "3    se han realizado no menos de cuatro reportes s...   \n",
       "4                    te felicito amigo juanjosefrangie   \n",
       "..                                                 ...   \n",
       "815  no creo mira lo que han hecho en zapopan esos ...   \n",
       "816              animo guadalajara hagala_ trafico_zmg   \n",
       "817  oye de mi gran amigo el doc lomeli no vas a es...   \n",
       "818                         milyrocha19 felixgastelum1   \n",
       "819                                                      \n",
       "\n",
       "                                    texto_preprocesado  \n",
       "0      [gusto , acompañar él, representación, alcalde]  \n",
       "1           [gracia, amigo, apoyo, haber, pablolemusn]  \n",
       "2                                                   []  \n",
       "3    [report, respuesta, ojalá, poder, lograr, reti...  \n",
       "4                   [felicito, amigo, juanjosefrangie]  \n",
       "..                                                 ...  \n",
       "815           [mirar, zapopar, gobierno, dantedelgado]  \n",
       "816                       [animo, guadalajara, hagala]  \n",
       "817  [oir, amigo, doc, lomeli, ir, hablar, bitacora...  \n",
       "818                                                 []  \n",
       "819                                                 []  \n",
       "\n",
       "[820 rows x 2 columns]"
      ]
     },
     "execution_count": 12,
     "metadata": {},
     "output_type": "execute_result"
    }
   ],
   "source": [
    "import spacy\n",
    "\n",
    "nlp = spacy.load(\"es_core_news_sm\")\n",
    "\n",
    "# Función para preprocesar el texto\n",
    "def preprocess_text(text):\n",
    "    doc = nlp(text)\n",
    "    return [token.lemma_ for token in doc if not token.is_stop and token.is_alpha]\n",
    "\n",
    "# Aplicar el preprocesamiento a cada fila del DataFrame\n",
    "df_coments_clean['texto_preprocesado'] = df_coments_clean['texto'].apply(preprocess_text)\n",
    "df_coments_clean"
   ]
  },
  {
   "cell_type": "code",
   "execution_count": 13,
   "metadata": {},
   "outputs": [
    {
     "data": {
      "text/html": [
       "<div>\n",
       "<style scoped>\n",
       "    .dataframe tbody tr th:only-of-type {\n",
       "        vertical-align: middle;\n",
       "    }\n",
       "\n",
       "    .dataframe tbody tr th {\n",
       "        vertical-align: top;\n",
       "    }\n",
       "\n",
       "    .dataframe thead th {\n",
       "        text-align: right;\n",
       "    }\n",
       "</style>\n",
       "<table border=\"1\" class=\"dataframe\">\n",
       "  <thead>\n",
       "    <tr style=\"text-align: right;\">\n",
       "      <th></th>\n",
       "      <th>texto</th>\n",
       "      <th>texto_preprocesado</th>\n",
       "      <th>bigramas_spacy</th>\n",
       "      <th>bigramas_nltk</th>\n",
       "    </tr>\n",
       "  </thead>\n",
       "  <tbody>\n",
       "    <tr>\n",
       "      <th>0</th>\n",
       "      <td>que gusto poder acompañarlos el día de hoy en ...</td>\n",
       "      <td>[gusto , acompañar él, representación, alcalde]</td>\n",
       "      <td>[(que, gusto), (gusto, poder), (poder, acompañ...</td>\n",
       "      <td>[(que, gusto), (gusto, poder), (poder, acompañ...</td>\n",
       "    </tr>\n",
       "    <tr>\n",
       "      <th>1</th>\n",
       "      <td>muchas gracias amigo sin tu apoyo esto no hubi...</td>\n",
       "      <td>[gracia, amigo, apoyo, haber, pablolemusn]</td>\n",
       "      <td>[(muchas, gracias), (gracias, amigo), (amigo, ...</td>\n",
       "      <td>[(muchas, gracias), (gracias, amigo), (amigo, ...</td>\n",
       "    </tr>\n",
       "    <tr>\n",
       "      <th>2</th>\n",
       "      <td>76</td>\n",
       "      <td>[]</td>\n",
       "      <td>[]</td>\n",
       "      <td>[]</td>\n",
       "    </tr>\n",
       "    <tr>\n",
       "      <th>3</th>\n",
       "      <td>se han realizado no menos de cuatro reportes s...</td>\n",
       "      <td>[report, respuesta, ojalá, poder, lograr, reti...</td>\n",
       "      <td>[(se, han), (han, realizado), (realizado, no),...</td>\n",
       "      <td>[(se, han), (han, realizado), (realizado, no),...</td>\n",
       "    </tr>\n",
       "    <tr>\n",
       "      <th>4</th>\n",
       "      <td>te felicito amigo juanjosefrangie</td>\n",
       "      <td>[felicito, amigo, juanjosefrangie]</td>\n",
       "      <td>[(te, felicito), (felicito, amigo), (amigo, ju...</td>\n",
       "      <td>[(te, felicito), (felicito, amigo), (amigo, ju...</td>\n",
       "    </tr>\n",
       "    <tr>\n",
       "      <th>...</th>\n",
       "      <td>...</td>\n",
       "      <td>...</td>\n",
       "      <td>...</td>\n",
       "      <td>...</td>\n",
       "    </tr>\n",
       "    <tr>\n",
       "      <th>815</th>\n",
       "      <td>no creo mira lo que han hecho en zapopan esos ...</td>\n",
       "      <td>[mirar, zapopar, gobierno, dantedelgado]</td>\n",
       "      <td>[(no, creo), (creo, mira), (mira, lo), (lo, qu...</td>\n",
       "      <td>[(no, creo), (creo, mira), (mira, lo), (lo, qu...</td>\n",
       "    </tr>\n",
       "    <tr>\n",
       "      <th>816</th>\n",
       "      <td>animo guadalajara hagala_ trafico_zmg</td>\n",
       "      <td>[animo, guadalajara, hagala]</td>\n",
       "      <td>[(animo, guadalajara), (guadalajara, hagala), ...</td>\n",
       "      <td>[(animo, guadalajara), (guadalajara, hagala_),...</td>\n",
       "    </tr>\n",
       "    <tr>\n",
       "      <th>817</th>\n",
       "      <td>oye de mi gran amigo el doc lomeli no vas a es...</td>\n",
       "      <td>[oir, amigo, doc, lomeli, ir, hablar, bitacora...</td>\n",
       "      <td>[(oye, de), (de, mi), (mi, gran), (gran, amigo...</td>\n",
       "      <td>[(oye, de), (de, mi), (mi, gran), (gran, amigo...</td>\n",
       "    </tr>\n",
       "    <tr>\n",
       "      <th>818</th>\n",
       "      <td>milyrocha19 felixgastelum1</td>\n",
       "      <td>[]</td>\n",
       "      <td>[(milyrocha19, felixgastelum1)]</td>\n",
       "      <td>[(milyrocha19, felixgastelum1)]</td>\n",
       "    </tr>\n",
       "    <tr>\n",
       "      <th>819</th>\n",
       "      <td></td>\n",
       "      <td>[]</td>\n",
       "      <td>[]</td>\n",
       "      <td>[]</td>\n",
       "    </tr>\n",
       "  </tbody>\n",
       "</table>\n",
       "<p>820 rows × 4 columns</p>\n",
       "</div>"
      ],
      "text/plain": [
       "                                                 texto  \\\n",
       "0    que gusto poder acompañarlos el día de hoy en ...   \n",
       "1    muchas gracias amigo sin tu apoyo esto no hubi...   \n",
       "2                                                   76   \n",
       "3    se han realizado no menos de cuatro reportes s...   \n",
       "4                    te felicito amigo juanjosefrangie   \n",
       "..                                                 ...   \n",
       "815  no creo mira lo que han hecho en zapopan esos ...   \n",
       "816              animo guadalajara hagala_ trafico_zmg   \n",
       "817  oye de mi gran amigo el doc lomeli no vas a es...   \n",
       "818                         milyrocha19 felixgastelum1   \n",
       "819                                                      \n",
       "\n",
       "                                    texto_preprocesado  \\\n",
       "0      [gusto , acompañar él, representación, alcalde]   \n",
       "1           [gracia, amigo, apoyo, haber, pablolemusn]   \n",
       "2                                                   []   \n",
       "3    [report, respuesta, ojalá, poder, lograr, reti...   \n",
       "4                   [felicito, amigo, juanjosefrangie]   \n",
       "..                                                 ...   \n",
       "815           [mirar, zapopar, gobierno, dantedelgado]   \n",
       "816                       [animo, guadalajara, hagala]   \n",
       "817  [oir, amigo, doc, lomeli, ir, hablar, bitacora...   \n",
       "818                                                 []   \n",
       "819                                                 []   \n",
       "\n",
       "                                        bigramas_spacy  \\\n",
       "0    [(que, gusto), (gusto, poder), (poder, acompañ...   \n",
       "1    [(muchas, gracias), (gracias, amigo), (amigo, ...   \n",
       "2                                                   []   \n",
       "3    [(se, han), (han, realizado), (realizado, no),...   \n",
       "4    [(te, felicito), (felicito, amigo), (amigo, ju...   \n",
       "..                                                 ...   \n",
       "815  [(no, creo), (creo, mira), (mira, lo), (lo, qu...   \n",
       "816  [(animo, guadalajara), (guadalajara, hagala), ...   \n",
       "817  [(oye, de), (de, mi), (mi, gran), (gran, amigo...   \n",
       "818                    [(milyrocha19, felixgastelum1)]   \n",
       "819                                                 []   \n",
       "\n",
       "                                         bigramas_nltk  \n",
       "0    [(que, gusto), (gusto, poder), (poder, acompañ...  \n",
       "1    [(muchas, gracias), (gracias, amigo), (amigo, ...  \n",
       "2                                                   []  \n",
       "3    [(se, han), (han, realizado), (realizado, no),...  \n",
       "4    [(te, felicito), (felicito, amigo), (amigo, ju...  \n",
       "..                                                 ...  \n",
       "815  [(no, creo), (creo, mira), (mira, lo), (lo, qu...  \n",
       "816  [(animo, guadalajara), (guadalajara, hagala_),...  \n",
       "817  [(oye, de), (de, mi), (mi, gran), (gran, amigo...  \n",
       "818                    [(milyrocha19, felixgastelum1)]  \n",
       "819                                                 []  \n",
       "\n",
       "[820 rows x 4 columns]"
      ]
     },
     "execution_count": 13,
     "metadata": {},
     "output_type": "execute_result"
    }
   ],
   "source": [
    "import networkx as nx\n",
    "from gensim import corpora\n",
    "from nltk.util import ngrams\n",
    "from nltk.tokenize import word_tokenize\n",
    "\n",
    "# Generación de bigramas con spaCy\n",
    "nlp = spacy.load(\"es_core_news_sm\")\n",
    "\n",
    "def generar_bigramas_spacy(texto):\n",
    "    doc = nlp(texto)\n",
    "    bigramas = [(doc[i].text, doc[i + 1].text) for i in range(len(doc) - 1)]\n",
    "    return bigramas\n",
    "\n",
    "df_coments_clean['bigramas_spacy'] = df_coments_clean['texto'].apply(generar_bigramas_spacy)\n",
    "\n",
    "# Generación de bigramas con NLTK\n",
    "def generar_bigramas_nltk(texto):\n",
    "    tokens = word_tokenize(texto)\n",
    "    bigramas = list(ngrams(tokens, 2))\n",
    "    return bigramas\n",
    "\n",
    "df_coments_clean['bigramas_nltk'] = df_coments_clean['texto'].apply(generar_bigramas_nltk)\n",
    "\n",
    "# Visualización del DataFrame resultante\n",
    "df_coments_clean\n"
   ]
  },
  {
   "cell_type": "code",
   "execution_count": 14,
   "metadata": {},
   "outputs": [
    {
     "data": {
      "text/html": [
       "<div>\n",
       "<style scoped>\n",
       "    .dataframe tbody tr th:only-of-type {\n",
       "        vertical-align: middle;\n",
       "    }\n",
       "\n",
       "    .dataframe tbody tr th {\n",
       "        vertical-align: top;\n",
       "    }\n",
       "\n",
       "    .dataframe thead th {\n",
       "        text-align: right;\n",
       "    }\n",
       "</style>\n",
       "<table border=\"1\" class=\"dataframe\">\n",
       "  <thead>\n",
       "    <tr style=\"text-align: right;\">\n",
       "      <th></th>\n",
       "      <th>texto</th>\n",
       "      <th>texto_preprocesado</th>\n",
       "      <th>bigramas_spacy</th>\n",
       "      <th>bigramas_nltk</th>\n",
       "      <th>ngramas_spacy</th>\n",
       "      <th>ngramas_nltk</th>\n",
       "    </tr>\n",
       "  </thead>\n",
       "  <tbody>\n",
       "    <tr>\n",
       "      <th>0</th>\n",
       "      <td>que gusto poder acompañarlos el día de hoy en ...</td>\n",
       "      <td>[gusto , acompañar él, representación, alcalde]</td>\n",
       "      <td>[(que, gusto), (gusto, poder), (poder, acompañ...</td>\n",
       "      <td>[(que, gusto), (gusto, poder), (poder, acompañ...</td>\n",
       "      <td>[(que, gusto, poder), (gusto, poder, acompañar...</td>\n",
       "      <td>[(que, gusto, poder), (gusto, poder, acompañar...</td>\n",
       "    </tr>\n",
       "    <tr>\n",
       "      <th>1</th>\n",
       "      <td>muchas gracias amigo sin tu apoyo esto no hubi...</td>\n",
       "      <td>[gracia, amigo, apoyo, haber, pablolemusn]</td>\n",
       "      <td>[(muchas, gracias), (gracias, amigo), (amigo, ...</td>\n",
       "      <td>[(muchas, gracias), (gracias, amigo), (amigo, ...</td>\n",
       "      <td>[(muchas, gracias, amigo), (gracias, amigo, si...</td>\n",
       "      <td>[(muchas, gracias, amigo), (gracias, amigo, si...</td>\n",
       "    </tr>\n",
       "    <tr>\n",
       "      <th>2</th>\n",
       "      <td>76</td>\n",
       "      <td>[]</td>\n",
       "      <td>[]</td>\n",
       "      <td>[]</td>\n",
       "      <td>[]</td>\n",
       "      <td>[]</td>\n",
       "    </tr>\n",
       "    <tr>\n",
       "      <th>3</th>\n",
       "      <td>se han realizado no menos de cuatro reportes s...</td>\n",
       "      <td>[report, respuesta, ojalá, poder, lograr, reti...</td>\n",
       "      <td>[(se, han), (han, realizado), (realizado, no),...</td>\n",
       "      <td>[(se, han), (han, realizado), (realizado, no),...</td>\n",
       "      <td>[(se, han, realizado), (han, realizado, no), (...</td>\n",
       "      <td>[(se, han, realizado), (han, realizado, no), (...</td>\n",
       "    </tr>\n",
       "    <tr>\n",
       "      <th>4</th>\n",
       "      <td>te felicito amigo juanjosefrangie</td>\n",
       "      <td>[felicito, amigo, juanjosefrangie]</td>\n",
       "      <td>[(te, felicito), (felicito, amigo), (amigo, ju...</td>\n",
       "      <td>[(te, felicito), (felicito, amigo), (amigo, ju...</td>\n",
       "      <td>[(te, felicito, amigo), (felicito, amigo, juan...</td>\n",
       "      <td>[(te, felicito, amigo), (felicito, amigo, juan...</td>\n",
       "    </tr>\n",
       "    <tr>\n",
       "      <th>...</th>\n",
       "      <td>...</td>\n",
       "      <td>...</td>\n",
       "      <td>...</td>\n",
       "      <td>...</td>\n",
       "      <td>...</td>\n",
       "      <td>...</td>\n",
       "    </tr>\n",
       "    <tr>\n",
       "      <th>815</th>\n",
       "      <td>no creo mira lo que han hecho en zapopan esos ...</td>\n",
       "      <td>[mirar, zapopar, gobierno, dantedelgado]</td>\n",
       "      <td>[(no, creo), (creo, mira), (mira, lo), (lo, qu...</td>\n",
       "      <td>[(no, creo), (creo, mira), (mira, lo), (lo, qu...</td>\n",
       "      <td>[(no, creo, mira), (creo, mira, lo), (mira, lo...</td>\n",
       "      <td>[(no, creo, mira), (creo, mira, lo), (mira, lo...</td>\n",
       "    </tr>\n",
       "    <tr>\n",
       "      <th>816</th>\n",
       "      <td>animo guadalajara hagala_ trafico_zmg</td>\n",
       "      <td>[animo, guadalajara, hagala]</td>\n",
       "      <td>[(animo, guadalajara), (guadalajara, hagala), ...</td>\n",
       "      <td>[(animo, guadalajara), (guadalajara, hagala_),...</td>\n",
       "      <td>[(animo, guadalajara, hagala), (guadalajara, h...</td>\n",
       "      <td>[(animo, guadalajara, hagala_), (guadalajara, ...</td>\n",
       "    </tr>\n",
       "    <tr>\n",
       "      <th>817</th>\n",
       "      <td>oye de mi gran amigo el doc lomeli no vas a es...</td>\n",
       "      <td>[oir, amigo, doc, lomeli, ir, hablar, bitacora...</td>\n",
       "      <td>[(oye, de), (de, mi), (mi, gran), (gran, amigo...</td>\n",
       "      <td>[(oye, de), (de, mi), (mi, gran), (gran, amigo...</td>\n",
       "      <td>[(oye, de, mi), (de, mi, gran), (mi, gran, ami...</td>\n",
       "      <td>[(oye, de, mi), (de, mi, gran), (mi, gran, ami...</td>\n",
       "    </tr>\n",
       "    <tr>\n",
       "      <th>818</th>\n",
       "      <td>milyrocha19 felixgastelum1</td>\n",
       "      <td>[]</td>\n",
       "      <td>[(milyrocha19, felixgastelum1)]</td>\n",
       "      <td>[(milyrocha19, felixgastelum1)]</td>\n",
       "      <td>[]</td>\n",
       "      <td>[]</td>\n",
       "    </tr>\n",
       "    <tr>\n",
       "      <th>819</th>\n",
       "      <td></td>\n",
       "      <td>[]</td>\n",
       "      <td>[]</td>\n",
       "      <td>[]</td>\n",
       "      <td>[]</td>\n",
       "      <td>[]</td>\n",
       "    </tr>\n",
       "  </tbody>\n",
       "</table>\n",
       "<p>820 rows × 6 columns</p>\n",
       "</div>"
      ],
      "text/plain": [
       "                                                 texto  \\\n",
       "0    que gusto poder acompañarlos el día de hoy en ...   \n",
       "1    muchas gracias amigo sin tu apoyo esto no hubi...   \n",
       "2                                                   76   \n",
       "3    se han realizado no menos de cuatro reportes s...   \n",
       "4                    te felicito amigo juanjosefrangie   \n",
       "..                                                 ...   \n",
       "815  no creo mira lo que han hecho en zapopan esos ...   \n",
       "816              animo guadalajara hagala_ trafico_zmg   \n",
       "817  oye de mi gran amigo el doc lomeli no vas a es...   \n",
       "818                         milyrocha19 felixgastelum1   \n",
       "819                                                      \n",
       "\n",
       "                                    texto_preprocesado  \\\n",
       "0      [gusto , acompañar él, representación, alcalde]   \n",
       "1           [gracia, amigo, apoyo, haber, pablolemusn]   \n",
       "2                                                   []   \n",
       "3    [report, respuesta, ojalá, poder, lograr, reti...   \n",
       "4                   [felicito, amigo, juanjosefrangie]   \n",
       "..                                                 ...   \n",
       "815           [mirar, zapopar, gobierno, dantedelgado]   \n",
       "816                       [animo, guadalajara, hagala]   \n",
       "817  [oir, amigo, doc, lomeli, ir, hablar, bitacora...   \n",
       "818                                                 []   \n",
       "819                                                 []   \n",
       "\n",
       "                                        bigramas_spacy  \\\n",
       "0    [(que, gusto), (gusto, poder), (poder, acompañ...   \n",
       "1    [(muchas, gracias), (gracias, amigo), (amigo, ...   \n",
       "2                                                   []   \n",
       "3    [(se, han), (han, realizado), (realizado, no),...   \n",
       "4    [(te, felicito), (felicito, amigo), (amigo, ju...   \n",
       "..                                                 ...   \n",
       "815  [(no, creo), (creo, mira), (mira, lo), (lo, qu...   \n",
       "816  [(animo, guadalajara), (guadalajara, hagala), ...   \n",
       "817  [(oye, de), (de, mi), (mi, gran), (gran, amigo...   \n",
       "818                    [(milyrocha19, felixgastelum1)]   \n",
       "819                                                 []   \n",
       "\n",
       "                                         bigramas_nltk  \\\n",
       "0    [(que, gusto), (gusto, poder), (poder, acompañ...   \n",
       "1    [(muchas, gracias), (gracias, amigo), (amigo, ...   \n",
       "2                                                   []   \n",
       "3    [(se, han), (han, realizado), (realizado, no),...   \n",
       "4    [(te, felicito), (felicito, amigo), (amigo, ju...   \n",
       "..                                                 ...   \n",
       "815  [(no, creo), (creo, mira), (mira, lo), (lo, qu...   \n",
       "816  [(animo, guadalajara), (guadalajara, hagala_),...   \n",
       "817  [(oye, de), (de, mi), (mi, gran), (gran, amigo...   \n",
       "818                    [(milyrocha19, felixgastelum1)]   \n",
       "819                                                 []   \n",
       "\n",
       "                                         ngramas_spacy  \\\n",
       "0    [(que, gusto, poder), (gusto, poder, acompañar...   \n",
       "1    [(muchas, gracias, amigo), (gracias, amigo, si...   \n",
       "2                                                   []   \n",
       "3    [(se, han, realizado), (han, realizado, no), (...   \n",
       "4    [(te, felicito, amigo), (felicito, amigo, juan...   \n",
       "..                                                 ...   \n",
       "815  [(no, creo, mira), (creo, mira, lo), (mira, lo...   \n",
       "816  [(animo, guadalajara, hagala), (guadalajara, h...   \n",
       "817  [(oye, de, mi), (de, mi, gran), (mi, gran, ami...   \n",
       "818                                                 []   \n",
       "819                                                 []   \n",
       "\n",
       "                                          ngramas_nltk  \n",
       "0    [(que, gusto, poder), (gusto, poder, acompañar...  \n",
       "1    [(muchas, gracias, amigo), (gracias, amigo, si...  \n",
       "2                                                   []  \n",
       "3    [(se, han, realizado), (han, realizado, no), (...  \n",
       "4    [(te, felicito, amigo), (felicito, amigo, juan...  \n",
       "..                                                 ...  \n",
       "815  [(no, creo, mira), (creo, mira, lo), (mira, lo...  \n",
       "816  [(animo, guadalajara, hagala_), (guadalajara, ...  \n",
       "817  [(oye, de, mi), (de, mi, gran), (mi, gran, ami...  \n",
       "818                                                 []  \n",
       "819                                                 []  \n",
       "\n",
       "[820 rows x 6 columns]"
      ]
     },
     "execution_count": 14,
     "metadata": {},
     "output_type": "execute_result"
    }
   ],
   "source": [
    "import spacy\n",
    "import pandas as pd\n",
    "from nltk.util import ngrams\n",
    "from nltk.tokenize import word_tokenize\n",
    "\n",
    "# Cargar el modelo de spaCy para el idioma español\n",
    "nlp = spacy.load(\"es_core_news_sm\")\n",
    "\n",
    "# Función para generar n-gramas con spaCy\n",
    "def generar_ngramas_spacy(texto, n):\n",
    "    doc = nlp(texto)\n",
    "    ngramas = [(doc[i:i+n]) for i in range(len(doc) - n + 1)]\n",
    "    return ngramas\n",
    "\n",
    "# Función para generar n-gramas con NLTK\n",
    "def generar_ngramas_nltk(texto, n):\n",
    "    tokens = word_tokenize(texto)\n",
    "    ngramas = list(ngrams(tokens, n))\n",
    "    return ngramas\n",
    "\n",
    "# Definir el valor de 'n' para los n-gramas deseados\n",
    "n = 3  # Puedes cambiar este valor según el número de palabras en tus n-gramas\n",
    "\n",
    "# Aplicar las funciones y crear columnas en el DataFrame\n",
    "df_coments_clean['ngramas_spacy'] = df_coments_clean['texto'].apply(generar_ngramas_spacy, args=(n,))\n",
    "df_coments_clean['ngramas_nltk'] = df_coments_clean['texto'].apply(generar_ngramas_nltk, args=(n,))\n",
    "\n",
    "# Visualización del DataFrame resultante\n",
    "df_coments_clean\n"
   ]
  },
  {
   "cell_type": "code",
   "execution_count": 15,
   "metadata": {
    "scrolled": false
   },
   "outputs": [
    {
     "data": {
      "text/plain": [
       "Counter({('los', '300', 'millones'): 12,\n",
       "         ('el', 'alcalde', 'de'): 9,\n",
       "         ('gracias', 'por', 'el'): 8,\n",
       "         ('muchas', 'gracias', 'por'): 7,\n",
       "         ('por', 'la', 'ciudad'): 7,\n",
       "         ('gracias', 'por', 'la'): 6,\n",
       "         ('alcalde', 'de', 'guadalajara'): 6,\n",
       "         ('a', 'seguir', 'trabajando'): 5,\n",
       "         ('la', 'ciudad', 'que'): 5,\n",
       "         ('ciudad', 'que', 'queremos'): 5,\n",
       "         ('300', 'millones', 'que'): 5,\n",
       "         ('y', 'los', '300'): 5,\n",
       "         ('en', 'las', 'calles'): 5,\n",
       "         ('el', 'centro', 'de'): 5,\n",
       "         ('en', 'la', 'zona'): 5,\n",
       "         ('las', 'y', 'los'): 4,\n",
       "         ('por', 'el', 'reporte'): 4,\n",
       "         ('el', 'reporte', 'se'): 4,\n",
       "         ('y', '16', 'de'): 4,\n",
       "         ('16', 'de', 'septiembre'): 4,\n",
       "         ('la', 'virgen', 'de'): 4,\n",
       "         ('virgen', 'de', 'zapopan'): 4,\n",
       "         ('que', 'te', 'robaste'): 4,\n",
       "         ('en', 'toda', 'la'): 4,\n",
       "         ('toda', 'la', 'ciudad'): 4,\n",
       "         ('el', 'alcalde', 'tapatío'): 4,\n",
       "         ('en', 'la', 'colonia'): 4,\n",
       "         ('la', 'entrega', 'de'): 4,\n",
       "         ('millones', 'de', 'pesos'): 4,\n",
       "         ('el', 'día', 'de'): 3,\n",
       "         ('en', 'representación', 'de'): 3,\n",
       "         ('representación', 'de', 'nuestro'): 3,\n",
       "         ('de', 'nuestro', 'alcalde'): 3,\n",
       "         ('ánimo', 'jorge', 'j_jprge'): 3,\n",
       "         ('de', 'la', 'ciudad'): 3,\n",
       "         ('por', 'el', 'apoyo'): 3,\n",
       "         ('seguir', 'trabajando', 'bien'): 3,\n",
       "         ('trabajando', 'bien', 'y'): 3,\n",
       "         ('bien', 'y', 'de'): 3,\n",
       "         ('y', 'de', 'buenas'): 3,\n",
       "         ('que', 'queremos', 'ánimo'): 3,\n",
       "         ('a', 'la', 'entrega'): 3,\n",
       "         ('el', 'presidente', 'guadalajaragob'): 3,\n",
       "         ('trabajando', 'por', 'la'): 3,\n",
       "         ('un', 'botón', 'de'): 3,\n",
       "         ('botón', 'de', 'pánico'): 3,\n",
       "         ('activado', 'por', 'voz'): 3,\n",
       "         ('todas', 'y', 'todos'): 3,\n",
       "         ('este', 'par', 'de'): 3,\n",
       "         ('con', 'los', '300'): 3,\n",
       "         ('de', 'zapopan', 'pablolemusn'): 3,\n",
       "         ('gracias', 'por', 'su'): 3,\n",
       "         ('constituyentes', 'y', '16'): 3,\n",
       "         ('animo', 'pablo', 'pablolemusn'): 3,\n",
       "         ('gracias', 'a', 'la'): 3,\n",
       "         ('los', 'miles', 'de'): 3,\n",
       "         ('desaparecidos', 'en', 'jalisco'): 3,\n",
       "         ('municipal', 'de', 'guadalajara'): 3,\n",
       "         ('a', 'las', 'personas'): 3,\n",
       "         ('le', 'toca', 'a'): 3,\n",
       "         ('se', 'tienen', 'que'): 3,\n",
       "         ('en', 'el', 'lugar'): 3,\n",
       "         ('la', 'zona', 'de'): 3,\n",
       "         ('su', 'trabajo', 'y'): 3,\n",
       "         ('la', 'rueda', 'de'): 3,\n",
       "         ('rueda', 'de', 'prensa'): 3,\n",
       "         ('por', 'la', 'mención'): 3,\n",
       "         ('el', 'alcalde', 'guadalajaragob'): 3,\n",
       "         ('la', 'fórmula', '1'): 3,\n",
       "         ('jardines', 'del', 'valle'): 3,\n",
       "         ('no', 'se', 'puede'): 3,\n",
       "         ('300', 'millones', 'de'): 3,\n",
       "         ('el', 'presidente', 'municipal'): 3,\n",
       "         ('y', 'siguen', 'los'): 3,\n",
       "         ('a', 'través', 'de'): 2,\n",
       "         ('buen', 'inicio', 'de'): 2,\n",
       "         ('por', 'la', 'mañana'): 2,\n",
       "         ('a', 'pesar', 'de'): 2,\n",
       "         ('el', 'camión', 'recolector'): 2,\n",
       "         ('de', 'buenas', 'por'): 2,\n",
       "         ('buenas', 'por', 'la'): 2,\n",
       "         ('el', 'apoyo', 'a'): 2,\n",
       "         ('apoyo', 'a', 'seguir'): 2,\n",
       "         ('a', 'seguir', 'chambeando'): 2,\n",
       "         ('gracias', 'por', 'todo'): 2,\n",
       "         ('por', 'todo', 'el'): 2,\n",
       "         ('todo', 'el', 'apoyo'): 2,\n",
       "         ('el', 'apoyo', 'y'): 2,\n",
       "         ('apoyo', 'y', 'confianza'): 2,\n",
       "         ('en', 'juan', 'palomar'): 2,\n",
       "         ('esta', 'peor', 'que'): 2,\n",
       "         ('de', 'la', 'calle'): 2,\n",
       "         ('de', 'zapopan', 'para'): 2,\n",
       "         ('nidos', 'de', 'lluvia'): 2,\n",
       "         ('por', 'la', 'visita'): 2,\n",
       "         ('esa', 'es', 'la'): 2,\n",
       "         ('en', 'los', 'dos'): 2,\n",
       "         ('seguir', 'trabajando', 'por'): 2,\n",
       "         ('de', 'las', 'y'): 2,\n",
       "         ('y', 'los', 'tapatíos'): 2,\n",
       "         ('de', 'su', 'casa'): 2,\n",
       "         ('su', 'casa', 'y'): 2,\n",
       "         ('la', 'comisaría', 'de'): 2,\n",
       "         ('a', 'las', 'familias'): 2,\n",
       "         ('ánimo', 'león', 'detectorleon'): 2,\n",
       "         ('recuperar', 'los', '300'): 2,\n",
       "         ('millones', 'que', 'se'): 2,\n",
       "         ('que', 'se', 'robaron'): 2,\n",
       "         ('se', 'robaron', 'en'): 2,\n",
       "         ('estamos', 'por', 'lanzar'): 2,\n",
       "         ('por', 'lanzar', 'un'): 2,\n",
       "         ('lanzar', 'un', 'botón'): 2,\n",
       "         ('de', 'pánico', 'activado'): 2,\n",
       "         ('pánico', 'activado', 'por'): 2,\n",
       "         ('y', 'queremos', 'enlazarlo'): 2,\n",
       "         ('queremos', 'enlazarlo', 'a'): 2,\n",
       "         ('enlazarlo', 'a', 'la'): 2,\n",
       "         ('a', 'la', 'pablolemusn'): 2,\n",
       "         ('gregorio', 'davila', '1073'): 2,\n",
       "         ('davila', '1073', 'colonia'): 2,\n",
       "         ('1073', 'colonia', 'mezquitan'): 2,\n",
       "         ('colonia', 'mezquitan', 'country'): 2,\n",
       "         ('el', 'día', 'lunes'): 2,\n",
       "         ('el', 'reporte', 'al'): 2,\n",
       "         ('reporte', 'al', '070'): 2,\n",
       "         ('buen', 'día', 'gracias'): 2,\n",
       "         ('día', 'gracias', 'por'): 2,\n",
       "         ('reporte', 'se', 'atiende'): 2,\n",
       "         ('es', 'mi', 'colaboración'): 2,\n",
       "         ('mi', 'colaboración', 'para'): 2,\n",
       "         ('movimiento', 'ciudadano', 'de'): 2,\n",
       "         ('va', 'a', 'ser'): 2,\n",
       "         ('servicio', 'de', 'recolección'): 2,\n",
       "         ('queremos', 'que', 'todas'): 2,\n",
       "         ('que', 'todas', 'y'): 2,\n",
       "         ('y', 'todos', 'tengan'): 2,\n",
       "         ('todos', 'tengan', 'una'): 2,\n",
       "         ('tengan', 'una', 'mejor'): 2,\n",
       "         ('una', 'mejor', 'movilidad'): 2,\n",
       "         ('mejor', 'movilidad', 'por'): 2,\n",
       "         ('movilidad', 'por', 'la'): 2,\n",
       "         ('que', 'no', 'se'): 2,\n",
       "         ('no', 'se', 'hace'): 2,\n",
       "         ('la', 'administración', 'de'): 2,\n",
       "         ('de', 'movimiento', 'ciudadano'): 2,\n",
       "         ('josé', 'maría', 'vigil'): 2,\n",
       "         ('el', 'regreso', 'de'): 2,\n",
       "         ('de', 'la', 'virgen'): 2,\n",
       "         ('están', 'los', '300'): 2,\n",
       "         ('a', 'todos', 'los'): 2,\n",
       "         ('felicidades', 'a', 'la'): 2,\n",
       "         ('a', 'la', 'colonia'): 2,\n",
       "         ('recolección', 'de', 'basura'): 2,\n",
       "         ('a', 'palacio', 'de'): 2,\n",
       "         ('palacio', 'de', 'gobierno'): 2,\n",
       "         ('te', 'robaste', 'de'): 2,\n",
       "         ('robaste', 'de', 'zapopan'): 2,\n",
       "         ('de', 'todos', 'los'): 2,\n",
       "         ('300', 'millones', 'pablolemusn'): 2,\n",
       "         ('y', 'los', 'árboles'): 2,\n",
       "         ('por', 'su', 'trabajo'): 2,\n",
       "         ('lemus', 'y', 'frangie'): 2,\n",
       "         ('con', 'todo', 'respeto'): 2,\n",
       "         ('dónde', 'están', 'los'): 2,\n",
       "         ('en', 'constituyentes', 'y'): 2,\n",
       "         ('un', 'cochinero', 'y'): 2,\n",
       "         ('las', 'calles', 'de'): 2,\n",
       "         ('vente', 'a', 'la'): 2,\n",
       "         ('a', 'la', 'echeverría'): 2,\n",
       "         ('de', 'la', 'basura'): 2,\n",
       "         ('los', 'resultados', 'del'): 2,\n",
       "         ('estamos', 'como', 'estamos'): 2,\n",
       "         ('del', 'centro', 'de'): 2,\n",
       "         ('ánimo', 'pablo', 'pablolemusn'): 2,\n",
       "         ('pablo', 'pablolemusn', 'policiagdl'): 2,\n",
       "         ('ánimo', 'jalisco', 'pablolemusn'): 2,\n",
       "         ('pablo', 'lemus', 'es'): 2,\n",
       "         ('por', 'guadalajara', 'pablolemusn'): 2,\n",
       "         ('lemus', 'con', 'todo'): 2,\n",
       "         ('qué', 'han', 'hecho'): 2,\n",
       "         ('llovedero', 'de', 'quejas'): 2,\n",
       "         ('de', 'quejas', 'interpondrán'): 2,\n",
       "         ('quejas', 'interpondrán', 'ciudadanos'): 2,\n",
       "         ('interpondrán', 'ciudadanos', 'ante'): 2,\n",
       "         ('ciudadanos', 'ante', 'el'): 2,\n",
       "         ('próximo', 'gobernador', 'pablolemusn'): 2,\n",
       "         ('te', 'robaste', 'en'): 2,\n",
       "         ('robaste', 'en', 'zapopan'): 2,\n",
       "         ('estrella', 'de', 'la'): 2,\n",
       "         ('de', 'la', 'muerte'): 2,\n",
       "         ('transporte', 'público', 'que'): 2,\n",
       "         ('en', 'el', 'centro'): 2,\n",
       "         ('el', 'apoyo', 'de'): 2,\n",
       "         ('ismael', 'del', 'toro'): 2,\n",
       "         ('que', 'vas', 'a'): 2,\n",
       "         ('no', 'es', 'su'): 2,\n",
       "         ('el', 'responsable', 'de'): 2,\n",
       "         ('zapopan', 'de', 'la'): 2,\n",
       "         ('pedirle', 'a', 'la'): 2,\n",
       "         ('a', 'la', 'virgen'): 2,\n",
       "         ('mañana', 'acompañamos', 'al'): 2,\n",
       "         ('acompañamos', 'al', 'presidente'): 2,\n",
       "         ('chapalita', 'las', 'fuentes'): 2,\n",
       "         ('que', 'bueno', 'que'): 2,\n",
       "         ('me', 'puedes', 'indicar'): 2,\n",
       "         ('día', 'de', 'ayer'): 2,\n",
       "         ('los', 'dos', 'pablolemusn'): 2,\n",
       "         ('dos', 'pablolemusn', 'deltoroismael_'): 2,\n",
       "         ('solicitamos', 'su', 'ayuda'): 2,\n",
       "         ('su', 'ayuda', 'en'): 2,\n",
       "         ('ayuda', 'en', 'el'): 2,\n",
       "         ('el', 'lugar', 'pues'): 2,\n",
       "         ('lugar', 'pues', 'los'): 2,\n",
       "         ('pues', 'los', 'desechos'): 2,\n",
       "         ('los', 'desechos', 'han'): 2,\n",
       "         ('desechos', 'han', 'permanecido'): 2,\n",
       "         ('han', 'permanecido', 'ahí'): 2,\n",
       "         ('permanecido', 'ahí', 'por'): 2,\n",
       "         ('ahí', 'por', 'días'): 2,\n",
       "         ('por', 'días', 'además'): 2,\n",
       "         ('días', 'además', 'vecinos'): 2,\n",
       "         ('además', 'vecinos', 'reportan'): 2,\n",
       "         ('vecinos', 'reportan', 'un'): 2,\n",
       "         ('reportan', 'un', 'olor'): 2,\n",
       "         ('un', 'olor', 'desagradable'): 2,\n",
       "         ('olor', 'desagradable', 'en'): 2,\n",
       "         ('desagradable', 'en', 'la'): 2,\n",
       "         ('como', 'alcalde', 'de'): 2,\n",
       "         ('y', 'no', 'se'): 2,\n",
       "         ('5', 'de', 'noviembre'): 2,\n",
       "         ('el', 'objetivo', 'de'): 2,\n",
       "         ('todos', 'lo', 'sabemos'): 2,\n",
       "         ('zona', 'de', 'la'): 2,\n",
       "         ('de', 'la', 'normal'): 2,\n",
       "         ('la', 'normal', 'glorieta'): 2,\n",
       "         ('área', 'de', 'supervisión'): 2,\n",
       "         ('la', 'transportejal', 'lguevaracol'): 2,\n",
       "         ('servicios', 'médicos', 'municipales'): 2,\n",
       "         ('y', 'personal', 'de'): 2,\n",
       "         ('personal', 'de', 'enfermería'): 2,\n",
       "         ('asistieron', 'el', 'presidente'): 2,\n",
       "         ('buen', 'día', 'muchas'): 2,\n",
       "         ('día', 'muchas', 'gracias'): 2,\n",
       "         ('asistieron', 'el', 'alcalde'): 2,\n",
       "         ('en', 'la', 'próxima'): 2,\n",
       "         ('av', 'del', 'valle'): 2,\n",
       "         ('del', 'valle', 'y'): 2,\n",
       "         ('se', 'puede', 'pasar'): 2,\n",
       "         ('que', 'el', 'camión'): 2,\n",
       "         ('mientras', 'que', 'en'): 2,\n",
       "         ('que', 'en', 'las'): 2,\n",
       "         ('las', 'calles', 'sálvese'): 2,\n",
       "         ('calles', 'sálvese', 'quien'): 2,\n",
       "         ('sálvese', 'quien', 'pueda'): 2,\n",
       "         ('quien', 'pueda', 'no'): 2,\n",
       "         ('pueda', 'no', 'necesitamos'): 2,\n",
       "         ('no', 'necesitamos', 'estar'): 2,\n",
       "         ('necesitamos', 'estar', 'en'): 2,\n",
       "         ('estar', 'en', 'israel'): 2,\n",
       "         ('en', 'israel', 'o'): 2,\n",
       "         ('israel', 'o', 'palestina'): 2,\n",
       "         ('o', 'palestina', 'a'): 2,\n",
       "         ('palestina', 'a', 'toda'): 2,\n",
       "         ('a', 'toda', 'madre'): 2,\n",
       "         ('toda', 'madre', 'hijos'): 2,\n",
       "         ('madre', 'hijos', 'de'): 2,\n",
       "         ('hijos', 'de', 'p'): 2,\n",
       "         ('de', 'p', 'uta'): 2,\n",
       "         ('p', 'uta', 'pablolemusn'): 2,\n",
       "         ('uta', 'pablolemusn', 'deltoroismael_'): 2,\n",
       "         ('es', 'el', 'más'): 2,\n",
       "         ('en', 'accendo', 'banco'): 2,\n",
       "         ('guadalajara', 'pablolemusn', 'deltoroismael_'): 2,\n",
       "         ('los', 'tapatíos', 'pablolemusn'): 2,\n",
       "         ('tapatíos', 'pablolemusn', 'f1fanzonemx'): 2,\n",
       "         ('de', 'pesos', 'que'): 2,\n",
       "         ('qué', 'podrán', 'disfrutar'): 2,\n",
       "         ('podrán', 'disfrutar', 'los'): 2,\n",
       "         ('disfrutar', 'los', 'aficionados'): 2,\n",
       "         ('los', 'aficionados', 'el'): 2,\n",
       "         ('aficionados', 'el', 'presidente'): 2,\n",
       "         ('presidente', 'municipal', 'de'): 2,\n",
       "         ('de', 'la', 'fórmula'): 2,\n",
       "         ('todo', 'listo', 'unos'): 2,\n",
       "         ('listo', 'unos', 'momentos'): 2,\n",
       "         ('unos', 'momentos', 'más'): 2,\n",
       "         ('momentos', 'más', 'iniciará'): 2,\n",
       "         ('más', 'iniciará', 'la'): 2,\n",
       "         ('iniciará', 'la', 'rueda'): 2,\n",
       "         ('de', 'prensa', 'de'): 2,\n",
       "         ('prensa', 'de', 'f1'): 2,\n",
       "         ('de', 'f1', 'fanzone'): 2,\n",
       "         ('f1', 'fanzone', 'méxico'): 2,\n",
       "         ('la', 'falta', 'de'): 2,\n",
       "         ('no', 'vas', 'a'): 2,\n",
       "         ('siguen', 'los', 'miles'): 2,\n",
       "         ('miles', 'de', 'secuestros'): 2,\n",
       "         ('de', 'secuestros', 'y'): 2,\n",
       "         ('secuestros', 'y', 'desaparecidos'): 2,\n",
       "         ('y', 'desaparecidos', 'en'): 2,\n",
       "         ('en', 'jalisco', 'asi'): 2,\n",
       "         ('jalisco', 'asi', 'como'): 2,\n",
       "         ('asi', 'como', 'los'): 2,\n",
       "         ('como', 'los', 'homicidios'): 2,\n",
       "         ('los', 'homicidios', 'y'): 2,\n",
       "         ('homicidios', 'y', 'fosas'): 2,\n",
       "         ('y', 'fosas', 'clandestinas'): 2,\n",
       "         ('fosas', 'clandestinas', 'gobierno'): 2,\n",
       "         ('clandestinas', 'gobierno', 'historico'): 2,\n",
       "         ('gobierno', 'historico', 'en'): 2,\n",
       "         ('historico', 'en', 'jalisco'): 2,\n",
       "         ('en', 'jalisco', 'gnocturnamx'): 2,\n",
       "         ('muchas', 'gracias', 'vecinos'): 2,\n",
       "         ('gracias', 'vecinos', 'de'): 2,\n",
       "         ('vecinos', 'de', 'jardines'): 2,\n",
       "         ('de', 'jardines', 'del'): 2,\n",
       "         ('jardines', 'del', 'bosque'): 2,\n",
       "         ('del', 'bosque', 'parque'): 2,\n",
       "         ('bosque', 'parque', 'de'): 2,\n",
       "         ('parque', 'de', 'las'): 2,\n",
       "         ('de', 'las', 'estrellas'): 2,\n",
       "         ('las', 'estrellas', 'por'): 2,\n",
       "         ('estrellas', 'por', 'su'): 2,\n",
       "         ('por', 'su', 'participación'): 2,\n",
       "         ('su', 'participación', 'en'): 2,\n",
       "         ('participación', 'en', 'la'): 2,\n",
       "         ('en', 'la', 'plática'): 2,\n",
       "         ('la', 'plática', 'de'): 2,\n",
       "         ('plática', 'de', 'prevención'): 2,\n",
       "         ('de', 'prevención', 'del'): 2,\n",
       "         ('prevención', 'del', 'delito'): 2,\n",
       "         ('del', 'delito', 'gracias'): 2,\n",
       "         ('delito', 'gracias', 'por'): 2,\n",
       "         ('por', 'su', 'preocupación'): 2,\n",
       "         ('su', 'preocupación', 'para'): 2,\n",
       "         ('preocupación', 'para', 'una'): 2,\n",
       "         ('para', 'una', 'mejor'): 2,\n",
       "         ('una', 'mejor', 'ciudad'): 2,\n",
       "         ('la', 'rehabilitación', 'que'): 2,\n",
       "         ('rehabilitación', 'que', 'les'): 2,\n",
       "         ('que', 'les', 'hicimos'): 2,\n",
       "         ('las', 'calles', 'montes'): 2,\n",
       "         ('calles', 'montes', 'pirineos'): 2,\n",
       "         ('montes', 'pirineos', 'y'): 2,\n",
       "         ('pirineos', 'y', 'monte'): 2,\n",
       "         ('y', 'monte', 'carmelo'): 2,\n",
       "         ('monte', 'carmelo', 'en'): 2,\n",
       "         ('carmelo', 'en', 'la'): 2,\n",
       "         ('la', 'colonia', 'monumental'): 2,\n",
       "         ('de', 'lo', 'que'): 2,\n",
       "         ('siguen', 'y', 'siguen'): 2,\n",
       "         ('durante', 'un', 'panel'): 2,\n",
       "         ('un', 'panel', 'la'): 2,\n",
       "         ('panel', 'la', 'semana'): 2,\n",
       "         ('la', 'semana', 'pasada'): 2,\n",
       "         ('semana', 'pasada', 'un'): 2,\n",
       "         ('pasada', 'un', 'participante'): 2,\n",
       "         ('un', 'participante', 'comentó'): 2,\n",
       "         ('participante', 'comentó', 'que'): 2,\n",
       "         ('comentó', 'que', 'los'): 2,\n",
       "         ('que', 'los', 'municipios'): 2,\n",
       "         ('los', 'municipios', 'metropolitanos'): 2,\n",
       "         ('municipios', 'metropolitanos', 'quieren'): 2,\n",
       "         ('metropolitanos', 'quieren', 'comprar'): 2,\n",
       "         ('quieren', 'comprar', 'la'): 2,\n",
       "         ('comprar', 'la', 'concesionaria'): 2,\n",
       "         ('que', 'gusto', 'poder'): 1,\n",
       "         ('gusto', 'poder', 'acompañarlos'): 1,\n",
       "         ('poder', 'acompañarlos', 'el'): 1,\n",
       "         ('acompañarlos', 'el', 'día'): 1,\n",
       "         ('día', 'de', 'hoy'): 1,\n",
       "         ('de', 'hoy', 'en'): 1,\n",
       "         ('hoy', 'en', 'representación'): 1,\n",
       "         ('muchas', 'gracias', 'amigo'): 1,\n",
       "         ('gracias', 'amigo', 'sin'): 1,\n",
       "         ('amigo', 'sin', 'tu'): 1,\n",
       "         ('sin', 'tu', 'apoyo'): 1,\n",
       "         ('tu', 'apoyo', 'esto'): 1,\n",
       "         ('apoyo', 'esto', 'no'): 1,\n",
       "         ('esto', 'no', 'hubiera'): 1,\n",
       "         ('no', 'hubiera', 'sido'): 1,\n",
       "         ('hubiera', 'sido', 'posible'): 1,\n",
       "         ('sido', 'posible', 'pablolemusn'): 1,\n",
       "         ('se', 'han', 'realizado'): 1,\n",
       "         ('han', 'realizado', 'no'): 1,\n",
       "         ('realizado', 'no', 'menos'): 1,\n",
       "         ('no', 'menos', 'de'): 1,\n",
       "         ('menos', 'de', 'cuatro'): 1,\n",
       "         ('de', 'cuatro', 'reportes'): 1,\n",
       "         ('cuatro', 'reportes', 'sin'): 1,\n",
       "         ('reportes', 'sin', 'tener'): 1,\n",
       "         ('sin', 'tener', 'respuesta'): 1,\n",
       "         ('tener', 'respuesta', 'ojalá'): 1,\n",
       "         ('respuesta', 'ojalá', 'que'): 1,\n",
       "         ('ojalá', 'que', 'a'): 1,\n",
       "         ('que', 'a', 'través'): 1,\n",
       "         ('través', 'de', 'ustedes'): 1,\n",
       "         ('de', 'ustedes', 'podamos'): 1,\n",
       "         ('ustedes', 'podamos', 'lograr'): 1,\n",
       "         ('podamos', 'lograr', 'que'): 1,\n",
       "         ('lograr', 'que', 'retiren'): 1,\n",
       "         ('que', 'retiren', 'este'): 1,\n",
       "         ('retiren', 'este', 'sanitario'): 1,\n",
       "         ('este', 'sanitario', 'del'): 1,\n",
       "         ('sanitario', 'del', 'jardín'): 1,\n",
       "         ('del', 'jardín', 'público'): 1,\n",
       "         ('jardín', 'público', 'ubicado'): 1,\n",
       "         ('público', 'ubicado', 'en'): 1,\n",
       "         ('ubicado', 'en', 'lázaro'): 1,\n",
       "         ('en', 'lázaro', 'pérez'): 1,\n",
       "         ('lázaro', 'pérez', 'entre'): 1,\n",
       "         ('pérez', 'entre', 'rayón'): 1,\n",
       "         ('entre', 'rayón', 'y'): 1,\n",
       "         ('rayón', 'y', 'escorza'): 1,\n",
       "         ('y', 'escorza', 'da'): 1,\n",
       "         ('escorza', 'da', 'muy'): 1,\n",
       "         ('da', 'muy', 'mal'): 1,\n",
       "         ('muy', 'mal', 'aspecto'): 1,\n",
       "         ('mal', 'aspecto', 'gracias'): 1,\n",
       "         ('te', 'felicito', 'amigo'): 1,\n",
       "         ('felicito', 'amigo', 'juanjosefrangie'): 1,\n",
       "         ('inicio', 'de', 'semana'): 1,\n",
       "         ('de', 'semana', 'hoy'): 1,\n",
       "         ('semana', 'hoy', 'por'): 1,\n",
       "         ('hoy', 'por', 'la'): 1,\n",
       "         ('la', 'mañana', 'en'): 1,\n",
       "         ('mañana', 'en', 'representación'): 1,\n",
       "         ('la', 'empresa', 'encuestadora'): 1,\n",
       "         ('multen', 'los', 'exhibanlos'): 1,\n",
       "         ('los', 'exhibanlos', 'marranos'): 1,\n",
       "         ('exhibanlos', 'marranos', 'debería'): 1,\n",
       "         ('marranos', 'debería', 'de'): 1,\n",
       "         ('debería', 'de', 'vivir'): 1,\n",
       "         ('de', 'vivir', 'en'): 1,\n",
       "         ('vivir', 'en', 'un'): 1,\n",
       "         ('en', 'un', 'muladar'): 1,\n",
       "         ('un', 'muladar', 'myriamcarrilloe'): 1,\n",
       "         ('muladar', 'myriamcarrilloe', 'guadalajaragob'): 1,\n",
       "         ('así', 'se', 'encuentra'): 1,\n",
       "         ('se', 'encuentra', 'la'): 1,\n",
       "         ('encuentra', 'la', 'esquina'): 1,\n",
       "         ('la', 'esquina', 'de'): 1,\n",
       "         ('esquina', 'de', 'rio'): 1,\n",
       "         ('de', 'rio', 'pecos'): 1,\n",
       "         ('rio', 'pecos', 'y'): 1,\n",
       "         ('pecos', 'y', 'rio'): 1,\n",
       "         ('y', 'rio', 'danubio'): 1,\n",
       "         ('rio', 'danubio', 'col'): 1,\n",
       "         ('danubio', 'col', 'atlas'): 1,\n",
       "         ('col', 'atlas', 'a'): 1,\n",
       "         ('atlas', 'a', 'pesar'): 1,\n",
       "         ('pesar', 'de', 'que'): 1,\n",
       "         ('de', 'que', 'todos'): 1,\n",
       "         ('que', 'todos', 'los'): 1,\n",
       "         ('todos', 'los', 'días'): 1,\n",
       "         ('los', 'días', 'pasa'): 1,\n",
       "         ('días', 'pasa', 'el'): 1,\n",
       "         ('pasa', 'el', 'camión'): 1,\n",
       "         ('camión', 'recolector', 'los'): 1,\n",
       "         ('recolector', 'los', 'vecinos'): 1,\n",
       "         ('los', 'vecinos', 'sin'): 1,\n",
       "         ('vecinos', 'sin', 'educación'): 1,\n",
       "         ('sin', 'educación', 'aprovechan'): 1,\n",
       "         ('educación', 'aprovechan', 'con'): 1,\n",
       "         ('aprovechan', 'con', 'total'): 1,\n",
       "         ('con', 'total', 'impunidad'): 1,\n",
       "         ('total', 'impunidad', 'para'): 1,\n",
       "         ('impunidad', 'para', 'tirar'): 1,\n",
       "         ('para', 'tirar', 'literal'): 1,\n",
       "         ('tirar', 'literal', 'su'): 1,\n",
       "         ('literal', 'su', 'basura'): 1,\n",
       "         ('su', 'basura', 'que'): 1,\n",
       "         ('basura', 'que', 'se'): 1,\n",
       "         ('que', 'se', 'puede'): 1,\n",
       "         ('se', 'puede', 'hacer'): 1,\n",
       "         ('de', 'corazón', 'mi'): 1,\n",
       "         ('corazón', 'mi', 'reconocimiento'): 1,\n",
       "         ('mi', 'reconocimiento', 'a'): 1,\n",
       "         ('reconocimiento', 'a', 'enriquealfaror'): 1,\n",
       "         ('muchas', 'gracias', 'martín'): 1,\n",
       "         ('gracias', 'martín', 'ánimo'): 1,\n",
       "         ('martín', 'ánimo', 'm_magallon33'): 1,\n",
       "         ('ánimo', 'm_magallon33', 'expoganaderajal'): 1,\n",
       "         ('ánimo', 'jalisco', 'gerardo89764507'): 1,\n",
       "         ('gracias', 'seguiremos', 'trabajando'): 1,\n",
       "         ('seguiremos', 'trabajando', 'para'): 1,\n",
       "         ('trabajando', 'para', 'transformar'): 1,\n",
       "         ('para', 'transformar', 'la'): 1,\n",
       "         ('transformar', 'la', 'movilidad'): 1,\n",
       "         ('la', 'movilidad', 'de'): 1,\n",
       "         ('movilidad', 'de', 'la'): 1,\n",
       "         ('la', 'ciudad', 'carlos917463087'): 1,\n",
       "         ('el', 'apoyo', 'martín'): 1,\n",
       "         ('apoyo', 'martín', 'a'): 1,\n",
       "         ('martín', 'a', 'seguir'): 1,\n",
       "         ('queremos', 'ánimo', 'm_magallon33'): 1,\n",
       "         ('ánimo', 'm_magallon33', 'kolorina4'): 1,\n",
       "         ('seguir', 'chambeando', 'por'): 1,\n",
       "         ('chambeando', 'por', 'la'): 1,\n",
       "         ('queremos', 'ánimo', 'sergior19556838'): 1,\n",
       "         ('y', 'confianza', 'ánimo'): 1,\n",
       "         ('confianza', 'ánimo', 'abraham'): 1,\n",
       "         ('ánimo', 'abraham', 'camaabraham'): 1,\n",
       "         ('queremos', 'ánimo', 'fitosimpson'): 1,\n",
       "         ('ánimo', 'juan', 'juanper89174148'): 1,\n",
       "         ('quién', 'mejor', 'para'): 1,\n",
       "         ('mejor', 'para', 'hablar'): 1,\n",
       "         ('para', 'hablar', 'de'): 1,\n",
       "         ('hablar', 'de', 'ciudades'): 1,\n",
       "         ('de', 'ciudades', 'que'): 1,\n",
       "         ('ciudades', 'que', 'los'): 1,\n",
       "         ('que', 'los', 'mismos'): 1,\n",
       "         ('los', 'mismos', 'alcaldes'): 1,\n",
       "         ('mismos', 'alcaldes', 'este'): 1,\n",
       "         ('alcaldes', 'este', 'año'): 1,\n",
       "         ('este', 'año', 'recibiremos'): 1,\n",
       "         ('año', 'recibiremos', 'a'): 1,\n",
       "         ('andamos', 'inaugurando', 'inaugurando'): 1,\n",
       "         ('inaugurando', 'inaugurando', 'e'): 1,\n",
       "         ('inaugurando', 'e', 'inaugurando'): 1,\n",
       "         ('e', 'inaugurando', 'obras'): 1,\n",
       "         ('inaugurando', 'obras', 'y'): 1,\n",
       "         ('obras', 'y', 'hoy'): 1,\n",
       "         ('y', 'hoy', 'entregamos'): 1,\n",
       "         ('hoy', 'entregamos', 'la'): 1,\n",
       "         ('entregamos', 'la', 'avenida'): 1,\n",
       "         ('la', 'avenida', 'royal'): 1,\n",
       "         ('avenida', 'royal', 'country'): 1,\n",
       "         ('royal', 'country', 'mostrar'): 1,\n",
       "         ('country', 'mostrar', 'más'): 1,\n",
       "         ('y', 'el', 'mejor'): 1,\n",
       "         ('el', 'mejor', 'horario'): 1,\n",
       "         ('mejor', 'horario', 'para'): 1,\n",
       "         ('horario', 'para', 'los'): 1,\n",
       "         ('para', 'los', 'juanjosefrangie'): 1,\n",
       "         ('los', 'juanjosefrangie', 'pablolemusn'): 1,\n",
       "         ('sin', 'cruce', 'en'): 1,\n",
       "         ('cruce', 'en', 'juan'): 1,\n",
       "         ('juan', 'palomar', 'no'): 1,\n",
       "         ('palomar', 'no', 'sirve'): 1,\n",
       "         ('no', 'sirve', 'de'): 1,\n",
       "         ('sirve', 'de', 'nada'): 1,\n",
       "         ('de', 'nada', 'juanjosefrangie'): 1,\n",
       "         ('nada', 'juanjosefrangie', 'pablolemusn'): 1,\n",
       "         ('y', 'la', 'avenida'): 1,\n",
       "         ('la', 'avenida', 'cluthier'): 1,\n",
       "         ('avenida', 'cluthier', 'de'): 1,\n",
       "         ('cluthier', 'de', 'tepeyas'): 1,\n",
       "         ('de', 'tepeyas', 'a'): 1,\n",
       "         ('tepeyas', 'a', 'el'): 1,\n",
       "         ('a', 'el', 'colli'): 1,\n",
       "         ('el', 'colli', 'para'): 1,\n",
       "         ('colli', 'para', 'cuando'): 1,\n",
       "         ('para', 'cuando', 'esta'): 1,\n",
       "         ('cuando', 'esta', 'peor'): 1,\n",
       "         ('peor', 'que', 'gaza'): 1,\n",
       "         ('que', 'gaza', 'juanjosefrangie'): 1,\n",
       "         ('gaza', 'juanjosefrangie', 'pablolemusn'): 1,\n",
       "         ('la', 'gran', 'visión'): 1,\n",
       "         ('gran', 'visión', 'paseo'): 1,\n",
       "         ('visión', 'paseo', 'fray'): 1,\n",
       "         ('paseo', 'fray', 'antonio'): 1,\n",
       "         ('fray', 'antonio', 'alcalde'): 1,\n",
       "         ('antonio', 'alcalde', 'es'): 1,\n",
       "         ('alcalde', 'es', 'el'): 1,\n",
       "         ('es', 'el', 'esfuerzo'): 1,\n",
       "         ('el', 'esfuerzo', 'del'): 1,\n",
       "         ('no', 'se', 'olvide'): 1,\n",
       "         ('se', 'olvide', 'de'): 1,\n",
       "         ('olvide', 'de', 'la'): 1,\n",
       "         ('la', 'calle', 'peñasco'): 1,\n",
       "         ('calle', 'peñasco', 'colonia'): 1,\n",
       "         ('peñasco', 'colonia', 'colinas'): 1,\n",
       "         ('colonia', 'colinas', 'de'): 1,\n",
       "         ('colinas', 'de', 'la'): 1,\n",
       "         ('de', 'la', 'primaverade'): 1,\n",
       "         ('la', 'primaverade', 'nada'): 1,\n",
       "         ('primaverade', 'nada', 'sirve'): 1,\n",
       "         ('nada', 'sirve', 'su'): 1,\n",
       "         ('sirve', 'su', 'obra'): 1,\n",
       "         ('su', 'obra', 'de'): 1,\n",
       "         ('obra', 'de', 'paseos'): 1,\n",
       "         ('de', 'paseos', 'de'): 1,\n",
       "         ('paseos', 'de', 'la'): 1,\n",
       "         ('de', 'la', 'primavera'): 1,\n",
       "         ('la', 'primavera', 'y'): 1,\n",
       "         ('primavera', 'y', 'esas'): 1,\n",
       "         ('y', 'esas', 'alcantarillas'): 1,\n",
       "         ('esas', 'alcantarillas', 'si'): 1,\n",
       "         ('alcantarillas', 'si', 'toda'): 1,\n",
       "         ('si', 'toda', 'la'): 1,\n",
       "         ('toda', 'la', 'tierra'): 1,\n",
       "         ('la', 'tierra', 'de'): 1,\n",
       "         ('tierra', 'de', 'esa'): 1,\n",
       "         ('de', 'esa', 'calle'): 1,\n",
       "         ('esa', 'calle', 'sigue'): 1,\n",
       "         ('calle', 'sigue', 'bajando'): 1,\n",
       "         ('sigue', 'bajando', 'por'): 1,\n",
       "         ('bajando', 'por', 'ahí'): 1,\n",
       "         ('por', 'ahí', 'juanjosefrangie'): 1,\n",
       "         ('ahí', 'juanjosefrangie', 'pablolemusn'): 1,\n",
       "         ('y', 'las', 'zonas'): 1,\n",
       "         ('las', 'zonas', 'marginadas'): 1,\n",
       "         ('zonas', 'marginadas', 'de'): 1,\n",
       "         ('marginadas', 'de', 'zapopan'): 1,\n",
       "         ('zapopan', 'para', 'cuando'): 1,\n",
       "         ('para', 'cuando', 'juanjosefrangie'): 1,\n",
       "         ('cuando', 'juanjosefrangie', 'pablolemusn'): 1,\n",
       "         ('lista', 'la', 'ciclovía'): 1,\n",
       "         ('la', 'ciclovía', 'para'): 1,\n",
       "         ('ciclovía', 'para', 'que'): 1,\n",
       "         ('para', 'que', 'la'): 1,\n",
       "         ('que', 'la', 'estrenen'): 1,\n",
       "         ('la', 'estrenen', 'los'): 1,\n",
       "         ('estrenen', 'los', 'motociclistas'): 1,\n",
       "         ('los', 'motociclistas', 'juanjosefrangie'): 1,\n",
       "         ('motociclistas', 'juanjosefrangie', 'pablolemusn'): 1,\n",
       "         ('agradezco', 'a', 'pablolemusn'): 1,\n",
       "         ('este', 'nido', 'captará'): 1,\n",
       "         ('nido', 'captará', 'el'): 1,\n",
       "         ('captará', 'el', 'agua'): 1,\n",
       "         ('el', 'agua', 'de'): 1,\n",
       "         ('agua', 'de', 'lluvia'): 1,\n",
       "         ('de', 'lluvia', 'pablolemusn'): 1,\n",
       "         ('visitamos', 'el', 'oriente'): 1,\n",
       "         ('el', 'oriente', 'de'): 1,\n",
       "         ('oriente', 'de', 'la'): 1,\n",
       "         ('la', 'ciudad', 'para'): 1,\n",
       "         ('ciudad', 'para', 'una'): 1,\n",
       "         ('para', 'una', 'entrega'): 1,\n",
       "         ('una', 'entrega', 'más'): 1,\n",
       "         ('entrega', 'más', 'de'): 1,\n",
       "         ('más', 'de', 'nidos'): 1,\n",
       "         ('de', 'nidos', 'de'): 1,\n",
       "         ('muchas', 'gracias', 'una'): 1,\n",
       "         ('gracias', 'una', 'lastima'): 1,\n",
       "         ('una', 'lastima', 'agradezco'): 1,\n",
       "         ('lastima', 'agradezco', 'su'): 1,\n",
       "         ('agradezco', 'su', 'pronta'): 1,\n",
       "         ('su', 'pronta', 'respuesta'): 1,\n",
       "         ('pronta', 'respuesta', 'saludos'): 1,\n",
       "         ('respuesta', 'saludos', 'felixgastelum1'): 1,\n",
       "         ('saludos', 'felixgastelum1', 'pablolemusn'): 1,\n",
       "         ('parásitos', 'vividores', 'en'): 1,\n",
       "         ('vividores', 'en', '6'): 1,\n",
       "         ('en', '6', 'años'): 1,\n",
       "         ('6', 'años', 'zamora'): 1,\n",
       "         ('años', 'zamora', 'no'): 1,\n",
       "         ('zamora', 'no', 'hizo'): 1,\n",
       "         ('no', 'hizo', 'más'): 1,\n",
       "         ('hizo', 'más', 'que'): 1,\n",
       "         ('más', 'que', 'topes'): 1,\n",
       "         ('que', 'topes', 'y'): 1,\n",
       "         ('topes', 'y', 'semáforos'): 1,\n",
       "         ('y', 'semáforos', 'en'): 1,\n",
       "         ('semáforos', 'en', 'las'): 1,\n",
       "         ('en', 'las', 'principales'): 1,\n",
       "         ('las', 'principales', 'vías'): 1,\n",
       "         ('principales', 'vías', 'de'): 1,\n",
       "         ('vías', 'de', 'acceso'): 1,\n",
       "         ('de', 'acceso', 'para'): 1,\n",
       "         ('acceso', 'para', 'nuevos'): 1,\n",
       "         ('para', 'nuevos', 'fraccionamientos'): 1,\n",
       "         ('nuevos', 'fraccionamientos', 'quirino'): 1,\n",
       "         ('fraccionamientos', 'quirino', 'no'): 1,\n",
       "         ('quirino', 'no', 'sabe'): 1,\n",
       "         ('no', 'sabe', 'hacer'): 1,\n",
       "         ('sabe', 'hacer', 'más'): 1,\n",
       "         ('hacer', 'más', 'que'): 1,\n",
       "         ('más', 'que', 'mascar'): 1,\n",
       "         ('que', 'mascar', 'chicles'): 1,\n",
       "         ('mascar', 'chicles', 'es'): 1,\n",
       "         ('chicles', 'es', 'un'): 1,\n",
       "         ('es', 'un', 'porro'): 1,\n",
       "         ('un', 'porro', 'chavorruco'): 1,\n",
       "         ('porro', 'chavorruco', 'solo'): 1,\n",
       "         ('chavorruco', 'solo', 'aprobó'): 1,\n",
       "         ('solo', 'aprobó', 'subir'): 1,\n",
       "         ('aprobó', 'subir', 'impuestos'): 1,\n",
       "         ('subir', 'impuestos', 'y'): 1,\n",
       "         ('impuestos', 'y', 'deuda'): 1,\n",
       "         ('y', 'deuda', 'simplemente'): 1,\n",
       "         ('deuda', 'simplemente', 'se'): 1,\n",
       "         ('simplemente', 'se', 'roban'): 1,\n",
       "         ('se', 'roban', 'el'): 1,\n",
       "         ('roban', 'el', 'presupuesto'): 1,\n",
       "         ('el', 'presupuesto', 'defrentealpoder'): 1,\n",
       "         ('presupuesto', 'defrentealpoder', 'afondojal'): 1,\n",
       "         ('la', 'visita', 'gdlmovilidad'): 1,\n",
       "         ('visita', 'gdlmovilidad', 'pablolemusn'): 1,\n",
       "         ('20', 'y', '2'): 1,\n",
       "         ('y', '2', 'más'): 1,\n",
       "         ('2', 'más', 'booth'): 1,\n",
       "         ('más', 'booth', 'at'): 1,\n",
       "         ('booth', 'at', 'both'): 1,\n",
       "         ('at', 'both', 'venues'): 1,\n",
       "         ('both', 'venues', 'and'): 1,\n",
       "         ('venues', 'and', 'explore'): 1,\n",
       "         ('and', 'explore', 'the'): 1,\n",
       "         ('explore', 'the', 'synergies'): 1,\n",
       "         ('the', 'synergies', 'with'): 1,\n",
       "         ('synergies', 'with', 'xdc'): 1,\n",
       "         ('with', 'xdc', 'network'): 1,\n",
       "         ('xdc', 'network', 'venue'): 1,\n",
       "         ('a', 'quien', 'le'): 1,\n",
       "         ('quien', 'le', 'llamamos'): 1,\n",
       "         ('le', 'llamamos', 'para'): 1,\n",
       "         ('llamamos', 'para', 'que'): 1,\n",
       "         ('para', 'que', 'liberen'): 1,\n",
       "         ('que', 'liberen', 'las'): 1,\n",
       "         ('liberen', 'las', 'banquetas'): 1,\n",
       "         ('las', 'banquetas', 'de'): 1,\n",
       "         ('banquetas', 'de', 'puestos'): 1,\n",
       "         ('de', 'puestos', 'ahi'): 1,\n",
       "         ('puestos', 'ahi', 'en'): 1,\n",
       "         ('ahi', 'en', 'tu'): 1,\n",
       "         ('en', 'tu', 'misma'): 1,\n",
       "         ('tu', 'misma', 'foto'): 1,\n",
       "         ('misma', 'foto', 'mira'): 1,\n",
       "         ('foto', 'mira', 'como'): 1,\n",
       "         ('mira', 'como', 'tienen'): 1,\n",
       "         ('como', 'tienen', 'tomada'): 1,\n",
       "         ('tienen', 'tomada', 'toda'): 1,\n",
       "         ('tomada', 'toda', 'la'): 1,\n",
       "         ('toda', 'la', 'banqueta'): 1,\n",
       "         ('la', 'banqueta', 'gdlmovilidad'): 1,\n",
       "         ('banqueta', 'gdlmovilidad', '72cucufato'): 1,\n",
       "         ('ing', 'joryus', 'madridproyecta'): 1,\n",
       "         ('la', 'entrega', 'del'): 1,\n",
       "         ('entrega', 'del', 'programa'): 1,\n",
       "         ('del', 'programa', 'nidos'): 1,\n",
       "         ('programa', 'nidos', 'de'): 1,\n",
       "         ('de', 'lluvia', 'en'): 1,\n",
       "         ('lluvia', 'en', 'la'): 1,\n",
       "         ('en', 'la', 'escuela'): 1,\n",
       "         ('la', 'escuela', 'primaria'): 1,\n",
       "         ('escuela', 'primaria', 'josé'): 1,\n",
       "         ('primaria', 'josé', 'luis'): 1,\n",
       "         ('josé', 'luis', 'arregui'): 1,\n",
       "         ('luis', 'arregui', 'acudieron'): 1,\n",
       "         ('arregui', 'acudieron', 'el'): 1,\n",
       "         ('acudieron', 'el', 'presidente'): 1,\n",
       "         ('oye', 'rt', 'jalisco'): 1,\n",
       "         ('buenas', 'tardes', 'el'): 1,\n",
       "         ('tardes', 'el', 'árbol'): 1,\n",
       "         ('el', 'árbol', 'estaba'): 1,\n",
       "         ('árbol', 'estaba', 'seco'): 1,\n",
       "         ('estaba', 'seco', 'por'): 1,\n",
       "         ('seco', 'por', 'lo'): 1,\n",
       "         ('por', 'lo', 'que'): 1,\n",
       "         ('lo', 'que', 'fue'): 1,\n",
       "         ('que', 'fue', 'retirado'): 1,\n",
       "         ('fue', 'retirado', 'previo'): 1,\n",
       "         ('retirado', 'previo', 'dictamen'): 1,\n",
       "         ('previo', 'dictamen', 'técnico'): 1,\n",
       "         ('dictamen', 'técnico', 'el'): 1,\n",
       "         ('técnico', 'el', 'ejemplar'): 1,\n",
       "         ('el', 'ejemplar', 'será'): 1,\n",
       "         ('ejemplar', 'será', 'repuesto'): 1,\n",
       "         ('será', 'repuesto', 'saludos'): 1,\n",
       "         ('repuesto', 'saludos', 'y'): 1,\n",
       "         ('saludos', 'y', 'a'): 1,\n",
       "         ('y', 'a', 'la'): 1,\n",
       "         ('a', 'la', 'orden'): 1,\n",
       "         ('la', 'orden', 'falcao936814776'): 1,\n",
       "         ('orden', 'falcao936814776', 'pablolemusn'): 1,\n",
       "         ('pobre', 'la', 'gente'): 1,\n",
       "         ('la', 'gente', 'en'): 1,\n",
       "         ('gente', 'en', 'silla'): 1,\n",
       "         ('en', 'silla', 'de'): 1,\n",
       "         ('silla', 'de', 'ruedas'): 1,\n",
       "         ('de', 'ruedas', 'esa'): 1,\n",
       "         ('ruedas', 'esa', 'es'): 1,\n",
       "         ('es', 'la', 'rampa'): 1,\n",
       "         ('la', 'rampa', 'de'): 1,\n",
       "         ('rampa', 'de', 'discapacitados'): 1,\n",
       "         ('de', 'discapacitados', 'la'): 1,\n",
       "         ('discapacitados', 'la', 'banqueta'): 1,\n",
       "         ('la', 'banqueta', 'del'): 1,\n",
       "         ('banqueta', 'del', 'lado'): 1,\n",
       "         ('del', 'lado', 'del'): 1,\n",
       "         ('lado', 'del', 'hotel'): 1,\n",
       "         ('del', 'hotel', 'carlton'): 1,\n",
       "         ('hotel', 'carlton', 'es'): 1,\n",
       "         ('carlton', 'es', 'una'): 1,\n",
       "         ('es', 'una', 'porquería'): 1,\n",
       "         ('una', 'porquería', 'todo'): 1,\n",
       "         ('porquería', 'todo', 'mal'): 1,\n",
       "         ('todo', 'mal', 'hecho'): 1,\n",
       "         ('mal', 'hecho', 'si'): 1,\n",
       "         ('hecho', 'si', 'la'): 1,\n",
       "         ('si', 'la', 'van'): 1,\n",
       "         ('la', 'van', 'a'): 1,\n",
       "         ('van', 'a', 'meter'): 1,\n",
       "         ('a', 'meter', 'mano'): 1,\n",
       "         ('meter', 'mano', 'que'): 1,\n",
       "         ('mano', 'que', 'lo'): 1,\n",
       "         ('que', 'lo', 'hagan'): 1,\n",
       "         ('lo', 'hagan', 'bien'): 1,\n",
       "         ('hagan', 'bien', 'como'): 1,\n",
       "         ('bien', 'como', 'lo'): 1,\n",
       "         ('como', 'lo', 'hicieron'): 1,\n",
       "         ('lo', 'hicieron', 'en'): 1,\n",
       "         ('hicieron', 'en', 'los'): 1,\n",
       "         ('los', 'dos', 'templos'): 1,\n",
       "         ('dos', 'templos', 'si'): 1,\n",
       "         ('templos', 'si', 'no'): 1,\n",
       "         ('si', 'no', 'para'): 1,\n",
       "         ('no', 'para', 'que'): 1,\n",
       "         ('para', 'que', 'todo'): 1,\n",
       "         ('que', 'todo', 'hecho'): 1,\n",
       "         ('todo', 'hecho', 'con'): 1,\n",
       "         ('hecho', 'con', 'las'): 1,\n",
       "         ('con', 'las', 'patas'): 1,\n",
       "         ('las', 'patas', 'ladybethelsita'): 1,\n",
       "         ('patas', 'ladybethelsita', 'trafico_zmg'): 1,\n",
       "         ('y', 'alfonso98930971', 'pablolemusn'): 1,\n",
       "         ('ánimo', 'janeth', 'a'): 1,\n",
       "         ('janeth', 'a', 'seguir'): 1,\n",
       "         ('seguir', 'chambeando', 'janeth_bar41110'): 1,\n",
       "         ('ánimo', 'eli', 'eli_cerafin'): 1,\n",
       "         ('ánimo', 'josé', 'a'): 1,\n",
       "         ('josé', 'a', 'seguir'): 1,\n",
       "         ('que', 'queremos', 'corona_agu68699'): 1,\n",
       "         ('ánimo', 'román', 'a'): 1,\n",
       "         ('román', 'a', 'seguir'): 1,\n",
       "         ('de', 'buenas', 'romanlira7'): 1,\n",
       "         ('más', 'bonitas', 'si'): 1,\n",
       "         ('bonitas', 'si', 'aparecen'): 1,\n",
       "         ('si', 'aparecen', 'todas'): 1,\n",
       "         ('aparecen', 'todas', 'esas'): 1,\n",
       "         ('todas', 'esas', 'personas'): 1,\n",
       "         ('esas', 'personas', 'que'): 1,\n",
       "         ('personas', 'que', 'hacen'): 1,\n",
       "         ('que', 'hacen', 'falta'): 1,\n",
       "         ('hacen', 'falta', 'en'): 1,\n",
       "         ('falta', 'en', 'sus'): 1,\n",
       "         ('en', 'sus', 'hogares'): 1,\n",
       "         ('sus', 'hogares', 'y'): 1,\n",
       "         ('hogares', 'y', 'les'): 1,\n",
       "         ('y', 'les', 'daban'): 1,\n",
       "         ('les', 'daban', 'vida'): 1,\n",
       "         ('daban', 'vida', 'a'): 1,\n",
       "         ('vida', 'a', 'las'): 1,\n",
       "         ('a', 'las', 'calles'): 1,\n",
       "         ('las', 'calles', 'pablolemusn'): 1,\n",
       "         ('ánimo', 'jalisco', 'jehg_'): 1,\n",
       "         ('ánimo', 'jalisco', 'carde82871'): 1,\n",
       "         ('ánimo', 'miguel', 'seguiremos'): 1,\n",
       "         ('miguel', 'seguiremos', 'trabajando'): 1,\n",
       "         ('seguiremos', 'trabajando', 'por'): 1,\n",
       "         ('por', 'la', 'tranquilidad'): 1,\n",
       "         ('la', 'tranquilidad', 'de'): 1,\n",
       "         ('tranquilidad', 'de', 'las'): 1,\n",
       "         ('los', 'tapatíos', 'miguelc59197636'): 1,\n",
       "         ('ahora', 'mandas', 'a'): 1,\n",
       "         ('mandas', 'a', 'tu'): 1,\n",
       "         ('a', 'tu', 'gente'): 1,\n",
       "         ('tu', 'gente', 'a'): 1,\n",
       "         ('gente', 'a', 'hacer'): 1,\n",
       "         ('a', 'hacer', 'conciencia'): 1,\n",
       "         ('hacer', 'conciencia', 'para'): 1,\n",
       "         ('conciencia', 'para', 'que'): 1,\n",
       "         ('para', 'que', 'no'): 1,\n",
       "         ('que', 'no', 'dejen'): 1,\n",
       "         ('no', 'dejen', 'la'): 1,\n",
       "         ('dejen', 'la', 'basura'): 1,\n",
       "         ('la', 'basura', 'afuera'): 1,\n",
       "         ('basura', 'afuera', 'de'): 1,\n",
       "         ('afuera', 'de', 'su'): 1,\n",
       "         ('casa', 'y', 'que'): 1,\n",
       "         ('y', 'que', 'esperen'): 1,\n",
       "         ('que', 'esperen', 'al'): 1,\n",
       "         ('esperen', 'al', 'camión'): 1,\n",
       "         ('al', 'camión', 'de'): 1,\n",
       "         ('camión', 'de', 'la'): 1,\n",
       "         ('de', 'la', 'misma'): 1,\n",
       "         ('la', 'misma', 'si'): 1,\n",
       "         ('misma', 'si', 'no'): 1,\n",
       "         ('si', 'no', 'nos'): 1,\n",
       "         ('no', 'nos', 'volvemos'): 1,\n",
       "         ('nos', 'volvemos', 'acreedores'): 1,\n",
       "         ('volvemos', 'acreedores', 'a'): 1,\n",
       "         ('acreedores', 'a', 'una'): 1,\n",
       "         ('a', 'una', 'multa'): 1,\n",
       "         ('una', 'multa', 'pablolemusn'): 1,\n",
       "         ('ánimo', 'rosendo', 'rosendo45909760'): 1,\n",
       "         ('gracias', 'juan', 'seguiremos'): 1,\n",
       "         ('juan', 'seguiremos', 'trabajando'): 1,\n",
       "         ('seguiremos', 'trabajando', 'en'): 1,\n",
       "         ('trabajando', 'en', 'coordinación'): 1,\n",
       "         ('en', 'coordinación', 'con'): 1,\n",
       "         ('coordinación', 'con', 'la'): 1,\n",
       "         ('con', 'la', 'comisaría'): 1,\n",
       "         ('comisaría', 'de', 'guadalajara'): 1,\n",
       "         ('de', 'guadalajara', 'para'): 1,\n",
       "         ('guadalajara', 'para', 'regresarle'): 1,\n",
       "         ('para', 'regresarle', 'la'): 1,\n",
       "         ('regresarle', 'la', 'tranquilidad'): 1,\n",
       "         ('la', 'tranquilidad', 'a'): 1,\n",
       "         ('tranquilidad', 'a', 'las'): 1,\n",
       "         ('las', 'familias', 'tapatías'): 1,\n",
       "         ('familias', 'tapatías', 'ánimo'): 1,\n",
       "         ('tapatías', 'ánimo', 'juanluis95silva'): 1,\n",
       "         ('y', 'confianza', 'roberto'): 1,\n",
       "         ('confianza', 'roberto', 'ánimo'): 1,\n",
       "         ('roberto', 'ánimo', 'viesrangl760720'): 1,\n",
       "         ('ánimo', 'jalisco', 'luisrubio888'): 1,\n",
       "         ('ánimo', 'julio', 'juioces'): 1,\n",
       "         ('a', 'darle', 'con'): 1,\n",
       "         ('darle', 'con', 'todo'): 1,\n",
       "         ('con', 'todo', 'osvaldo'): 1,\n",
       "         ('todo', 'osvaldo', 'ánimo'): 1,\n",
       "         ('osvaldo', 'ánimo', 'osvabecerra26'): 1,\n",
       "         ('ánimo', 'jerri', 'a'): 1,\n",
       "         ('jerri', 'a', 'seguir'): 1,\n",
       "         ('que', 'queremos', 'jerribasuca'): 1,\n",
       "         ('ánimo', 'ramón', 'ramonruval48003'): 1,\n",
       "         ('esta', 'obra', 'fue'): 1,\n",
       "         ('obra', 'fue', 'un'): 1,\n",
       "         ('fue', 'un', 'esfuerzo'): 1,\n",
       "         ('un', 'esfuerzo', 'de'): 1,\n",
       "         ('esfuerzo', 'de', 'continuidad'): 1,\n",
       "         ('de', 'continuidad', 'y'): 1,\n",
       "         ('continuidad', 'y', 'coordinación'): 1,\n",
       "         ('y', 'coordinación', 'como'): 1,\n",
       "         ('coordinación', 'como', 'lo'): 1,\n",
       "         ('como', 'lo', 'mencionó'): 1,\n",
       "         ('lo', 'mencionó', 'patriciaurbana'): 1,\n",
       "         ('seria', 'posible', 'con'): 1,\n",
       "         ('posible', 'con', 'esta'): 1,\n",
       "         ('con', 'esta', 'tecnologia'): 1,\n",
       "         ('esta', 'tecnologia', 'recuperar'): 1,\n",
       "         ('tecnologia', 'recuperar', 'los'): 1,\n",
       "         ('robaron', 'en', 'pablolemusn'): 1,\n",
       "         ('por', 'voz', 'y'): 1,\n",
       "         ('voz', 'y', 'queremos'): 1,\n",
       "         ('nosotros', 'tenemos', 'un'): 1,\n",
       "         ('tenemos', 'un', 'botón'): 1,\n",
       "         ('por', 'voz', 'estamos'): 1,\n",
       "         ('voz', 'estamos', 'por'): 1,\n",
       "         ('estamos', 'por', 'lanzarlo'): 1,\n",
       "         ('por', 'lanzarlo', 'y'): 1,\n",
       "         ('lanzarlo', 'y', 'queremos'): 1,\n",
       "         ('la', 'pablolemusn', 'policiagdl'): 1,\n",
       "         ('son', 'los', 'que'): 1,\n",
       "         ('los', 'que', 'hicieron'): 1,\n",
       "         ('que', 'hicieron', 'una'): 1,\n",
       "         ('hicieron', 'una', 'fiesta'): 1,\n",
       "         ('una', 'fiesta', 'con'): 1,\n",
       "         ('fiesta', 'con', 'una'): 1,\n",
       "         ('con', 'una', 'piñata'): 1,\n",
       "         ('una', 'piñata', 'del'): 1,\n",
       "         ('piñata', 'del', 'cabeza'): 1,\n",
       "         ('del', 'cabeza', 'de'): 1,\n",
       "         ('cabeza', 'de', 'rodilla'): 1,\n",
       "         ('de', 'rodilla', 'en'): 1,\n",
       "         ('rodilla', 'en', 'pleno'): 1,\n",
       "         ('en', 'pleno', 'monumento'): 1,\n",
       "         ('pleno', 'monumento', 'a'): 1,\n",
       "         ('monumento', 'a', 'los'): 1,\n",
       "         ('a', 'los', 'desaparecidos'): 1,\n",
       "         ('los', 'desaparecidos', 'exigiendo'): 1,\n",
       "         ('desaparecidos', 'exigiendo', 'respeto'): 1,\n",
       "         ('exigiendo', 'respeto', 'luzesperanz_ofi'): 1,\n",
       "         ('respeto', 'luzesperanz_ofi', 'guadalajaragob'): 1,\n",
       "         ('levantados', 'desaparecidos', 'fosas'): 1,\n",
       "         ('desaparecidos', 'fosas', 'clandestinas'): 1,\n",
       "         ('fosas', 'clandestinas', 'el'): 1,\n",
       "         ('clandestinas', 'el', 'pan'): 1,\n",
       "         ('el', 'pan', 'de'): 1,\n",
       "         ('pan', 'de', 'cada'): 1,\n",
       "         ('de', 'cada', 'día'): 1,\n",
       "         ('cada', 'día', 'en'): 1,\n",
       "         ('el', 'cdam', 'será'): 1,\n",
       "         ('cdam', 'será', 'un'): 1,\n",
       "         ('será', 'un', 'espacio'): 1,\n",
       "         ('un', 'espacio', 'de'): 1,\n",
       "         ('espacio', 'de', 'primer'): 1,\n",
       "         ('de', 'primer', 'nivel'): 1,\n",
       "         ('primer', 'nivel', 'dedicado'): 1,\n",
       "         ('nivel', 'dedicado', 'a'): 1,\n",
       "         ('dedicado', 'a', 'las'): 1,\n",
       "         ('a', 'las', 'artes'): 1,\n",
       "         ('las', 'artes', 'marciales'): 1,\n",
       "         ('artes', 'marciales', 'realizamos'): 1,\n",
       "         ('marciales', 'realizamos', 'junto'): 1,\n",
       "         ('realizamos', 'junto', 'con'): 1,\n",
       "         ('junto', 'con', 'el'): 1,\n",
       "         ('con', 'el', 'presidente'): 1,\n",
       "         ('es', 'un', 'chapulín'): 1,\n",
       "         ('un', 'chapulín', 'de'): 1,\n",
       "         ('chapulín', 'de', 'la'): 1,\n",
       "         ('de', 'la', '4t'): 1,\n",
       "         ('la', '4t', 'que'): 1,\n",
       "         ('4t', 'que', 'ya'): 1,\n",
       "         ('que', 'ya', 'anda'): 1,\n",
       "         ('ya', 'anda', 'en'): 1,\n",
       "         ('anda', 'en', 'campaña'): 1,\n",
       "         ('en', 'campaña', 'lupistrupis777'): 1,\n",
       "         ...})"
      ]
     },
     "execution_count": 15,
     "metadata": {},
     "output_type": "execute_result"
    }
   ],
   "source": [
    "import pandas as pd\n",
    "import matplotlib.pyplot as plt\n",
    "from collections import Counter\n",
    "from itertools import chain\n",
    "\n",
    "# Supongamos que tienes un DataFrame 'df' con la columna 'ngramas_spacy'\n",
    "# df = ...\n",
    "\n",
    "# Combina todos los n-gramas en una lista plana\n",
    "ngramas = list(chain.from_iterable(df_coments_clean['ngramas_nltk']))\n",
    "\n",
    "# Calcula la frecuencia de cada n-grama\n",
    "frecuencia_ngramas = Counter(ngramas)\n",
    "\n",
    "# Obtén los n-gramas más comunes (puedes ajustar la cantidad que deseas mostrar)\n",
    "ngramas_comunes = frecuencia_ngramas.most_common(10)\n",
    "# Extrae los n-gramas y sus frecuencias\n",
    "ngramas, frecuencias = zip(*ngramas_comunes)\n",
    "\n",
    "frecuencia_ngramas"
   ]
  },
  {
   "cell_type": "code",
   "execution_count": 20,
   "metadata": {},
   "outputs": [
    {
     "data": {
      "text/html": [
       "<div>\n",
       "<style scoped>\n",
       "    .dataframe tbody tr th:only-of-type {\n",
       "        vertical-align: middle;\n",
       "    }\n",
       "\n",
       "    .dataframe tbody tr th {\n",
       "        vertical-align: top;\n",
       "    }\n",
       "\n",
       "    .dataframe thead th {\n",
       "        text-align: right;\n",
       "    }\n",
       "</style>\n",
       "<table border=\"1\" class=\"dataframe\">\n",
       "  <thead>\n",
       "    <tr style=\"text-align: right;\">\n",
       "      <th></th>\n",
       "      <th>texto</th>\n",
       "      <th>texto_preprocesado</th>\n",
       "      <th>bigramas_spacy</th>\n",
       "      <th>bigramas_nltk</th>\n",
       "      <th>ngramas_spacy</th>\n",
       "      <th>ngramas_nltk</th>\n",
       "      <th>texto_lematizado</th>\n",
       "    </tr>\n",
       "  </thead>\n",
       "  <tbody>\n",
       "    <tr>\n",
       "      <th>0</th>\n",
       "      <td>que gusto poder acompañarlos el día de hoy en ...</td>\n",
       "      <td>[gusto , acompañar él, representación, alcalde]</td>\n",
       "      <td>[(que, gusto), (gusto, poder), (poder, acompañ...</td>\n",
       "      <td>[(que, gusto), (gusto, poder), (poder, acompañ...</td>\n",
       "      <td>[(que, gusto, poder), (gusto, poder, acompañar...</td>\n",
       "      <td>[(que, gusto, poder), (gusto, poder, acompañar...</td>\n",
       "      <td>que gusto  poder acompañar él el día de hoy en...</td>\n",
       "    </tr>\n",
       "    <tr>\n",
       "      <th>1</th>\n",
       "      <td>muchas gracias amigo sin tu apoyo esto no hubi...</td>\n",
       "      <td>[gracia, amigo, apoyo, haber, pablolemusn]</td>\n",
       "      <td>[(muchas, gracias), (gracias, amigo), (amigo, ...</td>\n",
       "      <td>[(muchas, gracias), (gracias, amigo), (amigo, ...</td>\n",
       "      <td>[(muchas, gracias, amigo), (gracias, amigo, si...</td>\n",
       "      <td>[(muchas, gracias, amigo), (gracias, amigo, si...</td>\n",
       "      <td>mucho gracia amigo sin tu apoyo este no haber ...</td>\n",
       "    </tr>\n",
       "    <tr>\n",
       "      <th>2</th>\n",
       "      <td>76</td>\n",
       "      <td>[]</td>\n",
       "      <td>[]</td>\n",
       "      <td>[]</td>\n",
       "      <td>[]</td>\n",
       "      <td>[]</td>\n",
       "      <td>76</td>\n",
       "    </tr>\n",
       "    <tr>\n",
       "      <th>3</th>\n",
       "      <td>se han realizado no menos de cuatro reportes s...</td>\n",
       "      <td>[report, respuesta, ojalá, poder, lograr, reti...</td>\n",
       "      <td>[(se, han), (han, realizado), (realizado, no),...</td>\n",
       "      <td>[(se, han), (han, realizado), (realizado, no),...</td>\n",
       "      <td>[(se, han, realizado), (han, realizado, no), (...</td>\n",
       "      <td>[(se, han, realizado), (han, realizado, no), (...</td>\n",
       "      <td>él haber realizar no menos de cuatro report si...</td>\n",
       "    </tr>\n",
       "    <tr>\n",
       "      <th>4</th>\n",
       "      <td>te felicito amigo juanjosefrangie</td>\n",
       "      <td>[felicito, amigo, juanjosefrangie]</td>\n",
       "      <td>[(te, felicito), (felicito, amigo), (amigo, ju...</td>\n",
       "      <td>[(te, felicito), (felicito, amigo), (amigo, ju...</td>\n",
       "      <td>[(te, felicito, amigo), (felicito, amigo, juan...</td>\n",
       "      <td>[(te, felicito, amigo), (felicito, amigo, juan...</td>\n",
       "      <td>tú felicito amigo juanjosefrangie</td>\n",
       "    </tr>\n",
       "    <tr>\n",
       "      <th>...</th>\n",
       "      <td>...</td>\n",
       "      <td>...</td>\n",
       "      <td>...</td>\n",
       "      <td>...</td>\n",
       "      <td>...</td>\n",
       "      <td>...</td>\n",
       "      <td>...</td>\n",
       "    </tr>\n",
       "    <tr>\n",
       "      <th>815</th>\n",
       "      <td>no creo mira lo que han hecho en zapopan esos ...</td>\n",
       "      <td>[mirar, zapopar, gobierno, dantedelgado]</td>\n",
       "      <td>[(no, creo), (creo, mira), (mira, lo), (lo, qu...</td>\n",
       "      <td>[(no, creo), (creo, mira), (mira, lo), (lo, qu...</td>\n",
       "      <td>[(no, creo, mira), (creo, mira, lo), (mira, lo...</td>\n",
       "      <td>[(no, creo, mira), (creo, mira, lo), (mira, lo...</td>\n",
       "      <td>no creer mirar él que haber hacer en zapopar e...</td>\n",
       "    </tr>\n",
       "    <tr>\n",
       "      <th>816</th>\n",
       "      <td>animo guadalajara hagala_ trafico_zmg</td>\n",
       "      <td>[animo, guadalajara, hagala]</td>\n",
       "      <td>[(animo, guadalajara), (guadalajara, hagala), ...</td>\n",
       "      <td>[(animo, guadalajara), (guadalajara, hagala_),...</td>\n",
       "      <td>[(animo, guadalajara, hagala), (guadalajara, h...</td>\n",
       "      <td>[(animo, guadalajara, hagala_), (guadalajara, ...</td>\n",
       "      <td>animo guadalajara hagala _ trafico_zmg</td>\n",
       "    </tr>\n",
       "    <tr>\n",
       "      <th>817</th>\n",
       "      <td>oye de mi gran amigo el doc lomeli no vas a es...</td>\n",
       "      <td>[oir, amigo, doc, lomeli, ir, hablar, bitacora...</td>\n",
       "      <td>[(oye, de), (de, mi), (mi, gran), (gran, amigo...</td>\n",
       "      <td>[(oye, de), (de, mi), (mi, gran), (gran, amigo...</td>\n",
       "      <td>[(oye, de, mi), (de, mi, gran), (mi, gran, ami...</td>\n",
       "      <td>[(oye, de, mi), (de, mi, gran), (mi, gran, ami...</td>\n",
       "      <td>oir de mi gran amigo el doc lomeli no ir a est...</td>\n",
       "    </tr>\n",
       "    <tr>\n",
       "      <th>818</th>\n",
       "      <td>milyrocha19 felixgastelum1</td>\n",
       "      <td>[]</td>\n",
       "      <td>[(milyrocha19, felixgastelum1)]</td>\n",
       "      <td>[(milyrocha19, felixgastelum1)]</td>\n",
       "      <td>[]</td>\n",
       "      <td>[]</td>\n",
       "      <td>milyrocha19 felixgastelum1</td>\n",
       "    </tr>\n",
       "    <tr>\n",
       "      <th>819</th>\n",
       "      <td></td>\n",
       "      <td>[]</td>\n",
       "      <td>[]</td>\n",
       "      <td>[]</td>\n",
       "      <td>[]</td>\n",
       "      <td>[]</td>\n",
       "      <td></td>\n",
       "    </tr>\n",
       "  </tbody>\n",
       "</table>\n",
       "<p>820 rows × 7 columns</p>\n",
       "</div>"
      ],
      "text/plain": [
       "                                                 texto  \\\n",
       "0    que gusto poder acompañarlos el día de hoy en ...   \n",
       "1    muchas gracias amigo sin tu apoyo esto no hubi...   \n",
       "2                                                   76   \n",
       "3    se han realizado no menos de cuatro reportes s...   \n",
       "4                    te felicito amigo juanjosefrangie   \n",
       "..                                                 ...   \n",
       "815  no creo mira lo que han hecho en zapopan esos ...   \n",
       "816              animo guadalajara hagala_ trafico_zmg   \n",
       "817  oye de mi gran amigo el doc lomeli no vas a es...   \n",
       "818                         milyrocha19 felixgastelum1   \n",
       "819                                                      \n",
       "\n",
       "                                    texto_preprocesado  \\\n",
       "0      [gusto , acompañar él, representación, alcalde]   \n",
       "1           [gracia, amigo, apoyo, haber, pablolemusn]   \n",
       "2                                                   []   \n",
       "3    [report, respuesta, ojalá, poder, lograr, reti...   \n",
       "4                   [felicito, amigo, juanjosefrangie]   \n",
       "..                                                 ...   \n",
       "815           [mirar, zapopar, gobierno, dantedelgado]   \n",
       "816                       [animo, guadalajara, hagala]   \n",
       "817  [oir, amigo, doc, lomeli, ir, hablar, bitacora...   \n",
       "818                                                 []   \n",
       "819                                                 []   \n",
       "\n",
       "                                        bigramas_spacy  \\\n",
       "0    [(que, gusto), (gusto, poder), (poder, acompañ...   \n",
       "1    [(muchas, gracias), (gracias, amigo), (amigo, ...   \n",
       "2                                                   []   \n",
       "3    [(se, han), (han, realizado), (realizado, no),...   \n",
       "4    [(te, felicito), (felicito, amigo), (amigo, ju...   \n",
       "..                                                 ...   \n",
       "815  [(no, creo), (creo, mira), (mira, lo), (lo, qu...   \n",
       "816  [(animo, guadalajara), (guadalajara, hagala), ...   \n",
       "817  [(oye, de), (de, mi), (mi, gran), (gran, amigo...   \n",
       "818                    [(milyrocha19, felixgastelum1)]   \n",
       "819                                                 []   \n",
       "\n",
       "                                         bigramas_nltk  \\\n",
       "0    [(que, gusto), (gusto, poder), (poder, acompañ...   \n",
       "1    [(muchas, gracias), (gracias, amigo), (amigo, ...   \n",
       "2                                                   []   \n",
       "3    [(se, han), (han, realizado), (realizado, no),...   \n",
       "4    [(te, felicito), (felicito, amigo), (amigo, ju...   \n",
       "..                                                 ...   \n",
       "815  [(no, creo), (creo, mira), (mira, lo), (lo, qu...   \n",
       "816  [(animo, guadalajara), (guadalajara, hagala_),...   \n",
       "817  [(oye, de), (de, mi), (mi, gran), (gran, amigo...   \n",
       "818                    [(milyrocha19, felixgastelum1)]   \n",
       "819                                                 []   \n",
       "\n",
       "                                         ngramas_spacy  \\\n",
       "0    [(que, gusto, poder), (gusto, poder, acompañar...   \n",
       "1    [(muchas, gracias, amigo), (gracias, amigo, si...   \n",
       "2                                                   []   \n",
       "3    [(se, han, realizado), (han, realizado, no), (...   \n",
       "4    [(te, felicito, amigo), (felicito, amigo, juan...   \n",
       "..                                                 ...   \n",
       "815  [(no, creo, mira), (creo, mira, lo), (mira, lo...   \n",
       "816  [(animo, guadalajara, hagala), (guadalajara, h...   \n",
       "817  [(oye, de, mi), (de, mi, gran), (mi, gran, ami...   \n",
       "818                                                 []   \n",
       "819                                                 []   \n",
       "\n",
       "                                          ngramas_nltk  \\\n",
       "0    [(que, gusto, poder), (gusto, poder, acompañar...   \n",
       "1    [(muchas, gracias, amigo), (gracias, amigo, si...   \n",
       "2                                                   []   \n",
       "3    [(se, han, realizado), (han, realizado, no), (...   \n",
       "4    [(te, felicito, amigo), (felicito, amigo, juan...   \n",
       "..                                                 ...   \n",
       "815  [(no, creo, mira), (creo, mira, lo), (mira, lo...   \n",
       "816  [(animo, guadalajara, hagala_), (guadalajara, ...   \n",
       "817  [(oye, de, mi), (de, mi, gran), (mi, gran, ami...   \n",
       "818                                                 []   \n",
       "819                                                 []   \n",
       "\n",
       "                                      texto_lematizado  \n",
       "0    que gusto  poder acompañar él el día de hoy en...  \n",
       "1    mucho gracia amigo sin tu apoyo este no haber ...  \n",
       "2                                                   76  \n",
       "3    él haber realizar no menos de cuatro report si...  \n",
       "4                    tú felicito amigo juanjosefrangie  \n",
       "..                                                 ...  \n",
       "815  no creer mirar él que haber hacer en zapopar e...  \n",
       "816             animo guadalajara hagala _ trafico_zmg  \n",
       "817  oir de mi gran amigo el doc lomeli no ir a est...  \n",
       "818                         milyrocha19 felixgastelum1  \n",
       "819                                                     \n",
       "\n",
       "[820 rows x 7 columns]"
      ]
     },
     "execution_count": 20,
     "metadata": {},
     "output_type": "execute_result"
    }
   ],
   "source": [
    "# Cargar el modelo de spaCy en español\n",
    "nlp = spacy.load(\"es_core_news_sm\")\n",
    "\n",
    "# Función para lematizar el texto\n",
    "def lematizar_texto(texto):\n",
    "    doc = nlp(texto)\n",
    "    lemas = [token.lemma_ for token in doc]\n",
    "    return \" \".join(lemas)\n",
    "\n",
    "# Aplicar la función de lematización a cada fila del DataFrame\n",
    "df_coments_clean['texto_lematizado'] = df_coments_clean['texto'].apply(lematizar_texto)\n",
    "\n",
    "# Visualización del DataFrame resultante\n",
    "df_coments_clean"
   ]
  },
  {
   "cell_type": "code",
   "execution_count": 28,
   "metadata": {},
   "outputs": [
    {
     "name": "stdout",
     "output_type": "stream",
     "text": [
      "(0, '0.054*\"pablolemusn\" + 0.013*\"calle\" + 0.009*\"deltoroismael\" + 0.008*\"ciudad\" + 0.008*\"robar\" + 0.006*\"necesitar\" + 0.006*\"verodelgadillog\" + 0.005*\"seguir\" + 0.005*\"basura\" + 0.005*\"trabajo\" + 0.005*\"personal\" + 0.005*\"mentira\" + 0.005*\"q\" + 0.005*\"guadalajara\" + 0.005*\"hijo\"')\n",
      "(1, '0.044*\"pablolemusn\" + 0.018*\"lemus\" + 0.018*\"verodelgadillog\" + 0.008*\"ismael\" + 0.008*\"agua\" + 0.006*\"colonia\" + 0.006*\"seguir\" + 0.005*\"guadalajaragob\" + 0.005*\"amigo\" + 0.005*\"bitacorapol\" + 0.005*\"pablin\" + 0.005*\"señor\" + 0.005*\"alcalde\" + 0.005*\"jalisco\" + 0.005*\"público\"')\n",
      "(2, '0.040*\"pablolemusn\" + 0.017*\"guadalajara\" + 0.014*\"alcalde\" + 0.010*\"tapatío\" + 0.009*\"llegar\" + 0.007*\"presidente\" + 0.006*\"jalisco\" + 0.006*\"calle\" + 0.006*\"municipal\" + 0.005*\"querer\" + 0.005*\"seguir\" + 0.005*\"naranja\" + 0.005*\"ciudadano\" + 0.005*\"vergüenza\" + 0.004*\"guadalajaragob\"')\n",
      "(3, '0.056*\"pablolemusn\" + 0.028*\"alcalde\" + 0.015*\"deltoroismael\" + 0.009*\"verodelgadillog\" + 0.009*\"semana\" + 0.009*\"jalisco\" + 0.007*\"millón\" + 0.007*\"público\" + 0.007*\"rendir\" + 0.007*\"representación\" + 0.007*\"juanjosefrangie\" + 0.007*\"tocar\" + 0.006*\"querer\" + 0.006*\"seguir\" + 0.005*\"entrega\"')\n",
      "(4, '0.039*\"pablolemusn\" + 0.017*\"millón\" + 0.011*\"deltoroismael\" + 0.010*\"seguir\" + 0.007*\"dinero\" + 0.007*\"guadalajara\" + 0.007*\"creer\" + 0.007*\"colonia\" + 0.005*\"iepcjalisco\" + 0.005*\"salir\" + 0.005*\"accendo\" + 0.005*\"tema\" + 0.005*\"fuente\" + 0.005*\"mostrar\" + 0.005*\"afondojal\"')\n",
      "(5, '0.021*\"guadalajaragob\" + 0.014*\"pablolemusn\" + 0.011*\"gracias\" + 0.010*\"gobierno\" + 0.009*\"ánimo\" + 0.008*\"asistir\" + 0.008*\"alcalde\" + 0.008*\"desaparecido\" + 0.008*\"vecino\" + 0.006*\"pedir\" + 0.006*\"parque\" + 0.006*\"solicitar\" + 0.006*\"basura\" + 0.006*\"gnocturnamx\" + 0.005*\"jalisco\"')\n",
      "(6, '0.017*\"pablolemusn\" + 0.010*\"guadalajaragob\" + 0.009*\"reporte\" + 0.009*\"atender\" + 0.007*\"mostrar\" + 0.007*\"inaugurar\" + 0.005*\"jalisco\" + 0.005*\"público\" + 0.005*\"gobernador\" + 0.005*\"pablo\" + 0.005*\"hablar\" + 0.005*\"mc\" + 0.005*\"estimado\" + 0.005*\"is\" + 0.005*\"criticar\"')\n",
      "(7, '0.028*\"pablolemusn\" + 0.009*\"gracia\" + 0.008*\"zona\" + 0.008*\"ánimo\" + 0.007*\"seguir\" + 0.007*\"guadalajara\" + 0.007*\"salir\" + 0.007*\"gracias\" + 0.006*\"ciudad\" + 0.006*\"zapopan\" + 0.005*\"millón\" + 0.005*\"alcalde\" + 0.005*\"respuesta\" + 0.005*\"siapagdl\" + 0.005*\"atender\"')\n",
      "(8, '0.027*\"pablolemusn\" + 0.021*\"trabajar\" + 0.016*\"seguir\" + 0.016*\"gracia\" + 0.015*\"ánimo\" + 0.012*\"spotifycom\" + 0.011*\"guadalajaragob\" + 0.011*\"apoyo\" + 0.010*\"querer\" + 0.009*\"av\" + 0.008*\"calle\" + 0.007*\"ciudad\" + 0.005*\"obra\" + 0.005*\"deber\" + 0.005*\"d\"')\n",
      "(9, '0.119*\"pablolemusn\" + 0.024*\"jalisco\" + 0.015*\"ánimo\" + 0.015*\"animo\" + 0.013*\"deltoroismael\" + 0.011*\"guadalajara\" + 0.009*\"público\" + 0.009*\"expoganaderajal\" + 0.008*\"policiagdl\" + 0.008*\"excelente\" + 0.008*\"dejar\" + 0.008*\"pablo\" + 0.007*\"basura\" + 0.006*\"gobernador\" + 0.006*\"agradecer\"')\n"
     ]
    }
   ],
   "source": [
    "# Aplicar el preprocesamiento a cada fila del DataFrame\n",
    "df_coments_clean['texto_preprocesado'] = df_coments_clean['texto_lematizado'].apply(preprocess_text)\n",
    "\n",
    "# Crear un diccionario a partir de los documentos preprocesados\n",
    "dictionary = corpora.Dictionary(df_coments_clean['texto_preprocesado'])\n",
    "\n",
    "# Crear una representación BoW de los documentos\n",
    "corpus = [dictionary.doc2bow(texto) for texto in df_coments_clean['texto_preprocesado']]\n",
    "\n",
    "num_topics = 10  # Ajusta el número de tópicos según tus necesidades\n",
    "lda_model = LdaModel(corpus, num_topics=num_topics, id2word=dictionary, passes=10)\n",
    "\n",
    "# Obtener los temas y sus palabras clave\n",
    "topics = lda_model.print_topics(num_words=15)\n",
    "\n",
    "# Mostrar los temas y sus palabras clave\n",
    "for topic in topics:\n",
    "    print(topic)"
   ]
  },
  {
   "cell_type": "code",
   "execution_count": null,
   "metadata": {},
   "outputs": [],
   "source": [
    "\n"
   ]
  },
  {
   "cell_type": "code",
   "execution_count": 27,
   "metadata": {},
   "outputs": [
    {
     "name": "stdout",
     "output_type": "stream",
     "text": [
      "[(0, '0.080*\"pablolemusn\" + 0.010*\"guadalajara\" + 0.009*\"alcalde\" + 0.009*\"seguir\" + 0.009*\"ánimo\" + 0.009*\"pablo\" + 0.008*\"deltoroismael\" + 0.008*\"gracia\" + 0.007*\"verodelgadillog\" + 0.006*\"guadalajaragob\" + 0.006*\"calle\" + 0.005*\"reporte\" + 0.005*\"ciudad\" + 0.005*\"spotifycom\" + 0.005*\"dejar\"'), (1, '0.028*\"pablolemusn\" + 0.020*\"jalisco\" + 0.016*\"alcalde\" + 0.015*\"querer\" + 0.013*\"guadalajaragob\" + 0.012*\"ánimo\" + 0.011*\"millón\" + 0.008*\"av\" + 0.007*\"seguir\" + 0.005*\"mc\" + 0.005*\"ciudadano\" + 0.005*\"guadalajara\" + 0.005*\"ciudad\" + 0.005*\"gobierno\" + 0.005*\"verodelgadillog\"'), (2, '0.025*\"pablolemusn\" + 0.008*\"deltoroismael\" + 0.008*\"basura\" + 0.008*\"gracia\" + 0.007*\"seguir\" + 0.007*\"trabajo\" + 0.006*\"apoyo\" + 0.006*\"guadalajaragob\" + 0.005*\"salir\" + 0.005*\"guadalajara\" + 0.004*\"ánimo\" + 0.004*\"bitacorapol\" + 0.004*\"zona\" + 0.004*\"deber\" + 0.004*\"arqenriqueag\"'), (3, '0.038*\"pablolemusn\" + 0.008*\"gracias\" + 0.007*\"lemus\" + 0.006*\"calle\" + 0.006*\"presidente\" + 0.005*\"deltoroismael\" + 0.005*\"favor\" + 0.004*\"millón\" + 0.004*\"guadalajara\" + 0.004*\"público\" + 0.004*\"semana\" + 0.004*\"urgente\" + 0.004*\"iniciar\" + 0.004*\"verodelgadillog\" + 0.004*\"robar\"'), (4, '0.047*\"pablolemusn\" + 0.009*\"animo\" + 0.007*\"jalisco\" + 0.006*\"colonia\" + 0.005*\"deltoroismael\" + 0.005*\"creer\" + 0.005*\"quedar\" + 0.005*\"evento\" + 0.005*\"trabajar\" + 0.004*\"inaugurar\" + 0.004*\"vergüenza\" + 0.004*\"seguir\" + 0.003*\"trabajo\" + 0.003*\"espacio\" + 0.003*\"público\"')]\n"
     ]
    }
   ],
   "source": [
    "print(topics)"
   ]
  },
  {
   "cell_type": "code",
   "execution_count": 29,
   "metadata": {},
   "outputs": [
    {
     "data": {
      "image/png": "[encoded data removed]",
      "text/plain": [
       "<Figure size 1000x800 with 1 Axes>"
      ]
     },
     "metadata": {},
     "output_type": "display_data"
    }
   ],
   "source": [
    "# Crear un grafo de red\n",
    "G = nx.Graph()\n",
    "\n",
    "# Procesar los tópicos y sus palabras clave para identificar asociaciones\n",
    "for topic_id, topic_words in topics:\n",
    "    # Dividir las palabras clave en términos individuales\n",
    "    terms = [term.split('*')[1].strip('\"') for term in topic_words.split(' + ')]\n",
    "    \n",
    "    # Agregar una arista entre todos los términos del tópico\n",
    "    for i in range(len(terms)):\n",
    "        for j in range(i + 1, len(terms)):\n",
    "            term1, term2 = terms[i], terms[j]\n",
    "            G.add_edge(term1, term2, topic=topic_id)\n",
    "\n",
    "# Dibujar el gráfico de red\n",
    "pos = nx.spring_layout(G, k=0.3, iterations=50)\n",
    "plt.figure(figsize=(10, 8))\n",
    "nx.draw(G, pos, with_labels=True, font_size=10, node_size=3000, node_color='maroon', font_color='gray')\n",
    "\n",
    "# Mostrar el gráfico de red\n",
    "plt.title('Asociación de Términos entre Tópicos')\n",
    "# Guardar la figura como una imagen\n",
    "plt.savefig('topicos.png', bbox_inches='tight', dpi=300)\n",
    "plt.show()"
   ]
  },
  {
   "cell_type": "code",
   "execution_count": null,
   "metadata": {},
   "outputs": [
    {
     "data": {
      "application/vnd.plotly.v1+json": {
       "config": {
        "plotlyServerURL": "https://plotly.com"
       },
       "data": [
        {
         "hoverinfo": "none",
         "line": {
          "color": "#888",
          "width": 0.5
         },
         "mode": "lines",
         "type": "scatter",
         "x": [
          -0.027542081640511005,
          -0.8636459415231336,
          null,
          -0.027542081640511005,
          -0.49674163005135685,
          null,
          -0.027542081640511005,
          -0.7156932796323403,
          null,
          -0.027542081640511005,
          -0.6731337255318021,
          null,
          -0.027542081640511005,
          -0.6955552171265071,
          null,
          -0.027542081640511005,
          -0.2080473221376489,
          null,
          -0.027542081640511005,
          -0.517700666630783,
          null,
          -0.027542081640511005,
          -0.18650293473687646,
          null,
          -0.027542081640511005,
          -0.8750326948406478,
          null,
          -0.027542081640511005,
          0.5507533590516406,
          null,
          -0.027542081640511005,
          0.7825903207326311,
          null,
          -0.027542081640511005,
          0.720818443294814,
          null,
          -0.027542081640511005,
          0.34690685477510635,
          null,
          -0.027542081640511005,
          0.44237673554372886,
          null,
          -0.027542081640511005,
          0.19598425593060584,
          null,
          -0.027542081640511005,
          0.945545346045856,
          null,
          -0.027542081640511005,
          0.8484692605381683,
          null,
          -0.027542081640511005,
          0.8948769305192894,
          null,
          -0.027542081640511005,
          0.024437262052261582,
          null,
          -0.027542081640511005,
          -0.27366820175045603,
          null,
          -0.027542081640511005,
          -0.05536213089935904,
          null,
          -0.027542081640511005,
          -0.12852607967366325,
          null,
          -0.027542081640511005,
          -0.4443250180200157,
          null,
          -0.027542081640511005,
          -0.2969903201607253,
          null,
          -0.027542081640511005,
          -0.08244541098390677,
          null,
          -0.027542081640511005,
          0.20028456303269573,
          null,
          -0.027542081640511005,
          -0.2409861860097294,
          null,
          -0.027542081640511005,
          0.08134380498321758,
          null,
          -0.027542081640511005,
          -0.37594049152177106,
          null,
          -0.027542081640511005,
          0.443410607881262,
          null,
          -0.027542081640511005,
          0.2940084103099126,
          null,
          -0.027542081640511005,
          0.25134162564550366,
          null,
          -0.027542081640511005,
          0.134691552534543,
          null,
          -0.8636459415231336,
          -0.49674163005135685,
          null,
          -0.8636459415231336,
          -0.7156932796323403,
          null,
          -0.8636459415231336,
          -0.6731337255318021,
          null,
          -0.8636459415231336,
          -0.6955552171265071,
          null,
          -0.8636459415231336,
          -0.2080473221376489,
          null,
          -0.8636459415231336,
          -0.517700666630783,
          null,
          -0.8636459415231336,
          -0.18650293473687646,
          null,
          -0.8636459415231336,
          -0.8750326948406478,
          null,
          -0.49674163005135685,
          -0.7156932796323403,
          null,
          -0.49674163005135685,
          -0.6731337255318021,
          null,
          -0.49674163005135685,
          -0.6955552171265071,
          null,
          -0.49674163005135685,
          -0.2080473221376489,
          null,
          -0.49674163005135685,
          -0.517700666630783,
          null,
          -0.49674163005135685,
          -0.18650293473687646,
          null,
          -0.49674163005135685,
          -0.8750326948406478,
          null,
          -0.7156932796323403,
          -0.6731337255318021,
          null,
          -0.7156932796323403,
          -0.6955552171265071,
          null,
          -0.7156932796323403,
          -0.2080473221376489,
          null,
          -0.7156932796323403,
          -0.517700666630783,
          null,
          -0.7156932796323403,
          -0.18650293473687646,
          null,
          -0.7156932796323403,
          -0.8750326948406478,
          null,
          -0.6731337255318021,
          -0.6955552171265071,
          null,
          -0.6731337255318021,
          -0.2080473221376489,
          null,
          -0.6731337255318021,
          -0.517700666630783,
          null,
          -0.6731337255318021,
          -0.18650293473687646,
          null,
          -0.6731337255318021,
          -0.8750326948406478,
          null,
          -0.6955552171265071,
          -0.2080473221376489,
          null,
          -0.6955552171265071,
          -0.517700666630783,
          null,
          -0.6955552171265071,
          -0.18650293473687646,
          null,
          -0.6955552171265071,
          -0.8750326948406478,
          null,
          -0.2080473221376489,
          -0.517700666630783,
          null,
          -0.2080473221376489,
          -0.18650293473687646,
          null,
          -0.2080473221376489,
          -0.8750326948406478,
          null,
          -0.2080473221376489,
          0.34690685477510635,
          null,
          -0.2080473221376489,
          0.024437262052261582,
          null,
          -0.2080473221376489,
          -0.27366820175045603,
          null,
          -0.2080473221376489,
          -0.05536213089935904,
          null,
          -0.2080473221376489,
          -0.12852607967366325,
          null,
          -0.2080473221376489,
          -0.4443250180200157,
          null,
          -0.2080473221376489,
          0.19598425593060584,
          null,
          -0.2080473221376489,
          -0.2969903201607253,
          null,
          -0.2080473221376489,
          0.443410607881262,
          null,
          -0.2080473221376489,
          0.2940084103099126,
          null,
          -0.2080473221376489,
          0.25134162564550366,
          null,
          -0.2080473221376489,
          0.44237673554372886,
          null,
          -0.2080473221376489,
          0.5507533590516406,
          null,
          -0.2080473221376489,
          0.134691552534543,
          null,
          -0.517700666630783,
          -0.18650293473687646,
          null,
          -0.517700666630783,
          -0.8750326948406478,
          null,
          -0.18650293473687646,
          -0.8750326948406478,
          null,
          -0.18650293473687646,
          0.443410607881262,
          null,
          -0.18650293473687646,
          0.2940084103099126,
          null,
          -0.18650293473687646,
          0.25134162564550366,
          null,
          -0.18650293473687646,
          0.19598425593060584,
          null,
          -0.18650293473687646,
          0.44237673554372886,
          null,
          -0.18650293473687646,
          0.5507533590516406,
          null,
          -0.18650293473687646,
          0.134691552534543,
          null,
          0.5507533590516406,
          0.7825903207326311,
          null,
          0.5507533590516406,
          0.720818443294814,
          null,
          0.5507533590516406,
          0.34690685477510635,
          null,
          0.5507533590516406,
          0.44237673554372886,
          null,
          0.5507533590516406,
          0.19598425593060584,
          null,
          0.5507533590516406,
          0.945545346045856,
          null,
          0.5507533590516406,
          0.8484692605381683,
          null,
          0.5507533590516406,
          0.8948769305192894,
          null,
          0.5507533590516406,
          0.443410607881262,
          null,
          0.5507533590516406,
          0.2940084103099126,
          null,
          0.5507533590516406,
          0.25134162564550366,
          null,
          0.5507533590516406,
          0.134691552534543,
          null,
          0.7825903207326311,
          0.720818443294814,
          null,
          0.7825903207326311,
          0.34690685477510635,
          null,
          0.7825903207326311,
          0.44237673554372886,
          null,
          0.7825903207326311,
          0.19598425593060584,
          null,
          0.7825903207326311,
          0.945545346045856,
          null,
          0.7825903207326311,
          0.8484692605381683,
          null,
          0.7825903207326311,
          0.8948769305192894,
          null,
          0.720818443294814,
          0.34690685477510635,
          null,
          0.720818443294814,
          0.44237673554372886,
          null,
          0.720818443294814,
          0.19598425593060584,
          null,
          0.720818443294814,
          0.945545346045856,
          null,
          0.720818443294814,
          0.8484692605381683,
          null,
          0.720818443294814,
          0.8948769305192894,
          null,
          0.34690685477510635,
          0.44237673554372886,
          null,
          0.34690685477510635,
          0.19598425593060584,
          null,
          0.34690685477510635,
          0.945545346045856,
          null,
          0.34690685477510635,
          0.8484692605381683,
          null,
          0.34690685477510635,
          0.8948769305192894,
          null,
          0.34690685477510635,
          0.024437262052261582,
          null,
          0.34690685477510635,
          -0.27366820175045603,
          null,
          0.34690685477510635,
          -0.05536213089935904,
          null,
          0.34690685477510635,
          -0.12852607967366325,
          null,
          0.34690685477510635,
          -0.4443250180200157,
          null,
          0.34690685477510635,
          -0.2969903201607253,
          null,
          0.44237673554372886,
          0.19598425593060584,
          null,
          0.44237673554372886,
          0.945545346045856,
          null,
          0.44237673554372886,
          0.8484692605381683,
          null,
          0.44237673554372886,
          0.8948769305192894,
          null,
          0.44237673554372886,
          0.443410607881262,
          null,
          0.44237673554372886,
          0.2940084103099126,
          null,
          0.44237673554372886,
          0.25134162564550366,
          null,
          0.44237673554372886,
          0.134691552534543,
          null,
          0.19598425593060584,
          0.945545346045856,
          null,
          0.19598425593060584,
          0.8484692605381683,
          null,
          0.19598425593060584,
          0.8948769305192894,
          null,
          0.19598425593060584,
          0.024437262052261582,
          null,
          0.19598425593060584,
          -0.27366820175045603,
          null,
          0.19598425593060584,
          -0.05536213089935904,
          null,
          0.19598425593060584,
          -0.12852607967366325,
          null,
          0.19598425593060584,
          -0.4443250180200157,
          null,
          0.19598425593060584,
          -0.2969903201607253,
          null,
          0.19598425593060584,
          -0.08244541098390677,
          null,
          0.19598425593060584,
          0.20028456303269573,
          null,
          0.19598425593060584,
          -0.2409861860097294,
          null,
          0.19598425593060584,
          0.08134380498321758,
          null,
          0.19598425593060584,
          -0.37594049152177106,
          null,
          0.19598425593060584,
          0.443410607881262,
          null,
          0.19598425593060584,
          0.2940084103099126,
          null,
          0.19598425593060584,
          0.25134162564550366,
          null,
          0.19598425593060584,
          0.134691552534543,
          null,
          0.945545346045856,
          0.8484692605381683,
          null,
          0.945545346045856,
          0.8948769305192894,
          null,
          0.8484692605381683,
          0.8948769305192894,
          null,
          0.024437262052261582,
          -0.27366820175045603,
          null,
          0.024437262052261582,
          -0.05536213089935904,
          null,
          0.024437262052261582,
          -0.12852607967366325,
          null,
          0.024437262052261582,
          -0.4443250180200157,
          null,
          0.024437262052261582,
          -0.2969903201607253,
          null,
          0.024437262052261582,
          -0.08244541098390677,
          null,
          0.024437262052261582,
          0.20028456303269573,
          null,
          0.024437262052261582,
          -0.2409861860097294,
          null,
          0.024437262052261582,
          0.08134380498321758,
          null,
          0.024437262052261582,
          -0.37594049152177106,
          null,
          -0.27366820175045603,
          -0.05536213089935904,
          null,
          -0.27366820175045603,
          -0.12852607967366325,
          null,
          -0.27366820175045603,
          -0.4443250180200157,
          null,
          -0.27366820175045603,
          -0.2969903201607253,
          null,
          -0.27366820175045603,
          -0.08244541098390677,
          null,
          -0.27366820175045603,
          0.20028456303269573,
          null,
          -0.27366820175045603,
          -0.2409861860097294,
          null,
          -0.27366820175045603,
          0.08134380498321758,
          null,
          -0.27366820175045603,
          -0.37594049152177106,
          null,
          -0.05536213089935904,
          -0.12852607967366325,
          null,
          -0.05536213089935904,
          -0.4443250180200157,
          null,
          -0.05536213089935904,
          -0.2969903201607253,
          null,
          -0.12852607967366325,
          -0.4443250180200157,
          null,
          -0.12852607967366325,
          -0.2969903201607253,
          null,
          -0.12852607967366325,
          -0.08244541098390677,
          null,
          -0.12852607967366325,
          0.20028456303269573,
          null,
          -0.12852607967366325,
          -0.2409861860097294,
          null,
          -0.12852607967366325,
          0.08134380498321758,
          null,
          -0.12852607967366325,
          -0.37594049152177106,
          null,
          -0.4443250180200157,
          -0.2969903201607253,
          null,
          -0.08244541098390677,
          0.20028456303269573,
          null,
          -0.08244541098390677,
          -0.2409861860097294,
          null,
          -0.08244541098390677,
          0.08134380498321758,
          null,
          -0.08244541098390677,
          -0.37594049152177106,
          null,
          0.20028456303269573,
          -0.2409861860097294,
          null,
          0.20028456303269573,
          0.08134380498321758,
          null,
          0.20028456303269573,
          -0.37594049152177106,
          null,
          -0.2409861860097294,
          0.08134380498321758,
          null,
          -0.2409861860097294,
          -0.37594049152177106,
          null,
          0.08134380498321758,
          -0.37594049152177106,
          null,
          0.443410607881262,
          0.2940084103099126,
          null,
          0.443410607881262,
          0.25134162564550366,
          null,
          0.443410607881262,
          0.134691552534543,
          null,
          0.2940084103099126,
          0.25134162564550366,
          null,
          0.2940084103099126,
          0.134691552534543,
          null,
          0.25134162564550366,
          0.134691552534543,
          null
         ],
         "y": [
          0.013718687176077807,
          0.6568799186140499,
          null,
          0.013718687176077807,
          0.7076686853218804,
          null,
          0.013718687176077807,
          0.8281007603677172,
          null,
          0.013718687176077807,
          0.6027026214968467,
          null,
          0.013718687176077807,
          0.40137213458824655,
          null,
          0.013718687176077807,
          0.22233491600879,
          null,
          0.013718687176077807,
          0.8878974221151787,
          null,
          0.013718687176077807,
          0.5634927607720973,
          null,
          0.013718687176077807,
          0.43928726146790137,
          null,
          0.013718687176077807,
          0.2852988001260061,
          null,
          0.013718687176077807,
          0.015550754688246647,
          null,
          0.013718687176077807,
          -0.19165105475278985,
          null,
          0.013718687176077807,
          -0.25272116595728605,
          null,
          0.013718687176077807,
          0.1992981334583682,
          null,
          0.013718687176077807,
          -0.1759942908501894,
          null,
          0.013718687176077807,
          -0.08172334558923924,
          null,
          0.013718687176077807,
          -0.29316801797126185,
          null,
          0.013718687176077807,
          0.1594734518747197,
          null,
          0.013718687176077807,
          -0.6029618369047547,
          null,
          0.013718687176077807,
          -0.5754159617373873,
          null,
          0.013718687176077807,
          -0.35136470935494135,
          null,
          0.013718687176077807,
          -0.6020836606099624,
          null,
          0.013718687176077807,
          -0.3515254994277281,
          null,
          0.013718687176077807,
          -0.25128261927545065,
          null,
          0.013718687176077807,
          -1,
          null,
          0.013718687176077807,
          -0.8592142776095026,
          null,
          0.013718687176077807,
          -0.9510564643017023,
          null,
          0.013718687176077807,
          -0.9766202646738213,
          null,
          0.013718687176077807,
          -0.8401241169117294,
          null,
          0.013718687176077807,
          0.5906205203547086,
          null,
          0.013718687176077807,
          0.7128714310777051,
          null,
          0.013718687176077807,
          0.4572098721090982,
          null,
          0.013718687176077807,
          0.6131291543101067,
          null,
          0.6568799186140499,
          0.7076686853218804,
          null,
          0.6568799186140499,
          0.8281007603677172,
          null,
          0.6568799186140499,
          0.6027026214968467,
          null,
          0.6568799186140499,
          0.40137213458824655,
          null,
          0.6568799186140499,
          0.22233491600879,
          null,
          0.6568799186140499,
          0.8878974221151787,
          null,
          0.6568799186140499,
          0.5634927607720973,
          null,
          0.6568799186140499,
          0.43928726146790137,
          null,
          0.7076686853218804,
          0.8281007603677172,
          null,
          0.7076686853218804,
          0.6027026214968467,
          null,
          0.7076686853218804,
          0.40137213458824655,
          null,
          0.7076686853218804,
          0.22233491600879,
          null,
          0.7076686853218804,
          0.8878974221151787,
          null,
          0.7076686853218804,
          0.5634927607720973,
          null,
          0.7076686853218804,
          0.43928726146790137,
          null,
          0.8281007603677172,
          0.6027026214968467,
          null,
          0.8281007603677172,
          0.40137213458824655,
          null,
          0.8281007603677172,
          0.22233491600879,
          null,
          0.8281007603677172,
          0.8878974221151787,
          null,
          0.8281007603677172,
          0.5634927607720973,
          null,
          0.8281007603677172,
          0.43928726146790137,
          null,
          0.6027026214968467,
          0.40137213458824655,
          null,
          0.6027026214968467,
          0.22233491600879,
          null,
          0.6027026214968467,
          0.8878974221151787,
          null,
          0.6027026214968467,
          0.5634927607720973,
          null,
          0.6027026214968467,
          0.43928726146790137,
          null,
          0.40137213458824655,
          0.22233491600879,
          null,
          0.40137213458824655,
          0.8878974221151787,
          null,
          0.40137213458824655,
          0.5634927607720973,
          null,
          0.40137213458824655,
          0.43928726146790137,
          null,
          0.22233491600879,
          0.8878974221151787,
          null,
          0.22233491600879,
          0.5634927607720973,
          null,
          0.22233491600879,
          0.43928726146790137,
          null,
          0.22233491600879,
          -0.25272116595728605,
          null,
          0.22233491600879,
          -0.6029618369047547,
          null,
          0.22233491600879,
          -0.5754159617373873,
          null,
          0.22233491600879,
          -0.35136470935494135,
          null,
          0.22233491600879,
          -0.6020836606099624,
          null,
          0.22233491600879,
          -0.3515254994277281,
          null,
          0.22233491600879,
          -0.1759942908501894,
          null,
          0.22233491600879,
          -0.25128261927545065,
          null,
          0.22233491600879,
          0.5906205203547086,
          null,
          0.22233491600879,
          0.7128714310777051,
          null,
          0.22233491600879,
          0.4572098721090982,
          null,
          0.22233491600879,
          0.1992981334583682,
          null,
          0.22233491600879,
          0.2852988001260061,
          null,
          0.22233491600879,
          0.6131291543101067,
          null,
          0.8878974221151787,
          0.5634927607720973,
          null,
          0.8878974221151787,
          0.43928726146790137,
          null,
          0.5634927607720973,
          0.43928726146790137,
          null,
          0.5634927607720973,
          0.5906205203547086,
          null,
          0.5634927607720973,
          0.7128714310777051,
          null,
          0.5634927607720973,
          0.4572098721090982,
          null,
          0.5634927607720973,
          -0.1759942908501894,
          null,
          0.5634927607720973,
          0.1992981334583682,
          null,
          0.5634927607720973,
          0.2852988001260061,
          null,
          0.5634927607720973,
          0.6131291543101067,
          null,
          0.2852988001260061,
          0.015550754688246647,
          null,
          0.2852988001260061,
          -0.19165105475278985,
          null,
          0.2852988001260061,
          -0.25272116595728605,
          null,
          0.2852988001260061,
          0.1992981334583682,
          null,
          0.2852988001260061,
          -0.1759942908501894,
          null,
          0.2852988001260061,
          -0.08172334558923924,
          null,
          0.2852988001260061,
          -0.29316801797126185,
          null,
          0.2852988001260061,
          0.1594734518747197,
          null,
          0.2852988001260061,
          0.5906205203547086,
          null,
          0.2852988001260061,
          0.7128714310777051,
          null,
          0.2852988001260061,
          0.4572098721090982,
          null,
          0.2852988001260061,
          0.6131291543101067,
          null,
          0.015550754688246647,
          -0.19165105475278985,
          null,
          0.015550754688246647,
          -0.25272116595728605,
          null,
          0.015550754688246647,
          0.1992981334583682,
          null,
          0.015550754688246647,
          -0.1759942908501894,
          null,
          0.015550754688246647,
          -0.08172334558923924,
          null,
          0.015550754688246647,
          -0.29316801797126185,
          null,
          0.015550754688246647,
          0.1594734518747197,
          null,
          -0.19165105475278985,
          -0.25272116595728605,
          null,
          -0.19165105475278985,
          0.1992981334583682,
          null,
          -0.19165105475278985,
          -0.1759942908501894,
          null,
          -0.19165105475278985,
          -0.08172334558923924,
          null,
          -0.19165105475278985,
          -0.29316801797126185,
          null,
          -0.19165105475278985,
          0.1594734518747197,
          null,
          -0.25272116595728605,
          0.1992981334583682,
          null,
          -0.25272116595728605,
          -0.1759942908501894,
          null,
          -0.25272116595728605,
          -0.08172334558923924,
          null,
          -0.25272116595728605,
          -0.29316801797126185,
          null,
          -0.25272116595728605,
          0.1594734518747197,
          null,
          -0.25272116595728605,
          -0.6029618369047547,
          null,
          -0.25272116595728605,
          -0.5754159617373873,
          null,
          -0.25272116595728605,
          -0.35136470935494135,
          null,
          -0.25272116595728605,
          -0.6020836606099624,
          null,
          -0.25272116595728605,
          -0.3515254994277281,
          null,
          -0.25272116595728605,
          -0.25128261927545065,
          null,
          0.1992981334583682,
          -0.1759942908501894,
          null,
          0.1992981334583682,
          -0.08172334558923924,
          null,
          0.1992981334583682,
          -0.29316801797126185,
          null,
          0.1992981334583682,
          0.1594734518747197,
          null,
          0.1992981334583682,
          0.5906205203547086,
          null,
          0.1992981334583682,
          0.7128714310777051,
          null,
          0.1992981334583682,
          0.4572098721090982,
          null,
          0.1992981334583682,
          0.6131291543101067,
          null,
          -0.1759942908501894,
          -0.08172334558923924,
          null,
          -0.1759942908501894,
          -0.29316801797126185,
          null,
          -0.1759942908501894,
          0.1594734518747197,
          null,
          -0.1759942908501894,
          -0.6029618369047547,
          null,
          -0.1759942908501894,
          -0.5754159617373873,
          null,
          -0.1759942908501894,
          -0.35136470935494135,
          null,
          -0.1759942908501894,
          -0.6020836606099624,
          null,
          -0.1759942908501894,
          -0.3515254994277281,
          null,
          -0.1759942908501894,
          -0.25128261927545065,
          null,
          -0.1759942908501894,
          -1,
          null,
          -0.1759942908501894,
          -0.8592142776095026,
          null,
          -0.1759942908501894,
          -0.9510564643017023,
          null,
          -0.1759942908501894,
          -0.9766202646738213,
          null,
          -0.1759942908501894,
          -0.8401241169117294,
          null,
          -0.1759942908501894,
          0.5906205203547086,
          null,
          -0.1759942908501894,
          0.7128714310777051,
          null,
          -0.1759942908501894,
          0.4572098721090982,
          null,
          -0.1759942908501894,
          0.6131291543101067,
          null,
          -0.08172334558923924,
          -0.29316801797126185,
          null,
          -0.08172334558923924,
          0.1594734518747197,
          null,
          -0.29316801797126185,
          0.1594734518747197,
          null,
          -0.6029618369047547,
          -0.5754159617373873,
          null,
          -0.6029618369047547,
          -0.35136470935494135,
          null,
          -0.6029618369047547,
          -0.6020836606099624,
          null,
          -0.6029618369047547,
          -0.3515254994277281,
          null,
          -0.6029618369047547,
          -0.25128261927545065,
          null,
          -0.6029618369047547,
          -1,
          null,
          -0.6029618369047547,
          -0.8592142776095026,
          null,
          -0.6029618369047547,
          -0.9510564643017023,
          null,
          -0.6029618369047547,
          -0.9766202646738213,
          null,
          -0.6029618369047547,
          -0.8401241169117294,
          null,
          -0.5754159617373873,
          -0.35136470935494135,
          null,
          -0.5754159617373873,
          -0.6020836606099624,
          null,
          -0.5754159617373873,
          -0.3515254994277281,
          null,
          -0.5754159617373873,
          -0.25128261927545065,
          null,
          -0.5754159617373873,
          -1,
          null,
          -0.5754159617373873,
          -0.8592142776095026,
          null,
          -0.5754159617373873,
          -0.9510564643017023,
          null,
          -0.5754159617373873,
          -0.9766202646738213,
          null,
          -0.5754159617373873,
          -0.8401241169117294,
          null,
          -0.35136470935494135,
          -0.6020836606099624,
          null,
          -0.35136470935494135,
          -0.3515254994277281,
          null,
          -0.35136470935494135,
          -0.25128261927545065,
          null,
          -0.6020836606099624,
          -0.3515254994277281,
          null,
          -0.6020836606099624,
          -0.25128261927545065,
          null,
          -0.6020836606099624,
          -1,
          null,
          -0.6020836606099624,
          -0.8592142776095026,
          null,
          -0.6020836606099624,
          -0.9510564643017023,
          null,
          -0.6020836606099624,
          -0.9766202646738213,
          null,
          -0.6020836606099624,
          -0.8401241169117294,
          null,
          -0.3515254994277281,
          -0.25128261927545065,
          null,
          -1,
          -0.8592142776095026,
          null,
          -1,
          -0.9510564643017023,
          null,
          -1,
          -0.9766202646738213,
          null,
          -1,
          -0.8401241169117294,
          null,
          -0.8592142776095026,
          -0.9510564643017023,
          null,
          -0.8592142776095026,
          -0.9766202646738213,
          null,
          -0.8592142776095026,
          -0.8401241169117294,
          null,
          -0.9510564643017023,
          -0.9766202646738213,
          null,
          -0.9510564643017023,
          -0.8401241169117294,
          null,
          -0.9766202646738213,
          -0.8401241169117294,
          null,
          0.5906205203547086,
          0.7128714310777051,
          null,
          0.5906205203547086,
          0.4572098721090982,
          null,
          0.5906205203547086,
          0.6131291543101067,
          null,
          0.7128714310777051,
          0.4572098721090982,
          null,
          0.7128714310777051,
          0.6131291543101067,
          null,
          0.4572098721090982,
          0.6131291543101067,
          null
         ]
        },
        {
         "hoverinfo": "text",
         "marker": {
          "color": [
           33,
           9,
           9,
           9,
           9,
           9,
           23,
           9,
           16,
           9,
           15,
           9,
           9,
           16,
           15,
           26,
           9,
           9,
           9,
           14,
           14,
           9,
           14,
           9,
           9,
           9,
           9,
           9,
           9,
           9,
           9,
           9,
           9,
           9
          ],
          "colorbar": {
           "thickness": 15,
           "title": {
            "text": "Node Connections"
           }
          },
          "colorscale": [
           [
            0,
            "rgb(255,255,217)"
           ],
           [
            0.125,
            "rgb(237,248,177)"
           ],
           [
            0.25,
            "rgb(199,233,180)"
           ],
           [
            0.375,
            "rgb(127,205,187)"
           ],
           [
            0.5,
            "rgb(65,182,196)"
           ],
           [
            0.625,
            "rgb(29,145,192)"
           ],
           [
            0.75,
            "rgb(34,94,168)"
           ],
           [
            0.875,
            "rgb(37,52,148)"
           ],
           [
            1,
            "rgb(8,29,88)"
           ]
          ],
          "line": {
           "width": 2
          },
          "showscale": false,
          "size": 10
         },
         "mode": "markers",
         "text": [
          "# de conexiones: 33",
          "# de conexiones: 9",
          "# de conexiones: 9",
          "# de conexiones: 9",
          "# de conexiones: 9",
          "# de conexiones: 9",
          "# de conexiones: 23",
          "# de conexiones: 9",
          "# de conexiones: 16",
          "# de conexiones: 9",
          "# de conexiones: 15",
          "# de conexiones: 9",
          "# de conexiones: 9",
          "# de conexiones: 16",
          "# de conexiones: 15",
          "# de conexiones: 26",
          "# de conexiones: 9",
          "# de conexiones: 9",
          "# de conexiones: 9",
          "# de conexiones: 14",
          "# de conexiones: 14",
          "# de conexiones: 9",
          "# de conexiones: 14",
          "# de conexiones: 9",
          "# de conexiones: 9",
          "# de conexiones: 9",
          "# de conexiones: 9",
          "# de conexiones: 9",
          "# de conexiones: 9",
          "# de conexiones: 9",
          "# de conexiones: 9",
          "# de conexiones: 9",
          "# de conexiones: 9",
          "# de conexiones: 9"
         ],
         "type": "scatter",
         "x": [
          -0.027542081640511005,
          -0.8636459415231336,
          -0.49674163005135685,
          -0.7156932796323403,
          -0.6731337255318021,
          -0.6955552171265071,
          -0.2080473221376489,
          -0.517700666630783,
          -0.18650293473687646,
          -0.8750326948406478,
          0.5507533590516406,
          0.7825903207326311,
          0.720818443294814,
          0.34690685477510635,
          0.44237673554372886,
          0.19598425593060584,
          0.945545346045856,
          0.8484692605381683,
          0.8948769305192894,
          0.024437262052261582,
          -0.27366820175045603,
          -0.05536213089935904,
          -0.12852607967366325,
          -0.4443250180200157,
          -0.2969903201607253,
          -0.08244541098390677,
          0.20028456303269573,
          -0.2409861860097294,
          0.08134380498321758,
          -0.37594049152177106,
          0.443410607881262,
          0.2940084103099126,
          0.25134162564550366,
          0.134691552534543
         ],
         "y": [
          0.013718687176077807,
          0.6568799186140499,
          0.7076686853218804,
          0.8281007603677172,
          0.6027026214968467,
          0.40137213458824655,
          0.22233491600879,
          0.8878974221151787,
          0.5634927607720973,
          0.43928726146790137,
          0.2852988001260061,
          0.015550754688246647,
          -0.19165105475278985,
          -0.25272116595728605,
          0.1992981334583682,
          -0.1759942908501894,
          -0.08172334558923924,
          -0.29316801797126185,
          0.1594734518747197,
          -0.6029618369047547,
          -0.5754159617373873,
          -0.35136470935494135,
          -0.6020836606099624,
          -0.3515254994277281,
          -0.25128261927545065,
          -1,
          -0.8592142776095026,
          -0.9510564643017023,
          -0.9766202646738213,
          -0.8401241169117294,
          0.5906205203547086,
          0.7128714310777051,
          0.4572098721090982,
          0.6131291543101067
         ]
        }
       ],
       "layout": {
        "hovermode": "closest",
        "margin": {
         "b": 0,
         "l": 0,
         "r": 0,
         "t": 0
        },
        "showlegend": false,
        "template": {
         "data": {
          "bar": [
           {
            "error_x": {
             "color": "#2a3f5f"
            },
            "error_y": {
             "color": "#2a3f5f"
            },
            "marker": {
             "line": {
              "color": "#E5ECF6",
              "width": 0.5
             },
             "pattern": {
              "fillmode": "overlay",
              "size": 10,
              "solidity": 0.2
             }
            },
            "type": "bar"
           }
          ],
          "barpolar": [
           {
            "marker": {
             "line": {
              "color": "#E5ECF6",
              "width": 0.5
             },
             "pattern": {
              "fillmode": "overlay",
              "size": 10,
              "solidity": 0.2
             }
            },
            "type": "barpolar"
           }
          ],
          "carpet": [
           {
            "aaxis": {
             "endlinecolor": "#2a3f5f",
             "gridcolor": "white",
             "linecolor": "white",
             "minorgridcolor": "white",
             "startlinecolor": "#2a3f5f"
            },
            "baxis": {
             "endlinecolor": "#2a3f5f",
             "gridcolor": "white",
             "linecolor": "white",
             "minorgridcolor": "white",
             "startlinecolor": "#2a3f5f"
            },
            "type": "carpet"
           }
          ],
          "choropleth": [
           {
            "colorbar": {
             "outlinewidth": 0,
             "ticks": ""
            },
            "type": "choropleth"
           }
          ],
          "contour": [
           {
            "colorbar": {
             "outlinewidth": 0,
             "ticks": ""
            },
            "colorscale": [
             [
              0,
              "#0d0887"
             ],
             [
              0.1111111111111111,
              "#46039f"
             ],
             [
              0.2222222222222222,
              "#7201a8"
             ],
             [
              0.3333333333333333,
              "#9c179e"
             ],
             [
              0.4444444444444444,
              "#bd3786"
             ],
             [
              0.5555555555555556,
              "#d8576b"
             ],
             [
              0.6666666666666666,
              "#ed7953"
             ],
             [
              0.7777777777777778,
              "#fb9f3a"
             ],
             [
              0.8888888888888888,
              "#fdca26"
             ],
             [
              1,
              "#f0f921"
             ]
            ],
            "type": "contour"
           }
          ],
          "contourcarpet": [
           {
            "colorbar": {
             "outlinewidth": 0,
             "ticks": ""
            },
            "type": "contourcarpet"
           }
          ],
          "heatmap": [
           {
            "colorbar": {
             "outlinewidth": 0,
             "ticks": ""
            },
            "colorscale": [
             [
              0,
              "#0d0887"
             ],
             [
              0.1111111111111111,
              "#46039f"
             ],
             [
              0.2222222222222222,
              "#7201a8"
             ],
             [
              0.3333333333333333,
              "#9c179e"
             ],
             [
              0.4444444444444444,
              "#bd3786"
             ],
             [
              0.5555555555555556,
              "#d8576b"
             ],
             [
              0.6666666666666666,
              "#ed7953"
             ],
             [
              0.7777777777777778,
              "#fb9f3a"
             ],
             [
              0.8888888888888888,
              "#fdca26"
             ],
             [
              1,
              "#f0f921"
             ]
            ],
            "type": "heatmap"
           }
          ],
          "heatmapgl": [
           {
            "colorbar": {
             "outlinewidth": 0,
             "ticks": ""
            },
            "colorscale": [
             [
              0,
              "#0d0887"
             ],
             [
              0.1111111111111111,
              "#46039f"
             ],
             [
              0.2222222222222222,
              "#7201a8"
             ],
             [
              0.3333333333333333,
              "#9c179e"
             ],
             [
              0.4444444444444444,
              "#bd3786"
             ],
             [
              0.5555555555555556,
              "#d8576b"
             ],
             [
              0.6666666666666666,
              "#ed7953"
             ],
             [
              0.7777777777777778,
              "#fb9f3a"
             ],
             [
              0.8888888888888888,
              "#fdca26"
             ],
             [
              1,
              "#f0f921"
             ]
            ],
            "type": "heatmapgl"
           }
          ],
          "histogram": [
           {
            "marker": {
             "pattern": {
              "fillmode": "overlay",
              "size": 10,
              "solidity": 0.2
             }
            },
            "type": "histogram"
           }
          ],
          "histogram2d": [
           {
            "colorbar": {
             "outlinewidth": 0,
             "ticks": ""
            },
            "colorscale": [
             [
              0,
              "#0d0887"
             ],
             [
              0.1111111111111111,
              "#46039f"
             ],
             [
              0.2222222222222222,
              "#7201a8"
             ],
             [
              0.3333333333333333,
              "#9c179e"
             ],
             [
              0.4444444444444444,
              "#bd3786"
             ],
             [
              0.5555555555555556,
              "#d8576b"
             ],
             [
              0.6666666666666666,
              "#ed7953"
             ],
             [
              0.7777777777777778,
              "#fb9f3a"
             ],
             [
              0.8888888888888888,
              "#fdca26"
             ],
             [
              1,
              "#f0f921"
             ]
            ],
            "type": "histogram2d"
           }
          ],
          "histogram2dcontour": [
           {
            "colorbar": {
             "outlinewidth": 0,
             "ticks": ""
            },
            "colorscale": [
             [
              0,
              "#0d0887"
             ],
             [
              0.1111111111111111,
              "#46039f"
             ],
             [
              0.2222222222222222,
              "#7201a8"
             ],
             [
              0.3333333333333333,
              "#9c179e"
             ],
             [
              0.4444444444444444,
              "#bd3786"
             ],
             [
              0.5555555555555556,
              "#d8576b"
             ],
             [
              0.6666666666666666,
              "#ed7953"
             ],
             [
              0.7777777777777778,
              "#fb9f3a"
             ],
             [
              0.8888888888888888,
              "#fdca26"
             ],
             [
              1,
              "#f0f921"
             ]
            ],
            "type": "histogram2dcontour"
           }
          ],
          "mesh3d": [
           {
            "colorbar": {
             "outlinewidth": 0,
             "ticks": ""
            },
            "type": "mesh3d"
           }
          ],
          "parcoords": [
           {
            "line": {
             "colorbar": {
              "outlinewidth": 0,
              "ticks": ""
             }
            },
            "type": "parcoords"
           }
          ],
          "pie": [
           {
            "automargin": true,
            "type": "pie"
           }
          ],
          "scatter": [
           {
            "fillpattern": {
             "fillmode": "overlay",
             "size": 10,
             "solidity": 0.2
            },
            "type": "scatter"
           }
          ],
          "scatter3d": [
           {
            "line": {
             "colorbar": {
              "outlinewidth": 0,
              "ticks": ""
             }
            },
            "marker": {
             "colorbar": {
              "outlinewidth": 0,
              "ticks": ""
             }
            },
            "type": "scatter3d"
           }
          ],
          "scattercarpet": [
           {
            "marker": {
             "colorbar": {
              "outlinewidth": 0,
              "ticks": ""
             }
            },
            "type": "scattercarpet"
           }
          ],
          "scattergeo": [
           {
            "marker": {
             "colorbar": {
              "outlinewidth": 0,
              "ticks": ""
             }
            },
            "type": "scattergeo"
           }
          ],
          "scattergl": [
           {
            "marker": {
             "colorbar": {
              "outlinewidth": 0,
              "ticks": ""
             }
            },
            "type": "scattergl"
           }
          ],
          "scattermapbox": [
           {
            "marker": {
             "colorbar": {
              "outlinewidth": 0,
              "ticks": ""
             }
            },
            "type": "scattermapbox"
           }
          ],
          "scatterpolar": [
           {
            "marker": {
             "colorbar": {
              "outlinewidth": 0,
              "ticks": ""
             }
            },
            "type": "scatterpolar"
           }
          ],
          "scatterpolargl": [
           {
            "marker": {
             "colorbar": {
              "outlinewidth": 0,
              "ticks": ""
             }
            },
            "type": "scatterpolargl"
           }
          ],
          "scatterternary": [
           {
            "marker": {
             "colorbar": {
              "outlinewidth": 0,
              "ticks": ""
             }
            },
            "type": "scatterternary"
           }
          ],
          "surface": [
           {
            "colorbar": {
             "outlinewidth": 0,
             "ticks": ""
            },
            "colorscale": [
             [
              0,
              "#0d0887"
             ],
             [
              0.1111111111111111,
              "#46039f"
             ],
             [
              0.2222222222222222,
              "#7201a8"
             ],
             [
              0.3333333333333333,
              "#9c179e"
             ],
             [
              0.4444444444444444,
              "#bd3786"
             ],
             [
              0.5555555555555556,
              "#d8576b"
             ],
             [
              0.6666666666666666,
              "#ed7953"
             ],
             [
              0.7777777777777778,
              "#fb9f3a"
             ],
             [
              0.8888888888888888,
              "#fdca26"
             ],
             [
              1,
              "#f0f921"
             ]
            ],
            "type": "surface"
           }
          ],
          "table": [
           {
            "cells": {
             "fill": {
              "color": "#EBF0F8"
             },
             "line": {
              "color": "white"
             }
            },
            "header": {
             "fill": {
              "color": "#C8D4E3"
             },
             "line": {
              "color": "white"
             }
            },
            "type": "table"
           }
          ]
         },
         "layout": {
          "annotationdefaults": {
           "arrowcolor": "#2a3f5f",
           "arrowhead": 0,
           "arrowwidth": 1
          },
          "autotypenumbers": "strict",
          "coloraxis": {
           "colorbar": {
            "outlinewidth": 0,
            "ticks": ""
           }
          },
          "colorscale": {
           "diverging": [
            [
             0,
             "#8e0152"
            ],
            [
             0.1,
             "#c51b7d"
            ],
            [
             0.2,
             "#de77ae"
            ],
            [
             0.3,
             "#f1b6da"
            ],
            [
             0.4,
             "#fde0ef"
            ],
            [
             0.5,
             "#f7f7f7"
            ],
            [
             0.6,
             "#e6f5d0"
            ],
            [
             0.7,
             "#b8e186"
            ],
            [
             0.8,
             "#7fbc41"
            ],
            [
             0.9,
             "#4d9221"
            ],
            [
             1,
             "#276419"
            ]
           ],
           "sequential": [
            [
             0,
             "#0d0887"
            ],
            [
             0.1111111111111111,
             "#46039f"
            ],
            [
             0.2222222222222222,
             "#7201a8"
            ],
            [
             0.3333333333333333,
             "#9c179e"
            ],
            [
             0.4444444444444444,
             "#bd3786"
            ],
            [
             0.5555555555555556,
             "#d8576b"
            ],
            [
             0.6666666666666666,
             "#ed7953"
            ],
            [
             0.7777777777777778,
             "#fb9f3a"
            ],
            [
             0.8888888888888888,
             "#fdca26"
            ],
            [
             1,
             "#f0f921"
            ]
           ],
           "sequentialminus": [
            [
             0,
             "#0d0887"
            ],
            [
             0.1111111111111111,
             "#46039f"
            ],
            [
             0.2222222222222222,
             "#7201a8"
            ],
            [
             0.3333333333333333,
             "#9c179e"
            ],
            [
             0.4444444444444444,
             "#bd3786"
            ],
            [
             0.5555555555555556,
             "#d8576b"
            ],
            [
             0.6666666666666666,
             "#ed7953"
            ],
            [
             0.7777777777777778,
             "#fb9f3a"
            ],
            [
             0.8888888888888888,
             "#fdca26"
            ],
            [
             1,
             "#f0f921"
            ]
           ]
          },
          "colorway": [
           "#636efa",
           "#EF553B",
           "#00cc96",
           "#ab63fa",
           "#FFA15A",
           "#19d3f3",
           "#FF6692",
           "#B6E880",
           "#FF97FF",
           "#FECB52"
          ],
          "font": {
           "color": "#2a3f5f"
          },
          "geo": {
           "bgcolor": "white",
           "lakecolor": "white",
           "landcolor": "#E5ECF6",
           "showlakes": true,
           "showland": true,
           "subunitcolor": "white"
          },
          "hoverlabel": {
           "align": "left"
          },
          "hovermode": "closest",
          "mapbox": {
           "style": "light"
          },
          "paper_bgcolor": "white",
          "plot_bgcolor": "#E5ECF6",
          "polar": {
           "angularaxis": {
            "gridcolor": "white",
            "linecolor": "white",
            "ticks": ""
           },
           "bgcolor": "#E5ECF6",
           "radialaxis": {
            "gridcolor": "white",
            "linecolor": "white",
            "ticks": ""
           }
          },
          "scene": {
           "xaxis": {
            "backgroundcolor": "#E5ECF6",
            "gridcolor": "white",
            "gridwidth": 2,
            "linecolor": "white",
            "showbackground": true,
            "ticks": "",
            "zerolinecolor": "white"
           },
           "yaxis": {
            "backgroundcolor": "#E5ECF6",
            "gridcolor": "white",
            "gridwidth": 2,
            "linecolor": "white",
            "showbackground": true,
            "ticks": "",
            "zerolinecolor": "white"
           },
           "zaxis": {
            "backgroundcolor": "#E5ECF6",
            "gridcolor": "white",
            "gridwidth": 2,
            "linecolor": "white",
            "showbackground": true,
            "ticks": "",
            "zerolinecolor": "white"
           }
          },
          "shapedefaults": {
           "line": {
            "color": "#2a3f5f"
           }
          },
          "ternary": {
           "aaxis": {
            "gridcolor": "white",
            "linecolor": "white",
            "ticks": ""
           },
           "baxis": {
            "gridcolor": "white",
            "linecolor": "white",
            "ticks": ""
           },
           "bgcolor": "#E5ECF6",
           "caxis": {
            "gridcolor": "white",
            "linecolor": "white",
            "ticks": ""
           }
          },
          "title": {
           "x": 0.05
          },
          "xaxis": {
           "automargin": true,
           "gridcolor": "white",
           "linecolor": "white",
           "ticks": "",
           "title": {
            "standoff": 15
           },
           "zerolinecolor": "white",
           "zerolinewidth": 2
          },
          "yaxis": {
           "automargin": true,
           "gridcolor": "white",
           "linecolor": "white",
           "ticks": "",
           "title": {
            "standoff": 15
           },
           "zerolinecolor": "white",
           "zerolinewidth": 2
          }
         }
        },
        "title": {
         "text": "Asociación de Términos entre Tópicos",
         "x": 0.5
        },
        "xaxis": {
         "showgrid": false,
         "showticklabels": false,
         "zeroline": false
        },
        "yaxis": {
         "showgrid": false,
         "showticklabels": false,
         "zeroline": false
        }
       }
      }
     },
     "metadata": {},
     "output_type": "display_data"
    }
   ],
   "source": [
    "import networkx as nx\n",
    "import plotly.graph_objects as go\n",
    "\n",
    "# Crear un grafo de NetworkX\n",
    "G = nx.Graph()\n",
    "\n",
    "# Procesar los tópicos y sus palabras clave para identificar asociaciones\n",
    "for topic_id, topic_words in topics:\n",
    "    # Dividir las palabras clave en términos individuales\n",
    "    terms = [term.split('*')[1].strip('\"') for term in topic_words.split(' + ')]\n",
    "    \n",
    "    # Agregar una arista entre todos los términos del tópico\n",
    "    for i in range(len(terms)):\n",
    "        for j in range(i + 1, len(terms)):\n",
    "            term1, term2 = terms[i], terms[j]\n",
    "            G.add_edge(term1, term2, topic=topic_id)\n",
    "\n",
    "# Obtener las posiciones de los nodos en el gráfico\n",
    "pos = nx.spring_layout(G, k=0.3, iterations=50)\n",
    "\n",
    "# Extraer las posiciones X e Y de los nodos\n",
    "pos_x = {node: pos[node][0] for node in G.nodes}\n",
    "pos_y = {node: pos[node][1] for node in G.nodes}\n",
    "\n",
    "# Crear un objeto de grafo de Plotly\n",
    "edge_x = []\n",
    "edge_y = []\n",
    "for edge in G.edges():\n",
    "    x0, y0 = pos_x[edge[0]], pos_y[edge[0]]\n",
    "    x1, y1 = pos_x[edge[1]], pos_y[edge[1]]\n",
    "    edge_x.append(x0)\n",
    "    edge_x.append(x1)\n",
    "    edge_x.append(None)\n",
    "    edge_y.append(y0)\n",
    "    edge_y.append(y1)\n",
    "    edge_y.append(None)\n",
    "\n",
    "edge_trace = go.Scatter(\n",
    "    x=edge_x, y=edge_y,\n",
    "    line=dict(width=0.5, color='#888'),\n",
    "    hoverinfo='none',\n",
    "    mode='lines')\n",
    "\n",
    "node_x = list(pos_x.values())\n",
    "node_y = list(pos_y.values())\n",
    "\n",
    "node_trace = go.Scatter(\n",
    "    x=node_x, y=node_y,\n",
    "    mode='markers',\n",
    "    hoverinfo='text',\n",
    "    marker=dict(\n",
    "        showscale=False,\n",
    "        colorscale='YlGnBu',\n",
    "        size=10,\n",
    "        colorbar=dict(thickness=15, title='Node Connections'),\n",
    "        line_width=2))\n",
    "\n",
    "node_adjacencies = []\n",
    "node_text = []\n",
    "for node, adjacencies in enumerate(G.adjacency()):\n",
    "    node_adjacencies.append(len(adjacencies[1]))\n",
    "    node_text.append('# de conexiones: ' + str(len(adjacencies[1])))\n",
    "\n",
    "node_trace.marker.color = node_adjacencies\n",
    "node_trace.text = node_text\n",
    "\n",
    "# Crear la figura de Plotly\n",
    "fig = go.Figure(data=[edge_trace, node_trace],\n",
    "             layout=go.Layout(\n",
    "                showlegend=False,\n",
    "                hovermode='closest',\n",
    "                margin=dict(b=0, l=0, r=0, t=0),\n",
    "                xaxis=dict(showgrid=False, zeroline=False, showticklabels=False),\n",
    "                yaxis=dict(showgrid=False, zeroline=False, showticklabels=False)))\n",
    "\n",
    "# Mostrar la figura\n",
    "fig.update_layout(title='Asociación de Términos entre Tópicos', title_x=0.5)\n",
    "fig.show()"
   ]
  },
  {
   "cell_type": "code",
   "execution_count": null,
   "metadata": {},
   "outputs": [
    {
     "data": {
      "application/vnd.plotly.v1+json": {
       "config": {
        "plotlyServerURL": "https://plotly.com"
       },
       "data": [
        {
         "link": {
          "source": [
           5,
           14,
           10,
           24,
           30,
           19,
           33,
           27,
           16,
           20,
           5,
           8,
           18,
           0,
           22,
           25,
           17,
           1,
           15,
           7,
           5,
           22,
           23,
           26,
           33,
           21,
           32,
           4,
           17,
           12,
           5,
           13,
           26,
           23,
           28,
           6,
           9,
           17,
           31,
           32,
           33,
           5,
           2,
           3,
           29,
           17,
           25,
           8,
           16,
           11
          ],
          "target": [
           34,
           34,
           34,
           34,
           34,
           34,
           34,
           34,
           34,
           34,
           35,
           35,
           35,
           35,
           35,
           35,
           35,
           35,
           35,
           35,
           36,
           36,
           36,
           36,
           36,
           36,
           36,
           36,
           36,
           36,
           37,
           37,
           37,
           37,
           37,
           37,
           37,
           37,
           37,
           37,
           38,
           38,
           38,
           38,
           38,
           38,
           38,
           38,
           38,
           38
          ],
          "value": [
           1,
           1,
           1,
           1,
           1,
           1,
           1,
           1,
           1,
           1,
           1,
           1,
           1,
           1,
           1,
           1,
           1,
           1,
           1,
           1,
           1,
           1,
           1,
           1,
           1,
           1,
           1,
           1,
           1,
           1,
           1,
           1,
           1,
           1,
           1,
           1,
           1,
           1,
           1,
           1,
           1,
           1,
           1,
           1,
           1,
           1,
           1,
           1,
           1,
           1
          ]
         },
         "node": {
          "label": [
           "millón",
           "gracia",
           "spotifycom",
           "vecino",
           "semana",
           "pablolemusn",
           "apoyo",
           "trabajo",
           "guadalajaragob",
           "ciudad",
           "público",
           "ciudadano",
           "dejar",
           "deltoroismael",
           "pablo",
           "reporte",
           "querer",
           "guadalajara",
           "verodelgadillog",
           "gente",
           "q",
           "calle",
           "jalisco",
           "seguir",
           "mostrar",
           "gracias",
           "ánimo",
           "obra",
           "trabajar",
           "arqenriqueag",
           "tapatío",
           "policiagdl",
           "colonia",
           "alcalde"
          ],
          "line": {
           "color": "black",
           "width": 0.5
          },
          "pad": 15,
          "thickness": 20
         },
         "type": "sankey"
        }
       ],
       "layout": {
        "template": {
         "data": {
          "bar": [
           {
            "error_x": {
             "color": "#2a3f5f"
            },
            "error_y": {
             "color": "#2a3f5f"
            },
            "marker": {
             "line": {
              "color": "#E5ECF6",
              "width": 0.5
             },
             "pattern": {
              "fillmode": "overlay",
              "size": 10,
              "solidity": 0.2
             }
            },
            "type": "bar"
           }
          ],
          "barpolar": [
           {
            "marker": {
             "line": {
              "color": "#E5ECF6",
              "width": 0.5
             },
             "pattern": {
              "fillmode": "overlay",
              "size": 10,
              "solidity": 0.2
             }
            },
            "type": "barpolar"
           }
          ],
          "carpet": [
           {
            "aaxis": {
             "endlinecolor": "#2a3f5f",
             "gridcolor": "white",
             "linecolor": "white",
             "minorgridcolor": "white",
             "startlinecolor": "#2a3f5f"
            },
            "baxis": {
             "endlinecolor": "#2a3f5f",
             "gridcolor": "white",
             "linecolor": "white",
             "minorgridcolor": "white",
             "startlinecolor": "#2a3f5f"
            },
            "type": "carpet"
           }
          ],
          "choropleth": [
           {
            "colorbar": {
             "outlinewidth": 0,
             "ticks": ""
            },
            "type": "choropleth"
           }
          ],
          "contour": [
           {
            "colorbar": {
             "outlinewidth": 0,
             "ticks": ""
            },
            "colorscale": [
             [
              0,
              "#0d0887"
             ],
             [
              0.1111111111111111,
              "#46039f"
             ],
             [
              0.2222222222222222,
              "#7201a8"
             ],
             [
              0.3333333333333333,
              "#9c179e"
             ],
             [
              0.4444444444444444,
              "#bd3786"
             ],
             [
              0.5555555555555556,
              "#d8576b"
             ],
             [
              0.6666666666666666,
              "#ed7953"
             ],
             [
              0.7777777777777778,
              "#fb9f3a"
             ],
             [
              0.8888888888888888,
              "#fdca26"
             ],
             [
              1,
              "#f0f921"
             ]
            ],
            "type": "contour"
           }
          ],
          "contourcarpet": [
           {
            "colorbar": {
             "outlinewidth": 0,
             "ticks": ""
            },
            "type": "contourcarpet"
           }
          ],
          "heatmap": [
           {
            "colorbar": {
             "outlinewidth": 0,
             "ticks": ""
            },
            "colorscale": [
             [
              0,
              "#0d0887"
             ],
             [
              0.1111111111111111,
              "#46039f"
             ],
             [
              0.2222222222222222,
              "#7201a8"
             ],
             [
              0.3333333333333333,
              "#9c179e"
             ],
             [
              0.4444444444444444,
              "#bd3786"
             ],
             [
              0.5555555555555556,
              "#d8576b"
             ],
             [
              0.6666666666666666,
              "#ed7953"
             ],
             [
              0.7777777777777778,
              "#fb9f3a"
             ],
             [
              0.8888888888888888,
              "#fdca26"
             ],
             [
              1,
              "#f0f921"
             ]
            ],
            "type": "heatmap"
           }
          ],
          "heatmapgl": [
           {
            "colorbar": {
             "outlinewidth": 0,
             "ticks": ""
            },
            "colorscale": [
             [
              0,
              "#0d0887"
             ],
             [
              0.1111111111111111,
              "#46039f"
             ],
             [
              0.2222222222222222,
              "#7201a8"
             ],
             [
              0.3333333333333333,
              "#9c179e"
             ],
             [
              0.4444444444444444,
              "#bd3786"
             ],
             [
              0.5555555555555556,
              "#d8576b"
             ],
             [
              0.6666666666666666,
              "#ed7953"
             ],
             [
              0.7777777777777778,
              "#fb9f3a"
             ],
             [
              0.8888888888888888,
              "#fdca26"
             ],
             [
              1,
              "#f0f921"
             ]
            ],
            "type": "heatmapgl"
           }
          ],
          "histogram": [
           {
            "marker": {
             "pattern": {
              "fillmode": "overlay",
              "size": 10,
              "solidity": 0.2
             }
            },
            "type": "histogram"
           }
          ],
          "histogram2d": [
           {
            "colorbar": {
             "outlinewidth": 0,
             "ticks": ""
            },
            "colorscale": [
             [
              0,
              "#0d0887"
             ],
             [
              0.1111111111111111,
              "#46039f"
             ],
             [
              0.2222222222222222,
              "#7201a8"
             ],
             [
              0.3333333333333333,
              "#9c179e"
             ],
             [
              0.4444444444444444,
              "#bd3786"
             ],
             [
              0.5555555555555556,
              "#d8576b"
             ],
             [
              0.6666666666666666,
              "#ed7953"
             ],
             [
              0.7777777777777778,
              "#fb9f3a"
             ],
             [
              0.8888888888888888,
              "#fdca26"
             ],
             [
              1,
              "#f0f921"
             ]
            ],
            "type": "histogram2d"
           }
          ],
          "histogram2dcontour": [
           {
            "colorbar": {
             "outlinewidth": 0,
             "ticks": ""
            },
            "colorscale": [
             [
              0,
              "#0d0887"
             ],
             [
              0.1111111111111111,
              "#46039f"
             ],
             [
              0.2222222222222222,
              "#7201a8"
             ],
             [
              0.3333333333333333,
              "#9c179e"
             ],
             [
              0.4444444444444444,
              "#bd3786"
             ],
             [
              0.5555555555555556,
              "#d8576b"
             ],
             [
              0.6666666666666666,
              "#ed7953"
             ],
             [
              0.7777777777777778,
              "#fb9f3a"
             ],
             [
              0.8888888888888888,
              "#fdca26"
             ],
             [
              1,
              "#f0f921"
             ]
            ],
            "type": "histogram2dcontour"
           }
          ],
          "mesh3d": [
           {
            "colorbar": {
             "outlinewidth": 0,
             "ticks": ""
            },
            "type": "mesh3d"
           }
          ],
          "parcoords": [
           {
            "line": {
             "colorbar": {
              "outlinewidth": 0,
              "ticks": ""
             }
            },
            "type": "parcoords"
           }
          ],
          "pie": [
           {
            "automargin": true,
            "type": "pie"
           }
          ],
          "scatter": [
           {
            "fillpattern": {
             "fillmode": "overlay",
             "size": 10,
             "solidity": 0.2
            },
            "type": "scatter"
           }
          ],
          "scatter3d": [
           {
            "line": {
             "colorbar": {
              "outlinewidth": 0,
              "ticks": ""
             }
            },
            "marker": {
             "colorbar": {
              "outlinewidth": 0,
              "ticks": ""
             }
            },
            "type": "scatter3d"
           }
          ],
          "scattercarpet": [
           {
            "marker": {
             "colorbar": {
              "outlinewidth": 0,
              "ticks": ""
             }
            },
            "type": "scattercarpet"
           }
          ],
          "scattergeo": [
           {
            "marker": {
             "colorbar": {
              "outlinewidth": 0,
              "ticks": ""
             }
            },
            "type": "scattergeo"
           }
          ],
          "scattergl": [
           {
            "marker": {
             "colorbar": {
              "outlinewidth": 0,
              "ticks": ""
             }
            },
            "type": "scattergl"
           }
          ],
          "scattermapbox": [
           {
            "marker": {
             "colorbar": {
              "outlinewidth": 0,
              "ticks": ""
             }
            },
            "type": "scattermapbox"
           }
          ],
          "scatterpolar": [
           {
            "marker": {
             "colorbar": {
              "outlinewidth": 0,
              "ticks": ""
             }
            },
            "type": "scatterpolar"
           }
          ],
          "scatterpolargl": [
           {
            "marker": {
             "colorbar": {
              "outlinewidth": 0,
              "ticks": ""
             }
            },
            "type": "scatterpolargl"
           }
          ],
          "scatterternary": [
           {
            "marker": {
             "colorbar": {
              "outlinewidth": 0,
              "ticks": ""
             }
            },
            "type": "scatterternary"
           }
          ],
          "surface": [
           {
            "colorbar": {
             "outlinewidth": 0,
             "ticks": ""
            },
            "colorscale": [
             [
              0,
              "#0d0887"
             ],
             [
              0.1111111111111111,
              "#46039f"
             ],
             [
              0.2222222222222222,
              "#7201a8"
             ],
             [
              0.3333333333333333,
              "#9c179e"
             ],
             [
              0.4444444444444444,
              "#bd3786"
             ],
             [
              0.5555555555555556,
              "#d8576b"
             ],
             [
              0.6666666666666666,
              "#ed7953"
             ],
             [
              0.7777777777777778,
              "#fb9f3a"
             ],
             [
              0.8888888888888888,
              "#fdca26"
             ],
             [
              1,
              "#f0f921"
             ]
            ],
            "type": "surface"
           }
          ],
          "table": [
           {
            "cells": {
             "fill": {
              "color": "#EBF0F8"
             },
             "line": {
              "color": "white"
             }
            },
            "header": {
             "fill": {
              "color": "#C8D4E3"
             },
             "line": {
              "color": "white"
             }
            },
            "type": "table"
           }
          ]
         },
         "layout": {
          "annotationdefaults": {
           "arrowcolor": "#2a3f5f",
           "arrowhead": 0,
           "arrowwidth": 1
          },
          "autotypenumbers": "strict",
          "coloraxis": {
           "colorbar": {
            "outlinewidth": 0,
            "ticks": ""
           }
          },
          "colorscale": {
           "diverging": [
            [
             0,
             "#8e0152"
            ],
            [
             0.1,
             "#c51b7d"
            ],
            [
             0.2,
             "#de77ae"
            ],
            [
             0.3,
             "#f1b6da"
            ],
            [
             0.4,
             "#fde0ef"
            ],
            [
             0.5,
             "#f7f7f7"
            ],
            [
             0.6,
             "#e6f5d0"
            ],
            [
             0.7,
             "#b8e186"
            ],
            [
             0.8,
             "#7fbc41"
            ],
            [
             0.9,
             "#4d9221"
            ],
            [
             1,
             "#276419"
            ]
           ],
           "sequential": [
            [
             0,
             "#0d0887"
            ],
            [
             0.1111111111111111,
             "#46039f"
            ],
            [
             0.2222222222222222,
             "#7201a8"
            ],
            [
             0.3333333333333333,
             "#9c179e"
            ],
            [
             0.4444444444444444,
             "#bd3786"
            ],
            [
             0.5555555555555556,
             "#d8576b"
            ],
            [
             0.6666666666666666,
             "#ed7953"
            ],
            [
             0.7777777777777778,
             "#fb9f3a"
            ],
            [
             0.8888888888888888,
             "#fdca26"
            ],
            [
             1,
             "#f0f921"
            ]
           ],
           "sequentialminus": [
            [
             0,
             "#0d0887"
            ],
            [
             0.1111111111111111,
             "#46039f"
            ],
            [
             0.2222222222222222,
             "#7201a8"
            ],
            [
             0.3333333333333333,
             "#9c179e"
            ],
            [
             0.4444444444444444,
             "#bd3786"
            ],
            [
             0.5555555555555556,
             "#d8576b"
            ],
            [
             0.6666666666666666,
             "#ed7953"
            ],
            [
             0.7777777777777778,
             "#fb9f3a"
            ],
            [
             0.8888888888888888,
             "#fdca26"
            ],
            [
             1,
             "#f0f921"
            ]
           ]
          },
          "colorway": [
           "#636efa",
           "#EF553B",
           "#00cc96",
           "#ab63fa",
           "#FFA15A",
           "#19d3f3",
           "#FF6692",
           "#B6E880",
           "#FF97FF",
           "#FECB52"
          ],
          "font": {
           "color": "#2a3f5f"
          },
          "geo": {
           "bgcolor": "white",
           "lakecolor": "white",
           "landcolor": "#E5ECF6",
           "showlakes": true,
           "showland": true,
           "subunitcolor": "white"
          },
          "hoverlabel": {
           "align": "left"
          },
          "hovermode": "closest",
          "mapbox": {
           "style": "light"
          },
          "paper_bgcolor": "white",
          "plot_bgcolor": "#E5ECF6",
          "polar": {
           "angularaxis": {
            "gridcolor": "white",
            "linecolor": "white",
            "ticks": ""
           },
           "bgcolor": "#E5ECF6",
           "radialaxis": {
            "gridcolor": "white",
            "linecolor": "white",
            "ticks": ""
           }
          },
          "scene": {
           "xaxis": {
            "backgroundcolor": "#E5ECF6",
            "gridcolor": "white",
            "gridwidth": 2,
            "linecolor": "white",
            "showbackground": true,
            "ticks": "",
            "zerolinecolor": "white"
           },
           "yaxis": {
            "backgroundcolor": "#E5ECF6",
            "gridcolor": "white",
            "gridwidth": 2,
            "linecolor": "white",
            "showbackground": true,
            "ticks": "",
            "zerolinecolor": "white"
           },
           "zaxis": {
            "backgroundcolor": "#E5ECF6",
            "gridcolor": "white",
            "gridwidth": 2,
            "linecolor": "white",
            "showbackground": true,
            "ticks": "",
            "zerolinecolor": "white"
           }
          },
          "shapedefaults": {
           "line": {
            "color": "#2a3f5f"
           }
          },
          "ternary": {
           "aaxis": {
            "gridcolor": "white",
            "linecolor": "white",
            "ticks": ""
           },
           "baxis": {
            "gridcolor": "white",
            "linecolor": "white",
            "ticks": ""
           },
           "bgcolor": "#E5ECF6",
           "caxis": {
            "gridcolor": "white",
            "linecolor": "white",
            "ticks": ""
           }
          },
          "title": {
           "x": 0.05
          },
          "xaxis": {
           "automargin": true,
           "gridcolor": "white",
           "linecolor": "white",
           "ticks": "",
           "title": {
            "standoff": 15
           },
           "zerolinecolor": "white",
           "zerolinewidth": 2
          },
          "yaxis": {
           "automargin": true,
           "gridcolor": "white",
           "linecolor": "white",
           "ticks": "",
           "title": {
            "standoff": 15
           },
           "zerolinecolor": "white",
           "zerolinewidth": 2
          }
         }
        },
        "title": {
         "text": "Diagrama de Sankey de Tópicos y Términos"
        }
       }
      }
     },
     "metadata": {},
     "output_type": "display_data"
    }
   ],
   "source": [
    "# Crear un conjunto de términos únicos\n",
    "unique_terms = set()\n",
    "for topic_id, topic_words in topics:\n",
    "    terms = [term.split('*')[1].strip('\"') for term in topic_words.split(' + ')]\n",
    "    unique_terms.update(terms)\n",
    "\n",
    "# Crear listas para nodos y enlaces\n",
    "nodes = list(unique_terms)\n",
    "source_indices = []\n",
    "target_indices = []\n",
    "values = []\n",
    "\n",
    "# Procesar los tópicos y sus palabras clave para identificar las conexiones\n",
    "for topic_id, topic_words in topics:\n",
    "    terms = [term.split('*')[1].strip('\"') for term in topic_words.split(' + ')]\n",
    "    for term in terms:\n",
    "        source_indices.append(nodes.index(term))\n",
    "        target_indices.append(len(nodes) + topic_id)  # Cada tema se representa como un nodo adicional\n",
    "        values.append(1)\n",
    "\n",
    "# Crear un diagrama de Sankey\n",
    "fig = go.Figure(go.Sankey(\n",
    "    node=dict(\n",
    "        pad=15,\n",
    "        thickness=20,\n",
    "        line=dict(color=\"black\", width=0.5),\n",
    "        label=nodes  # Etiquetas de los términos\n",
    "    ),\n",
    "    link=dict(\n",
    "        source=source_indices,\n",
    "        target=target_indices,\n",
    "        value=values\n",
    "    )\n",
    "))\n",
    "\n",
    "# Mostrar el diagrama de Sankey\n",
    "fig.update_layout(title_text=\"Diagrama de Sankey de Tópicos y Términos\")\n",
    "fig.show()"
   ]
  },
  {
   "cell_type": "code",
   "execution_count": null,
   "metadata": {},
   "outputs": [
    {
     "data": {
      "text/html": [
       "<div>\n",
       "<style scoped>\n",
       "    .dataframe tbody tr th:only-of-type {\n",
       "        vertical-align: middle;\n",
       "    }\n",
       "\n",
       "    .dataframe tbody tr th {\n",
       "        vertical-align: top;\n",
       "    }\n",
       "\n",
       "    .dataframe thead th {\n",
       "        text-align: right;\n",
       "    }\n",
       "</style>\n",
       "<table border=\"1\" class=\"dataframe\">\n",
       "  <thead>\n",
       "    <tr style=\"text-align: right;\">\n",
       "      <th></th>\n",
       "      <th>texto</th>\n",
       "      <th>texto_preprocesado</th>\n",
       "      <th>bigramas_spacy</th>\n",
       "      <th>bigramas_nltk</th>\n",
       "      <th>texto_lematizado</th>\n",
       "    </tr>\n",
       "  </thead>\n",
       "  <tbody>\n",
       "    <tr>\n",
       "      <th>0</th>\n",
       "      <td>que gusto poder acompañarlos el día de hoy en ...</td>\n",
       "      <td>[gusto, acompañar, representación, alcalde]</td>\n",
       "      <td>[(que, gusto), (gusto, poder), (poder, acompañ...</td>\n",
       "      <td>[(que, gusto), (gusto, poder), (poder, acompañ...</td>\n",
       "      <td>que gusto  poder acompañar él el día de hoy en...</td>\n",
       "    </tr>\n",
       "    <tr>\n",
       "      <th>1</th>\n",
       "      <td>muchas gracias amigo sin tu apoyo esto no hubi...</td>\n",
       "      <td>[gracia, amigo, apoyo, pablolemusn]</td>\n",
       "      <td>[(muchas, gracias), (gracias, amigo), (amigo, ...</td>\n",
       "      <td>[(muchas, gracias), (gracias, amigo), (amigo, ...</td>\n",
       "      <td>mucho gracia amigo sin tu apoyo este no haber ...</td>\n",
       "    </tr>\n",
       "    <tr>\n",
       "      <th>2</th>\n",
       "      <td>76</td>\n",
       "      <td>[]</td>\n",
       "      <td>[]</td>\n",
       "      <td>[]</td>\n",
       "      <td>76</td>\n",
       "    </tr>\n",
       "    <tr>\n",
       "      <th>3</th>\n",
       "      <td>se han realizado no menos de cuatro reportes s...</td>\n",
       "      <td>[report, respuesta, ojalá, lograr, retirar, sa...</td>\n",
       "      <td>[(se, han), (han, realizado), (realizado, no),...</td>\n",
       "      <td>[(se, han), (han, realizado), (realizado, no),...</td>\n",
       "      <td>él haber realizar no menos de cuatro report si...</td>\n",
       "    </tr>\n",
       "    <tr>\n",
       "      <th>4</th>\n",
       "      <td>te felicito amigo juanjosefrangie</td>\n",
       "      <td>[felicito, amigo, juanjosefrangie]</td>\n",
       "      <td>[(te, felicito), (felicito, amigo), (amigo, ju...</td>\n",
       "      <td>[(te, felicito), (felicito, amigo), (amigo, ju...</td>\n",
       "      <td>tú felicito amigo juanjosefrangie</td>\n",
       "    </tr>\n",
       "    <tr>\n",
       "      <th>...</th>\n",
       "      <td>...</td>\n",
       "      <td>...</td>\n",
       "      <td>...</td>\n",
       "      <td>...</td>\n",
       "      <td>...</td>\n",
       "    </tr>\n",
       "    <tr>\n",
       "      <th>815</th>\n",
       "      <td>no creo mira lo que han hecho en zapopan esos ...</td>\n",
       "      <td>[creer, mirar, zapopar, gobierno, dantedelgado]</td>\n",
       "      <td>[(no, creo), (creo, mira), (mira, lo), (lo, qu...</td>\n",
       "      <td>[(no, creo), (creo, mira), (mira, lo), (lo, qu...</td>\n",
       "      <td>no creer mirar él que haber hacer en zapopar e...</td>\n",
       "    </tr>\n",
       "    <tr>\n",
       "      <th>816</th>\n",
       "      <td>animo guadalajara hagala_ trafico_zmg</td>\n",
       "      <td>[animo, guadalajara, hagala]</td>\n",
       "      <td>[(animo, guadalajara), (guadalajara, hagala), ...</td>\n",
       "      <td>[(animo, guadalajara), (guadalajara, hagala_),...</td>\n",
       "      <td>animo guadalajara hagala _ trafico_zmg</td>\n",
       "    </tr>\n",
       "    <tr>\n",
       "      <th>817</th>\n",
       "      <td>oye de mi gran amigo el doc lomeli no vas a es...</td>\n",
       "      <td>[oir, amigo, doc, lomeli, hablar, bitacorapol,...</td>\n",
       "      <td>[(oye, de), (de, mi), (mi, gran), (gran, amigo...</td>\n",
       "      <td>[(oye, de), (de, mi), (mi, gran), (gran, amigo...</td>\n",
       "      <td>oir de mi gran amigo el doc lomeli no ir a est...</td>\n",
       "    </tr>\n",
       "    <tr>\n",
       "      <th>818</th>\n",
       "      <td>milyrocha19 felixgastelum1</td>\n",
       "      <td>[]</td>\n",
       "      <td>[(milyrocha19, felixgastelum1)]</td>\n",
       "      <td>[(milyrocha19, felixgastelum1)]</td>\n",
       "      <td>milyrocha19 felixgastelum1</td>\n",
       "    </tr>\n",
       "    <tr>\n",
       "      <th>819</th>\n",
       "      <td></td>\n",
       "      <td>[]</td>\n",
       "      <td>[]</td>\n",
       "      <td>[]</td>\n",
       "      <td></td>\n",
       "    </tr>\n",
       "  </tbody>\n",
       "</table>\n",
       "<p>820 rows × 5 columns</p>\n",
       "</div>"
      ],
      "text/plain": [
       "                                                 texto  \\\n",
       "0    que gusto poder acompañarlos el día de hoy en ...   \n",
       "1    muchas gracias amigo sin tu apoyo esto no hubi...   \n",
       "2                                                   76   \n",
       "3    se han realizado no menos de cuatro reportes s...   \n",
       "4                    te felicito amigo juanjosefrangie   \n",
       "..                                                 ...   \n",
       "815  no creo mira lo que han hecho en zapopan esos ...   \n",
       "816              animo guadalajara hagala_ trafico_zmg   \n",
       "817  oye de mi gran amigo el doc lomeli no vas a es...   \n",
       "818                         milyrocha19 felixgastelum1   \n",
       "819                                                      \n",
       "\n",
       "                                    texto_preprocesado  \\\n",
       "0          [gusto, acompañar, representación, alcalde]   \n",
       "1                  [gracia, amigo, apoyo, pablolemusn]   \n",
       "2                                                   []   \n",
       "3    [report, respuesta, ojalá, lograr, retirar, sa...   \n",
       "4                   [felicito, amigo, juanjosefrangie]   \n",
       "..                                                 ...   \n",
       "815    [creer, mirar, zapopar, gobierno, dantedelgado]   \n",
       "816                       [animo, guadalajara, hagala]   \n",
       "817  [oir, amigo, doc, lomeli, hablar, bitacorapol,...   \n",
       "818                                                 []   \n",
       "819                                                 []   \n",
       "\n",
       "                                        bigramas_spacy  \\\n",
       "0    [(que, gusto), (gusto, poder), (poder, acompañ...   \n",
       "1    [(muchas, gracias), (gracias, amigo), (amigo, ...   \n",
       "2                                                   []   \n",
       "3    [(se, han), (han, realizado), (realizado, no),...   \n",
       "4    [(te, felicito), (felicito, amigo), (amigo, ju...   \n",
       "..                                                 ...   \n",
       "815  [(no, creo), (creo, mira), (mira, lo), (lo, qu...   \n",
       "816  [(animo, guadalajara), (guadalajara, hagala), ...   \n",
       "817  [(oye, de), (de, mi), (mi, gran), (gran, amigo...   \n",
       "818                    [(milyrocha19, felixgastelum1)]   \n",
       "819                                                 []   \n",
       "\n",
       "                                         bigramas_nltk  \\\n",
       "0    [(que, gusto), (gusto, poder), (poder, acompañ...   \n",
       "1    [(muchas, gracias), (gracias, amigo), (amigo, ...   \n",
       "2                                                   []   \n",
       "3    [(se, han), (han, realizado), (realizado, no),...   \n",
       "4    [(te, felicito), (felicito, amigo), (amigo, ju...   \n",
       "..                                                 ...   \n",
       "815  [(no, creo), (creo, mira), (mira, lo), (lo, qu...   \n",
       "816  [(animo, guadalajara), (guadalajara, hagala_),...   \n",
       "817  [(oye, de), (de, mi), (mi, gran), (gran, amigo...   \n",
       "818                    [(milyrocha19, felixgastelum1)]   \n",
       "819                                                 []   \n",
       "\n",
       "                                      texto_lematizado  \n",
       "0    que gusto  poder acompañar él el día de hoy en...  \n",
       "1    mucho gracia amigo sin tu apoyo este no haber ...  \n",
       "2                                                   76  \n",
       "3    él haber realizar no menos de cuatro report si...  \n",
       "4                    tú felicito amigo juanjosefrangie  \n",
       "..                                                 ...  \n",
       "815  no creer mirar él que haber hacer en zapopar e...  \n",
       "816             animo guadalajara hagala _ trafico_zmg  \n",
       "817  oir de mi gran amigo el doc lomeli no ir a est...  \n",
       "818                         milyrocha19 felixgastelum1  \n",
       "819                                                     \n",
       "\n",
       "[820 rows x 5 columns]"
      ]
     },
     "execution_count": 19,
     "metadata": {},
     "output_type": "execute_result"
    }
   ],
   "source": [
    "\n",
    "\n",
    "# Mostrar el DataFrame resultante\n",
    "df_coments_clean"
   ]
  },
  {
   "cell_type": "code",
   "execution_count": null,
   "metadata": {},
   "outputs": [
    {
     "name": "stderr",
     "output_type": "stream",
     "text": [
      "[nltk_data] Downloading package punkt to /home/milton/nltk_data...\n",
      "[nltk_data]   Package punkt is already up-to-date!\n",
      "[nltk_data] Downloading package vader_lexicon to\n",
      "[nltk_data]     /home/milton/nltk_data...\n",
      "[nltk_data]   Package vader_lexicon is already up-to-date!\n"
     ]
    },
    {
     "data": {
      "text/html": [
       "<div>\n",
       "<style scoped>\n",
       "    .dataframe tbody tr th:only-of-type {\n",
       "        vertical-align: middle;\n",
       "    }\n",
       "\n",
       "    .dataframe tbody tr th {\n",
       "        vertical-align: top;\n",
       "    }\n",
       "\n",
       "    .dataframe thead th {\n",
       "        text-align: right;\n",
       "    }\n",
       "</style>\n",
       "<table border=\"1\" class=\"dataframe\">\n",
       "  <thead>\n",
       "    <tr style=\"text-align: right;\">\n",
       "      <th></th>\n",
       "      <th>texto</th>\n",
       "      <th>texto_preprocesado</th>\n",
       "      <th>bigramas_spacy</th>\n",
       "      <th>bigramas_nltk</th>\n",
       "      <th>texto_lematizado</th>\n",
       "      <th>polaridad</th>\n",
       "    </tr>\n",
       "  </thead>\n",
       "  <tbody>\n",
       "    <tr>\n",
       "      <th>0</th>\n",
       "      <td>que gusto poder acompañarlos el día de hoy en ...</td>\n",
       "      <td>[gusto, acompañar, representación, alcalde]</td>\n",
       "      <td>[(que, gusto), (gusto, poder), (poder, acompañ...</td>\n",
       "      <td>[(que, gusto), (gusto, poder), (poder, acompañ...</td>\n",
       "      <td>que gusto  poder acompañar él el día de hoy en...</td>\n",
       "      <td>0.0000</td>\n",
       "    </tr>\n",
       "    <tr>\n",
       "      <th>1</th>\n",
       "      <td>muchas gracias amigo sin tu apoyo esto no hubi...</td>\n",
       "      <td>[gracia, amigo, apoyo, pablolemusn]</td>\n",
       "      <td>[(muchas, gracias), (gracias, amigo), (amigo, ...</td>\n",
       "      <td>[(muchas, gracias), (gracias, amigo), (amigo, ...</td>\n",
       "      <td>mucho gracia amigo sin tu apoyo este no haber ...</td>\n",
       "      <td>-0.7003</td>\n",
       "    </tr>\n",
       "    <tr>\n",
       "      <th>2</th>\n",
       "      <td>76</td>\n",
       "      <td>[]</td>\n",
       "      <td>[]</td>\n",
       "      <td>[]</td>\n",
       "      <td>76</td>\n",
       "      <td>0.0000</td>\n",
       "    </tr>\n",
       "    <tr>\n",
       "      <th>3</th>\n",
       "      <td>se han realizado no menos de cuatro reportes s...</td>\n",
       "      <td>[report, respuesta, ojalá, lograr, retirar, sa...</td>\n",
       "      <td>[(se, han), (han, realizado), (realizado, no),...</td>\n",
       "      <td>[(se, han), (han, realizado), (realizado, no),...</td>\n",
       "      <td>él haber realizar no menos de cuatro report si...</td>\n",
       "      <td>-0.7003</td>\n",
       "    </tr>\n",
       "    <tr>\n",
       "      <th>4</th>\n",
       "      <td>te felicito amigo juanjosefrangie</td>\n",
       "      <td>[felicito, amigo, juanjosefrangie]</td>\n",
       "      <td>[(te, felicito), (felicito, amigo), (amigo, ju...</td>\n",
       "      <td>[(te, felicito), (felicito, amigo), (amigo, ju...</td>\n",
       "      <td>tú felicito amigo juanjosefrangie</td>\n",
       "      <td>0.0000</td>\n",
       "    </tr>\n",
       "    <tr>\n",
       "      <th>...</th>\n",
       "      <td>...</td>\n",
       "      <td>...</td>\n",
       "      <td>...</td>\n",
       "      <td>...</td>\n",
       "      <td>...</td>\n",
       "      <td>...</td>\n",
       "    </tr>\n",
       "    <tr>\n",
       "      <th>815</th>\n",
       "      <td>no creo mira lo que han hecho en zapopan esos ...</td>\n",
       "      <td>[creer, mirar, zapopar, gobierno, dantedelgado]</td>\n",
       "      <td>[(no, creo), (creo, mira), (mira, lo), (lo, qu...</td>\n",
       "      <td>[(no, creo), (creo, mira), (mira, lo), (lo, qu...</td>\n",
       "      <td>no creer mirar él que haber hacer en zapopar e...</td>\n",
       "      <td>-0.2960</td>\n",
       "    </tr>\n",
       "    <tr>\n",
       "      <th>816</th>\n",
       "      <td>animo guadalajara hagala_ trafico_zmg</td>\n",
       "      <td>[animo, guadalajara, hagala]</td>\n",
       "      <td>[(animo, guadalajara), (guadalajara, hagala), ...</td>\n",
       "      <td>[(animo, guadalajara), (guadalajara, hagala_),...</td>\n",
       "      <td>animo guadalajara hagala _ trafico_zmg</td>\n",
       "      <td>0.0000</td>\n",
       "    </tr>\n",
       "    <tr>\n",
       "      <th>817</th>\n",
       "      <td>oye de mi gran amigo el doc lomeli no vas a es...</td>\n",
       "      <td>[oir, amigo, doc, lomeli, hablar, bitacorapol,...</td>\n",
       "      <td>[(oye, de), (de, mi), (mi, gran), (gran, amigo...</td>\n",
       "      <td>[(oye, de), (de, mi), (mi, gran), (gran, amigo...</td>\n",
       "      <td>oir de mi gran amigo el doc lomeli no ir a est...</td>\n",
       "      <td>-0.2960</td>\n",
       "    </tr>\n",
       "    <tr>\n",
       "      <th>818</th>\n",
       "      <td>milyrocha19 felixgastelum1</td>\n",
       "      <td>[]</td>\n",
       "      <td>[(milyrocha19, felixgastelum1)]</td>\n",
       "      <td>[(milyrocha19, felixgastelum1)]</td>\n",
       "      <td>milyrocha19 felixgastelum1</td>\n",
       "      <td>0.0000</td>\n",
       "    </tr>\n",
       "    <tr>\n",
       "      <th>819</th>\n",
       "      <td></td>\n",
       "      <td>[]</td>\n",
       "      <td>[]</td>\n",
       "      <td>[]</td>\n",
       "      <td></td>\n",
       "      <td>0.0000</td>\n",
       "    </tr>\n",
       "  </tbody>\n",
       "</table>\n",
       "<p>820 rows × 6 columns</p>\n",
       "</div>"
      ],
      "text/plain": [
       "                                                 texto  \\\n",
       "0    que gusto poder acompañarlos el día de hoy en ...   \n",
       "1    muchas gracias amigo sin tu apoyo esto no hubi...   \n",
       "2                                                   76   \n",
       "3    se han realizado no menos de cuatro reportes s...   \n",
       "4                    te felicito amigo juanjosefrangie   \n",
       "..                                                 ...   \n",
       "815  no creo mira lo que han hecho en zapopan esos ...   \n",
       "816              animo guadalajara hagala_ trafico_zmg   \n",
       "817  oye de mi gran amigo el doc lomeli no vas a es...   \n",
       "818                         milyrocha19 felixgastelum1   \n",
       "819                                                      \n",
       "\n",
       "                                    texto_preprocesado  \\\n",
       "0          [gusto, acompañar, representación, alcalde]   \n",
       "1                  [gracia, amigo, apoyo, pablolemusn]   \n",
       "2                                                   []   \n",
       "3    [report, respuesta, ojalá, lograr, retirar, sa...   \n",
       "4                   [felicito, amigo, juanjosefrangie]   \n",
       "..                                                 ...   \n",
       "815    [creer, mirar, zapopar, gobierno, dantedelgado]   \n",
       "816                       [animo, guadalajara, hagala]   \n",
       "817  [oir, amigo, doc, lomeli, hablar, bitacorapol,...   \n",
       "818                                                 []   \n",
       "819                                                 []   \n",
       "\n",
       "                                        bigramas_spacy  \\\n",
       "0    [(que, gusto), (gusto, poder), (poder, acompañ...   \n",
       "1    [(muchas, gracias), (gracias, amigo), (amigo, ...   \n",
       "2                                                   []   \n",
       "3    [(se, han), (han, realizado), (realizado, no),...   \n",
       "4    [(te, felicito), (felicito, amigo), (amigo, ju...   \n",
       "..                                                 ...   \n",
       "815  [(no, creo), (creo, mira), (mira, lo), (lo, qu...   \n",
       "816  [(animo, guadalajara), (guadalajara, hagala), ...   \n",
       "817  [(oye, de), (de, mi), (mi, gran), (gran, amigo...   \n",
       "818                    [(milyrocha19, felixgastelum1)]   \n",
       "819                                                 []   \n",
       "\n",
       "                                         bigramas_nltk  \\\n",
       "0    [(que, gusto), (gusto, poder), (poder, acompañ...   \n",
       "1    [(muchas, gracias), (gracias, amigo), (amigo, ...   \n",
       "2                                                   []   \n",
       "3    [(se, han), (han, realizado), (realizado, no),...   \n",
       "4    [(te, felicito), (felicito, amigo), (amigo, ju...   \n",
       "..                                                 ...   \n",
       "815  [(no, creo), (creo, mira), (mira, lo), (lo, qu...   \n",
       "816  [(animo, guadalajara), (guadalajara, hagala_),...   \n",
       "817  [(oye, de), (de, mi), (mi, gran), (gran, amigo...   \n",
       "818                    [(milyrocha19, felixgastelum1)]   \n",
       "819                                                 []   \n",
       "\n",
       "                                      texto_lematizado  polaridad  \n",
       "0    que gusto  poder acompañar él el día de hoy en...     0.0000  \n",
       "1    mucho gracia amigo sin tu apoyo este no haber ...    -0.7003  \n",
       "2                                                   76     0.0000  \n",
       "3    él haber realizar no menos de cuatro report si...    -0.7003  \n",
       "4                    tú felicito amigo juanjosefrangie     0.0000  \n",
       "..                                                 ...        ...  \n",
       "815  no creer mirar él que haber hacer en zapopar e...    -0.2960  \n",
       "816             animo guadalajara hagala _ trafico_zmg     0.0000  \n",
       "817  oir de mi gran amigo el doc lomeli no ir a est...    -0.2960  \n",
       "818                         milyrocha19 felixgastelum1     0.0000  \n",
       "819                                                        0.0000  \n",
       "\n",
       "[820 rows x 6 columns]"
      ]
     },
     "execution_count": 20,
     "metadata": {},
     "output_type": "execute_result"
    }
   ],
   "source": [
    "nltk.download('punkt')\n",
    "nltk.download('vader_lexicon')\n",
    "\n",
    "from nltk.sentiment import SentimentIntensityAnalyzer\n",
    "from nltk.sentiment.vader import SentimentIntensityAnalyzer\n",
    "\n",
    "def obtener_sentiment(texto):\n",
    "    analyzer  = SentimentIntensityAnalyzer()\n",
    "    return analyzer.polarity_scores(texto)[\"compound\"]\n",
    "\n",
    "df_coments_clean[\"polaridad\"] = df_coments_clean[\"texto\"].apply(obtener_sentiment)\n",
    "df_coments_clean"
   ]
  },
  {
   "cell_type": "code",
   "execution_count": null,
   "metadata": {},
   "outputs": [
    {
     "data": {
      "application/vnd.plotly.v1+json": {
       "config": {
        "plotlyServerURL": "https://plotly.com"
       },
       "data": [
        {
         "labels": [
          "Negativos",
          "Neutros",
          "Positivos"
         ],
         "type": "pie",
         "values": [
          137,
          659,
          24
         ]
        }
       ],
       "layout": {
        "template": {
         "data": {
          "bar": [
           {
            "error_x": {
             "color": "#2a3f5f"
            },
            "error_y": {
             "color": "#2a3f5f"
            },
            "marker": {
             "line": {
              "color": "#E5ECF6",
              "width": 0.5
             },
             "pattern": {
              "fillmode": "overlay",
              "size": 10,
              "solidity": 0.2
             }
            },
            "type": "bar"
           }
          ],
          "barpolar": [
           {
            "marker": {
             "line": {
              "color": "#E5ECF6",
              "width": 0.5
             },
             "pattern": {
              "fillmode": "overlay",
              "size": 10,
              "solidity": 0.2
             }
            },
            "type": "barpolar"
           }
          ],
          "carpet": [
           {
            "aaxis": {
             "endlinecolor": "#2a3f5f",
             "gridcolor": "white",
             "linecolor": "white",
             "minorgridcolor": "white",
             "startlinecolor": "#2a3f5f"
            },
            "baxis": {
             "endlinecolor": "#2a3f5f",
             "gridcolor": "white",
             "linecolor": "white",
             "minorgridcolor": "white",
             "startlinecolor": "#2a3f5f"
            },
            "type": "carpet"
           }
          ],
          "choropleth": [
           {
            "colorbar": {
             "outlinewidth": 0,
             "ticks": ""
            },
            "type": "choropleth"
           }
          ],
          "contour": [
           {
            "colorbar": {
             "outlinewidth": 0,
             "ticks": ""
            },
            "colorscale": [
             [
              0,
              "#0d0887"
             ],
             [
              0.1111111111111111,
              "#46039f"
             ],
             [
              0.2222222222222222,
              "#7201a8"
             ],
             [
              0.3333333333333333,
              "#9c179e"
             ],
             [
              0.4444444444444444,
              "#bd3786"
             ],
             [
              0.5555555555555556,
              "#d8576b"
             ],
             [
              0.6666666666666666,
              "#ed7953"
             ],
             [
              0.7777777777777778,
              "#fb9f3a"
             ],
             [
              0.8888888888888888,
              "#fdca26"
             ],
             [
              1,
              "#f0f921"
             ]
            ],
            "type": "contour"
           }
          ],
          "contourcarpet": [
           {
            "colorbar": {
             "outlinewidth": 0,
             "ticks": ""
            },
            "type": "contourcarpet"
           }
          ],
          "heatmap": [
           {
            "colorbar": {
             "outlinewidth": 0,
             "ticks": ""
            },
            "colorscale": [
             [
              0,
              "#0d0887"
             ],
             [
              0.1111111111111111,
              "#46039f"
             ],
             [
              0.2222222222222222,
              "#7201a8"
             ],
             [
              0.3333333333333333,
              "#9c179e"
             ],
             [
              0.4444444444444444,
              "#bd3786"
             ],
             [
              0.5555555555555556,
              "#d8576b"
             ],
             [
              0.6666666666666666,
              "#ed7953"
             ],
             [
              0.7777777777777778,
              "#fb9f3a"
             ],
             [
              0.8888888888888888,
              "#fdca26"
             ],
             [
              1,
              "#f0f921"
             ]
            ],
            "type": "heatmap"
           }
          ],
          "heatmapgl": [
           {
            "colorbar": {
             "outlinewidth": 0,
             "ticks": ""
            },
            "colorscale": [
             [
              0,
              "#0d0887"
             ],
             [
              0.1111111111111111,
              "#46039f"
             ],
             [
              0.2222222222222222,
              "#7201a8"
             ],
             [
              0.3333333333333333,
              "#9c179e"
             ],
             [
              0.4444444444444444,
              "#bd3786"
             ],
             [
              0.5555555555555556,
              "#d8576b"
             ],
             [
              0.6666666666666666,
              "#ed7953"
             ],
             [
              0.7777777777777778,
              "#fb9f3a"
             ],
             [
              0.8888888888888888,
              "#fdca26"
             ],
             [
              1,
              "#f0f921"
             ]
            ],
            "type": "heatmapgl"
           }
          ],
          "histogram": [
           {
            "marker": {
             "pattern": {
              "fillmode": "overlay",
              "size": 10,
              "solidity": 0.2
             }
            },
            "type": "histogram"
           }
          ],
          "histogram2d": [
           {
            "colorbar": {
             "outlinewidth": 0,
             "ticks": ""
            },
            "colorscale": [
             [
              0,
              "#0d0887"
             ],
             [
              0.1111111111111111,
              "#46039f"
             ],
             [
              0.2222222222222222,
              "#7201a8"
             ],
             [
              0.3333333333333333,
              "#9c179e"
             ],
             [
              0.4444444444444444,
              "#bd3786"
             ],
             [
              0.5555555555555556,
              "#d8576b"
             ],
             [
              0.6666666666666666,
              "#ed7953"
             ],
             [
              0.7777777777777778,
              "#fb9f3a"
             ],
             [
              0.8888888888888888,
              "#fdca26"
             ],
             [
              1,
              "#f0f921"
             ]
            ],
            "type": "histogram2d"
           }
          ],
          "histogram2dcontour": [
           {
            "colorbar": {
             "outlinewidth": 0,
             "ticks": ""
            },
            "colorscale": [
             [
              0,
              "#0d0887"
             ],
             [
              0.1111111111111111,
              "#46039f"
             ],
             [
              0.2222222222222222,
              "#7201a8"
             ],
             [
              0.3333333333333333,
              "#9c179e"
             ],
             [
              0.4444444444444444,
              "#bd3786"
             ],
             [
              0.5555555555555556,
              "#d8576b"
             ],
             [
              0.6666666666666666,
              "#ed7953"
             ],
             [
              0.7777777777777778,
              "#fb9f3a"
             ],
             [
              0.8888888888888888,
              "#fdca26"
             ],
             [
              1,
              "#f0f921"
             ]
            ],
            "type": "histogram2dcontour"
           }
          ],
          "mesh3d": [
           {
            "colorbar": {
             "outlinewidth": 0,
             "ticks": ""
            },
            "type": "mesh3d"
           }
          ],
          "parcoords": [
           {
            "line": {
             "colorbar": {
              "outlinewidth": 0,
              "ticks": ""
             }
            },
            "type": "parcoords"
           }
          ],
          "pie": [
           {
            "automargin": true,
            "type": "pie"
           }
          ],
          "scatter": [
           {
            "fillpattern": {
             "fillmode": "overlay",
             "size": 10,
             "solidity": 0.2
            },
            "type": "scatter"
           }
          ],
          "scatter3d": [
           {
            "line": {
             "colorbar": {
              "outlinewidth": 0,
              "ticks": ""
             }
            },
            "marker": {
             "colorbar": {
              "outlinewidth": 0,
              "ticks": ""
             }
            },
            "type": "scatter3d"
           }
          ],
          "scattercarpet": [
           {
            "marker": {
             "colorbar": {
              "outlinewidth": 0,
              "ticks": ""
             }
            },
            "type": "scattercarpet"
           }
          ],
          "scattergeo": [
           {
            "marker": {
             "colorbar": {
              "outlinewidth": 0,
              "ticks": ""
             }
            },
            "type": "scattergeo"
           }
          ],
          "scattergl": [
           {
            "marker": {
             "colorbar": {
              "outlinewidth": 0,
              "ticks": ""
             }
            },
            "type": "scattergl"
           }
          ],
          "scattermapbox": [
           {
            "marker": {
             "colorbar": {
              "outlinewidth": 0,
              "ticks": ""
             }
            },
            "type": "scattermapbox"
           }
          ],
          "scatterpolar": [
           {
            "marker": {
             "colorbar": {
              "outlinewidth": 0,
              "ticks": ""
             }
            },
            "type": "scatterpolar"
           }
          ],
          "scatterpolargl": [
           {
            "marker": {
             "colorbar": {
              "outlinewidth": 0,
              "ticks": ""
             }
            },
            "type": "scatterpolargl"
           }
          ],
          "scatterternary": [
           {
            "marker": {
             "colorbar": {
              "outlinewidth": 0,
              "ticks": ""
             }
            },
            "type": "scatterternary"
           }
          ],
          "surface": [
           {
            "colorbar": {
             "outlinewidth": 0,
             "ticks": ""
            },
            "colorscale": [
             [
              0,
              "#0d0887"
             ],
             [
              0.1111111111111111,
              "#46039f"
             ],
             [
              0.2222222222222222,
              "#7201a8"
             ],
             [
              0.3333333333333333,
              "#9c179e"
             ],
             [
              0.4444444444444444,
              "#bd3786"
             ],
             [
              0.5555555555555556,
              "#d8576b"
             ],
             [
              0.6666666666666666,
              "#ed7953"
             ],
             [
              0.7777777777777778,
              "#fb9f3a"
             ],
             [
              0.8888888888888888,
              "#fdca26"
             ],
             [
              1,
              "#f0f921"
             ]
            ],
            "type": "surface"
           }
          ],
          "table": [
           {
            "cells": {
             "fill": {
              "color": "#EBF0F8"
             },
             "line": {
              "color": "white"
             }
            },
            "header": {
             "fill": {
              "color": "#C8D4E3"
             },
             "line": {
              "color": "white"
             }
            },
            "type": "table"
           }
          ]
         },
         "layout": {
          "annotationdefaults": {
           "arrowcolor": "#2a3f5f",
           "arrowhead": 0,
           "arrowwidth": 1
          },
          "autotypenumbers": "strict",
          "coloraxis": {
           "colorbar": {
            "outlinewidth": 0,
            "ticks": ""
           }
          },
          "colorscale": {
           "diverging": [
            [
             0,
             "#8e0152"
            ],
            [
             0.1,
             "#c51b7d"
            ],
            [
             0.2,
             "#de77ae"
            ],
            [
             0.3,
             "#f1b6da"
            ],
            [
             0.4,
             "#fde0ef"
            ],
            [
             0.5,
             "#f7f7f7"
            ],
            [
             0.6,
             "#e6f5d0"
            ],
            [
             0.7,
             "#b8e186"
            ],
            [
             0.8,
             "#7fbc41"
            ],
            [
             0.9,
             "#4d9221"
            ],
            [
             1,
             "#276419"
            ]
           ],
           "sequential": [
            [
             0,
             "#0d0887"
            ],
            [
             0.1111111111111111,
             "#46039f"
            ],
            [
             0.2222222222222222,
             "#7201a8"
            ],
            [
             0.3333333333333333,
             "#9c179e"
            ],
            [
             0.4444444444444444,
             "#bd3786"
            ],
            [
             0.5555555555555556,
             "#d8576b"
            ],
            [
             0.6666666666666666,
             "#ed7953"
            ],
            [
             0.7777777777777778,
             "#fb9f3a"
            ],
            [
             0.8888888888888888,
             "#fdca26"
            ],
            [
             1,
             "#f0f921"
            ]
           ],
           "sequentialminus": [
            [
             0,
             "#0d0887"
            ],
            [
             0.1111111111111111,
             "#46039f"
            ],
            [
             0.2222222222222222,
             "#7201a8"
            ],
            [
             0.3333333333333333,
             "#9c179e"
            ],
            [
             0.4444444444444444,
             "#bd3786"
            ],
            [
             0.5555555555555556,
             "#d8576b"
            ],
            [
             0.6666666666666666,
             "#ed7953"
            ],
            [
             0.7777777777777778,
             "#fb9f3a"
            ],
            [
             0.8888888888888888,
             "#fdca26"
            ],
            [
             1,
             "#f0f921"
            ]
           ]
          },
          "colorway": [
           "#636efa",
           "#EF553B",
           "#00cc96",
           "#ab63fa",
           "#FFA15A",
           "#19d3f3",
           "#FF6692",
           "#B6E880",
           "#FF97FF",
           "#FECB52"
          ],
          "font": {
           "color": "#2a3f5f"
          },
          "geo": {
           "bgcolor": "white",
           "lakecolor": "white",
           "landcolor": "#E5ECF6",
           "showlakes": true,
           "showland": true,
           "subunitcolor": "white"
          },
          "hoverlabel": {
           "align": "left"
          },
          "hovermode": "closest",
          "mapbox": {
           "style": "light"
          },
          "paper_bgcolor": "white",
          "plot_bgcolor": "#E5ECF6",
          "polar": {
           "angularaxis": {
            "gridcolor": "white",
            "linecolor": "white",
            "ticks": ""
           },
           "bgcolor": "#E5ECF6",
           "radialaxis": {
            "gridcolor": "white",
            "linecolor": "white",
            "ticks": ""
           }
          },
          "scene": {
           "xaxis": {
            "backgroundcolor": "#E5ECF6",
            "gridcolor": "white",
            "gridwidth": 2,
            "linecolor": "white",
            "showbackground": true,
            "ticks": "",
            "zerolinecolor": "white"
           },
           "yaxis": {
            "backgroundcolor": "#E5ECF6",
            "gridcolor": "white",
            "gridwidth": 2,
            "linecolor": "white",
            "showbackground": true,
            "ticks": "",
            "zerolinecolor": "white"
           },
           "zaxis": {
            "backgroundcolor": "#E5ECF6",
            "gridcolor": "white",
            "gridwidth": 2,
            "linecolor": "white",
            "showbackground": true,
            "ticks": "",
            "zerolinecolor": "white"
           }
          },
          "shapedefaults": {
           "line": {
            "color": "#2a3f5f"
           }
          },
          "ternary": {
           "aaxis": {
            "gridcolor": "white",
            "linecolor": "white",
            "ticks": ""
           },
           "baxis": {
            "gridcolor": "white",
            "linecolor": "white",
            "ticks": ""
           },
           "bgcolor": "#E5ECF6",
           "caxis": {
            "gridcolor": "white",
            "linecolor": "white",
            "ticks": ""
           }
          },
          "title": {
           "x": 0.05
          },
          "xaxis": {
           "automargin": true,
           "gridcolor": "white",
           "linecolor": "white",
           "ticks": "",
           "title": {
            "standoff": 15
           },
           "zerolinecolor": "white",
           "zerolinewidth": 2
          },
          "yaxis": {
           "automargin": true,
           "gridcolor": "white",
           "linecolor": "white",
           "ticks": "",
           "title": {
            "standoff": 15
           },
           "zerolinecolor": "white",
           "zerolinewidth": 2
          }
         }
        }
       }
      }
     },
     "metadata": {},
     "output_type": "display_data"
    }
   ],
   "source": [
    "####################################\n",
    "# Contar la cantidad de sentimientos negativos, neutros y positivos\n",
    "negativos = df_coments_clean[df_coments_clean[\"polaridad\"] < 0].count().values[0]\n",
    "neutros = df_coments_clean[df_coments_clean[\"polaridad\"] == 0].count().values[0]\n",
    "positivos = df_coments_clean[df_coments_clean[\"polaridad\"] > 0].count().values[0]\n",
    "\n",
    "# Crear la gráfica de pastel\n",
    "labels = [\"Negativos\", \"Neutros\", \"Positivos\"]\n",
    "values = [negativos, neutros, positivos]\n",
    "\n",
    "fig = go.Figure(data=[go.Pie(labels=labels, values=values)])\n",
    "\n",
    "fig.write_html(\"pie.html\")\n",
    "# Mostrar la gráfica\n",
    "fig.show()"
   ]
  },
  {
   "cell_type": "code",
   "execution_count": null,
   "metadata": {},
   "outputs": [],
   "source": []
  },
  {
   "cell_type": "code",
   "execution_count": null,
   "metadata": {},
   "outputs": [],
   "source": []
  }
 ],
 "metadata": {
  "kernelspec": {
   "display_name": "Python 3 (ipykernel)",
   "language": "python",
   "name": "python3"
  },
  "language_info": {
   "codemirror_mode": {
    "name": "ipython",
    "version": 3
   },
   "file_extension": ".py",
   "mimetype": "text/x-python",
   "name": "python",
   "nbconvert_exporter": "python",
   "pygments_lexer": "ipython3",
   "version": "3.10.12"
  }
 },
 "nbformat": 4,
 "nbformat_minor": 2
}
