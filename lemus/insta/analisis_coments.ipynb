{
 "cells": [
  {
   "cell_type": "markdown",
   "metadata": {},
   "source": [
    "# Análisis de Comentarios instagram Lemus"
   ]
  },
  {
   "cell_type": "code",
   "execution_count": 1,
   "metadata": {},
   "outputs": [
    {
     "name": "stderr",
     "output_type": "stream",
     "text": [
      "[nltk_data] Downloading package punkt to /home/milton/nltk_data...\n",
      "[nltk_data]   Package punkt is already up-to-date!\n",
      "[nltk_data] Downloading package stopwords to /home/milton/nltk_data...\n",
      "[nltk_data]   Package stopwords is already up-to-date!\n"
     ]
    }
   ],
   "source": [
    "# Importamos las librerías\n",
    "\n",
    "import re\n",
    "import nltk\n",
    "import pandas as pd\n",
    "from datetime import datetime\n",
    "from nltk.sentiment.vader import SentimentIntensityAnalyzer\n",
    "from nltk.corpus import stopwords\n",
    "from wordcloud import WordCloud\n",
    "import matplotlib.pyplot as plt\n",
    "import plotly.graph_objects as go\n",
    "import plotly.express as px\n",
    "from nltk.tokenize import RegexpTokenizer\n",
    "\n",
    "import gensim\n",
    "from gensim import corpora\n",
    "from gensim.models import LdaModel\n",
    "from nltk.tokenize import word_tokenize\n",
    "from nltk.corpus import stopwords\n",
    "import string\n",
    "\n",
    "###Diccionarios en español para el análisis de polaridad\n",
    "nltk.download('punkt')\n",
    "# Tokenización\n",
    "# Descargar el conjunto de stopwords en español si no lo tienes\n",
    "nltk.download('stopwords')\n",
    "# Análisis de polaridad\n",
    "# Obtención de listado de stopwords del inglés\n",
    "stop_words = list(stopwords.words('spanish'))"
   ]
  },
  {
   "cell_type": "code",
   "execution_count": 2,
   "metadata": {},
   "outputs": [
    {
     "data": {
      "text/html": [
       "<div>\n",
       "<style scoped>\n",
       "    .dataframe tbody tr th:only-of-type {\n",
       "        vertical-align: middle;\n",
       "    }\n",
       "\n",
       "    .dataframe tbody tr th {\n",
       "        vertical-align: top;\n",
       "    }\n",
       "\n",
       "    .dataframe thead th {\n",
       "        text-align: right;\n",
       "    }\n",
       "</style>\n",
       "<table border=\"1\" class=\"dataframe\">\n",
       "  <thead>\n",
       "    <tr style=\"text-align: right;\">\n",
       "      <th></th>\n",
       "      <th>texto</th>\n",
       "    </tr>\n",
       "  </thead>\n",
       "  <tbody>\n",
       "    <tr>\n",
       "      <th>2</th>\n",
       "      <td>Buen inicio de semana! Hoy por la mañana, en r...</td>\n",
       "    </tr>\n",
       "    <tr>\n",
       "      <th>6</th>\n",
       "      <td>Acompáñanos a la inauguración de la segunda ed...</td>\n",
       "    </tr>\n",
       "    <tr>\n",
       "      <th>10</th>\n",
       "      <td>¿Quién mejor para hablar de ciudades que los m...</td>\n",
       "    </tr>\n",
       "    <tr>\n",
       "      <th>26</th>\n",
       "      <td>conocida como  desde vista aérea, de fondo  y ...</td>\n",
       "    </tr>\n",
       "    <tr>\n",
       "      <th>32</th>\n",
       "      <td>A través de la , queremos devolver a instituci...</td>\n",
       "    </tr>\n",
       "    <tr>\n",
       "      <th>...</th>\n",
       "      <td>...</td>\n",
       "    </tr>\n",
       "    <tr>\n",
       "      <th>610</th>\n",
       "      <td>😱 ¿Les gusta el pulque? Pues tienen que probar...</td>\n",
       "    </tr>\n",
       "    <tr>\n",
       "      <th>616</th>\n",
       "      <td>Con la piel chinita 🇲🇽🔔🙌🏻 Gracias por esta emo...</td>\n",
       "    </tr>\n",
       "    <tr>\n",
       "      <th>619</th>\n",
       "      <td>¡Viva México! 🇲🇽 Hoy, en este día lleno de ale...</td>\n",
       "    </tr>\n",
       "    <tr>\n",
       "      <th>622</th>\n",
       "      <td>Así se siente México 🇲🇽 #diadelaindependencia</td>\n",
       "    </tr>\n",
       "    <tr>\n",
       "      <th>625</th>\n",
       "      <td>¡VIVA ZAPOPAN, VIVA JALISCO Y VIVA MÉXICO! Cel...</td>\n",
       "    </tr>\n",
       "  </tbody>\n",
       "</table>\n",
       "<p>146 rows × 1 columns</p>\n",
       "</div>"
      ],
      "text/plain": [
       "                                                 texto\n",
       "2    Buen inicio de semana! Hoy por la mañana, en r...\n",
       "6    Acompáñanos a la inauguración de la segunda ed...\n",
       "10   ¿Quién mejor para hablar de ciudades que los m...\n",
       "26   conocida como  desde vista aérea, de fondo  y ...\n",
       "32   A través de la , queremos devolver a instituci...\n",
       "..                                                 ...\n",
       "610  😱 ¿Les gusta el pulque? Pues tienen que probar...\n",
       "616  Con la piel chinita 🇲🇽🔔🙌🏻 Gracias por esta emo...\n",
       "619  ¡Viva México! 🇲🇽 Hoy, en este día lleno de ale...\n",
       "622      Así se siente México 🇲🇽 #diadelaindependencia\n",
       "625  ¡VIVA ZAPOPAN, VIVA JALISCO Y VIVA MÉXICO! Cel...\n",
       "\n",
       "[146 rows x 1 columns]"
      ]
     },
     "execution_count": 2,
     "metadata": {},
     "output_type": "execute_result"
    }
   ],
   "source": [
    "df_coments = pd.read_csv(\"instagram_coments_lemus.csv\", usecols=[\"_aacl\", \"x1i10hfl 3\"])\n",
    "df_coments[\"texto\"] = df_coments[\"_aacl\"] + ' ' + df_coments[\"x1i10hfl 3\"]\n",
    "df_coments = df_coments.drop(\"_aacl\", axis=1)\n",
    "df_coments = df_coments.drop(\"x1i10hfl 3\", axis=1)\n",
    "df_coments = df_coments.dropna()\n",
    "df_coments"
   ]
  },
  {
   "cell_type": "code",
   "execution_count": 3,
   "metadata": {},
   "outputs": [
    {
     "data": {
      "text/html": [
       "<div>\n",
       "<style scoped>\n",
       "    .dataframe tbody tr th:only-of-type {\n",
       "        vertical-align: middle;\n",
       "    }\n",
       "\n",
       "    .dataframe tbody tr th {\n",
       "        vertical-align: top;\n",
       "    }\n",
       "\n",
       "    .dataframe thead th {\n",
       "        text-align: right;\n",
       "    }\n",
       "</style>\n",
       "<table border=\"1\" class=\"dataframe\">\n",
       "  <thead>\n",
       "    <tr style=\"text-align: right;\">\n",
       "      <th></th>\n",
       "      <th>texto</th>\n",
       "    </tr>\n",
       "  </thead>\n",
       "  <tbody>\n",
       "    <tr>\n",
       "      <th>2</th>\n",
       "      <td>buen inicio de semana hoy por la mañana en rep...</td>\n",
       "    </tr>\n",
       "    <tr>\n",
       "      <th>6</th>\n",
       "      <td>acompáñanos a la inauguración de la segunda ed...</td>\n",
       "    </tr>\n",
       "    <tr>\n",
       "      <th>10</th>\n",
       "      <td>quién mejor para hablar de ciudades que los mi...</td>\n",
       "    </tr>\n",
       "    <tr>\n",
       "      <th>26</th>\n",
       "      <td>conocida como desde vista aérea de fondo y la ...</td>\n",
       "    </tr>\n",
       "    <tr>\n",
       "      <th>32</th>\n",
       "      <td>a través de la queremos devolver a institucion...</td>\n",
       "    </tr>\n",
       "    <tr>\n",
       "      <th>...</th>\n",
       "      <td>...</td>\n",
       "    </tr>\n",
       "    <tr>\n",
       "      <th>610</th>\n",
       "      <td>les gusta el pulque pues tienen que probar est...</td>\n",
       "    </tr>\n",
       "    <tr>\n",
       "      <th>616</th>\n",
       "      <td>con la piel chinita gracias por esta emotiva y...</td>\n",
       "    </tr>\n",
       "    <tr>\n",
       "      <th>619</th>\n",
       "      <td>viva méxico hoy en este día lleno de alegría y...</td>\n",
       "    </tr>\n",
       "    <tr>\n",
       "      <th>622</th>\n",
       "      <td>así se siente méxico diadelaindependencia</td>\n",
       "    </tr>\n",
       "    <tr>\n",
       "      <th>625</th>\n",
       "      <td>viva zapopan viva jalisco y viva méxico celebr...</td>\n",
       "    </tr>\n",
       "  </tbody>\n",
       "</table>\n",
       "<p>146 rows × 1 columns</p>\n",
       "</div>"
      ],
      "text/plain": [
       "                                                 texto\n",
       "2    buen inicio de semana hoy por la mañana en rep...\n",
       "6    acompáñanos a la inauguración de la segunda ed...\n",
       "10   quién mejor para hablar de ciudades que los mi...\n",
       "26   conocida como desde vista aérea de fondo y la ...\n",
       "32   a través de la queremos devolver a institucion...\n",
       "..                                                 ...\n",
       "610  les gusta el pulque pues tienen que probar est...\n",
       "616  con la piel chinita gracias por esta emotiva y...\n",
       "619  viva méxico hoy en este día lleno de alegría y...\n",
       "622          así se siente méxico diadelaindependencia\n",
       "625  viva zapopan viva jalisco y viva méxico celebr...\n",
       "\n",
       "[146 rows x 1 columns]"
      ]
     },
     "execution_count": 3,
     "metadata": {},
     "output_type": "execute_result"
    }
   ],
   "source": [
    "def limpiar_texto(texto):\n",
    "    # Eliminar caracteres especiales y números\n",
    "    texto_limpio = re.sub(r'[^\\w\\sáéíóúüÁÉÍÓÚÜñ]', '', texto, flags=re.UNICODE)\n",
    "    # Eliminar espacios en blanco adicionales y convertir a minúsculas\n",
    "    texto_limpio = ' '.join(texto_limpio.split()).lower()\n",
    "    return texto_limpio\n",
    "\n",
    "df_coments[\"texto\"] = df_coments[\"texto\"].apply(limpiar_texto)\n",
    "df_coments_clean = df_coments.copy()\n",
    "df_coments"
   ]
  },
  {
   "cell_type": "code",
   "execution_count": 4,
   "metadata": {},
   "outputs": [
    {
     "data": {
      "text/html": [
       "<div>\n",
       "<style scoped>\n",
       "    .dataframe tbody tr th:only-of-type {\n",
       "        vertical-align: middle;\n",
       "    }\n",
       "\n",
       "    .dataframe tbody tr th {\n",
       "        vertical-align: top;\n",
       "    }\n",
       "\n",
       "    .dataframe thead th {\n",
       "        text-align: right;\n",
       "    }\n",
       "</style>\n",
       "<table border=\"1\" class=\"dataframe\">\n",
       "  <thead>\n",
       "    <tr style=\"text-align: right;\">\n",
       "      <th></th>\n",
       "      <th>texto</th>\n",
       "      <th>tokens</th>\n",
       "    </tr>\n",
       "  </thead>\n",
       "  <tbody>\n",
       "    <tr>\n",
       "      <th>2</th>\n",
       "      <td>buen inicio de semana hoy por la mañana en rep...</td>\n",
       "      <td>[buen, inicio, de, semana, hoy, por, la, mañan...</td>\n",
       "    </tr>\n",
       "    <tr>\n",
       "      <th>6</th>\n",
       "      <td>acompáñanos a la inauguración de la segunda ed...</td>\n",
       "      <td>[acompáñanos, a, la, inauguración, de, la, seg...</td>\n",
       "    </tr>\n",
       "    <tr>\n",
       "      <th>10</th>\n",
       "      <td>quién mejor para hablar de ciudades que los mi...</td>\n",
       "      <td>[quién, mejor, para, hablar, de, ciudades, que...</td>\n",
       "    </tr>\n",
       "    <tr>\n",
       "      <th>26</th>\n",
       "      <td>conocida como desde vista aérea de fondo y la ...</td>\n",
       "      <td>[conocida, como, desde, vista, aérea, de, fond...</td>\n",
       "    </tr>\n",
       "    <tr>\n",
       "      <th>32</th>\n",
       "      <td>a través de la queremos devolver a institucion...</td>\n",
       "      <td>[a, través, de, la, queremos, devolver, a, ins...</td>\n",
       "    </tr>\n",
       "    <tr>\n",
       "      <th>...</th>\n",
       "      <td>...</td>\n",
       "      <td>...</td>\n",
       "    </tr>\n",
       "    <tr>\n",
       "      <th>610</th>\n",
       "      <td>les gusta el pulque pues tienen que probar est...</td>\n",
       "      <td>[les, gusta, el, pulque, pues, tienen, que, pr...</td>\n",
       "    </tr>\n",
       "    <tr>\n",
       "      <th>616</th>\n",
       "      <td>con la piel chinita gracias por esta emotiva y...</td>\n",
       "      <td>[con, la, piel, chinita, gracias, por, esta, e...</td>\n",
       "    </tr>\n",
       "    <tr>\n",
       "      <th>619</th>\n",
       "      <td>viva méxico hoy en este día lleno de alegría y...</td>\n",
       "      <td>[viva, méxico, hoy, en, este, día, lleno, de, ...</td>\n",
       "    </tr>\n",
       "    <tr>\n",
       "      <th>622</th>\n",
       "      <td>así se siente méxico diadelaindependencia</td>\n",
       "      <td>[así, se, siente, méxico, diadelaindependencia]</td>\n",
       "    </tr>\n",
       "    <tr>\n",
       "      <th>625</th>\n",
       "      <td>viva zapopan viva jalisco y viva méxico celebr...</td>\n",
       "      <td>[viva, zapopan, viva, jalisco, y, viva, méxico...</td>\n",
       "    </tr>\n",
       "  </tbody>\n",
       "</table>\n",
       "<p>146 rows × 2 columns</p>\n",
       "</div>"
      ],
      "text/plain": [
       "                                                 texto  \\\n",
       "2    buen inicio de semana hoy por la mañana en rep...   \n",
       "6    acompáñanos a la inauguración de la segunda ed...   \n",
       "10   quién mejor para hablar de ciudades que los mi...   \n",
       "26   conocida como desde vista aérea de fondo y la ...   \n",
       "32   a través de la queremos devolver a institucion...   \n",
       "..                                                 ...   \n",
       "610  les gusta el pulque pues tienen que probar est...   \n",
       "616  con la piel chinita gracias por esta emotiva y...   \n",
       "619  viva méxico hoy en este día lleno de alegría y...   \n",
       "622          así se siente méxico diadelaindependencia   \n",
       "625  viva zapopan viva jalisco y viva méxico celebr...   \n",
       "\n",
       "                                                tokens  \n",
       "2    [buen, inicio, de, semana, hoy, por, la, mañan...  \n",
       "6    [acompáñanos, a, la, inauguración, de, la, seg...  \n",
       "10   [quién, mejor, para, hablar, de, ciudades, que...  \n",
       "26   [conocida, como, desde, vista, aérea, de, fond...  \n",
       "32   [a, través, de, la, queremos, devolver, a, ins...  \n",
       "..                                                 ...  \n",
       "610  [les, gusta, el, pulque, pues, tienen, que, pr...  \n",
       "616  [con, la, piel, chinita, gracias, por, esta, e...  \n",
       "619  [viva, méxico, hoy, en, este, día, lleno, de, ...  \n",
       "622    [así, se, siente, méxico, diadelaindependencia]  \n",
       "625  [viva, zapopan, viva, jalisco, y, viva, méxico...  \n",
       "\n",
       "[146 rows x 2 columns]"
      ]
     },
     "execution_count": 4,
     "metadata": {},
     "output_type": "execute_result"
    }
   ],
   "source": [
    "df_coments['texto'] = df_coments['texto'].str.lower()\n",
    "tokenizer = RegexpTokenizer(r'\\w+')\n",
    "df_coments['tokens'] = df_coments['texto'].apply(tokenizer.tokenize)\n",
    "df_coments.to_csv(\"coments_insta.csv\")\n",
    "df_coments"
   ]
  },
  {
   "cell_type": "code",
   "execution_count": 5,
   "metadata": {},
   "outputs": [],
   "source": [
    "# Se añade la stoprword: amp, ax, ex\n",
    "stop_words.extend((\"q\", \"d\", \"van\", \"si\", \"pa\", \"así\", \"ser\", \"solo\", \"tan\", \"va\", \"as\",\n",
    "                \"le\", \"con\",\"ella\", \"qué\", \"por\", \"qu\", \"ers\", \"das\", \"ve\", \"jajaja\", \"jeje\", \"La\", \"nimo\", \"ms\", \"da\"))"
   ]
  },
  {
   "cell_type": "code",
   "execution_count": 6,
   "metadata": {},
   "outputs": [
    {
     "data": {
      "text/html": [
       "<div>\n",
       "<style scoped>\n",
       "    .dataframe tbody tr th:only-of-type {\n",
       "        vertical-align: middle;\n",
       "    }\n",
       "\n",
       "    .dataframe tbody tr th {\n",
       "        vertical-align: top;\n",
       "    }\n",
       "\n",
       "    .dataframe thead th {\n",
       "        text-align: right;\n",
       "    }\n",
       "</style>\n",
       "<table border=\"1\" class=\"dataframe\">\n",
       "  <thead>\n",
       "    <tr style=\"text-align: right;\">\n",
       "      <th></th>\n",
       "      <th>texto</th>\n",
       "      <th>tokens</th>\n",
       "    </tr>\n",
       "  </thead>\n",
       "  <tbody>\n",
       "    <tr>\n",
       "      <th>2</th>\n",
       "      <td>buen inicio de semana hoy por la mañana en rep...</td>\n",
       "      <td>[buen, inicio, de, semana, hoy, por, la, mañan...</td>\n",
       "    </tr>\n",
       "    <tr>\n",
       "      <th>6</th>\n",
       "      <td>acompáñanos a la inauguración de la segunda ed...</td>\n",
       "      <td>[acompáñanos, a, la, inauguración, de, la, seg...</td>\n",
       "    </tr>\n",
       "    <tr>\n",
       "      <th>10</th>\n",
       "      <td>quién mejor para hablar de ciudades que los mi...</td>\n",
       "      <td>[quién, mejor, para, hablar, de, ciudades, que...</td>\n",
       "    </tr>\n",
       "    <tr>\n",
       "      <th>26</th>\n",
       "      <td>conocida como desde vista aérea de fondo y la ...</td>\n",
       "      <td>[conocida, como, desde, vista, aérea, de, fond...</td>\n",
       "    </tr>\n",
       "    <tr>\n",
       "      <th>32</th>\n",
       "      <td>a través de la queremos devolver a institucion...</td>\n",
       "      <td>[a, través, de, la, queremos, devolver, a, ins...</td>\n",
       "    </tr>\n",
       "    <tr>\n",
       "      <th>...</th>\n",
       "      <td>...</td>\n",
       "      <td>...</td>\n",
       "    </tr>\n",
       "    <tr>\n",
       "      <th>610</th>\n",
       "      <td>les gusta el pulque pues tienen que probar est...</td>\n",
       "      <td>[les, gusta, el, pulque, pues, tienen, que, pr...</td>\n",
       "    </tr>\n",
       "    <tr>\n",
       "      <th>616</th>\n",
       "      <td>con la piel chinita gracias por esta emotiva y...</td>\n",
       "      <td>[con, la, piel, chinita, gracias, por, esta, e...</td>\n",
       "    </tr>\n",
       "    <tr>\n",
       "      <th>619</th>\n",
       "      <td>viva méxico hoy en este día lleno de alegría y...</td>\n",
       "      <td>[viva, méxico, hoy, en, este, día, lleno, de, ...</td>\n",
       "    </tr>\n",
       "    <tr>\n",
       "      <th>622</th>\n",
       "      <td>así se siente méxico diadelaindependencia</td>\n",
       "      <td>[así, se, siente, méxico, diadelaindependencia]</td>\n",
       "    </tr>\n",
       "    <tr>\n",
       "      <th>625</th>\n",
       "      <td>viva zapopan viva jalisco y viva méxico celebr...</td>\n",
       "      <td>[viva, zapopan, viva, jalisco, y, viva, méxico...</td>\n",
       "    </tr>\n",
       "  </tbody>\n",
       "</table>\n",
       "<p>146 rows × 2 columns</p>\n",
       "</div>"
      ],
      "text/plain": [
       "                                                 texto  \\\n",
       "2    buen inicio de semana hoy por la mañana en rep...   \n",
       "6    acompáñanos a la inauguración de la segunda ed...   \n",
       "10   quién mejor para hablar de ciudades que los mi...   \n",
       "26   conocida como desde vista aérea de fondo y la ...   \n",
       "32   a través de la queremos devolver a institucion...   \n",
       "..                                                 ...   \n",
       "610  les gusta el pulque pues tienen que probar est...   \n",
       "616  con la piel chinita gracias por esta emotiva y...   \n",
       "619  viva méxico hoy en este día lleno de alegría y...   \n",
       "622          así se siente méxico diadelaindependencia   \n",
       "625  viva zapopan viva jalisco y viva méxico celebr...   \n",
       "\n",
       "                                                tokens  \n",
       "2    [buen, inicio, de, semana, hoy, por, la, mañan...  \n",
       "6    [acompáñanos, a, la, inauguración, de, la, seg...  \n",
       "10   [quién, mejor, para, hablar, de, ciudades, que...  \n",
       "26   [conocida, como, desde, vista, aérea, de, fond...  \n",
       "32   [a, través, de, la, queremos, devolver, a, ins...  \n",
       "..                                                 ...  \n",
       "610  [les, gusta, el, pulque, pues, tienen, que, pr...  \n",
       "616  [con, la, piel, chinita, gracias, por, esta, e...  \n",
       "619  [viva, méxico, hoy, en, este, día, lleno, de, ...  \n",
       "622    [así, se, siente, méxico, diadelaindependencia]  \n",
       "625  [viva, zapopan, viva, jalisco, y, viva, méxico...  \n",
       "\n",
       "[146 rows x 2 columns]"
      ]
     },
     "execution_count": 6,
     "metadata": {},
     "output_type": "execute_result"
    }
   ],
   "source": [
    "# Filtrado para excluir stopwords\n",
    "# ==============================================================================\n",
    "tweets_tidy = df_coments[~(df_coments[\"tokens\"].isin(stop_words))]\n",
    "tweets_tidy"
   ]
  },
  {
   "cell_type": "code",
   "execution_count": 7,
   "metadata": {},
   "outputs": [
    {
     "data": {
      "text/plain": [
       "2      [buen, inicio, semana, hoy, mañana, representa...\n",
       "6      [acompáñanos, inauguración, segunda, edición, ...\n",
       "10     [quién, mejor, hablar, ciudades, mismos, alcal...\n",
       "26     [conocida, vista, aérea, fondo, construcción, ...\n",
       "32     [través, queremos, devolver, institucionalidad...\n",
       "                             ...                        \n",
       "610    [gusta, pulque, pues, probar, bebida, ancestra...\n",
       "616    [piel, chinita, gracias, emotiva, especial, no...\n",
       "619    [viva, méxico, hoy, día, lleno, alegría, emoci...\n",
       "622                       [méxico, diadelaindependencia]\n",
       "625    [viva, zapopan, viva, jalisco, viva, méxico, c...\n",
       "Name: tokens, Length: 146, dtype: object"
      ]
     },
     "execution_count": 7,
     "metadata": {},
     "output_type": "execute_result"
    }
   ],
   "source": [
    "##########NUBE DE PALABRAS\n",
    "def preprocess_text(text):\n",
    "    words = text # Tokenizar y convertir a minúsculas\n",
    "    words = [word for word in words if word.isalpha()]  # Eliminar caracteres no alfabéticos\n",
    "    words = [word for word in words if word not in stop_words]  # Eliminar palabras vacías\n",
    "    return words\n",
    "\n",
    "\n",
    "preprocessed_text = tweets_tidy[\"tokens\"].apply(preprocess_text)\n",
    "\n",
    "preprocessed_text"
   ]
  },
  {
   "cell_type": "code",
   "execution_count": 8,
   "metadata": {},
   "outputs": [
    {
     "data": {
      "text/plain": [
       "pandas.core.series.Series"
      ]
     },
     "execution_count": 8,
     "metadata": {},
     "output_type": "execute_result"
    }
   ],
   "source": [
    "# Unimos todas las listas de palabras en una sola lista\n",
    "all_words = [word for sublist in preprocessed_text.values for word in sublist]\n",
    "\n",
    "# Creamos un DataFrame con las palabras y sus frecuencias\n",
    "word_counts = pd.Series(all_words).value_counts()\n",
    "\n",
    "# Tomamos las palabras más comunes (puedes ajustar este valor según tus necesidades)\n",
    "top_words = word_counts.head(10)\n",
    "top_words.to_csv(\"top_words_coments.csv\")\n",
    "type(top_words)"
   ]
  },
  {
   "cell_type": "code",
   "execution_count": 9,
   "metadata": {},
   "outputs": [
    {
     "data": {
      "text/plain": [
       "guadalajara    59\n",
       "día            25\n",
       "jalisco        20\n",
       "personas       20\n",
       "hoy            19\n",
       "               ..\n",
       "formaron        1\n",
       "tal             1\n",
       "dedicación      1\n",
       "maye            1\n",
       "mexicanas       1\n",
       "Name: count, Length: 2189, dtype: int64"
      ]
     },
     "execution_count": 9,
     "metadata": {},
     "output_type": "execute_result"
    }
   ],
   "source": [
    "word_counts"
   ]
  },
  {
   "cell_type": "code",
   "execution_count": 10,
   "metadata": {},
   "outputs": [
    {
     "ename": "ValueError",
     "evalue": "Only supported for TrueType fonts",
     "output_type": "error",
     "traceback": [
      "\u001b[0;31m---------------------------------------------------------------------------\u001b[0m",
      "\u001b[0;31mValueError\u001b[0m                                Traceback (most recent call last)",
      "\u001b[1;32m/home/milton/Documentos/Khorda/lemus/insta/analisis_coments.ipynb Celda 11\u001b[0m line \u001b[0;36m4\n\u001b[1;32m      <a href='vscode-notebook-cell:/home/milton/Documentos/Khorda/lemus/insta/analisis_coments.ipynb#X13sZmlsZQ%3D%3D?line=1'>2</a>\u001b[0m texto \u001b[39m=\u001b[39m \u001b[39m\"\u001b[39m\u001b[39m \u001b[39m\u001b[39m\"\u001b[39m\u001b[39m.\u001b[39mjoin(all_words)\n\u001b[1;32m      <a href='vscode-notebook-cell:/home/milton/Documentos/Khorda/lemus/insta/analisis_coments.ipynb#X13sZmlsZQ%3D%3D?line=2'>3</a>\u001b[0m \u001b[39m# Crear el objeto WordCloud\u001b[39;00m\n\u001b[0;32m----> <a href='vscode-notebook-cell:/home/milton/Documentos/Khorda/lemus/insta/analisis_coments.ipynb#X13sZmlsZQ%3D%3D?line=3'>4</a>\u001b[0m wordcloud \u001b[39m=\u001b[39m WordCloud(width\u001b[39m=\u001b[39;49m\u001b[39m800\u001b[39;49m, height\u001b[39m=\u001b[39;49m\u001b[39m400\u001b[39;49m, background_color\u001b[39m=\u001b[39;49m\u001b[39m\"\u001b[39;49m\u001b[39mwhite\u001b[39;49m\u001b[39m\"\u001b[39;49m)\u001b[39m.\u001b[39;49mgenerate(texto)\n\u001b[1;32m      <a href='vscode-notebook-cell:/home/milton/Documentos/Khorda/lemus/insta/analisis_coments.ipynb#X13sZmlsZQ%3D%3D?line=4'>5</a>\u001b[0m \u001b[39m# Mostrar la nube de palabras utilizando matplotlib\u001b[39;00m\n\u001b[1;32m      <a href='vscode-notebook-cell:/home/milton/Documentos/Khorda/lemus/insta/analisis_coments.ipynb#X13sZmlsZQ%3D%3D?line=5'>6</a>\u001b[0m plt\u001b[39m.\u001b[39mfigure(figsize\u001b[39m=\u001b[39m(\u001b[39m10\u001b[39m, \u001b[39m5\u001b[39m))\n",
      "File \u001b[0;32m~/.local/lib/python3.10/site-packages/wordcloud/wordcloud.py:639\u001b[0m, in \u001b[0;36mWordCloud.generate\u001b[0;34m(self, text)\u001b[0m\n\u001b[1;32m    624\u001b[0m \u001b[39mdef\u001b[39;00m \u001b[39mgenerate\u001b[39m(\u001b[39mself\u001b[39m, text):\n\u001b[1;32m    625\u001b[0m \u001b[39m    \u001b[39m\u001b[39m\"\"\"Generate wordcloud from text.\u001b[39;00m\n\u001b[1;32m    626\u001b[0m \n\u001b[1;32m    627\u001b[0m \u001b[39m    The input \"text\" is expected to be a natural text. If you pass a sorted\u001b[39;00m\n\u001b[0;32m   (...)\u001b[0m\n\u001b[1;32m    637\u001b[0m \u001b[39m    self\u001b[39;00m\n\u001b[1;32m    638\u001b[0m \u001b[39m    \"\"\"\u001b[39;00m\n\u001b[0;32m--> 639\u001b[0m     \u001b[39mreturn\u001b[39;00m \u001b[39mself\u001b[39;49m\u001b[39m.\u001b[39;49mgenerate_from_text(text)\n",
      "File \u001b[0;32m~/.local/lib/python3.10/site-packages/wordcloud/wordcloud.py:621\u001b[0m, in \u001b[0;36mWordCloud.generate_from_text\u001b[0;34m(self, text)\u001b[0m\n\u001b[1;32m    604\u001b[0m \u001b[39m\u001b[39m\u001b[39m\"\"\"Generate wordcloud from text.\u001b[39;00m\n\u001b[1;32m    605\u001b[0m \n\u001b[1;32m    606\u001b[0m \u001b[39mThe input \"text\" is expected to be a natural text. If you pass a sorted\u001b[39;00m\n\u001b[0;32m   (...)\u001b[0m\n\u001b[1;32m    618\u001b[0m \u001b[39mself\u001b[39;00m\n\u001b[1;32m    619\u001b[0m \u001b[39m\"\"\"\u001b[39;00m\n\u001b[1;32m    620\u001b[0m words \u001b[39m=\u001b[39m \u001b[39mself\u001b[39m\u001b[39m.\u001b[39mprocess_text(text)\n\u001b[0;32m--> 621\u001b[0m \u001b[39mself\u001b[39;49m\u001b[39m.\u001b[39;49mgenerate_from_frequencies(words)\n\u001b[1;32m    622\u001b[0m \u001b[39mreturn\u001b[39;00m \u001b[39mself\u001b[39m\n",
      "File \u001b[0;32m~/.local/lib/python3.10/site-packages/wordcloud/wordcloud.py:453\u001b[0m, in \u001b[0;36mWordCloud.generate_from_frequencies\u001b[0;34m(self, frequencies, max_font_size)\u001b[0m\n\u001b[1;32m    451\u001b[0m     font_size \u001b[39m=\u001b[39m \u001b[39mself\u001b[39m\u001b[39m.\u001b[39mheight\n\u001b[1;32m    452\u001b[0m \u001b[39melse\u001b[39;00m:\n\u001b[0;32m--> 453\u001b[0m     \u001b[39mself\u001b[39;49m\u001b[39m.\u001b[39;49mgenerate_from_frequencies(\u001b[39mdict\u001b[39;49m(frequencies[:\u001b[39m2\u001b[39;49m]),\n\u001b[1;32m    454\u001b[0m                                    max_font_size\u001b[39m=\u001b[39;49m\u001b[39mself\u001b[39;49m\u001b[39m.\u001b[39;49mheight)\n\u001b[1;32m    455\u001b[0m     \u001b[39m# find font sizes\u001b[39;00m\n\u001b[1;32m    456\u001b[0m     sizes \u001b[39m=\u001b[39m [x[\u001b[39m1\u001b[39m] \u001b[39mfor\u001b[39;00m x \u001b[39min\u001b[39;00m \u001b[39mself\u001b[39m\u001b[39m.\u001b[39mlayout_]\n",
      "File \u001b[0;32m~/.local/lib/python3.10/site-packages/wordcloud/wordcloud.py:508\u001b[0m, in \u001b[0;36mWordCloud.generate_from_frequencies\u001b[0;34m(self, frequencies, max_font_size)\u001b[0m\n\u001b[1;32m    505\u001b[0m transposed_font \u001b[39m=\u001b[39m ImageFont\u001b[39m.\u001b[39mTransposedFont(\n\u001b[1;32m    506\u001b[0m     font, orientation\u001b[39m=\u001b[39morientation)\n\u001b[1;32m    507\u001b[0m \u001b[39m# get size of resulting text\u001b[39;00m\n\u001b[0;32m--> 508\u001b[0m box_size \u001b[39m=\u001b[39m draw\u001b[39m.\u001b[39;49mtextbbox((\u001b[39m0\u001b[39;49m, \u001b[39m0\u001b[39;49m), word, font\u001b[39m=\u001b[39;49mtransposed_font, anchor\u001b[39m=\u001b[39;49m\u001b[39m\"\u001b[39;49m\u001b[39mlt\u001b[39;49m\u001b[39m\"\u001b[39;49m)\n\u001b[1;32m    509\u001b[0m \u001b[39m# find possible places using integral image:\u001b[39;00m\n\u001b[1;32m    510\u001b[0m result \u001b[39m=\u001b[39m occupancy\u001b[39m.\u001b[39msample_position(box_size[\u001b[39m3\u001b[39m] \u001b[39m+\u001b[39m \u001b[39mself\u001b[39m\u001b[39m.\u001b[39mmargin,\n\u001b[1;32m    511\u001b[0m                                    box_size[\u001b[39m2\u001b[39m] \u001b[39m+\u001b[39m \u001b[39mself\u001b[39m\u001b[39m.\u001b[39mmargin,\n\u001b[1;32m    512\u001b[0m                                    random_state)\n",
      "File \u001b[0;32m/usr/lib/python3/dist-packages/PIL/ImageDraw.py:671\u001b[0m, in \u001b[0;36mImageDraw.textbbox\u001b[0;34m(self, xy, text, font, anchor, spacing, align, direction, features, language, stroke_width, embedded_color)\u001b[0m\n\u001b[1;32m    669\u001b[0m     font \u001b[39m=\u001b[39m \u001b[39mself\u001b[39m\u001b[39m.\u001b[39mgetfont()\n\u001b[1;32m    670\u001b[0m \u001b[39mif\u001b[39;00m \u001b[39mnot\u001b[39;00m \u001b[39misinstance\u001b[39m(font, ImageFont\u001b[39m.\u001b[39mFreeTypeFont):\n\u001b[0;32m--> 671\u001b[0m     \u001b[39mraise\u001b[39;00m \u001b[39mValueError\u001b[39;00m(\u001b[39m\"\u001b[39m\u001b[39mOnly supported for TrueType fonts\u001b[39m\u001b[39m\"\u001b[39m)\n\u001b[1;32m    672\u001b[0m mode \u001b[39m=\u001b[39m \u001b[39m\"\u001b[39m\u001b[39mRGBA\u001b[39m\u001b[39m\"\u001b[39m \u001b[39mif\u001b[39;00m embedded_color \u001b[39melse\u001b[39;00m \u001b[39mself\u001b[39m\u001b[39m.\u001b[39mfontmode\n\u001b[1;32m    673\u001b[0m bbox \u001b[39m=\u001b[39m font\u001b[39m.\u001b[39mgetbbox(\n\u001b[1;32m    674\u001b[0m     text, mode, direction, features, language, stroke_width, anchor\n\u001b[1;32m    675\u001b[0m )\n",
      "\u001b[0;31mValueError\u001b[0m: Only supported for TrueType fonts"
     ]
    }
   ],
   "source": [
    "# Unir las palabras en un solo texto (separadas por espacios)\n",
    "texto = \" \".join(all_words)\n",
    "# Crear el objeto WordCloud\n",
    "wordcloud = WordCloud(width=800, height=400, background_color=\"white\").generate(texto)\n",
    "# Mostrar la nube de palabras utilizando matplotlib\n",
    "plt.figure(figsize=(10, 5))\n",
    "plt.imshow(wordcloud, interpolation='bilinear')\n",
    "plt.axis('off')  # Desactivar ejes\n",
    "plt.show()"
   ]
  },
  {
   "cell_type": "code",
   "execution_count": 11,
   "metadata": {},
   "outputs": [
    {
     "data": {
      "image/png": "[encoded data removed]",
      "text/plain": [
       "<Figure size 1000x600 with 1 Axes>"
      ]
     },
     "metadata": {},
     "output_type": "display_data"
    }
   ],
   "source": [
    "# Crear el gráfico de barras horizontal\n",
    "plt.figure(figsize=(10, 6))\n",
    "top_words.plot(kind='barh', color='skyblue')\n",
    "plt.xlabel('Frecuencia')\n",
    "plt.ylabel('Palabra')\n",
    "plt.title('Top Palabras y Frecuencias')\n",
    "plt.gca().invert_yaxis()  # Invertir el eje y para mostrar la palabra con la frecuencia más alta en la parte superior\n",
    "plt.show()"
   ]
  },
  {
   "cell_type": "code",
   "execution_count": 12,
   "metadata": {},
   "outputs": [
    {
     "data": {
      "text/html": [
       "<div>\n",
       "<style scoped>\n",
       "    .dataframe tbody tr th:only-of-type {\n",
       "        vertical-align: middle;\n",
       "    }\n",
       "\n",
       "    .dataframe tbody tr th {\n",
       "        vertical-align: top;\n",
       "    }\n",
       "\n",
       "    .dataframe thead th {\n",
       "        text-align: right;\n",
       "    }\n",
       "</style>\n",
       "<table border=\"1\" class=\"dataframe\">\n",
       "  <thead>\n",
       "    <tr style=\"text-align: right;\">\n",
       "      <th></th>\n",
       "      <th>texto</th>\n",
       "      <th>texto_preprocesado</th>\n",
       "    </tr>\n",
       "  </thead>\n",
       "  <tbody>\n",
       "    <tr>\n",
       "      <th>2</th>\n",
       "      <td>buen inicio de semana hoy por la mañana en rep...</td>\n",
       "      <td>[inicio, semana, mañana, representación, alcal...</td>\n",
       "    </tr>\n",
       "    <tr>\n",
       "      <th>6</th>\n",
       "      <td>acompáñanos a la inauguración de la segunda ed...</td>\n",
       "      <td>[acompáñano, inauguración, edición, sorprender...</td>\n",
       "    </tr>\n",
       "    <tr>\n",
       "      <th>10</th>\n",
       "      <td>quién mejor para hablar de ciudades que los mi...</td>\n",
       "      <td>[hablar, ciudad, alcalde, año, recibir, ada, c...</td>\n",
       "    </tr>\n",
       "    <tr>\n",
       "      <th>26</th>\n",
       "      <td>conocida como desde vista aérea de fondo y la ...</td>\n",
       "      <td>[conocido, vista, aéreo, fondo, construcción, ...</td>\n",
       "    </tr>\n",
       "    <tr>\n",
       "      <th>32</th>\n",
       "      <td>a través de la queremos devolver a institucion...</td>\n",
       "      <td>[devolver, institucionalidad, año, coordinació...</td>\n",
       "    </tr>\n",
       "    <tr>\n",
       "      <th>...</th>\n",
       "      <td>...</td>\n",
       "      <td>...</td>\n",
       "    </tr>\n",
       "    <tr>\n",
       "      <th>610</th>\n",
       "      <td>les gusta el pulque pues tienen que probar est...</td>\n",
       "      <td>[gustar, pulque, probar, bebida, ancestral, pu...</td>\n",
       "    </tr>\n",
       "    <tr>\n",
       "      <th>616</th>\n",
       "      <td>con la piel chinita gracias por esta emotiva y...</td>\n",
       "      <td>[piel, chinitar, gracias, emotiva, especial, n...</td>\n",
       "    </tr>\n",
       "    <tr>\n",
       "      <th>619</th>\n",
       "      <td>viva méxico hoy en este día lleno de alegría y...</td>\n",
       "      <td>[vivo, méxico, lleno, alegría, emoción, celebr...</td>\n",
       "    </tr>\n",
       "    <tr>\n",
       "      <th>622</th>\n",
       "      <td>así se siente méxico diadelaindependencia</td>\n",
       "      <td>[sentir, méxico, diadelaindependencia]</td>\n",
       "    </tr>\n",
       "    <tr>\n",
       "      <th>625</th>\n",
       "      <td>viva zapopan viva jalisco y viva méxico celebr...</td>\n",
       "      <td>[vivo, zapopar, vivo, jalisco, vivo, méxico, c...</td>\n",
       "    </tr>\n",
       "  </tbody>\n",
       "</table>\n",
       "<p>146 rows × 2 columns</p>\n",
       "</div>"
      ],
      "text/plain": [
       "                                                 texto  \\\n",
       "2    buen inicio de semana hoy por la mañana en rep...   \n",
       "6    acompáñanos a la inauguración de la segunda ed...   \n",
       "10   quién mejor para hablar de ciudades que los mi...   \n",
       "26   conocida como desde vista aérea de fondo y la ...   \n",
       "32   a través de la queremos devolver a institucion...   \n",
       "..                                                 ...   \n",
       "610  les gusta el pulque pues tienen que probar est...   \n",
       "616  con la piel chinita gracias por esta emotiva y...   \n",
       "619  viva méxico hoy en este día lleno de alegría y...   \n",
       "622          así se siente méxico diadelaindependencia   \n",
       "625  viva zapopan viva jalisco y viva méxico celebr...   \n",
       "\n",
       "                                    texto_preprocesado  \n",
       "2    [inicio, semana, mañana, representación, alcal...  \n",
       "6    [acompáñano, inauguración, edición, sorprender...  \n",
       "10   [hablar, ciudad, alcalde, año, recibir, ada, c...  \n",
       "26   [conocido, vista, aéreo, fondo, construcción, ...  \n",
       "32   [devolver, institucionalidad, año, coordinació...  \n",
       "..                                                 ...  \n",
       "610  [gustar, pulque, probar, bebida, ancestral, pu...  \n",
       "616  [piel, chinitar, gracias, emotiva, especial, n...  \n",
       "619  [vivo, méxico, lleno, alegría, emoción, celebr...  \n",
       "622             [sentir, méxico, diadelaindependencia]  \n",
       "625  [vivo, zapopar, vivo, jalisco, vivo, méxico, c...  \n",
       "\n",
       "[146 rows x 2 columns]"
      ]
     },
     "execution_count": 12,
     "metadata": {},
     "output_type": "execute_result"
    }
   ],
   "source": [
    "import spacy\n",
    "\n",
    "nlp = spacy.load(\"es_core_news_sm\")\n",
    "\n",
    "# Función para preprocesar el texto\n",
    "def preprocess_text(text):\n",
    "    doc = nlp(text)\n",
    "    return [token.lemma_ for token in doc if not token.is_stop and token.is_alpha]\n",
    "\n",
    "# Aplicar el preprocesamiento a cada fila del DataFrame\n",
    "df_coments_clean['texto_preprocesado'] = df_coments_clean['texto'].apply(preprocess_text)\n",
    "df_coments_clean"
   ]
  },
  {
   "cell_type": "code",
   "execution_count": 13,
   "metadata": {},
   "outputs": [
    {
     "data": {
      "text/html": [
       "<div>\n",
       "<style scoped>\n",
       "    .dataframe tbody tr th:only-of-type {\n",
       "        vertical-align: middle;\n",
       "    }\n",
       "\n",
       "    .dataframe tbody tr th {\n",
       "        vertical-align: top;\n",
       "    }\n",
       "\n",
       "    .dataframe thead th {\n",
       "        text-align: right;\n",
       "    }\n",
       "</style>\n",
       "<table border=\"1\" class=\"dataframe\">\n",
       "  <thead>\n",
       "    <tr style=\"text-align: right;\">\n",
       "      <th></th>\n",
       "      <th>texto</th>\n",
       "      <th>texto_preprocesado</th>\n",
       "      <th>bigramas_spacy</th>\n",
       "      <th>bigramas_nltk</th>\n",
       "    </tr>\n",
       "  </thead>\n",
       "  <tbody>\n",
       "    <tr>\n",
       "      <th>2</th>\n",
       "      <td>buen inicio de semana hoy por la mañana en rep...</td>\n",
       "      <td>[inicio, semana, mañana, representación, alcal...</td>\n",
       "      <td>[(buen, inicio), (inicio, de), (de, semana), (...</td>\n",
       "      <td>[(buen, inicio), (inicio, de), (de, semana), (...</td>\n",
       "    </tr>\n",
       "    <tr>\n",
       "      <th>6</th>\n",
       "      <td>acompáñanos a la inauguración de la segunda ed...</td>\n",
       "      <td>[acompáñano, inauguración, edición, sorprender...</td>\n",
       "      <td>[(acompáñanos, a), (a, la), (la, inauguración)...</td>\n",
       "      <td>[(acompáñanos, a), (a, la), (la, inauguración)...</td>\n",
       "    </tr>\n",
       "    <tr>\n",
       "      <th>10</th>\n",
       "      <td>quién mejor para hablar de ciudades que los mi...</td>\n",
       "      <td>[hablar, ciudad, alcalde, año, recibir, ada, c...</td>\n",
       "      <td>[(quién, mejor), (mejor, para), (para, hablar)...</td>\n",
       "      <td>[(quién, mejor), (mejor, para), (para, hablar)...</td>\n",
       "    </tr>\n",
       "    <tr>\n",
       "      <th>26</th>\n",
       "      <td>conocida como desde vista aérea de fondo y la ...</td>\n",
       "      <td>[conocido, vista, aéreo, fondo, construcción, ...</td>\n",
       "      <td>[(conocida, como), (como, desde), (desde, vist...</td>\n",
       "      <td>[(conocida, como), (como, desde), (desde, vist...</td>\n",
       "    </tr>\n",
       "    <tr>\n",
       "      <th>32</th>\n",
       "      <td>a través de la queremos devolver a institucion...</td>\n",
       "      <td>[devolver, institucionalidad, año, coordinació...</td>\n",
       "      <td>[(a, través), (través, de), (de, la), (la, que...</td>\n",
       "      <td>[(a, través), (través, de), (de, la), (la, que...</td>\n",
       "    </tr>\n",
       "    <tr>\n",
       "      <th>...</th>\n",
       "      <td>...</td>\n",
       "      <td>...</td>\n",
       "      <td>...</td>\n",
       "      <td>...</td>\n",
       "    </tr>\n",
       "    <tr>\n",
       "      <th>610</th>\n",
       "      <td>les gusta el pulque pues tienen que probar est...</td>\n",
       "      <td>[gustar, pulque, probar, bebida, ancestral, pu...</td>\n",
       "      <td>[(les, gusta), (gusta, el), (el, pulque), (pul...</td>\n",
       "      <td>[(les, gusta), (gusta, el), (el, pulque), (pul...</td>\n",
       "    </tr>\n",
       "    <tr>\n",
       "      <th>616</th>\n",
       "      <td>con la piel chinita gracias por esta emotiva y...</td>\n",
       "      <td>[piel, chinitar, gracias, emotiva, especial, n...</td>\n",
       "      <td>[(con, la), (la, piel), (piel, chinita), (chin...</td>\n",
       "      <td>[(con, la), (la, piel), (piel, chinita), (chin...</td>\n",
       "    </tr>\n",
       "    <tr>\n",
       "      <th>619</th>\n",
       "      <td>viva méxico hoy en este día lleno de alegría y...</td>\n",
       "      <td>[vivo, méxico, lleno, alegría, emoción, celebr...</td>\n",
       "      <td>[(viva, méxico), (méxico, hoy), (hoy, en), (en...</td>\n",
       "      <td>[(viva, méxico), (méxico, hoy), (hoy, en), (en...</td>\n",
       "    </tr>\n",
       "    <tr>\n",
       "      <th>622</th>\n",
       "      <td>así se siente méxico diadelaindependencia</td>\n",
       "      <td>[sentir, méxico, diadelaindependencia]</td>\n",
       "      <td>[(así, se), (se, siente), (siente, méxico), (m...</td>\n",
       "      <td>[(así, se), (se, siente), (siente, méxico), (m...</td>\n",
       "    </tr>\n",
       "    <tr>\n",
       "      <th>625</th>\n",
       "      <td>viva zapopan viva jalisco y viva méxico celebr...</td>\n",
       "      <td>[vivo, zapopar, vivo, jalisco, vivo, méxico, c...</td>\n",
       "      <td>[(viva, zapopan), (zapopan, viva), (viva, jali...</td>\n",
       "      <td>[(viva, zapopan), (zapopan, viva), (viva, jali...</td>\n",
       "    </tr>\n",
       "  </tbody>\n",
       "</table>\n",
       "<p>146 rows × 4 columns</p>\n",
       "</div>"
      ],
      "text/plain": [
       "                                                 texto  \\\n",
       "2    buen inicio de semana hoy por la mañana en rep...   \n",
       "6    acompáñanos a la inauguración de la segunda ed...   \n",
       "10   quién mejor para hablar de ciudades que los mi...   \n",
       "26   conocida como desde vista aérea de fondo y la ...   \n",
       "32   a través de la queremos devolver a institucion...   \n",
       "..                                                 ...   \n",
       "610  les gusta el pulque pues tienen que probar est...   \n",
       "616  con la piel chinita gracias por esta emotiva y...   \n",
       "619  viva méxico hoy en este día lleno de alegría y...   \n",
       "622          así se siente méxico diadelaindependencia   \n",
       "625  viva zapopan viva jalisco y viva méxico celebr...   \n",
       "\n",
       "                                    texto_preprocesado  \\\n",
       "2    [inicio, semana, mañana, representación, alcal...   \n",
       "6    [acompáñano, inauguración, edición, sorprender...   \n",
       "10   [hablar, ciudad, alcalde, año, recibir, ada, c...   \n",
       "26   [conocido, vista, aéreo, fondo, construcción, ...   \n",
       "32   [devolver, institucionalidad, año, coordinació...   \n",
       "..                                                 ...   \n",
       "610  [gustar, pulque, probar, bebida, ancestral, pu...   \n",
       "616  [piel, chinitar, gracias, emotiva, especial, n...   \n",
       "619  [vivo, méxico, lleno, alegría, emoción, celebr...   \n",
       "622             [sentir, méxico, diadelaindependencia]   \n",
       "625  [vivo, zapopar, vivo, jalisco, vivo, méxico, c...   \n",
       "\n",
       "                                        bigramas_spacy  \\\n",
       "2    [(buen, inicio), (inicio, de), (de, semana), (...   \n",
       "6    [(acompáñanos, a), (a, la), (la, inauguración)...   \n",
       "10   [(quién, mejor), (mejor, para), (para, hablar)...   \n",
       "26   [(conocida, como), (como, desde), (desde, vist...   \n",
       "32   [(a, través), (través, de), (de, la), (la, que...   \n",
       "..                                                 ...   \n",
       "610  [(les, gusta), (gusta, el), (el, pulque), (pul...   \n",
       "616  [(con, la), (la, piel), (piel, chinita), (chin...   \n",
       "619  [(viva, méxico), (méxico, hoy), (hoy, en), (en...   \n",
       "622  [(así, se), (se, siente), (siente, méxico), (m...   \n",
       "625  [(viva, zapopan), (zapopan, viva), (viva, jali...   \n",
       "\n",
       "                                         bigramas_nltk  \n",
       "2    [(buen, inicio), (inicio, de), (de, semana), (...  \n",
       "6    [(acompáñanos, a), (a, la), (la, inauguración)...  \n",
       "10   [(quién, mejor), (mejor, para), (para, hablar)...  \n",
       "26   [(conocida, como), (como, desde), (desde, vist...  \n",
       "32   [(a, través), (través, de), (de, la), (la, que...  \n",
       "..                                                 ...  \n",
       "610  [(les, gusta), (gusta, el), (el, pulque), (pul...  \n",
       "616  [(con, la), (la, piel), (piel, chinita), (chin...  \n",
       "619  [(viva, méxico), (méxico, hoy), (hoy, en), (en...  \n",
       "622  [(así, se), (se, siente), (siente, méxico), (m...  \n",
       "625  [(viva, zapopan), (zapopan, viva), (viva, jali...  \n",
       "\n",
       "[146 rows x 4 columns]"
      ]
     },
     "execution_count": 13,
     "metadata": {},
     "output_type": "execute_result"
    }
   ],
   "source": [
    "import networkx as nx\n",
    "from gensim import corpora\n",
    "from nltk.util import ngrams\n",
    "from nltk.tokenize import word_tokenize\n",
    "\n",
    "# Generación de bigramas con spaCy\n",
    "nlp = spacy.load(\"es_core_news_sm\")\n",
    "\n",
    "def generar_bigramas_spacy(texto):\n",
    "    doc = nlp(texto)\n",
    "    bigramas = [(doc[i].text, doc[i + 1].text) for i in range(len(doc) - 1)]\n",
    "    return bigramas\n",
    "\n",
    "df_coments_clean['bigramas_spacy'] = df_coments_clean['texto'].apply(generar_bigramas_spacy)\n",
    "\n",
    "# Generación de bigramas con NLTK\n",
    "def generar_bigramas_nltk(texto):\n",
    "    tokens = word_tokenize(texto)\n",
    "    bigramas = list(ngrams(tokens, 2))\n",
    "    return bigramas\n",
    "\n",
    "df_coments_clean['bigramas_nltk'] = df_coments_clean['texto'].apply(generar_bigramas_nltk)\n",
    "\n",
    "# Visualización del DataFrame resultante\n",
    "df_coments_clean\n"
   ]
  },
  {
   "cell_type": "code",
   "execution_count": 15,
   "metadata": {},
   "outputs": [
    {
     "data": {
      "text/html": [
       "<div>\n",
       "<style scoped>\n",
       "    .dataframe tbody tr th:only-of-type {\n",
       "        vertical-align: middle;\n",
       "    }\n",
       "\n",
       "    .dataframe tbody tr th {\n",
       "        vertical-align: top;\n",
       "    }\n",
       "\n",
       "    .dataframe thead th {\n",
       "        text-align: right;\n",
       "    }\n",
       "</style>\n",
       "<table border=\"1\" class=\"dataframe\">\n",
       "  <thead>\n",
       "    <tr style=\"text-align: right;\">\n",
       "      <th></th>\n",
       "      <th>texto</th>\n",
       "      <th>texto_preprocesado</th>\n",
       "      <th>bigramas_spacy</th>\n",
       "      <th>bigramas_nltk</th>\n",
       "      <th>texto_lematizado</th>\n",
       "    </tr>\n",
       "  </thead>\n",
       "  <tbody>\n",
       "    <tr>\n",
       "      <th>2</th>\n",
       "      <td>buen inicio de semana hoy por la mañana en rep...</td>\n",
       "      <td>[inicio, semana, mañana, representación, alcal...</td>\n",
       "      <td>[(buen, inicio), (inicio, de), (de, semana), (...</td>\n",
       "      <td>[(buen, inicio), (inicio, de), (de, semana), (...</td>\n",
       "      <td>buen inicio de semana hoy por el mañana en rep...</td>\n",
       "    </tr>\n",
       "    <tr>\n",
       "      <th>6</th>\n",
       "      <td>acompáñanos a la inauguración de la segunda ed...</td>\n",
       "      <td>[acompáñano, inauguración, edición, sorprender...</td>\n",
       "      <td>[(acompáñanos, a), (a, la), (la, inauguración)...</td>\n",
       "      <td>[(acompáñanos, a), (a, la), (la, inauguración)...</td>\n",
       "      <td>acompáñano a el inauguración de el segundo edi...</td>\n",
       "    </tr>\n",
       "    <tr>\n",
       "      <th>10</th>\n",
       "      <td>quién mejor para hablar de ciudades que los mi...</td>\n",
       "      <td>[hablar, ciudad, alcalde, año, recibir, ada, c...</td>\n",
       "      <td>[(quién, mejor), (mejor, para), (para, hablar)...</td>\n",
       "      <td>[(quién, mejor), (mejor, para), (para, hablar)...</td>\n",
       "      <td>quién mejor para hablar de ciudad que el mismo...</td>\n",
       "    </tr>\n",
       "    <tr>\n",
       "      <th>26</th>\n",
       "      <td>conocida como desde vista aérea de fondo y la ...</td>\n",
       "      <td>[conocido, vista, aéreo, fondo, construcción, ...</td>\n",
       "      <td>[(conocida, como), (como, desde), (desde, vist...</td>\n",
       "      <td>[(conocida, como), (como, desde), (desde, vist...</td>\n",
       "      <td>conocido como desde vista aéreo de fondo y el ...</td>\n",
       "    </tr>\n",
       "    <tr>\n",
       "      <th>32</th>\n",
       "      <td>a través de la queremos devolver a institucion...</td>\n",
       "      <td>[devolver, institucionalidad, año, coordinació...</td>\n",
       "      <td>[(a, través), (través, de), (de, la), (la, que...</td>\n",
       "      <td>[(a, través), (través, de), (de, la), (la, que...</td>\n",
       "      <td>a través de él querer devolver a institucional...</td>\n",
       "    </tr>\n",
       "    <tr>\n",
       "      <th>...</th>\n",
       "      <td>...</td>\n",
       "      <td>...</td>\n",
       "      <td>...</td>\n",
       "      <td>...</td>\n",
       "      <td>...</td>\n",
       "    </tr>\n",
       "    <tr>\n",
       "      <th>610</th>\n",
       "      <td>les gusta el pulque pues tienen que probar est...</td>\n",
       "      <td>[gustar, pulque, probar, bebida, ancestral, pu...</td>\n",
       "      <td>[(les, gusta), (gusta, el), (el, pulque), (pul...</td>\n",
       "      <td>[(les, gusta), (gusta, el), (el, pulque), (pul...</td>\n",
       "      <td>él gustar el pulque pues tener que probar este...</td>\n",
       "    </tr>\n",
       "    <tr>\n",
       "      <th>616</th>\n",
       "      <td>con la piel chinita gracias por esta emotiva y...</td>\n",
       "      <td>[piel, chinitar, gracias, emotiva, especial, n...</td>\n",
       "      <td>[(con, la), (la, piel), (piel, chinita), (chin...</td>\n",
       "      <td>[(con, la), (la, piel), (piel, chinita), (chin...</td>\n",
       "      <td>con el piel chinitar gracias por este emotiva ...</td>\n",
       "    </tr>\n",
       "    <tr>\n",
       "      <th>619</th>\n",
       "      <td>viva méxico hoy en este día lleno de alegría y...</td>\n",
       "      <td>[vivo, méxico, lleno, alegría, emoción, celebr...</td>\n",
       "      <td>[(viva, méxico), (méxico, hoy), (hoy, en), (en...</td>\n",
       "      <td>[(viva, méxico), (méxico, hoy), (hoy, en), (en...</td>\n",
       "      <td>vivo méxico hoy en este día lleno de alegría y...</td>\n",
       "    </tr>\n",
       "    <tr>\n",
       "      <th>622</th>\n",
       "      <td>así se siente méxico diadelaindependencia</td>\n",
       "      <td>[sentir, méxico, diadelaindependencia]</td>\n",
       "      <td>[(así, se), (se, siente), (siente, méxico), (m...</td>\n",
       "      <td>[(así, se), (se, siente), (siente, méxico), (m...</td>\n",
       "      <td>así él sentir méxico diadelaindependencia</td>\n",
       "    </tr>\n",
       "    <tr>\n",
       "      <th>625</th>\n",
       "      <td>viva zapopan viva jalisco y viva méxico celebr...</td>\n",
       "      <td>[vivo, zapopar, vivo, jalisco, vivo, méxico, c...</td>\n",
       "      <td>[(viva, zapopan), (zapopan, viva), (viva, jali...</td>\n",
       "      <td>[(viva, zapopan), (zapopan, viva), (viva, jali...</td>\n",
       "      <td>vivo zapopar vivo jalisco y vivo méxico celebr...</td>\n",
       "    </tr>\n",
       "  </tbody>\n",
       "</table>\n",
       "<p>146 rows × 5 columns</p>\n",
       "</div>"
      ],
      "text/plain": [
       "                                                 texto  \\\n",
       "2    buen inicio de semana hoy por la mañana en rep...   \n",
       "6    acompáñanos a la inauguración de la segunda ed...   \n",
       "10   quién mejor para hablar de ciudades que los mi...   \n",
       "26   conocida como desde vista aérea de fondo y la ...   \n",
       "32   a través de la queremos devolver a institucion...   \n",
       "..                                                 ...   \n",
       "610  les gusta el pulque pues tienen que probar est...   \n",
       "616  con la piel chinita gracias por esta emotiva y...   \n",
       "619  viva méxico hoy en este día lleno de alegría y...   \n",
       "622          así se siente méxico diadelaindependencia   \n",
       "625  viva zapopan viva jalisco y viva méxico celebr...   \n",
       "\n",
       "                                    texto_preprocesado  \\\n",
       "2    [inicio, semana, mañana, representación, alcal...   \n",
       "6    [acompáñano, inauguración, edición, sorprender...   \n",
       "10   [hablar, ciudad, alcalde, año, recibir, ada, c...   \n",
       "26   [conocido, vista, aéreo, fondo, construcción, ...   \n",
       "32   [devolver, institucionalidad, año, coordinació...   \n",
       "..                                                 ...   \n",
       "610  [gustar, pulque, probar, bebida, ancestral, pu...   \n",
       "616  [piel, chinitar, gracias, emotiva, especial, n...   \n",
       "619  [vivo, méxico, lleno, alegría, emoción, celebr...   \n",
       "622             [sentir, méxico, diadelaindependencia]   \n",
       "625  [vivo, zapopar, vivo, jalisco, vivo, méxico, c...   \n",
       "\n",
       "                                        bigramas_spacy  \\\n",
       "2    [(buen, inicio), (inicio, de), (de, semana), (...   \n",
       "6    [(acompáñanos, a), (a, la), (la, inauguración)...   \n",
       "10   [(quién, mejor), (mejor, para), (para, hablar)...   \n",
       "26   [(conocida, como), (como, desde), (desde, vist...   \n",
       "32   [(a, través), (través, de), (de, la), (la, que...   \n",
       "..                                                 ...   \n",
       "610  [(les, gusta), (gusta, el), (el, pulque), (pul...   \n",
       "616  [(con, la), (la, piel), (piel, chinita), (chin...   \n",
       "619  [(viva, méxico), (méxico, hoy), (hoy, en), (en...   \n",
       "622  [(así, se), (se, siente), (siente, méxico), (m...   \n",
       "625  [(viva, zapopan), (zapopan, viva), (viva, jali...   \n",
       "\n",
       "                                         bigramas_nltk  \\\n",
       "2    [(buen, inicio), (inicio, de), (de, semana), (...   \n",
       "6    [(acompáñanos, a), (a, la), (la, inauguración)...   \n",
       "10   [(quién, mejor), (mejor, para), (para, hablar)...   \n",
       "26   [(conocida, como), (como, desde), (desde, vist...   \n",
       "32   [(a, través), (través, de), (de, la), (la, que...   \n",
       "..                                                 ...   \n",
       "610  [(les, gusta), (gusta, el), (el, pulque), (pul...   \n",
       "616  [(con, la), (la, piel), (piel, chinita), (chin...   \n",
       "619  [(viva, méxico), (méxico, hoy), (hoy, en), (en...   \n",
       "622  [(así, se), (se, siente), (siente, méxico), (m...   \n",
       "625  [(viva, zapopan), (zapopan, viva), (viva, jali...   \n",
       "\n",
       "                                      texto_lematizado  \n",
       "2    buen inicio de semana hoy por el mañana en rep...  \n",
       "6    acompáñano a el inauguración de el segundo edi...  \n",
       "10   quién mejor para hablar de ciudad que el mismo...  \n",
       "26   conocido como desde vista aéreo de fondo y el ...  \n",
       "32   a través de él querer devolver a institucional...  \n",
       "..                                                 ...  \n",
       "610  él gustar el pulque pues tener que probar este...  \n",
       "616  con el piel chinitar gracias por este emotiva ...  \n",
       "619  vivo méxico hoy en este día lleno de alegría y...  \n",
       "622          así él sentir méxico diadelaindependencia  \n",
       "625  vivo zapopar vivo jalisco y vivo méxico celebr...  \n",
       "\n",
       "[146 rows x 5 columns]"
      ]
     },
     "execution_count": 15,
     "metadata": {},
     "output_type": "execute_result"
    }
   ],
   "source": [
    "# Cargar el modelo de spaCy en español\n",
    "nlp = spacy.load(\"es_core_news_sm\")\n",
    "\n",
    "# Función para lematizar el texto\n",
    "def lematizar_texto(texto):\n",
    "    doc = nlp(texto)\n",
    "    lemas = [token.lemma_ for token in doc]\n",
    "    return \" \".join(lemas)\n",
    "\n",
    "# Aplicar la función de lematización a cada fila del DataFrame\n",
    "df_coments_clean['texto_lematizado'] = df_coments_clean['texto'].apply(lematizar_texto)\n",
    "\n",
    "# Visualización del DataFrame resultante\n",
    "df_coments_clean"
   ]
  },
  {
   "cell_type": "code",
   "execution_count": 16,
   "metadata": {},
   "outputs": [
    {
     "name": "stdout",
     "output_type": "stream",
     "text": [
      "(0, '0.014*\"guadalajara\" + 0.010*\"jalisco\" + 0.007*\"buenasacción\" + 0.006*\"seguir\" + 0.006*\"espacio\" + 0.005*\"proyecto\" + 0.005*\"familia\" + 0.005*\"tapatío\" + 0.005*\"servicio\" + 0.005*\"atención\"')\n",
      "(1, '0.013*\"guadalajara\" + 0.009*\"persona\" + 0.009*\"seguir\" + 0.007*\"calle\" + 0.007*\"vivir\" + 0.006*\"niño\" + 0.006*\"niña\" + 0.005*\"centro\" + 0.005*\"mil\" + 0.005*\"tapatir\"')\n",
      "(2, '0.023*\"mercado\" + 0.009*\"espacio\" + 0.009*\"guadalajara\" + 0.007*\"administración\" + 0.007*\"centro\" + 0.006*\"municipal\" + 0.006*\"rehabilitación\" + 0.005*\"ciudad\" + 0.005*\"programa\" + 0.005*\"tapatío\"')\n",
      "(3, '0.006*\"centro\" + 0.006*\"atención\" + 0.006*\"seguir\" + 0.006*\"guadalajara\" + 0.005*\"talento\" + 0.005*\"lugar\" + 0.005*\"persona\" + 0.004*\"esperar\" + 0.004*\"programa\" + 0.004*\"niño\"')\n",
      "(4, '0.015*\"guadalajara\" + 0.006*\"ciudad\" + 0.006*\"vivo\" + 0.006*\"municipal\" + 0.006*\"presidente\" + 0.005*\"desarrollo\" + 0.005*\"lemus\" + 0.004*\"trabajar\" + 0.004*\"querer\" + 0.004*\"jalisco\"')\n"
     ]
    }
   ],
   "source": [
    "# Aplicar el preprocesamiento a cada fila del DataFrame\n",
    "df_coments_clean['texto_preprocesado'] = df_coments_clean['texto_lematizado'].apply(preprocess_text)\n",
    "\n",
    "# Crear un diccionario a partir de los documentos preprocesados\n",
    "dictionary = corpora.Dictionary(df_coments_clean['texto_preprocesado'])\n",
    "\n",
    "# Crear una representación BoW de los documentos\n",
    "corpus = [dictionary.doc2bow(texto) for texto in df_coments_clean['texto_preprocesado']]\n",
    "\n",
    "num_topics = 5  # Ajusta el número de tópicos según tus necesidades\n",
    "lda_model = LdaModel(corpus, num_topics=num_topics, id2word=dictionary, passes=15)\n",
    "\n",
    "# Obtener los temas y sus palabras clave\n",
    "topics = lda_model.print_topics(num_words=10)\n",
    "\n",
    "# Mostrar los temas y sus palabras clave\n",
    "for topic in topics:\n",
    "    print(topic)"
   ]
  },
  {
   "cell_type": "code",
   "execution_count": 17,
   "metadata": {},
   "outputs": [
    {
     "data": {
      "image/png": "[encoded data removed]",
      "text/plain": [
       "<Figure size 1000x800 with 1 Axes>"
      ]
     },
     "metadata": {},
     "output_type": "display_data"
    }
   ],
   "source": [
    "# Crear un grafo de red\n",
    "G = nx.Graph()\n",
    "\n",
    "# Procesar los tópicos y sus palabras clave para identificar asociaciones\n",
    "for topic_id, topic_words in topics:\n",
    "    # Dividir las palabras clave en términos individuales\n",
    "    terms = [term.split('*')[1].strip('\"') for term in topic_words.split(' + ')]\n",
    "    \n",
    "    # Agregar una arista entre todos los términos del tópico\n",
    "    for i in range(len(terms)):\n",
    "        for j in range(i + 1, len(terms)):\n",
    "            term1, term2 = terms[i], terms[j]\n",
    "            G.add_edge(term1, term2, topic=topic_id)\n",
    "\n",
    "# Dibujar el gráfico de red\n",
    "pos = nx.spring_layout(G, k=0.3, iterations=50)\n",
    "plt.figure(figsize=(10, 8))\n",
    "nx.draw(G, pos, with_labels=True, font_size=10, node_size=3000, node_color='maroon', font_color='gray')\n",
    "\n",
    "# Mostrar el gráfico de red\n",
    "plt.title('Asociación de Términos entre Tópicos')\n",
    "# Guardar la figura como una imagen\n",
    "plt.savefig('topicos.png', bbox_inches='tight', dpi=300)\n",
    "plt.show()"
   ]
  },
  {
   "cell_type": "code",
   "execution_count": 18,
   "metadata": {},
   "outputs": [
    {
     "data": {
      "application/vnd.plotly.v1+json": {
       "config": {
        "plotlyServerURL": "https://plotly.com"
       },
       "data": [
        {
         "hoverinfo": "none",
         "line": {
          "color": "#888",
          "width": 0.5
         },
         "mode": "lines",
         "type": "scatter",
         "x": [
          0.027655263391899568,
          -0.3211631792455774,
          null,
          0.027655263391899568,
          0.04606600146553367,
          null,
          0.027655263391899568,
          0.37132645767768246,
          null,
          0.027655263391899568,
          -0.17720831058997782,
          null,
          0.027655263391899568,
          -0.29435781051300697,
          null,
          0.027655263391899568,
          -0.13071032068701555,
          null,
          0.027655263391899568,
          -0.2579419896592247,
          null,
          0.027655263391899568,
          0.19311051898434575,
          null,
          0.027655263391899568,
          0.16319072870583146,
          null,
          0.027655263391899568,
          0.6764370509361664,
          null,
          0.027655263391899568,
          0.9399533495889874,
          null,
          0.027655263391899568,
          0.8138179307941122,
          null,
          0.027655263391899568,
          0.6129999806357581,
          null,
          0.027655263391899568,
          0.9516113134440657,
          null,
          0.027655263391899568,
          0.23183069772946435,
          null,
          0.027655263391899568,
          1,
          null,
          0.027655263391899568,
          0.7812334991890029,
          null,
          0.027655263391899568,
          -0.5319782005653562,
          null,
          0.027655263391899568,
          -0.5905843652348728,
          null,
          0.027655263391899568,
          -0.61345175675372,
          null,
          0.027655263391899568,
          -0.3767765336716555,
          null,
          0.027655263391899568,
          -0.5182314481274278,
          null,
          0.027655263391899568,
          -0.027228325251564368,
          null,
          0.027655263391899568,
          0.5383833830431205,
          null,
          0.027655263391899568,
          0.4238804880573223,
          null,
          0.027655263391899568,
          0.2646979035314337,
          null,
          0.027655263391899568,
          -0.7567209299579366,
          null,
          0.027655263391899568,
          -0.6599870880784298,
          null,
          0.027655263391899568,
          -0.8757584358376117,
          null,
          0.027655263391899568,
          -0.8777185072788986,
          null,
          0.027655263391899568,
          -0.4416027605183451,
          null,
          0.027655263391899568,
          -0.5847746052041043,
          null,
          -0.3211631792455774,
          0.04606600146553367,
          null,
          -0.3211631792455774,
          0.37132645767768246,
          null,
          -0.3211631792455774,
          -0.17720831058997782,
          null,
          -0.3211631792455774,
          -0.29435781051300697,
          null,
          -0.3211631792455774,
          -0.13071032068701555,
          null,
          -0.3211631792455774,
          -0.2579419896592247,
          null,
          -0.3211631792455774,
          0.19311051898434575,
          null,
          -0.3211631792455774,
          0.16319072870583146,
          null,
          -0.3211631792455774,
          -0.5182314481274278,
          null,
          -0.3211631792455774,
          -0.7567209299579366,
          null,
          -0.3211631792455774,
          -0.61345175675372,
          null,
          -0.3211631792455774,
          -0.6599870880784298,
          null,
          -0.3211631792455774,
          -0.8757584358376117,
          null,
          -0.3211631792455774,
          -0.8777185072788986,
          null,
          -0.3211631792455774,
          -0.4416027605183451,
          null,
          -0.3211631792455774,
          -0.5847746052041043,
          null,
          0.04606600146553367,
          0.37132645767768246,
          null,
          0.04606600146553367,
          -0.17720831058997782,
          null,
          0.04606600146553367,
          -0.29435781051300697,
          null,
          0.04606600146553367,
          -0.13071032068701555,
          null,
          0.04606600146553367,
          -0.2579419896592247,
          null,
          0.04606600146553367,
          0.19311051898434575,
          null,
          0.04606600146553367,
          0.16319072870583146,
          null,
          0.37132645767768246,
          -0.17720831058997782,
          null,
          0.37132645767768246,
          -0.29435781051300697,
          null,
          0.37132645767768246,
          -0.13071032068701555,
          null,
          0.37132645767768246,
          -0.2579419896592247,
          null,
          0.37132645767768246,
          0.19311051898434575,
          null,
          0.37132645767768246,
          0.16319072870583146,
          null,
          0.37132645767768246,
          0.6764370509361664,
          null,
          0.37132645767768246,
          0.9399533495889874,
          null,
          0.37132645767768246,
          0.8138179307941122,
          null,
          0.37132645767768246,
          0.6129999806357581,
          null,
          0.37132645767768246,
          0.9516113134440657,
          null,
          0.37132645767768246,
          0.23183069772946435,
          null,
          0.37132645767768246,
          1,
          null,
          0.37132645767768246,
          0.7812334991890029,
          null,
          0.37132645767768246,
          0.5383833830431205,
          null,
          0.37132645767768246,
          0.4238804880573223,
          null,
          0.37132645767768246,
          0.2646979035314337,
          null,
          0.37132645767768246,
          -0.027228325251564368,
          null,
          -0.17720831058997782,
          -0.29435781051300697,
          null,
          -0.17720831058997782,
          -0.13071032068701555,
          null,
          -0.17720831058997782,
          -0.2579419896592247,
          null,
          -0.17720831058997782,
          0.19311051898434575,
          null,
          -0.17720831058997782,
          0.16319072870583146,
          null,
          -0.17720831058997782,
          -0.5319782005653562,
          null,
          -0.17720831058997782,
          -0.5905843652348728,
          null,
          -0.17720831058997782,
          0.23183069772946435,
          null,
          -0.17720831058997782,
          -0.61345175675372,
          null,
          -0.17720831058997782,
          -0.3767765336716555,
          null,
          -0.17720831058997782,
          -0.5182314481274278,
          null,
          -0.17720831058997782,
          -0.027228325251564368,
          null,
          -0.29435781051300697,
          -0.13071032068701555,
          null,
          -0.29435781051300697,
          -0.2579419896592247,
          null,
          -0.29435781051300697,
          0.19311051898434575,
          null,
          -0.29435781051300697,
          0.16319072870583146,
          null,
          -0.13071032068701555,
          -0.2579419896592247,
          null,
          -0.13071032068701555,
          0.19311051898434575,
          null,
          -0.13071032068701555,
          0.16319072870583146,
          null,
          -0.2579419896592247,
          0.19311051898434575,
          null,
          -0.2579419896592247,
          0.16319072870583146,
          null,
          -0.2579419896592247,
          -0.5319782005653562,
          null,
          -0.2579419896592247,
          -0.5905843652348728,
          null,
          -0.2579419896592247,
          0.23183069772946435,
          null,
          -0.2579419896592247,
          -0.61345175675372,
          null,
          -0.2579419896592247,
          -0.3767765336716555,
          null,
          -0.2579419896592247,
          -0.5182314481274278,
          null,
          -0.2579419896592247,
          -0.027228325251564368,
          null,
          0.19311051898434575,
          0.16319072870583146,
          null,
          0.16319072870583146,
          0.23183069772946435,
          null,
          0.16319072870583146,
          0.5383833830431205,
          null,
          0.16319072870583146,
          0.4238804880573223,
          null,
          0.16319072870583146,
          0.6764370509361664,
          null,
          0.16319072870583146,
          0.2646979035314337,
          null,
          0.16319072870583146,
          -0.027228325251564368,
          null,
          0.16319072870583146,
          0.6129999806357581,
          null,
          0.6764370509361664,
          0.9399533495889874,
          null,
          0.6764370509361664,
          0.8138179307941122,
          null,
          0.6764370509361664,
          0.6129999806357581,
          null,
          0.6764370509361664,
          0.9516113134440657,
          null,
          0.6764370509361664,
          0.23183069772946435,
          null,
          0.6764370509361664,
          1,
          null,
          0.6764370509361664,
          0.7812334991890029,
          null,
          0.6764370509361664,
          0.5383833830431205,
          null,
          0.6764370509361664,
          0.4238804880573223,
          null,
          0.6764370509361664,
          0.2646979035314337,
          null,
          0.6764370509361664,
          -0.027228325251564368,
          null,
          0.9399533495889874,
          0.8138179307941122,
          null,
          0.9399533495889874,
          0.6129999806357581,
          null,
          0.9399533495889874,
          0.9516113134440657,
          null,
          0.9399533495889874,
          0.23183069772946435,
          null,
          0.9399533495889874,
          1,
          null,
          0.9399533495889874,
          0.7812334991890029,
          null,
          0.8138179307941122,
          0.6129999806357581,
          null,
          0.8138179307941122,
          0.9516113134440657,
          null,
          0.8138179307941122,
          0.23183069772946435,
          null,
          0.8138179307941122,
          1,
          null,
          0.8138179307941122,
          0.7812334991890029,
          null,
          0.6129999806357581,
          0.9516113134440657,
          null,
          0.6129999806357581,
          0.23183069772946435,
          null,
          0.6129999806357581,
          1,
          null,
          0.6129999806357581,
          0.7812334991890029,
          null,
          0.6129999806357581,
          0.5383833830431205,
          null,
          0.6129999806357581,
          0.4238804880573223,
          null,
          0.6129999806357581,
          0.2646979035314337,
          null,
          0.6129999806357581,
          -0.027228325251564368,
          null,
          0.9516113134440657,
          0.23183069772946435,
          null,
          0.9516113134440657,
          1,
          null,
          0.9516113134440657,
          0.7812334991890029,
          null,
          0.23183069772946435,
          1,
          null,
          0.23183069772946435,
          0.7812334991890029,
          null,
          0.23183069772946435,
          -0.5319782005653562,
          null,
          0.23183069772946435,
          -0.5905843652348728,
          null,
          0.23183069772946435,
          -0.61345175675372,
          null,
          0.23183069772946435,
          -0.3767765336716555,
          null,
          0.23183069772946435,
          -0.5182314481274278,
          null,
          0.23183069772946435,
          -0.027228325251564368,
          null,
          0.23183069772946435,
          0.5383833830431205,
          null,
          0.23183069772946435,
          0.4238804880573223,
          null,
          0.23183069772946435,
          0.2646979035314337,
          null,
          1,
          0.7812334991890029,
          null,
          -0.5319782005653562,
          -0.5905843652348728,
          null,
          -0.5319782005653562,
          -0.61345175675372,
          null,
          -0.5319782005653562,
          -0.3767765336716555,
          null,
          -0.5319782005653562,
          -0.5182314481274278,
          null,
          -0.5319782005653562,
          -0.027228325251564368,
          null,
          -0.5905843652348728,
          -0.61345175675372,
          null,
          -0.5905843652348728,
          -0.3767765336716555,
          null,
          -0.5905843652348728,
          -0.5182314481274278,
          null,
          -0.5905843652348728,
          -0.027228325251564368,
          null,
          -0.61345175675372,
          -0.3767765336716555,
          null,
          -0.61345175675372,
          -0.5182314481274278,
          null,
          -0.61345175675372,
          -0.027228325251564368,
          null,
          -0.61345175675372,
          -0.7567209299579366,
          null,
          -0.61345175675372,
          -0.6599870880784298,
          null,
          -0.61345175675372,
          -0.8757584358376117,
          null,
          -0.61345175675372,
          -0.8777185072788986,
          null,
          -0.61345175675372,
          -0.4416027605183451,
          null,
          -0.61345175675372,
          -0.5847746052041043,
          null,
          -0.3767765336716555,
          -0.5182314481274278,
          null,
          -0.3767765336716555,
          -0.027228325251564368,
          null,
          -0.5182314481274278,
          -0.027228325251564368,
          null,
          -0.5182314481274278,
          -0.7567209299579366,
          null,
          -0.5182314481274278,
          -0.6599870880784298,
          null,
          -0.5182314481274278,
          -0.8757584358376117,
          null,
          -0.5182314481274278,
          -0.8777185072788986,
          null,
          -0.5182314481274278,
          -0.4416027605183451,
          null,
          -0.5182314481274278,
          -0.5847746052041043,
          null,
          -0.027228325251564368,
          0.5383833830431205,
          null,
          -0.027228325251564368,
          0.4238804880573223,
          null,
          -0.027228325251564368,
          0.2646979035314337,
          null,
          0.5383833830431205,
          0.4238804880573223,
          null,
          0.5383833830431205,
          0.2646979035314337,
          null,
          0.4238804880573223,
          0.2646979035314337,
          null,
          -0.7567209299579366,
          -0.6599870880784298,
          null,
          -0.7567209299579366,
          -0.8757584358376117,
          null,
          -0.7567209299579366,
          -0.8777185072788986,
          null,
          -0.7567209299579366,
          -0.4416027605183451,
          null,
          -0.7567209299579366,
          -0.5847746052041043,
          null,
          -0.6599870880784298,
          -0.8757584358376117,
          null,
          -0.6599870880784298,
          -0.8777185072788986,
          null,
          -0.6599870880784298,
          -0.4416027605183451,
          null,
          -0.6599870880784298,
          -0.5847746052041043,
          null,
          -0.8757584358376117,
          -0.8777185072788986,
          null,
          -0.8757584358376117,
          -0.4416027605183451,
          null,
          -0.8757584358376117,
          -0.5847746052041043,
          null,
          -0.8777185072788986,
          -0.4416027605183451,
          null,
          -0.8777185072788986,
          -0.5847746052041043,
          null,
          -0.4416027605183451,
          -0.5847746052041043,
          null
         ],
         "y": [
          0.045432868203532706,
          0.405742608049395,
          null,
          0.045432868203532706,
          0.43878924780702055,
          null,
          0.045432868203532706,
          -0.07360565580870429,
          null,
          0.045432868203532706,
          -0.08978447862875093,
          null,
          0.045432868203532706,
          0.06256488322409787,
          null,
          0.045432868203532706,
          0.1981372038017165,
          null,
          0.045432868203532706,
          -0.17709903016685025,
          null,
          0.045432868203532706,
          0.34250829253473486,
          null,
          0.045432868203532706,
          -0.16451294713862527,
          null,
          0.045432868203532706,
          -0.41609301401565973,
          null,
          0.045432868203532706,
          -0.3091072993041625,
          null,
          0.045432868203532706,
          -0.058826068574702434,
          null,
          0.045432868203532706,
          -0.2880981219752956,
          null,
          0.045432868203532706,
          0.07686473303394131,
          null,
          0.045432868203532706,
          -0.29557136603946915,
          null,
          0.045432868203532706,
          -0.13160043746200356,
          null,
          0.045432868203532706,
          0.1587797959974305,
          null,
          0.045432868203532706,
          -0.485019057836772,
          null,
          0.045432868203532706,
          -0.3294919127113362,
          null,
          0.045432868203532706,
          0.08183683076468344,
          null,
          0.045432868203532706,
          -0.5259178554263045,
          null,
          0.045432868203532706,
          0.15814084068020345,
          null,
          0.045432868203532706,
          -0.46004448734231373,
          null,
          0.045432868203532706,
          -0.621890017045475,
          null,
          0.045432868203532706,
          -0.74049060464983,
          null,
          0.045432868203532706,
          -0.6905818582846713,
          null,
          0.045432868203532706,
          0.7484863807435141,
          null,
          0.045432868203532706,
          0.5734086137066345,
          null,
          0.045432868203532706,
          0.5963768818276483,
          null,
          0.045432868203532706,
          0.41847725159694954,
          null,
          0.045432868203532706,
          0.7390636965447,
          null,
          0.045432868203532706,
          0.813124083894722,
          null,
          0.405742608049395,
          0.43878924780702055,
          null,
          0.405742608049395,
          -0.07360565580870429,
          null,
          0.405742608049395,
          -0.08978447862875093,
          null,
          0.405742608049395,
          0.06256488322409787,
          null,
          0.405742608049395,
          0.1981372038017165,
          null,
          0.405742608049395,
          -0.17709903016685025,
          null,
          0.405742608049395,
          0.34250829253473486,
          null,
          0.405742608049395,
          -0.16451294713862527,
          null,
          0.405742608049395,
          0.15814084068020345,
          null,
          0.405742608049395,
          0.7484863807435141,
          null,
          0.405742608049395,
          0.08183683076468344,
          null,
          0.405742608049395,
          0.5734086137066345,
          null,
          0.405742608049395,
          0.5963768818276483,
          null,
          0.405742608049395,
          0.41847725159694954,
          null,
          0.405742608049395,
          0.7390636965447,
          null,
          0.405742608049395,
          0.813124083894722,
          null,
          0.43878924780702055,
          -0.07360565580870429,
          null,
          0.43878924780702055,
          -0.08978447862875093,
          null,
          0.43878924780702055,
          0.06256488322409787,
          null,
          0.43878924780702055,
          0.1981372038017165,
          null,
          0.43878924780702055,
          -0.17709903016685025,
          null,
          0.43878924780702055,
          0.34250829253473486,
          null,
          0.43878924780702055,
          -0.16451294713862527,
          null,
          -0.07360565580870429,
          -0.08978447862875093,
          null,
          -0.07360565580870429,
          0.06256488322409787,
          null,
          -0.07360565580870429,
          0.1981372038017165,
          null,
          -0.07360565580870429,
          -0.17709903016685025,
          null,
          -0.07360565580870429,
          0.34250829253473486,
          null,
          -0.07360565580870429,
          -0.16451294713862527,
          null,
          -0.07360565580870429,
          -0.41609301401565973,
          null,
          -0.07360565580870429,
          -0.3091072993041625,
          null,
          -0.07360565580870429,
          -0.058826068574702434,
          null,
          -0.07360565580870429,
          -0.2880981219752956,
          null,
          -0.07360565580870429,
          0.07686473303394131,
          null,
          -0.07360565580870429,
          -0.29557136603946915,
          null,
          -0.07360565580870429,
          -0.13160043746200356,
          null,
          -0.07360565580870429,
          0.1587797959974305,
          null,
          -0.07360565580870429,
          -0.621890017045475,
          null,
          -0.07360565580870429,
          -0.74049060464983,
          null,
          -0.07360565580870429,
          -0.6905818582846713,
          null,
          -0.07360565580870429,
          -0.46004448734231373,
          null,
          -0.08978447862875093,
          0.06256488322409787,
          null,
          -0.08978447862875093,
          0.1981372038017165,
          null,
          -0.08978447862875093,
          -0.17709903016685025,
          null,
          -0.08978447862875093,
          0.34250829253473486,
          null,
          -0.08978447862875093,
          -0.16451294713862527,
          null,
          -0.08978447862875093,
          -0.485019057836772,
          null,
          -0.08978447862875093,
          -0.3294919127113362,
          null,
          -0.08978447862875093,
          -0.29557136603946915,
          null,
          -0.08978447862875093,
          0.08183683076468344,
          null,
          -0.08978447862875093,
          -0.5259178554263045,
          null,
          -0.08978447862875093,
          0.15814084068020345,
          null,
          -0.08978447862875093,
          -0.46004448734231373,
          null,
          0.06256488322409787,
          0.1981372038017165,
          null,
          0.06256488322409787,
          -0.17709903016685025,
          null,
          0.06256488322409787,
          0.34250829253473486,
          null,
          0.06256488322409787,
          -0.16451294713862527,
          null,
          0.1981372038017165,
          -0.17709903016685025,
          null,
          0.1981372038017165,
          0.34250829253473486,
          null,
          0.1981372038017165,
          -0.16451294713862527,
          null,
          -0.17709903016685025,
          0.34250829253473486,
          null,
          -0.17709903016685025,
          -0.16451294713862527,
          null,
          -0.17709903016685025,
          -0.485019057836772,
          null,
          -0.17709903016685025,
          -0.3294919127113362,
          null,
          -0.17709903016685025,
          -0.29557136603946915,
          null,
          -0.17709903016685025,
          0.08183683076468344,
          null,
          -0.17709903016685025,
          -0.5259178554263045,
          null,
          -0.17709903016685025,
          0.15814084068020345,
          null,
          -0.17709903016685025,
          -0.46004448734231373,
          null,
          0.34250829253473486,
          -0.16451294713862527,
          null,
          -0.16451294713862527,
          -0.29557136603946915,
          null,
          -0.16451294713862527,
          -0.621890017045475,
          null,
          -0.16451294713862527,
          -0.74049060464983,
          null,
          -0.16451294713862527,
          -0.41609301401565973,
          null,
          -0.16451294713862527,
          -0.6905818582846713,
          null,
          -0.16451294713862527,
          -0.46004448734231373,
          null,
          -0.16451294713862527,
          -0.2880981219752956,
          null,
          -0.41609301401565973,
          -0.3091072993041625,
          null,
          -0.41609301401565973,
          -0.058826068574702434,
          null,
          -0.41609301401565973,
          -0.2880981219752956,
          null,
          -0.41609301401565973,
          0.07686473303394131,
          null,
          -0.41609301401565973,
          -0.29557136603946915,
          null,
          -0.41609301401565973,
          -0.13160043746200356,
          null,
          -0.41609301401565973,
          0.1587797959974305,
          null,
          -0.41609301401565973,
          -0.621890017045475,
          null,
          -0.41609301401565973,
          -0.74049060464983,
          null,
          -0.41609301401565973,
          -0.6905818582846713,
          null,
          -0.41609301401565973,
          -0.46004448734231373,
          null,
          -0.3091072993041625,
          -0.058826068574702434,
          null,
          -0.3091072993041625,
          -0.2880981219752956,
          null,
          -0.3091072993041625,
          0.07686473303394131,
          null,
          -0.3091072993041625,
          -0.29557136603946915,
          null,
          -0.3091072993041625,
          -0.13160043746200356,
          null,
          -0.3091072993041625,
          0.1587797959974305,
          null,
          -0.058826068574702434,
          -0.2880981219752956,
          null,
          -0.058826068574702434,
          0.07686473303394131,
          null,
          -0.058826068574702434,
          -0.29557136603946915,
          null,
          -0.058826068574702434,
          -0.13160043746200356,
          null,
          -0.058826068574702434,
          0.1587797959974305,
          null,
          -0.2880981219752956,
          0.07686473303394131,
          null,
          -0.2880981219752956,
          -0.29557136603946915,
          null,
          -0.2880981219752956,
          -0.13160043746200356,
          null,
          -0.2880981219752956,
          0.1587797959974305,
          null,
          -0.2880981219752956,
          -0.621890017045475,
          null,
          -0.2880981219752956,
          -0.74049060464983,
          null,
          -0.2880981219752956,
          -0.6905818582846713,
          null,
          -0.2880981219752956,
          -0.46004448734231373,
          null,
          0.07686473303394131,
          -0.29557136603946915,
          null,
          0.07686473303394131,
          -0.13160043746200356,
          null,
          0.07686473303394131,
          0.1587797959974305,
          null,
          -0.29557136603946915,
          -0.13160043746200356,
          null,
          -0.29557136603946915,
          0.1587797959974305,
          null,
          -0.29557136603946915,
          -0.485019057836772,
          null,
          -0.29557136603946915,
          -0.3294919127113362,
          null,
          -0.29557136603946915,
          0.08183683076468344,
          null,
          -0.29557136603946915,
          -0.5259178554263045,
          null,
          -0.29557136603946915,
          0.15814084068020345,
          null,
          -0.29557136603946915,
          -0.46004448734231373,
          null,
          -0.29557136603946915,
          -0.621890017045475,
          null,
          -0.29557136603946915,
          -0.74049060464983,
          null,
          -0.29557136603946915,
          -0.6905818582846713,
          null,
          -0.13160043746200356,
          0.1587797959974305,
          null,
          -0.485019057836772,
          -0.3294919127113362,
          null,
          -0.485019057836772,
          0.08183683076468344,
          null,
          -0.485019057836772,
          -0.5259178554263045,
          null,
          -0.485019057836772,
          0.15814084068020345,
          null,
          -0.485019057836772,
          -0.46004448734231373,
          null,
          -0.3294919127113362,
          0.08183683076468344,
          null,
          -0.3294919127113362,
          -0.5259178554263045,
          null,
          -0.3294919127113362,
          0.15814084068020345,
          null,
          -0.3294919127113362,
          -0.46004448734231373,
          null,
          0.08183683076468344,
          -0.5259178554263045,
          null,
          0.08183683076468344,
          0.15814084068020345,
          null,
          0.08183683076468344,
          -0.46004448734231373,
          null,
          0.08183683076468344,
          0.7484863807435141,
          null,
          0.08183683076468344,
          0.5734086137066345,
          null,
          0.08183683076468344,
          0.5963768818276483,
          null,
          0.08183683076468344,
          0.41847725159694954,
          null,
          0.08183683076468344,
          0.7390636965447,
          null,
          0.08183683076468344,
          0.813124083894722,
          null,
          -0.5259178554263045,
          0.15814084068020345,
          null,
          -0.5259178554263045,
          -0.46004448734231373,
          null,
          0.15814084068020345,
          -0.46004448734231373,
          null,
          0.15814084068020345,
          0.7484863807435141,
          null,
          0.15814084068020345,
          0.5734086137066345,
          null,
          0.15814084068020345,
          0.5963768818276483,
          null,
          0.15814084068020345,
          0.41847725159694954,
          null,
          0.15814084068020345,
          0.7390636965447,
          null,
          0.15814084068020345,
          0.813124083894722,
          null,
          -0.46004448734231373,
          -0.621890017045475,
          null,
          -0.46004448734231373,
          -0.74049060464983,
          null,
          -0.46004448734231373,
          -0.6905818582846713,
          null,
          -0.621890017045475,
          -0.74049060464983,
          null,
          -0.621890017045475,
          -0.6905818582846713,
          null,
          -0.74049060464983,
          -0.6905818582846713,
          null,
          0.7484863807435141,
          0.5734086137066345,
          null,
          0.7484863807435141,
          0.5963768818276483,
          null,
          0.7484863807435141,
          0.41847725159694954,
          null,
          0.7484863807435141,
          0.7390636965447,
          null,
          0.7484863807435141,
          0.813124083894722,
          null,
          0.5734086137066345,
          0.5963768818276483,
          null,
          0.5734086137066345,
          0.41847725159694954,
          null,
          0.5734086137066345,
          0.7390636965447,
          null,
          0.5734086137066345,
          0.813124083894722,
          null,
          0.5963768818276483,
          0.41847725159694954,
          null,
          0.5963768818276483,
          0.7390636965447,
          null,
          0.5963768818276483,
          0.813124083894722,
          null,
          0.41847725159694954,
          0.7390636965447,
          null,
          0.41847725159694954,
          0.813124083894722,
          null,
          0.7390636965447,
          0.813124083894722,
          null
         ]
        },
        {
         "hoverinfo": "text",
         "marker": {
          "color": [
           32,
           17,
           9,
           21,
           16,
           9,
           9,
           16,
           9,
           16,
           14,
           9,
           9,
           14,
           9,
           21,
           9,
           9,
           9,
           9,
           16,
           9,
           16,
           16,
           9,
           9,
           9,
           9,
           9,
           9,
           9,
           9,
           9
          ],
          "colorbar": {
           "thickness": 15,
           "title": {
            "text": "Node Connections"
           }
          },
          "colorscale": [
           [
            0,
            "rgb(255,255,217)"
           ],
           [
            0.125,
            "rgb(237,248,177)"
           ],
           [
            0.25,
            "rgb(199,233,180)"
           ],
           [
            0.375,
            "rgb(127,205,187)"
           ],
           [
            0.5,
            "rgb(65,182,196)"
           ],
           [
            0.625,
            "rgb(29,145,192)"
           ],
           [
            0.75,
            "rgb(34,94,168)"
           ],
           [
            0.875,
            "rgb(37,52,148)"
           ],
           [
            1,
            "rgb(8,29,88)"
           ]
          ],
          "line": {
           "width": 2
          },
          "showscale": false,
          "size": 10
         },
         "mode": "markers",
         "text": [
          "# de conexiones: 32",
          "# de conexiones: 17",
          "# de conexiones: 9",
          "# de conexiones: 21",
          "# de conexiones: 16",
          "# de conexiones: 9",
          "# de conexiones: 9",
          "# de conexiones: 16",
          "# de conexiones: 9",
          "# de conexiones: 16",
          "# de conexiones: 14",
          "# de conexiones: 9",
          "# de conexiones: 9",
          "# de conexiones: 14",
          "# de conexiones: 9",
          "# de conexiones: 21",
          "# de conexiones: 9",
          "# de conexiones: 9",
          "# de conexiones: 9",
          "# de conexiones: 9",
          "# de conexiones: 16",
          "# de conexiones: 9",
          "# de conexiones: 16",
          "# de conexiones: 16",
          "# de conexiones: 9",
          "# de conexiones: 9",
          "# de conexiones: 9",
          "# de conexiones: 9",
          "# de conexiones: 9",
          "# de conexiones: 9",
          "# de conexiones: 9",
          "# de conexiones: 9",
          "# de conexiones: 9"
         ],
         "type": "scatter",
         "x": [
          0.027655263391899568,
          -0.3211631792455774,
          0.04606600146553367,
          0.37132645767768246,
          -0.17720831058997782,
          -0.29435781051300697,
          -0.13071032068701555,
          -0.2579419896592247,
          0.19311051898434575,
          0.16319072870583146,
          0.6764370509361664,
          0.9399533495889874,
          0.8138179307941122,
          0.6129999806357581,
          0.9516113134440657,
          0.23183069772946435,
          1,
          0.7812334991890029,
          -0.5319782005653562,
          -0.5905843652348728,
          -0.61345175675372,
          -0.3767765336716555,
          -0.5182314481274278,
          -0.027228325251564368,
          0.5383833830431205,
          0.4238804880573223,
          0.2646979035314337,
          -0.7567209299579366,
          -0.6599870880784298,
          -0.8757584358376117,
          -0.8777185072788986,
          -0.4416027605183451,
          -0.5847746052041043
         ],
         "y": [
          0.045432868203532706,
          0.405742608049395,
          0.43878924780702055,
          -0.07360565580870429,
          -0.08978447862875093,
          0.06256488322409787,
          0.1981372038017165,
          -0.17709903016685025,
          0.34250829253473486,
          -0.16451294713862527,
          -0.41609301401565973,
          -0.3091072993041625,
          -0.058826068574702434,
          -0.2880981219752956,
          0.07686473303394131,
          -0.29557136603946915,
          -0.13160043746200356,
          0.1587797959974305,
          -0.485019057836772,
          -0.3294919127113362,
          0.08183683076468344,
          -0.5259178554263045,
          0.15814084068020345,
          -0.46004448734231373,
          -0.621890017045475,
          -0.74049060464983,
          -0.6905818582846713,
          0.7484863807435141,
          0.5734086137066345,
          0.5963768818276483,
          0.41847725159694954,
          0.7390636965447,
          0.813124083894722
         ]
        }
       ],
       "layout": {
        "hovermode": "closest",
        "margin": {
         "b": 0,
         "l": 0,
         "r": 0,
         "t": 0
        },
        "showlegend": false,
        "template": {
         "data": {
          "bar": [
           {
            "error_x": {
             "color": "#2a3f5f"
            },
            "error_y": {
             "color": "#2a3f5f"
            },
            "marker": {
             "line": {
              "color": "#E5ECF6",
              "width": 0.5
             },
             "pattern": {
              "fillmode": "overlay",
              "size": 10,
              "solidity": 0.2
             }
            },
            "type": "bar"
           }
          ],
          "barpolar": [
           {
            "marker": {
             "line": {
              "color": "#E5ECF6",
              "width": 0.5
             },
             "pattern": {
              "fillmode": "overlay",
              "size": 10,
              "solidity": 0.2
             }
            },
            "type": "barpolar"
           }
          ],
          "carpet": [
           {
            "aaxis": {
             "endlinecolor": "#2a3f5f",
             "gridcolor": "white",
             "linecolor": "white",
             "minorgridcolor": "white",
             "startlinecolor": "#2a3f5f"
            },
            "baxis": {
             "endlinecolor": "#2a3f5f",
             "gridcolor": "white",
             "linecolor": "white",
             "minorgridcolor": "white",
             "startlinecolor": "#2a3f5f"
            },
            "type": "carpet"
           }
          ],
          "choropleth": [
           {
            "colorbar": {
             "outlinewidth": 0,
             "ticks": ""
            },
            "type": "choropleth"
           }
          ],
          "contour": [
           {
            "colorbar": {
             "outlinewidth": 0,
             "ticks": ""
            },
            "colorscale": [
             [
              0,
              "#0d0887"
             ],
             [
              0.1111111111111111,
              "#46039f"
             ],
             [
              0.2222222222222222,
              "#7201a8"
             ],
             [
              0.3333333333333333,
              "#9c179e"
             ],
             [
              0.4444444444444444,
              "#bd3786"
             ],
             [
              0.5555555555555556,
              "#d8576b"
             ],
             [
              0.6666666666666666,
              "#ed7953"
             ],
             [
              0.7777777777777778,
              "#fb9f3a"
             ],
             [
              0.8888888888888888,
              "#fdca26"
             ],
             [
              1,
              "#f0f921"
             ]
            ],
            "type": "contour"
           }
          ],
          "contourcarpet": [
           {
            "colorbar": {
             "outlinewidth": 0,
             "ticks": ""
            },
            "type": "contourcarpet"
           }
          ],
          "heatmap": [
           {
            "colorbar": {
             "outlinewidth": 0,
             "ticks": ""
            },
            "colorscale": [
             [
              0,
              "#0d0887"
             ],
             [
              0.1111111111111111,
              "#46039f"
             ],
             [
              0.2222222222222222,
              "#7201a8"
             ],
             [
              0.3333333333333333,
              "#9c179e"
             ],
             [
              0.4444444444444444,
              "#bd3786"
             ],
             [
              0.5555555555555556,
              "#d8576b"
             ],
             [
              0.6666666666666666,
              "#ed7953"
             ],
             [
              0.7777777777777778,
              "#fb9f3a"
             ],
             [
              0.8888888888888888,
              "#fdca26"
             ],
             [
              1,
              "#f0f921"
             ]
            ],
            "type": "heatmap"
           }
          ],
          "heatmapgl": [
           {
            "colorbar": {
             "outlinewidth": 0,
             "ticks": ""
            },
            "colorscale": [
             [
              0,
              "#0d0887"
             ],
             [
              0.1111111111111111,
              "#46039f"
             ],
             [
              0.2222222222222222,
              "#7201a8"
             ],
             [
              0.3333333333333333,
              "#9c179e"
             ],
             [
              0.4444444444444444,
              "#bd3786"
             ],
             [
              0.5555555555555556,
              "#d8576b"
             ],
             [
              0.6666666666666666,
              "#ed7953"
             ],
             [
              0.7777777777777778,
              "#fb9f3a"
             ],
             [
              0.8888888888888888,
              "#fdca26"
             ],
             [
              1,
              "#f0f921"
             ]
            ],
            "type": "heatmapgl"
           }
          ],
          "histogram": [
           {
            "marker": {
             "pattern": {
              "fillmode": "overlay",
              "size": 10,
              "solidity": 0.2
             }
            },
            "type": "histogram"
           }
          ],
          "histogram2d": [
           {
            "colorbar": {
             "outlinewidth": 0,
             "ticks": ""
            },
            "colorscale": [
             [
              0,
              "#0d0887"
             ],
             [
              0.1111111111111111,
              "#46039f"
             ],
             [
              0.2222222222222222,
              "#7201a8"
             ],
             [
              0.3333333333333333,
              "#9c179e"
             ],
             [
              0.4444444444444444,
              "#bd3786"
             ],
             [
              0.5555555555555556,
              "#d8576b"
             ],
             [
              0.6666666666666666,
              "#ed7953"
             ],
             [
              0.7777777777777778,
              "#fb9f3a"
             ],
             [
              0.8888888888888888,
              "#fdca26"
             ],
             [
              1,
              "#f0f921"
             ]
            ],
            "type": "histogram2d"
           }
          ],
          "histogram2dcontour": [
           {
            "colorbar": {
             "outlinewidth": 0,
             "ticks": ""
            },
            "colorscale": [
             [
              0,
              "#0d0887"
             ],
             [
              0.1111111111111111,
              "#46039f"
             ],
             [
              0.2222222222222222,
              "#7201a8"
             ],
             [
              0.3333333333333333,
              "#9c179e"
             ],
             [
              0.4444444444444444,
              "#bd3786"
             ],
             [
              0.5555555555555556,
              "#d8576b"
             ],
             [
              0.6666666666666666,
              "#ed7953"
             ],
             [
              0.7777777777777778,
              "#fb9f3a"
             ],
             [
              0.8888888888888888,
              "#fdca26"
             ],
             [
              1,
              "#f0f921"
             ]
            ],
            "type": "histogram2dcontour"
           }
          ],
          "mesh3d": [
           {
            "colorbar": {
             "outlinewidth": 0,
             "ticks": ""
            },
            "type": "mesh3d"
           }
          ],
          "parcoords": [
           {
            "line": {
             "colorbar": {
              "outlinewidth": 0,
              "ticks": ""
             }
            },
            "type": "parcoords"
           }
          ],
          "pie": [
           {
            "automargin": true,
            "type": "pie"
           }
          ],
          "scatter": [
           {
            "fillpattern": {
             "fillmode": "overlay",
             "size": 10,
             "solidity": 0.2
            },
            "type": "scatter"
           }
          ],
          "scatter3d": [
           {
            "line": {
             "colorbar": {
              "outlinewidth": 0,
              "ticks": ""
             }
            },
            "marker": {
             "colorbar": {
              "outlinewidth": 0,
              "ticks": ""
             }
            },
            "type": "scatter3d"
           }
          ],
          "scattercarpet": [
           {
            "marker": {
             "colorbar": {
              "outlinewidth": 0,
              "ticks": ""
             }
            },
            "type": "scattercarpet"
           }
          ],
          "scattergeo": [
           {
            "marker": {
             "colorbar": {
              "outlinewidth": 0,
              "ticks": ""
             }
            },
            "type": "scattergeo"
           }
          ],
          "scattergl": [
           {
            "marker": {
             "colorbar": {
              "outlinewidth": 0,
              "ticks": ""
             }
            },
            "type": "scattergl"
           }
          ],
          "scattermapbox": [
           {
            "marker": {
             "colorbar": {
              "outlinewidth": 0,
              "ticks": ""
             }
            },
            "type": "scattermapbox"
           }
          ],
          "scatterpolar": [
           {
            "marker": {
             "colorbar": {
              "outlinewidth": 0,
              "ticks": ""
             }
            },
            "type": "scatterpolar"
           }
          ],
          "scatterpolargl": [
           {
            "marker": {
             "colorbar": {
              "outlinewidth": 0,
              "ticks": ""
             }
            },
            "type": "scatterpolargl"
           }
          ],
          "scatterternary": [
           {
            "marker": {
             "colorbar": {
              "outlinewidth": 0,
              "ticks": ""
             }
            },
            "type": "scatterternary"
           }
          ],
          "surface": [
           {
            "colorbar": {
             "outlinewidth": 0,
             "ticks": ""
            },
            "colorscale": [
             [
              0,
              "#0d0887"
             ],
             [
              0.1111111111111111,
              "#46039f"
             ],
             [
              0.2222222222222222,
              "#7201a8"
             ],
             [
              0.3333333333333333,
              "#9c179e"
             ],
             [
              0.4444444444444444,
              "#bd3786"
             ],
             [
              0.5555555555555556,
              "#d8576b"
             ],
             [
              0.6666666666666666,
              "#ed7953"
             ],
             [
              0.7777777777777778,
              "#fb9f3a"
             ],
             [
              0.8888888888888888,
              "#fdca26"
             ],
             [
              1,
              "#f0f921"
             ]
            ],
            "type": "surface"
           }
          ],
          "table": [
           {
            "cells": {
             "fill": {
              "color": "#EBF0F8"
             },
             "line": {
              "color": "white"
             }
            },
            "header": {
             "fill": {
              "color": "#C8D4E3"
             },
             "line": {
              "color": "white"
             }
            },
            "type": "table"
           }
          ]
         },
         "layout": {
          "annotationdefaults": {
           "arrowcolor": "#2a3f5f",
           "arrowhead": 0,
           "arrowwidth": 1
          },
          "autotypenumbers": "strict",
          "coloraxis": {
           "colorbar": {
            "outlinewidth": 0,
            "ticks": ""
           }
          },
          "colorscale": {
           "diverging": [
            [
             0,
             "#8e0152"
            ],
            [
             0.1,
             "#c51b7d"
            ],
            [
             0.2,
             "#de77ae"
            ],
            [
             0.3,
             "#f1b6da"
            ],
            [
             0.4,
             "#fde0ef"
            ],
            [
             0.5,
             "#f7f7f7"
            ],
            [
             0.6,
             "#e6f5d0"
            ],
            [
             0.7,
             "#b8e186"
            ],
            [
             0.8,
             "#7fbc41"
            ],
            [
             0.9,
             "#4d9221"
            ],
            [
             1,
             "#276419"
            ]
           ],
           "sequential": [
            [
             0,
             "#0d0887"
            ],
            [
             0.1111111111111111,
             "#46039f"
            ],
            [
             0.2222222222222222,
             "#7201a8"
            ],
            [
             0.3333333333333333,
             "#9c179e"
            ],
            [
             0.4444444444444444,
             "#bd3786"
            ],
            [
             0.5555555555555556,
             "#d8576b"
            ],
            [
             0.6666666666666666,
             "#ed7953"
            ],
            [
             0.7777777777777778,
             "#fb9f3a"
            ],
            [
             0.8888888888888888,
             "#fdca26"
            ],
            [
             1,
             "#f0f921"
            ]
           ],
           "sequentialminus": [
            [
             0,
             "#0d0887"
            ],
            [
             0.1111111111111111,
             "#46039f"
            ],
            [
             0.2222222222222222,
             "#7201a8"
            ],
            [
             0.3333333333333333,
             "#9c179e"
            ],
            [
             0.4444444444444444,
             "#bd3786"
            ],
            [
             0.5555555555555556,
             "#d8576b"
            ],
            [
             0.6666666666666666,
             "#ed7953"
            ],
            [
             0.7777777777777778,
             "#fb9f3a"
            ],
            [
             0.8888888888888888,
             "#fdca26"
            ],
            [
             1,
             "#f0f921"
            ]
           ]
          },
          "colorway": [
           "#636efa",
           "#EF553B",
           "#00cc96",
           "#ab63fa",
           "#FFA15A",
           "#19d3f3",
           "#FF6692",
           "#B6E880",
           "#FF97FF",
           "#FECB52"
          ],
          "font": {
           "color": "#2a3f5f"
          },
          "geo": {
           "bgcolor": "white",
           "lakecolor": "white",
           "landcolor": "#E5ECF6",
           "showlakes": true,
           "showland": true,
           "subunitcolor": "white"
          },
          "hoverlabel": {
           "align": "left"
          },
          "hovermode": "closest",
          "mapbox": {
           "style": "light"
          },
          "paper_bgcolor": "white",
          "plot_bgcolor": "#E5ECF6",
          "polar": {
           "angularaxis": {
            "gridcolor": "white",
            "linecolor": "white",
            "ticks": ""
           },
           "bgcolor": "#E5ECF6",
           "radialaxis": {
            "gridcolor": "white",
            "linecolor": "white",
            "ticks": ""
           }
          },
          "scene": {
           "xaxis": {
            "backgroundcolor": "#E5ECF6",
            "gridcolor": "white",
            "gridwidth": 2,
            "linecolor": "white",
            "showbackground": true,
            "ticks": "",
            "zerolinecolor": "white"
           },
           "yaxis": {
            "backgroundcolor": "#E5ECF6",
            "gridcolor": "white",
            "gridwidth": 2,
            "linecolor": "white",
            "showbackground": true,
            "ticks": "",
            "zerolinecolor": "white"
           },
           "zaxis": {
            "backgroundcolor": "#E5ECF6",
            "gridcolor": "white",
            "gridwidth": 2,
            "linecolor": "white",
            "showbackground": true,
            "ticks": "",
            "zerolinecolor": "white"
           }
          },
          "shapedefaults": {
           "line": {
            "color": "#2a3f5f"
           }
          },
          "ternary": {
           "aaxis": {
            "gridcolor": "white",
            "linecolor": "white",
            "ticks": ""
           },
           "baxis": {
            "gridcolor": "white",
            "linecolor": "white",
            "ticks": ""
           },
           "bgcolor": "#E5ECF6",
           "caxis": {
            "gridcolor": "white",
            "linecolor": "white",
            "ticks": ""
           }
          },
          "title": {
           "x": 0.05
          },
          "xaxis": {
           "automargin": true,
           "gridcolor": "white",
           "linecolor": "white",
           "ticks": "",
           "title": {
            "standoff": 15
           },
           "zerolinecolor": "white",
           "zerolinewidth": 2
          },
          "yaxis": {
           "automargin": true,
           "gridcolor": "white",
           "linecolor": "white",
           "ticks": "",
           "title": {
            "standoff": 15
           },
           "zerolinecolor": "white",
           "zerolinewidth": 2
          }
         }
        },
        "title": {
         "text": "Asociación de Términos entre Tópicos",
         "x": 0.5
        },
        "xaxis": {
         "showgrid": false,
         "showticklabels": false,
         "zeroline": false
        },
        "yaxis": {
         "showgrid": false,
         "showticklabels": false,
         "zeroline": false
        }
       }
      }
     },
     "metadata": {},
     "output_type": "display_data"
    }
   ],
   "source": [
    "import networkx as nx\n",
    "import plotly.graph_objects as go\n",
    "\n",
    "# Crear un grafo de NetworkX\n",
    "G = nx.Graph()\n",
    "\n",
    "# Procesar los tópicos y sus palabras clave para identificar asociaciones\n",
    "for topic_id, topic_words in topics:\n",
    "    # Dividir las palabras clave en términos individuales\n",
    "    terms = [term.split('*')[1].strip('\"') for term in topic_words.split(' + ')]\n",
    "    \n",
    "    # Agregar una arista entre todos los términos del tópico\n",
    "    for i in range(len(terms)):\n",
    "        for j in range(i + 1, len(terms)):\n",
    "            term1, term2 = terms[i], terms[j]\n",
    "            G.add_edge(term1, term2, topic=topic_id)\n",
    "\n",
    "# Obtener las posiciones de los nodos en el gráfico\n",
    "pos = nx.spring_layout(G, k=0.3, iterations=50)\n",
    "\n",
    "# Extraer las posiciones X e Y de los nodos\n",
    "pos_x = {node: pos[node][0] for node in G.nodes}\n",
    "pos_y = {node: pos[node][1] for node in G.nodes}\n",
    "\n",
    "# Crear un objeto de grafo de Plotly\n",
    "edge_x = []\n",
    "edge_y = []\n",
    "for edge in G.edges():\n",
    "    x0, y0 = pos_x[edge[0]], pos_y[edge[0]]\n",
    "    x1, y1 = pos_x[edge[1]], pos_y[edge[1]]\n",
    "    edge_x.append(x0)\n",
    "    edge_x.append(x1)\n",
    "    edge_x.append(None)\n",
    "    edge_y.append(y0)\n",
    "    edge_y.append(y1)\n",
    "    edge_y.append(None)\n",
    "\n",
    "edge_trace = go.Scatter(\n",
    "    x=edge_x, y=edge_y,\n",
    "    line=dict(width=0.5, color='#888'),\n",
    "    hoverinfo='none',\n",
    "    mode='lines')\n",
    "\n",
    "node_x = list(pos_x.values())\n",
    "node_y = list(pos_y.values())\n",
    "\n",
    "node_trace = go.Scatter(\n",
    "    x=node_x, y=node_y,\n",
    "    mode='markers',\n",
    "    hoverinfo='text',\n",
    "    marker=dict(\n",
    "        showscale=False,\n",
    "        colorscale='YlGnBu',\n",
    "        size=10,\n",
    "        colorbar=dict(thickness=15, title='Node Connections'),\n",
    "        line_width=2))\n",
    "\n",
    "node_adjacencies = []\n",
    "node_text = []\n",
    "for node, adjacencies in enumerate(G.adjacency()):\n",
    "    node_adjacencies.append(len(adjacencies[1]))\n",
    "    node_text.append('# de conexiones: ' + str(len(adjacencies[1])))\n",
    "\n",
    "node_trace.marker.color = node_adjacencies\n",
    "node_trace.text = node_text\n",
    "\n",
    "# Crear la figura de Plotly\n",
    "fig = go.Figure(data=[edge_trace, node_trace],\n",
    "             layout=go.Layout(\n",
    "                showlegend=False,\n",
    "                hovermode='closest',\n",
    "                margin=dict(b=0, l=0, r=0, t=0),\n",
    "                xaxis=dict(showgrid=False, zeroline=False, showticklabels=False),\n",
    "                yaxis=dict(showgrid=False, zeroline=False, showticklabels=False)))\n",
    "\n",
    "# Mostrar la figura\n",
    "fig.update_layout(title='Asociación de Términos entre Tópicos', title_x=0.5)\n",
    "fig.show()"
   ]
  },
  {
   "cell_type": "code",
   "execution_count": 19,
   "metadata": {},
   "outputs": [
    {
     "data": {
      "application/vnd.plotly.v1+json": {
       "config": {
        "plotlyServerURL": "https://plotly.com"
       },
       "data": [
        {
         "link": {
          "source": [
           25,
           30,
           16,
           28,
           31,
           27,
           18,
           5,
           24,
           4,
           25,
           2,
           28,
           32,
           14,
           19,
           11,
           22,
           6,
           23,
           26,
           31,
           25,
           17,
           22,
           9,
           20,
           3,
           1,
           5,
           22,
           4,
           28,
           25,
           0,
           7,
           2,
           15,
           1,
           19,
           25,
           3,
           13,
           9,
           12,
           8,
           10,
           29,
           21,
           30
          ],
          "target": [
           33,
           33,
           33,
           33,
           33,
           33,
           33,
           33,
           33,
           33,
           34,
           34,
           34,
           34,
           34,
           34,
           34,
           34,
           34,
           34,
           35,
           35,
           35,
           35,
           35,
           35,
           35,
           35,
           35,
           35,
           36,
           36,
           36,
           36,
           36,
           36,
           36,
           36,
           36,
           36,
           37,
           37,
           37,
           37,
           37,
           37,
           37,
           37,
           37,
           37
          ],
          "value": [
           1,
           1,
           1,
           1,
           1,
           1,
           1,
           1,
           1,
           1,
           1,
           1,
           1,
           1,
           1,
           1,
           1,
           1,
           1,
           1,
           1,
           1,
           1,
           1,
           1,
           1,
           1,
           1,
           1,
           1,
           1,
           1,
           1,
           1,
           1,
           1,
           1,
           1,
           1,
           1,
           1,
           1,
           1,
           1,
           1,
           1,
           1,
           1,
           1,
           1
          ]
         },
         "node": {
          "label": [
           "talento",
           "programa",
           "persona",
           "ciudad",
           "atención",
           "tapatío",
           "mil",
           "lugar",
           "desarrollo",
           "municipal",
           "lemus",
           "niña",
           "presidente",
           "vivo",
           "vivir",
           "esperar",
           "buenasacción",
           "administración",
           "familia",
           "niño",
           "rehabilitación",
           "querer",
           "centro",
           "tapatir",
           "servicio",
           "guadalajara",
           "mercado",
           "proyecto",
           "seguir",
           "trabajar",
           "jalisco",
           "espacio",
           "calle"
          ],
          "line": {
           "color": "black",
           "width": 0.5
          },
          "pad": 15,
          "thickness": 20
         },
         "type": "sankey"
        }
       ],
       "layout": {
        "template": {
         "data": {
          "bar": [
           {
            "error_x": {
             "color": "#2a3f5f"
            },
            "error_y": {
             "color": "#2a3f5f"
            },
            "marker": {
             "line": {
              "color": "#E5ECF6",
              "width": 0.5
             },
             "pattern": {
              "fillmode": "overlay",
              "size": 10,
              "solidity": 0.2
             }
            },
            "type": "bar"
           }
          ],
          "barpolar": [
           {
            "marker": {
             "line": {
              "color": "#E5ECF6",
              "width": 0.5
             },
             "pattern": {
              "fillmode": "overlay",
              "size": 10,
              "solidity": 0.2
             }
            },
            "type": "barpolar"
           }
          ],
          "carpet": [
           {
            "aaxis": {
             "endlinecolor": "#2a3f5f",
             "gridcolor": "white",
             "linecolor": "white",
             "minorgridcolor": "white",
             "startlinecolor": "#2a3f5f"
            },
            "baxis": {
             "endlinecolor": "#2a3f5f",
             "gridcolor": "white",
             "linecolor": "white",
             "minorgridcolor": "white",
             "startlinecolor": "#2a3f5f"
            },
            "type": "carpet"
           }
          ],
          "choropleth": [
           {
            "colorbar": {
             "outlinewidth": 0,
             "ticks": ""
            },
            "type": "choropleth"
           }
          ],
          "contour": [
           {
            "colorbar": {
             "outlinewidth": 0,
             "ticks": ""
            },
            "colorscale": [
             [
              0,
              "#0d0887"
             ],
             [
              0.1111111111111111,
              "#46039f"
             ],
             [
              0.2222222222222222,
              "#7201a8"
             ],
             [
              0.3333333333333333,
              "#9c179e"
             ],
             [
              0.4444444444444444,
              "#bd3786"
             ],
             [
              0.5555555555555556,
              "#d8576b"
             ],
             [
              0.6666666666666666,
              "#ed7953"
             ],
             [
              0.7777777777777778,
              "#fb9f3a"
             ],
             [
              0.8888888888888888,
              "#fdca26"
             ],
             [
              1,
              "#f0f921"
             ]
            ],
            "type": "contour"
           }
          ],
          "contourcarpet": [
           {
            "colorbar": {
             "outlinewidth": 0,
             "ticks": ""
            },
            "type": "contourcarpet"
           }
          ],
          "heatmap": [
           {
            "colorbar": {
             "outlinewidth": 0,
             "ticks": ""
            },
            "colorscale": [
             [
              0,
              "#0d0887"
             ],
             [
              0.1111111111111111,
              "#46039f"
             ],
             [
              0.2222222222222222,
              "#7201a8"
             ],
             [
              0.3333333333333333,
              "#9c179e"
             ],
             [
              0.4444444444444444,
              "#bd3786"
             ],
             [
              0.5555555555555556,
              "#d8576b"
             ],
             [
              0.6666666666666666,
              "#ed7953"
             ],
             [
              0.7777777777777778,
              "#fb9f3a"
             ],
             [
              0.8888888888888888,
              "#fdca26"
             ],
             [
              1,
              "#f0f921"
             ]
            ],
            "type": "heatmap"
           }
          ],
          "heatmapgl": [
           {
            "colorbar": {
             "outlinewidth": 0,
             "ticks": ""
            },
            "colorscale": [
             [
              0,
              "#0d0887"
             ],
             [
              0.1111111111111111,
              "#46039f"
             ],
             [
              0.2222222222222222,
              "#7201a8"
             ],
             [
              0.3333333333333333,
              "#9c179e"
             ],
             [
              0.4444444444444444,
              "#bd3786"
             ],
             [
              0.5555555555555556,
              "#d8576b"
             ],
             [
              0.6666666666666666,
              "#ed7953"
             ],
             [
              0.7777777777777778,
              "#fb9f3a"
             ],
             [
              0.8888888888888888,
              "#fdca26"
             ],
             [
              1,
              "#f0f921"
             ]
            ],
            "type": "heatmapgl"
           }
          ],
          "histogram": [
           {
            "marker": {
             "pattern": {
              "fillmode": "overlay",
              "size": 10,
              "solidity": 0.2
             }
            },
            "type": "histogram"
           }
          ],
          "histogram2d": [
           {
            "colorbar": {
             "outlinewidth": 0,
             "ticks": ""
            },
            "colorscale": [
             [
              0,
              "#0d0887"
             ],
             [
              0.1111111111111111,
              "#46039f"
             ],
             [
              0.2222222222222222,
              "#7201a8"
             ],
             [
              0.3333333333333333,
              "#9c179e"
             ],
             [
              0.4444444444444444,
              "#bd3786"
             ],
             [
              0.5555555555555556,
              "#d8576b"
             ],
             [
              0.6666666666666666,
              "#ed7953"
             ],
             [
              0.7777777777777778,
              "#fb9f3a"
             ],
             [
              0.8888888888888888,
              "#fdca26"
             ],
             [
              1,
              "#f0f921"
             ]
            ],
            "type": "histogram2d"
           }
          ],
          "histogram2dcontour": [
           {
            "colorbar": {
             "outlinewidth": 0,
             "ticks": ""
            },
            "colorscale": [
             [
              0,
              "#0d0887"
             ],
             [
              0.1111111111111111,
              "#46039f"
             ],
             [
              0.2222222222222222,
              "#7201a8"
             ],
             [
              0.3333333333333333,
              "#9c179e"
             ],
             [
              0.4444444444444444,
              "#bd3786"
             ],
             [
              0.5555555555555556,
              "#d8576b"
             ],
             [
              0.6666666666666666,
              "#ed7953"
             ],
             [
              0.7777777777777778,
              "#fb9f3a"
             ],
             [
              0.8888888888888888,
              "#fdca26"
             ],
             [
              1,
              "#f0f921"
             ]
            ],
            "type": "histogram2dcontour"
           }
          ],
          "mesh3d": [
           {
            "colorbar": {
             "outlinewidth": 0,
             "ticks": ""
            },
            "type": "mesh3d"
           }
          ],
          "parcoords": [
           {
            "line": {
             "colorbar": {
              "outlinewidth": 0,
              "ticks": ""
             }
            },
            "type": "parcoords"
           }
          ],
          "pie": [
           {
            "automargin": true,
            "type": "pie"
           }
          ],
          "scatter": [
           {
            "fillpattern": {
             "fillmode": "overlay",
             "size": 10,
             "solidity": 0.2
            },
            "type": "scatter"
           }
          ],
          "scatter3d": [
           {
            "line": {
             "colorbar": {
              "outlinewidth": 0,
              "ticks": ""
             }
            },
            "marker": {
             "colorbar": {
              "outlinewidth": 0,
              "ticks": ""
             }
            },
            "type": "scatter3d"
           }
          ],
          "scattercarpet": [
           {
            "marker": {
             "colorbar": {
              "outlinewidth": 0,
              "ticks": ""
             }
            },
            "type": "scattercarpet"
           }
          ],
          "scattergeo": [
           {
            "marker": {
             "colorbar": {
              "outlinewidth": 0,
              "ticks": ""
             }
            },
            "type": "scattergeo"
           }
          ],
          "scattergl": [
           {
            "marker": {
             "colorbar": {
              "outlinewidth": 0,
              "ticks": ""
             }
            },
            "type": "scattergl"
           }
          ],
          "scattermapbox": [
           {
            "marker": {
             "colorbar": {
              "outlinewidth": 0,
              "ticks": ""
             }
            },
            "type": "scattermapbox"
           }
          ],
          "scatterpolar": [
           {
            "marker": {
             "colorbar": {
              "outlinewidth": 0,
              "ticks": ""
             }
            },
            "type": "scatterpolar"
           }
          ],
          "scatterpolargl": [
           {
            "marker": {
             "colorbar": {
              "outlinewidth": 0,
              "ticks": ""
             }
            },
            "type": "scatterpolargl"
           }
          ],
          "scatterternary": [
           {
            "marker": {
             "colorbar": {
              "outlinewidth": 0,
              "ticks": ""
             }
            },
            "type": "scatterternary"
           }
          ],
          "surface": [
           {
            "colorbar": {
             "outlinewidth": 0,
             "ticks": ""
            },
            "colorscale": [
             [
              0,
              "#0d0887"
             ],
             [
              0.1111111111111111,
              "#46039f"
             ],
             [
              0.2222222222222222,
              "#7201a8"
             ],
             [
              0.3333333333333333,
              "#9c179e"
             ],
             [
              0.4444444444444444,
              "#bd3786"
             ],
             [
              0.5555555555555556,
              "#d8576b"
             ],
             [
              0.6666666666666666,
              "#ed7953"
             ],
             [
              0.7777777777777778,
              "#fb9f3a"
             ],
             [
              0.8888888888888888,
              "#fdca26"
             ],
             [
              1,
              "#f0f921"
             ]
            ],
            "type": "surface"
           }
          ],
          "table": [
           {
            "cells": {
             "fill": {
              "color": "#EBF0F8"
             },
             "line": {
              "color": "white"
             }
            },
            "header": {
             "fill": {
              "color": "#C8D4E3"
             },
             "line": {
              "color": "white"
             }
            },
            "type": "table"
           }
          ]
         },
         "layout": {
          "annotationdefaults": {
           "arrowcolor": "#2a3f5f",
           "arrowhead": 0,
           "arrowwidth": 1
          },
          "autotypenumbers": "strict",
          "coloraxis": {
           "colorbar": {
            "outlinewidth": 0,
            "ticks": ""
           }
          },
          "colorscale": {
           "diverging": [
            [
             0,
             "#8e0152"
            ],
            [
             0.1,
             "#c51b7d"
            ],
            [
             0.2,
             "#de77ae"
            ],
            [
             0.3,
             "#f1b6da"
            ],
            [
             0.4,
             "#fde0ef"
            ],
            [
             0.5,
             "#f7f7f7"
            ],
            [
             0.6,
             "#e6f5d0"
            ],
            [
             0.7,
             "#b8e186"
            ],
            [
             0.8,
             "#7fbc41"
            ],
            [
             0.9,
             "#4d9221"
            ],
            [
             1,
             "#276419"
            ]
           ],
           "sequential": [
            [
             0,
             "#0d0887"
            ],
            [
             0.1111111111111111,
             "#46039f"
            ],
            [
             0.2222222222222222,
             "#7201a8"
            ],
            [
             0.3333333333333333,
             "#9c179e"
            ],
            [
             0.4444444444444444,
             "#bd3786"
            ],
            [
             0.5555555555555556,
             "#d8576b"
            ],
            [
             0.6666666666666666,
             "#ed7953"
            ],
            [
             0.7777777777777778,
             "#fb9f3a"
            ],
            [
             0.8888888888888888,
             "#fdca26"
            ],
            [
             1,
             "#f0f921"
            ]
           ],
           "sequentialminus": [
            [
             0,
             "#0d0887"
            ],
            [
             0.1111111111111111,
             "#46039f"
            ],
            [
             0.2222222222222222,
             "#7201a8"
            ],
            [
             0.3333333333333333,
             "#9c179e"
            ],
            [
             0.4444444444444444,
             "#bd3786"
            ],
            [
             0.5555555555555556,
             "#d8576b"
            ],
            [
             0.6666666666666666,
             "#ed7953"
            ],
            [
             0.7777777777777778,
             "#fb9f3a"
            ],
            [
             0.8888888888888888,
             "#fdca26"
            ],
            [
             1,
             "#f0f921"
            ]
           ]
          },
          "colorway": [
           "#636efa",
           "#EF553B",
           "#00cc96",
           "#ab63fa",
           "#FFA15A",
           "#19d3f3",
           "#FF6692",
           "#B6E880",
           "#FF97FF",
           "#FECB52"
          ],
          "font": {
           "color": "#2a3f5f"
          },
          "geo": {
           "bgcolor": "white",
           "lakecolor": "white",
           "landcolor": "#E5ECF6",
           "showlakes": true,
           "showland": true,
           "subunitcolor": "white"
          },
          "hoverlabel": {
           "align": "left"
          },
          "hovermode": "closest",
          "mapbox": {
           "style": "light"
          },
          "paper_bgcolor": "white",
          "plot_bgcolor": "#E5ECF6",
          "polar": {
           "angularaxis": {
            "gridcolor": "white",
            "linecolor": "white",
            "ticks": ""
           },
           "bgcolor": "#E5ECF6",
           "radialaxis": {
            "gridcolor": "white",
            "linecolor": "white",
            "ticks": ""
           }
          },
          "scene": {
           "xaxis": {
            "backgroundcolor": "#E5ECF6",
            "gridcolor": "white",
            "gridwidth": 2,
            "linecolor": "white",
            "showbackground": true,
            "ticks": "",
            "zerolinecolor": "white"
           },
           "yaxis": {
            "backgroundcolor": "#E5ECF6",
            "gridcolor": "white",
            "gridwidth": 2,
            "linecolor": "white",
            "showbackground": true,
            "ticks": "",
            "zerolinecolor": "white"
           },
           "zaxis": {
            "backgroundcolor": "#E5ECF6",
            "gridcolor": "white",
            "gridwidth": 2,
            "linecolor": "white",
            "showbackground": true,
            "ticks": "",
            "zerolinecolor": "white"
           }
          },
          "shapedefaults": {
           "line": {
            "color": "#2a3f5f"
           }
          },
          "ternary": {
           "aaxis": {
            "gridcolor": "white",
            "linecolor": "white",
            "ticks": ""
           },
           "baxis": {
            "gridcolor": "white",
            "linecolor": "white",
            "ticks": ""
           },
           "bgcolor": "#E5ECF6",
           "caxis": {
            "gridcolor": "white",
            "linecolor": "white",
            "ticks": ""
           }
          },
          "title": {
           "x": 0.05
          },
          "xaxis": {
           "automargin": true,
           "gridcolor": "white",
           "linecolor": "white",
           "ticks": "",
           "title": {
            "standoff": 15
           },
           "zerolinecolor": "white",
           "zerolinewidth": 2
          },
          "yaxis": {
           "automargin": true,
           "gridcolor": "white",
           "linecolor": "white",
           "ticks": "",
           "title": {
            "standoff": 15
           },
           "zerolinecolor": "white",
           "zerolinewidth": 2
          }
         }
        },
        "title": {
         "text": "Diagrama de Sankey de Tópicos y Términos"
        }
       }
      }
     },
     "metadata": {},
     "output_type": "display_data"
    }
   ],
   "source": [
    "# Crear un conjunto de términos únicos\n",
    "unique_terms = set()\n",
    "for topic_id, topic_words in topics:\n",
    "    terms = [term.split('*')[1].strip('\"') for term in topic_words.split(' + ')]\n",
    "    unique_terms.update(terms)\n",
    "\n",
    "# Crear listas para nodos y enlaces\n",
    "nodes = list(unique_terms)\n",
    "source_indices = []\n",
    "target_indices = []\n",
    "values = []\n",
    "\n",
    "# Procesar los tópicos y sus palabras clave para identificar las conexiones\n",
    "for topic_id, topic_words in topics:\n",
    "    terms = [term.split('*')[1].strip('\"') for term in topic_words.split(' + ')]\n",
    "    for term in terms:\n",
    "        source_indices.append(nodes.index(term))\n",
    "        target_indices.append(len(nodes) + topic_id)  # Cada tema se representa como un nodo adicional\n",
    "        values.append(1)\n",
    "\n",
    "# Crear un diagrama de Sankey\n",
    "fig = go.Figure(go.Sankey(\n",
    "    node=dict(\n",
    "        pad=15,\n",
    "        thickness=20,\n",
    "        line=dict(color=\"black\", width=0.5),\n",
    "        label=nodes  # Etiquetas de los términos\n",
    "    ),\n",
    "    link=dict(\n",
    "        source=source_indices,\n",
    "        target=target_indices,\n",
    "        value=values\n",
    "    )\n",
    "))\n",
    "\n",
    "# Mostrar el diagrama de Sankey\n",
    "fig.update_layout(title_text=\"Diagrama de Sankey de Tópicos y Términos\")\n",
    "fig.show()"
   ]
  },
  {
   "cell_type": "code",
   "execution_count": 20,
   "metadata": {},
   "outputs": [
    {
     "data": {
      "text/html": [
       "<div>\n",
       "<style scoped>\n",
       "    .dataframe tbody tr th:only-of-type {\n",
       "        vertical-align: middle;\n",
       "    }\n",
       "\n",
       "    .dataframe tbody tr th {\n",
       "        vertical-align: top;\n",
       "    }\n",
       "\n",
       "    .dataframe thead th {\n",
       "        text-align: right;\n",
       "    }\n",
       "</style>\n",
       "<table border=\"1\" class=\"dataframe\">\n",
       "  <thead>\n",
       "    <tr style=\"text-align: right;\">\n",
       "      <th></th>\n",
       "      <th>texto</th>\n",
       "      <th>texto_preprocesado</th>\n",
       "      <th>bigramas_spacy</th>\n",
       "      <th>bigramas_nltk</th>\n",
       "      <th>texto_lematizado</th>\n",
       "    </tr>\n",
       "  </thead>\n",
       "  <tbody>\n",
       "    <tr>\n",
       "      <th>2</th>\n",
       "      <td>buen inicio de semana hoy por la mañana en rep...</td>\n",
       "      <td>[inicio, semana, mañana, representación, alcal...</td>\n",
       "      <td>[(buen, inicio), (inicio, de), (de, semana), (...</td>\n",
       "      <td>[(buen, inicio), (inicio, de), (de, semana), (...</td>\n",
       "      <td>buen inicio de semana hoy por el mañana en rep...</td>\n",
       "    </tr>\n",
       "    <tr>\n",
       "      <th>6</th>\n",
       "      <td>acompáñanos a la inauguración de la segunda ed...</td>\n",
       "      <td>[acompáñano, inauguración, edición, sorprender...</td>\n",
       "      <td>[(acompáñanos, a), (a, la), (la, inauguración)...</td>\n",
       "      <td>[(acompáñanos, a), (a, la), (la, inauguración)...</td>\n",
       "      <td>acompáñano a el inauguración de el segundo edi...</td>\n",
       "    </tr>\n",
       "    <tr>\n",
       "      <th>10</th>\n",
       "      <td>quién mejor para hablar de ciudades que los mi...</td>\n",
       "      <td>[hablar, ciudad, alcalde, año, recibir, ada, c...</td>\n",
       "      <td>[(quién, mejor), (mejor, para), (para, hablar)...</td>\n",
       "      <td>[(quién, mejor), (mejor, para), (para, hablar)...</td>\n",
       "      <td>quién mejor para hablar de ciudad que el mismo...</td>\n",
       "    </tr>\n",
       "    <tr>\n",
       "      <th>26</th>\n",
       "      <td>conocida como desde vista aérea de fondo y la ...</td>\n",
       "      <td>[conocido, vista, aéreo, fondo, construcción, ...</td>\n",
       "      <td>[(conocida, como), (como, desde), (desde, vist...</td>\n",
       "      <td>[(conocida, como), (como, desde), (desde, vist...</td>\n",
       "      <td>conocido como desde vista aéreo de fondo y el ...</td>\n",
       "    </tr>\n",
       "    <tr>\n",
       "      <th>32</th>\n",
       "      <td>a través de la queremos devolver a institucion...</td>\n",
       "      <td>[querer, devolver, institucionalidad, año, coo...</td>\n",
       "      <td>[(a, través), (través, de), (de, la), (la, que...</td>\n",
       "      <td>[(a, través), (través, de), (de, la), (la, que...</td>\n",
       "      <td>a través de él querer devolver a institucional...</td>\n",
       "    </tr>\n",
       "    <tr>\n",
       "      <th>...</th>\n",
       "      <td>...</td>\n",
       "      <td>...</td>\n",
       "      <td>...</td>\n",
       "      <td>...</td>\n",
       "      <td>...</td>\n",
       "    </tr>\n",
       "    <tr>\n",
       "      <th>610</th>\n",
       "      <td>les gusta el pulque pues tienen que probar est...</td>\n",
       "      <td>[gustar, pulque, probar, bebida, ancestral, pu...</td>\n",
       "      <td>[(les, gusta), (gusta, el), (el, pulque), (pul...</td>\n",
       "      <td>[(les, gusta), (gusta, el), (el, pulque), (pul...</td>\n",
       "      <td>él gustar el pulque pues tener que probar este...</td>\n",
       "    </tr>\n",
       "    <tr>\n",
       "      <th>616</th>\n",
       "      <td>con la piel chinita gracias por esta emotiva y...</td>\n",
       "      <td>[piel, chinitar, gracia, emotiva, especial, no...</td>\n",
       "      <td>[(con, la), (la, piel), (piel, chinita), (chin...</td>\n",
       "      <td>[(con, la), (la, piel), (piel, chinita), (chin...</td>\n",
       "      <td>con el piel chinitar gracias por este emotiva ...</td>\n",
       "    </tr>\n",
       "    <tr>\n",
       "      <th>619</th>\n",
       "      <td>viva méxico hoy en este día lleno de alegría y...</td>\n",
       "      <td>[vivo, méxico, lleno, alegría, emoción, celebr...</td>\n",
       "      <td>[(viva, méxico), (méxico, hoy), (hoy, en), (en...</td>\n",
       "      <td>[(viva, méxico), (méxico, hoy), (hoy, en), (en...</td>\n",
       "      <td>vivo méxico hoy en este día lleno de alegría y...</td>\n",
       "    </tr>\n",
       "    <tr>\n",
       "      <th>622</th>\n",
       "      <td>así se siente méxico diadelaindependencia</td>\n",
       "      <td>[sentir, méxico, diadelaindependencia]</td>\n",
       "      <td>[(así, se), (se, siente), (siente, méxico), (m...</td>\n",
       "      <td>[(así, se), (se, siente), (siente, méxico), (m...</td>\n",
       "      <td>así él sentir méxico diadelaindependencia</td>\n",
       "    </tr>\n",
       "    <tr>\n",
       "      <th>625</th>\n",
       "      <td>viva zapopan viva jalisco y viva méxico celebr...</td>\n",
       "      <td>[vivo, zapopar, vivo, jalisco, vivo, méxico, c...</td>\n",
       "      <td>[(viva, zapopan), (zapopan, viva), (viva, jali...</td>\n",
       "      <td>[(viva, zapopan), (zapopan, viva), (viva, jali...</td>\n",
       "      <td>vivo zapopar vivo jalisco y vivo méxico celebr...</td>\n",
       "    </tr>\n",
       "  </tbody>\n",
       "</table>\n",
       "<p>146 rows × 5 columns</p>\n",
       "</div>"
      ],
      "text/plain": [
       "                                                 texto  \\\n",
       "2    buen inicio de semana hoy por la mañana en rep...   \n",
       "6    acompáñanos a la inauguración de la segunda ed...   \n",
       "10   quién mejor para hablar de ciudades que los mi...   \n",
       "26   conocida como desde vista aérea de fondo y la ...   \n",
       "32   a través de la queremos devolver a institucion...   \n",
       "..                                                 ...   \n",
       "610  les gusta el pulque pues tienen que probar est...   \n",
       "616  con la piel chinita gracias por esta emotiva y...   \n",
       "619  viva méxico hoy en este día lleno de alegría y...   \n",
       "622          así se siente méxico diadelaindependencia   \n",
       "625  viva zapopan viva jalisco y viva méxico celebr...   \n",
       "\n",
       "                                    texto_preprocesado  \\\n",
       "2    [inicio, semana, mañana, representación, alcal...   \n",
       "6    [acompáñano, inauguración, edición, sorprender...   \n",
       "10   [hablar, ciudad, alcalde, año, recibir, ada, c...   \n",
       "26   [conocido, vista, aéreo, fondo, construcción, ...   \n",
       "32   [querer, devolver, institucionalidad, año, coo...   \n",
       "..                                                 ...   \n",
       "610  [gustar, pulque, probar, bebida, ancestral, pu...   \n",
       "616  [piel, chinitar, gracia, emotiva, especial, no...   \n",
       "619  [vivo, méxico, lleno, alegría, emoción, celebr...   \n",
       "622             [sentir, méxico, diadelaindependencia]   \n",
       "625  [vivo, zapopar, vivo, jalisco, vivo, méxico, c...   \n",
       "\n",
       "                                        bigramas_spacy  \\\n",
       "2    [(buen, inicio), (inicio, de), (de, semana), (...   \n",
       "6    [(acompáñanos, a), (a, la), (la, inauguración)...   \n",
       "10   [(quién, mejor), (mejor, para), (para, hablar)...   \n",
       "26   [(conocida, como), (como, desde), (desde, vist...   \n",
       "32   [(a, través), (través, de), (de, la), (la, que...   \n",
       "..                                                 ...   \n",
       "610  [(les, gusta), (gusta, el), (el, pulque), (pul...   \n",
       "616  [(con, la), (la, piel), (piel, chinita), (chin...   \n",
       "619  [(viva, méxico), (méxico, hoy), (hoy, en), (en...   \n",
       "622  [(así, se), (se, siente), (siente, méxico), (m...   \n",
       "625  [(viva, zapopan), (zapopan, viva), (viva, jali...   \n",
       "\n",
       "                                         bigramas_nltk  \\\n",
       "2    [(buen, inicio), (inicio, de), (de, semana), (...   \n",
       "6    [(acompáñanos, a), (a, la), (la, inauguración)...   \n",
       "10   [(quién, mejor), (mejor, para), (para, hablar)...   \n",
       "26   [(conocida, como), (como, desde), (desde, vist...   \n",
       "32   [(a, través), (través, de), (de, la), (la, que...   \n",
       "..                                                 ...   \n",
       "610  [(les, gusta), (gusta, el), (el, pulque), (pul...   \n",
       "616  [(con, la), (la, piel), (piel, chinita), (chin...   \n",
       "619  [(viva, méxico), (méxico, hoy), (hoy, en), (en...   \n",
       "622  [(así, se), (se, siente), (siente, méxico), (m...   \n",
       "625  [(viva, zapopan), (zapopan, viva), (viva, jali...   \n",
       "\n",
       "                                      texto_lematizado  \n",
       "2    buen inicio de semana hoy por el mañana en rep...  \n",
       "6    acompáñano a el inauguración de el segundo edi...  \n",
       "10   quién mejor para hablar de ciudad que el mismo...  \n",
       "26   conocido como desde vista aéreo de fondo y el ...  \n",
       "32   a través de él querer devolver a institucional...  \n",
       "..                                                 ...  \n",
       "610  él gustar el pulque pues tener que probar este...  \n",
       "616  con el piel chinitar gracias por este emotiva ...  \n",
       "619  vivo méxico hoy en este día lleno de alegría y...  \n",
       "622          así él sentir méxico diadelaindependencia  \n",
       "625  vivo zapopar vivo jalisco y vivo méxico celebr...  \n",
       "\n",
       "[146 rows x 5 columns]"
      ]
     },
     "execution_count": 20,
     "metadata": {},
     "output_type": "execute_result"
    }
   ],
   "source": [
    "# Mostrar el DataFrame resultante\n",
    "df_coments_clean"
   ]
  },
  {
   "cell_type": "code",
   "execution_count": 21,
   "metadata": {},
   "outputs": [
    {
     "name": "stderr",
     "output_type": "stream",
     "text": [
      "[nltk_data] Downloading package punkt to /home/milton/nltk_data...\n",
      "[nltk_data]   Package punkt is already up-to-date!\n",
      "[nltk_data] Downloading package vader_lexicon to\n",
      "[nltk_data]     /home/milton/nltk_data...\n",
      "[nltk_data]   Package vader_lexicon is already up-to-date!\n"
     ]
    },
    {
     "data": {
      "text/html": [
       "<div>\n",
       "<style scoped>\n",
       "    .dataframe tbody tr th:only-of-type {\n",
       "        vertical-align: middle;\n",
       "    }\n",
       "\n",
       "    .dataframe tbody tr th {\n",
       "        vertical-align: top;\n",
       "    }\n",
       "\n",
       "    .dataframe thead th {\n",
       "        text-align: right;\n",
       "    }\n",
       "</style>\n",
       "<table border=\"1\" class=\"dataframe\">\n",
       "  <thead>\n",
       "    <tr style=\"text-align: right;\">\n",
       "      <th></th>\n",
       "      <th>texto</th>\n",
       "      <th>texto_preprocesado</th>\n",
       "      <th>bigramas_spacy</th>\n",
       "      <th>bigramas_nltk</th>\n",
       "      <th>texto_lematizado</th>\n",
       "      <th>polaridad</th>\n",
       "    </tr>\n",
       "  </thead>\n",
       "  <tbody>\n",
       "    <tr>\n",
       "      <th>2</th>\n",
       "      <td>buen inicio de semana hoy por la mañana en rep...</td>\n",
       "      <td>[inicio, semana, mañana, representación, alcal...</td>\n",
       "      <td>[(buen, inicio), (inicio, de), (de, semana), (...</td>\n",
       "      <td>[(buen, inicio), (inicio, de), (de, semana), (...</td>\n",
       "      <td>buen inicio de semana hoy por el mañana en rep...</td>\n",
       "      <td>0.2500</td>\n",
       "    </tr>\n",
       "    <tr>\n",
       "      <th>6</th>\n",
       "      <td>acompáñanos a la inauguración de la segunda ed...</td>\n",
       "      <td>[acompáñano, inauguración, edición, sorprender...</td>\n",
       "      <td>[(acompáñanos, a), (a, la), (la, inauguración)...</td>\n",
       "      <td>[(acompáñanos, a), (a, la), (la, inauguración)...</td>\n",
       "      <td>acompáñano a el inauguración de el segundo edi...</td>\n",
       "      <td>0.0000</td>\n",
       "    </tr>\n",
       "    <tr>\n",
       "      <th>10</th>\n",
       "      <td>quién mejor para hablar de ciudades que los mi...</td>\n",
       "      <td>[hablar, ciudad, alcalde, año, recibir, ada, c...</td>\n",
       "      <td>[(quién, mejor), (mejor, para), (para, hablar)...</td>\n",
       "      <td>[(quién, mejor), (mejor, para), (para, hablar)...</td>\n",
       "      <td>quién mejor para hablar de ciudad que el mismo...</td>\n",
       "      <td>0.0000</td>\n",
       "    </tr>\n",
       "    <tr>\n",
       "      <th>26</th>\n",
       "      <td>conocida como desde vista aérea de fondo y la ...</td>\n",
       "      <td>[conocido, vista, aéreo, fondo, construcción, ...</td>\n",
       "      <td>[(conocida, como), (como, desde), (desde, vist...</td>\n",
       "      <td>[(conocida, como), (como, desde), (desde, vist...</td>\n",
       "      <td>conocido como desde vista aéreo de fondo y el ...</td>\n",
       "      <td>0.0000</td>\n",
       "    </tr>\n",
       "    <tr>\n",
       "      <th>32</th>\n",
       "      <td>a través de la queremos devolver a institucion...</td>\n",
       "      <td>[querer, devolver, institucionalidad, año, coo...</td>\n",
       "      <td>[(a, través), (través, de), (de, la), (la, que...</td>\n",
       "      <td>[(a, través), (través, de), (de, la), (la, que...</td>\n",
       "      <td>a través de él querer devolver a institucional...</td>\n",
       "      <td>0.0000</td>\n",
       "    </tr>\n",
       "    <tr>\n",
       "      <th>...</th>\n",
       "      <td>...</td>\n",
       "      <td>...</td>\n",
       "      <td>...</td>\n",
       "      <td>...</td>\n",
       "      <td>...</td>\n",
       "      <td>...</td>\n",
       "    </tr>\n",
       "    <tr>\n",
       "      <th>610</th>\n",
       "      <td>les gusta el pulque pues tienen que probar est...</td>\n",
       "      <td>[gustar, pulque, probar, bebida, ancestral, pu...</td>\n",
       "      <td>[(les, gusta), (gusta, el), (el, pulque), (pul...</td>\n",
       "      <td>[(les, gusta), (gusta, el), (el, pulque), (pul...</td>\n",
       "      <td>él gustar el pulque pues tener que probar este...</td>\n",
       "      <td>0.3612</td>\n",
       "    </tr>\n",
       "    <tr>\n",
       "      <th>616</th>\n",
       "      <td>con la piel chinita gracias por esta emotiva y...</td>\n",
       "      <td>[piel, chinitar, gracia, emotiva, especial, no...</td>\n",
       "      <td>[(con, la), (la, piel), (piel, chinita), (chin...</td>\n",
       "      <td>[(con, la), (la, piel), (piel, chinita), (chin...</td>\n",
       "      <td>con el piel chinitar gracias por este emotiva ...</td>\n",
       "      <td>0.0000</td>\n",
       "    </tr>\n",
       "    <tr>\n",
       "      <th>619</th>\n",
       "      <td>viva méxico hoy en este día lleno de alegría y...</td>\n",
       "      <td>[vivo, méxico, lleno, alegría, emoción, celebr...</td>\n",
       "      <td>[(viva, méxico), (méxico, hoy), (hoy, en), (en...</td>\n",
       "      <td>[(viva, méxico), (méxico, hoy), (hoy, en), (en...</td>\n",
       "      <td>vivo méxico hoy en este día lleno de alegría y...</td>\n",
       "      <td>0.3400</td>\n",
       "    </tr>\n",
       "    <tr>\n",
       "      <th>622</th>\n",
       "      <td>así se siente méxico diadelaindependencia</td>\n",
       "      <td>[sentir, méxico, diadelaindependencia]</td>\n",
       "      <td>[(así, se), (se, siente), (siente, méxico), (m...</td>\n",
       "      <td>[(así, se), (se, siente), (siente, méxico), (m...</td>\n",
       "      <td>así él sentir méxico diadelaindependencia</td>\n",
       "      <td>0.0000</td>\n",
       "    </tr>\n",
       "    <tr>\n",
       "      <th>625</th>\n",
       "      <td>viva zapopan viva jalisco y viva méxico celebr...</td>\n",
       "      <td>[vivo, zapopar, vivo, jalisco, vivo, méxico, c...</td>\n",
       "      <td>[(viva, zapopan), (zapopan, viva), (viva, jali...</td>\n",
       "      <td>[(viva, zapopan), (zapopan, viva), (viva, jali...</td>\n",
       "      <td>vivo zapopar vivo jalisco y vivo méxico celebr...</td>\n",
       "      <td>0.0000</td>\n",
       "    </tr>\n",
       "  </tbody>\n",
       "</table>\n",
       "<p>146 rows × 6 columns</p>\n",
       "</div>"
      ],
      "text/plain": [
       "                                                 texto  \\\n",
       "2    buen inicio de semana hoy por la mañana en rep...   \n",
       "6    acompáñanos a la inauguración de la segunda ed...   \n",
       "10   quién mejor para hablar de ciudades que los mi...   \n",
       "26   conocida como desde vista aérea de fondo y la ...   \n",
       "32   a través de la queremos devolver a institucion...   \n",
       "..                                                 ...   \n",
       "610  les gusta el pulque pues tienen que probar est...   \n",
       "616  con la piel chinita gracias por esta emotiva y...   \n",
       "619  viva méxico hoy en este día lleno de alegría y...   \n",
       "622          así se siente méxico diadelaindependencia   \n",
       "625  viva zapopan viva jalisco y viva méxico celebr...   \n",
       "\n",
       "                                    texto_preprocesado  \\\n",
       "2    [inicio, semana, mañana, representación, alcal...   \n",
       "6    [acompáñano, inauguración, edición, sorprender...   \n",
       "10   [hablar, ciudad, alcalde, año, recibir, ada, c...   \n",
       "26   [conocido, vista, aéreo, fondo, construcción, ...   \n",
       "32   [querer, devolver, institucionalidad, año, coo...   \n",
       "..                                                 ...   \n",
       "610  [gustar, pulque, probar, bebida, ancestral, pu...   \n",
       "616  [piel, chinitar, gracia, emotiva, especial, no...   \n",
       "619  [vivo, méxico, lleno, alegría, emoción, celebr...   \n",
       "622             [sentir, méxico, diadelaindependencia]   \n",
       "625  [vivo, zapopar, vivo, jalisco, vivo, méxico, c...   \n",
       "\n",
       "                                        bigramas_spacy  \\\n",
       "2    [(buen, inicio), (inicio, de), (de, semana), (...   \n",
       "6    [(acompáñanos, a), (a, la), (la, inauguración)...   \n",
       "10   [(quién, mejor), (mejor, para), (para, hablar)...   \n",
       "26   [(conocida, como), (como, desde), (desde, vist...   \n",
       "32   [(a, través), (través, de), (de, la), (la, que...   \n",
       "..                                                 ...   \n",
       "610  [(les, gusta), (gusta, el), (el, pulque), (pul...   \n",
       "616  [(con, la), (la, piel), (piel, chinita), (chin...   \n",
       "619  [(viva, méxico), (méxico, hoy), (hoy, en), (en...   \n",
       "622  [(así, se), (se, siente), (siente, méxico), (m...   \n",
       "625  [(viva, zapopan), (zapopan, viva), (viva, jali...   \n",
       "\n",
       "                                         bigramas_nltk  \\\n",
       "2    [(buen, inicio), (inicio, de), (de, semana), (...   \n",
       "6    [(acompáñanos, a), (a, la), (la, inauguración)...   \n",
       "10   [(quién, mejor), (mejor, para), (para, hablar)...   \n",
       "26   [(conocida, como), (como, desde), (desde, vist...   \n",
       "32   [(a, través), (través, de), (de, la), (la, que...   \n",
       "..                                                 ...   \n",
       "610  [(les, gusta), (gusta, el), (el, pulque), (pul...   \n",
       "616  [(con, la), (la, piel), (piel, chinita), (chin...   \n",
       "619  [(viva, méxico), (méxico, hoy), (hoy, en), (en...   \n",
       "622  [(así, se), (se, siente), (siente, méxico), (m...   \n",
       "625  [(viva, zapopan), (zapopan, viva), (viva, jali...   \n",
       "\n",
       "                                      texto_lematizado  polaridad  \n",
       "2    buen inicio de semana hoy por el mañana en rep...     0.2500  \n",
       "6    acompáñano a el inauguración de el segundo edi...     0.0000  \n",
       "10   quién mejor para hablar de ciudad que el mismo...     0.0000  \n",
       "26   conocido como desde vista aéreo de fondo y el ...     0.0000  \n",
       "32   a través de él querer devolver a institucional...     0.0000  \n",
       "..                                                 ...        ...  \n",
       "610  él gustar el pulque pues tener que probar este...     0.3612  \n",
       "616  con el piel chinitar gracias por este emotiva ...     0.0000  \n",
       "619  vivo méxico hoy en este día lleno de alegría y...     0.3400  \n",
       "622          así él sentir méxico diadelaindependencia     0.0000  \n",
       "625  vivo zapopar vivo jalisco y vivo méxico celebr...     0.0000  \n",
       "\n",
       "[146 rows x 6 columns]"
      ]
     },
     "execution_count": 21,
     "metadata": {},
     "output_type": "execute_result"
    }
   ],
   "source": [
    "nltk.download('punkt')\n",
    "nltk.download('vader_lexicon')\n",
    "\n",
    "from nltk.sentiment import SentimentIntensityAnalyzer\n",
    "from nltk.sentiment.vader import SentimentIntensityAnalyzer\n",
    "\n",
    "def obtener_sentiment(texto):\n",
    "    analyzer  = SentimentIntensityAnalyzer()\n",
    "    return analyzer.polarity_scores(texto)[\"compound\"]\n",
    "\n",
    "df_coments_clean[\"polaridad\"] = df_coments_clean[\"texto\"].apply(obtener_sentiment)\n",
    "df_coments_clean"
   ]
  },
  {
   "cell_type": "code",
   "execution_count": 22,
   "metadata": {},
   "outputs": [
    {
     "data": {
      "application/vnd.plotly.v1+json": {
       "config": {
        "plotlyServerURL": "https://plotly.com"
       },
       "data": [
        {
         "labels": [
          "Negativos",
          "Neutros",
          "Positivos"
         ],
         "type": "pie",
         "values": [
          21,
          93,
          32
         ]
        }
       ],
       "layout": {
        "template": {
         "data": {
          "bar": [
           {
            "error_x": {
             "color": "#2a3f5f"
            },
            "error_y": {
             "color": "#2a3f5f"
            },
            "marker": {
             "line": {
              "color": "#E5ECF6",
              "width": 0.5
             },
             "pattern": {
              "fillmode": "overlay",
              "size": 10,
              "solidity": 0.2
             }
            },
            "type": "bar"
           }
          ],
          "barpolar": [
           {
            "marker": {
             "line": {
              "color": "#E5ECF6",
              "width": 0.5
             },
             "pattern": {
              "fillmode": "overlay",
              "size": 10,
              "solidity": 0.2
             }
            },
            "type": "barpolar"
           }
          ],
          "carpet": [
           {
            "aaxis": {
             "endlinecolor": "#2a3f5f",
             "gridcolor": "white",
             "linecolor": "white",
             "minorgridcolor": "white",
             "startlinecolor": "#2a3f5f"
            },
            "baxis": {
             "endlinecolor": "#2a3f5f",
             "gridcolor": "white",
             "linecolor": "white",
             "minorgridcolor": "white",
             "startlinecolor": "#2a3f5f"
            },
            "type": "carpet"
           }
          ],
          "choropleth": [
           {
            "colorbar": {
             "outlinewidth": 0,
             "ticks": ""
            },
            "type": "choropleth"
           }
          ],
          "contour": [
           {
            "colorbar": {
             "outlinewidth": 0,
             "ticks": ""
            },
            "colorscale": [
             [
              0,
              "#0d0887"
             ],
             [
              0.1111111111111111,
              "#46039f"
             ],
             [
              0.2222222222222222,
              "#7201a8"
             ],
             [
              0.3333333333333333,
              "#9c179e"
             ],
             [
              0.4444444444444444,
              "#bd3786"
             ],
             [
              0.5555555555555556,
              "#d8576b"
             ],
             [
              0.6666666666666666,
              "#ed7953"
             ],
             [
              0.7777777777777778,
              "#fb9f3a"
             ],
             [
              0.8888888888888888,
              "#fdca26"
             ],
             [
              1,
              "#f0f921"
             ]
            ],
            "type": "contour"
           }
          ],
          "contourcarpet": [
           {
            "colorbar": {
             "outlinewidth": 0,
             "ticks": ""
            },
            "type": "contourcarpet"
           }
          ],
          "heatmap": [
           {
            "colorbar": {
             "outlinewidth": 0,
             "ticks": ""
            },
            "colorscale": [
             [
              0,
              "#0d0887"
             ],
             [
              0.1111111111111111,
              "#46039f"
             ],
             [
              0.2222222222222222,
              "#7201a8"
             ],
             [
              0.3333333333333333,
              "#9c179e"
             ],
             [
              0.4444444444444444,
              "#bd3786"
             ],
             [
              0.5555555555555556,
              "#d8576b"
             ],
             [
              0.6666666666666666,
              "#ed7953"
             ],
             [
              0.7777777777777778,
              "#fb9f3a"
             ],
             [
              0.8888888888888888,
              "#fdca26"
             ],
             [
              1,
              "#f0f921"
             ]
            ],
            "type": "heatmap"
           }
          ],
          "heatmapgl": [
           {
            "colorbar": {
             "outlinewidth": 0,
             "ticks": ""
            },
            "colorscale": [
             [
              0,
              "#0d0887"
             ],
             [
              0.1111111111111111,
              "#46039f"
             ],
             [
              0.2222222222222222,
              "#7201a8"
             ],
             [
              0.3333333333333333,
              "#9c179e"
             ],
             [
              0.4444444444444444,
              "#bd3786"
             ],
             [
              0.5555555555555556,
              "#d8576b"
             ],
             [
              0.6666666666666666,
              "#ed7953"
             ],
             [
              0.7777777777777778,
              "#fb9f3a"
             ],
             [
              0.8888888888888888,
              "#fdca26"
             ],
             [
              1,
              "#f0f921"
             ]
            ],
            "type": "heatmapgl"
           }
          ],
          "histogram": [
           {
            "marker": {
             "pattern": {
              "fillmode": "overlay",
              "size": 10,
              "solidity": 0.2
             }
            },
            "type": "histogram"
           }
          ],
          "histogram2d": [
           {
            "colorbar": {
             "outlinewidth": 0,
             "ticks": ""
            },
            "colorscale": [
             [
              0,
              "#0d0887"
             ],
             [
              0.1111111111111111,
              "#46039f"
             ],
             [
              0.2222222222222222,
              "#7201a8"
             ],
             [
              0.3333333333333333,
              "#9c179e"
             ],
             [
              0.4444444444444444,
              "#bd3786"
             ],
             [
              0.5555555555555556,
              "#d8576b"
             ],
             [
              0.6666666666666666,
              "#ed7953"
             ],
             [
              0.7777777777777778,
              "#fb9f3a"
             ],
             [
              0.8888888888888888,
              "#fdca26"
             ],
             [
              1,
              "#f0f921"
             ]
            ],
            "type": "histogram2d"
           }
          ],
          "histogram2dcontour": [
           {
            "colorbar": {
             "outlinewidth": 0,
             "ticks": ""
            },
            "colorscale": [
             [
              0,
              "#0d0887"
             ],
             [
              0.1111111111111111,
              "#46039f"
             ],
             [
              0.2222222222222222,
              "#7201a8"
             ],
             [
              0.3333333333333333,
              "#9c179e"
             ],
             [
              0.4444444444444444,
              "#bd3786"
             ],
             [
              0.5555555555555556,
              "#d8576b"
             ],
             [
              0.6666666666666666,
              "#ed7953"
             ],
             [
              0.7777777777777778,
              "#fb9f3a"
             ],
             [
              0.8888888888888888,
              "#fdca26"
             ],
             [
              1,
              "#f0f921"
             ]
            ],
            "type": "histogram2dcontour"
           }
          ],
          "mesh3d": [
           {
            "colorbar": {
             "outlinewidth": 0,
             "ticks": ""
            },
            "type": "mesh3d"
           }
          ],
          "parcoords": [
           {
            "line": {
             "colorbar": {
              "outlinewidth": 0,
              "ticks": ""
             }
            },
            "type": "parcoords"
           }
          ],
          "pie": [
           {
            "automargin": true,
            "type": "pie"
           }
          ],
          "scatter": [
           {
            "fillpattern": {
             "fillmode": "overlay",
             "size": 10,
             "solidity": 0.2
            },
            "type": "scatter"
           }
          ],
          "scatter3d": [
           {
            "line": {
             "colorbar": {
              "outlinewidth": 0,
              "ticks": ""
             }
            },
            "marker": {
             "colorbar": {
              "outlinewidth": 0,
              "ticks": ""
             }
            },
            "type": "scatter3d"
           }
          ],
          "scattercarpet": [
           {
            "marker": {
             "colorbar": {
              "outlinewidth": 0,
              "ticks": ""
             }
            },
            "type": "scattercarpet"
           }
          ],
          "scattergeo": [
           {
            "marker": {
             "colorbar": {
              "outlinewidth": 0,
              "ticks": ""
             }
            },
            "type": "scattergeo"
           }
          ],
          "scattergl": [
           {
            "marker": {
             "colorbar": {
              "outlinewidth": 0,
              "ticks": ""
             }
            },
            "type": "scattergl"
           }
          ],
          "scattermapbox": [
           {
            "marker": {
             "colorbar": {
              "outlinewidth": 0,
              "ticks": ""
             }
            },
            "type": "scattermapbox"
           }
          ],
          "scatterpolar": [
           {
            "marker": {
             "colorbar": {
              "outlinewidth": 0,
              "ticks": ""
             }
            },
            "type": "scatterpolar"
           }
          ],
          "scatterpolargl": [
           {
            "marker": {
             "colorbar": {
              "outlinewidth": 0,
              "ticks": ""
             }
            },
            "type": "scatterpolargl"
           }
          ],
          "scatterternary": [
           {
            "marker": {
             "colorbar": {
              "outlinewidth": 0,
              "ticks": ""
             }
            },
            "type": "scatterternary"
           }
          ],
          "surface": [
           {
            "colorbar": {
             "outlinewidth": 0,
             "ticks": ""
            },
            "colorscale": [
             [
              0,
              "#0d0887"
             ],
             [
              0.1111111111111111,
              "#46039f"
             ],
             [
              0.2222222222222222,
              "#7201a8"
             ],
             [
              0.3333333333333333,
              "#9c179e"
             ],
             [
              0.4444444444444444,
              "#bd3786"
             ],
             [
              0.5555555555555556,
              "#d8576b"
             ],
             [
              0.6666666666666666,
              "#ed7953"
             ],
             [
              0.7777777777777778,
              "#fb9f3a"
             ],
             [
              0.8888888888888888,
              "#fdca26"
             ],
             [
              1,
              "#f0f921"
             ]
            ],
            "type": "surface"
           }
          ],
          "table": [
           {
            "cells": {
             "fill": {
              "color": "#EBF0F8"
             },
             "line": {
              "color": "white"
             }
            },
            "header": {
             "fill": {
              "color": "#C8D4E3"
             },
             "line": {
              "color": "white"
             }
            },
            "type": "table"
           }
          ]
         },
         "layout": {
          "annotationdefaults": {
           "arrowcolor": "#2a3f5f",
           "arrowhead": 0,
           "arrowwidth": 1
          },
          "autotypenumbers": "strict",
          "coloraxis": {
           "colorbar": {
            "outlinewidth": 0,
            "ticks": ""
           }
          },
          "colorscale": {
           "diverging": [
            [
             0,
             "#8e0152"
            ],
            [
             0.1,
             "#c51b7d"
            ],
            [
             0.2,
             "#de77ae"
            ],
            [
             0.3,
             "#f1b6da"
            ],
            [
             0.4,
             "#fde0ef"
            ],
            [
             0.5,
             "#f7f7f7"
            ],
            [
             0.6,
             "#e6f5d0"
            ],
            [
             0.7,
             "#b8e186"
            ],
            [
             0.8,
             "#7fbc41"
            ],
            [
             0.9,
             "#4d9221"
            ],
            [
             1,
             "#276419"
            ]
           ],
           "sequential": [
            [
             0,
             "#0d0887"
            ],
            [
             0.1111111111111111,
             "#46039f"
            ],
            [
             0.2222222222222222,
             "#7201a8"
            ],
            [
             0.3333333333333333,
             "#9c179e"
            ],
            [
             0.4444444444444444,
             "#bd3786"
            ],
            [
             0.5555555555555556,
             "#d8576b"
            ],
            [
             0.6666666666666666,
             "#ed7953"
            ],
            [
             0.7777777777777778,
             "#fb9f3a"
            ],
            [
             0.8888888888888888,
             "#fdca26"
            ],
            [
             1,
             "#f0f921"
            ]
           ],
           "sequentialminus": [
            [
             0,
             "#0d0887"
            ],
            [
             0.1111111111111111,
             "#46039f"
            ],
            [
             0.2222222222222222,
             "#7201a8"
            ],
            [
             0.3333333333333333,
             "#9c179e"
            ],
            [
             0.4444444444444444,
             "#bd3786"
            ],
            [
             0.5555555555555556,
             "#d8576b"
            ],
            [
             0.6666666666666666,
             "#ed7953"
            ],
            [
             0.7777777777777778,
             "#fb9f3a"
            ],
            [
             0.8888888888888888,
             "#fdca26"
            ],
            [
             1,
             "#f0f921"
            ]
           ]
          },
          "colorway": [
           "#636efa",
           "#EF553B",
           "#00cc96",
           "#ab63fa",
           "#FFA15A",
           "#19d3f3",
           "#FF6692",
           "#B6E880",
           "#FF97FF",
           "#FECB52"
          ],
          "font": {
           "color": "#2a3f5f"
          },
          "geo": {
           "bgcolor": "white",
           "lakecolor": "white",
           "landcolor": "#E5ECF6",
           "showlakes": true,
           "showland": true,
           "subunitcolor": "white"
          },
          "hoverlabel": {
           "align": "left"
          },
          "hovermode": "closest",
          "mapbox": {
           "style": "light"
          },
          "paper_bgcolor": "white",
          "plot_bgcolor": "#E5ECF6",
          "polar": {
           "angularaxis": {
            "gridcolor": "white",
            "linecolor": "white",
            "ticks": ""
           },
           "bgcolor": "#E5ECF6",
           "radialaxis": {
            "gridcolor": "white",
            "linecolor": "white",
            "ticks": ""
           }
          },
          "scene": {
           "xaxis": {
            "backgroundcolor": "#E5ECF6",
            "gridcolor": "white",
            "gridwidth": 2,
            "linecolor": "white",
            "showbackground": true,
            "ticks": "",
            "zerolinecolor": "white"
           },
           "yaxis": {
            "backgroundcolor": "#E5ECF6",
            "gridcolor": "white",
            "gridwidth": 2,
            "linecolor": "white",
            "showbackground": true,
            "ticks": "",
            "zerolinecolor": "white"
           },
           "zaxis": {
            "backgroundcolor": "#E5ECF6",
            "gridcolor": "white",
            "gridwidth": 2,
            "linecolor": "white",
            "showbackground": true,
            "ticks": "",
            "zerolinecolor": "white"
           }
          },
          "shapedefaults": {
           "line": {
            "color": "#2a3f5f"
           }
          },
          "ternary": {
           "aaxis": {
            "gridcolor": "white",
            "linecolor": "white",
            "ticks": ""
           },
           "baxis": {
            "gridcolor": "white",
            "linecolor": "white",
            "ticks": ""
           },
           "bgcolor": "#E5ECF6",
           "caxis": {
            "gridcolor": "white",
            "linecolor": "white",
            "ticks": ""
           }
          },
          "title": {
           "x": 0.05
          },
          "xaxis": {
           "automargin": true,
           "gridcolor": "white",
           "linecolor": "white",
           "ticks": "",
           "title": {
            "standoff": 15
           },
           "zerolinecolor": "white",
           "zerolinewidth": 2
          },
          "yaxis": {
           "automargin": true,
           "gridcolor": "white",
           "linecolor": "white",
           "ticks": "",
           "title": {
            "standoff": 15
           },
           "zerolinecolor": "white",
           "zerolinewidth": 2
          }
         }
        }
       }
      }
     },
     "metadata": {},
     "output_type": "display_data"
    }
   ],
   "source": [
    "####################################\n",
    "# Contar la cantidad de sentimientos negativos, neutros y positivos\n",
    "negativos = df_coments_clean[df_coments_clean[\"polaridad\"] < 0].count().values[0]\n",
    "neutros = df_coments_clean[df_coments_clean[\"polaridad\"] == 0].count().values[0]\n",
    "positivos = df_coments_clean[df_coments_clean[\"polaridad\"] > 0].count().values[0]\n",
    "\n",
    "# Crear la gráfica de pastel\n",
    "labels = [\"Negativos\", \"Neutros\", \"Positivos\"]\n",
    "values = [negativos, neutros, positivos]\n",
    "\n",
    "fig = go.Figure(data=[go.Pie(labels=labels, values=values)])\n",
    "\n",
    "fig.write_html(\"pie.html\")\n",
    "# Mostrar la gráfica\n",
    "fig.show()"
   ]
  }
 ],
 "metadata": {
  "kernelspec": {
   "display_name": "Python 3",
   "language": "python",
   "name": "python3"
  },
  "language_info": {
   "codemirror_mode": {
    "name": "ipython",
    "version": 3
   },
   "file_extension": ".py",
   "mimetype": "text/x-python",
   "name": "python",
   "nbconvert_exporter": "python",
   "pygments_lexer": "ipython3",
   "version": "3.10.12"
  }
 },
 "nbformat": 4,
 "nbformat_minor": 2
}
